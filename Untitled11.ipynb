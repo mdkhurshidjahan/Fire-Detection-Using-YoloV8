{
  "nbformat": 4,
  "nbformat_minor": 0,
  "metadata": {
    "colab": {
      "provenance": [],
      "gpuType": "T4"
    },
    "kernelspec": {
      "name": "python3",
      "display_name": "Python 3"
    },
    "language_info": {
      "name": "python"
    },
    "accelerator": "GPU"
  },
  "cells": [
    {
      "cell_type": "code",
      "execution_count": 1,
      "metadata": {
        "colab": {
          "base_uri": "https://localhost:8080/",
          "height": 1000
        },
        "id": "dmHs_0fUE0Es",
        "outputId": "b825ec8f-022b-4436-d5a1-5fc04e9230e9"
      },
      "outputs": [
        {
          "output_type": "stream",
          "name": "stdout",
          "text": [
            "Collecting roboflow\n",
            "  Downloading roboflow-1.1.24-py3-none-any.whl (71 kB)\n",
            "\u001b[2K     \u001b[90m━━━━━━━━━━━━━━━━━━━━━━━━━━━━━━━━━━━━━━━━\u001b[0m \u001b[32m71.7/71.7 kB\u001b[0m \u001b[31m1.6 MB/s\u001b[0m eta \u001b[36m0:00:00\u001b[0m\n",
            "\u001b[?25hCollecting certifi==2023.7.22 (from roboflow)\n",
            "  Downloading certifi-2023.7.22-py3-none-any.whl (158 kB)\n",
            "\u001b[2K     \u001b[90m━━━━━━━━━━━━━━━━━━━━━━━━━━━━━━━━━━━━━━━━\u001b[0m \u001b[32m158.3/158.3 kB\u001b[0m \u001b[31m6.3 MB/s\u001b[0m eta \u001b[36m0:00:00\u001b[0m\n",
            "\u001b[?25hCollecting chardet==4.0.0 (from roboflow)\n",
            "  Downloading chardet-4.0.0-py2.py3-none-any.whl (178 kB)\n",
            "\u001b[2K     \u001b[90m━━━━━━━━━━━━━━━━━━━━━━━━━━━━━━━━━━━━━━━━\u001b[0m \u001b[32m178.7/178.7 kB\u001b[0m \u001b[31m8.8 MB/s\u001b[0m eta \u001b[36m0:00:00\u001b[0m\n",
            "\u001b[?25hCollecting cycler==0.10.0 (from roboflow)\n",
            "  Downloading cycler-0.10.0-py2.py3-none-any.whl (6.5 kB)\n",
            "Collecting idna==2.10 (from roboflow)\n",
            "  Downloading idna-2.10-py2.py3-none-any.whl (58 kB)\n",
            "\u001b[2K     \u001b[90m━━━━━━━━━━━━━━━━━━━━━━━━━━━━━━━━━━━━━━━━\u001b[0m \u001b[32m58.8/58.8 kB\u001b[0m \u001b[31m5.3 MB/s\u001b[0m eta \u001b[36m0:00:00\u001b[0m\n",
            "\u001b[?25hRequirement already satisfied: kiwisolver>=1.3.1 in /usr/local/lib/python3.10/dist-packages (from roboflow) (1.4.5)\n",
            "Requirement already satisfied: matplotlib in /usr/local/lib/python3.10/dist-packages (from roboflow) (3.7.1)\n",
            "Requirement already satisfied: numpy>=1.18.5 in /usr/local/lib/python3.10/dist-packages (from roboflow) (1.25.2)\n",
            "Collecting opencv-python-headless==4.8.0.74 (from roboflow)\n",
            "  Downloading opencv_python_headless-4.8.0.74-cp37-abi3-manylinux_2_17_x86_64.manylinux2014_x86_64.whl (49.1 MB)\n",
            "\u001b[2K     \u001b[90m━━━━━━━━━━━━━━━━━━━━━━━━━━━━━━━━━━━━━━━━\u001b[0m \u001b[32m49.1/49.1 MB\u001b[0m \u001b[31m16.1 MB/s\u001b[0m eta \u001b[36m0:00:00\u001b[0m\n",
            "\u001b[?25hRequirement already satisfied: Pillow>=7.1.2 in /usr/local/lib/python3.10/dist-packages (from roboflow) (9.4.0)\n",
            "Requirement already satisfied: python-dateutil in /usr/local/lib/python3.10/dist-packages (from roboflow) (2.8.2)\n",
            "Collecting python-dotenv (from roboflow)\n",
            "  Downloading python_dotenv-1.0.1-py3-none-any.whl (19 kB)\n",
            "Requirement already satisfied: requests in /usr/local/lib/python3.10/dist-packages (from roboflow) (2.31.0)\n",
            "Requirement already satisfied: six in /usr/local/lib/python3.10/dist-packages (from roboflow) (1.16.0)\n",
            "Requirement already satisfied: urllib3>=1.26.6 in /usr/local/lib/python3.10/dist-packages (from roboflow) (2.0.7)\n",
            "Requirement already satisfied: tqdm>=4.41.0 in /usr/local/lib/python3.10/dist-packages (from roboflow) (4.66.2)\n",
            "Requirement already satisfied: PyYAML>=5.3.1 in /usr/local/lib/python3.10/dist-packages (from roboflow) (6.0.1)\n",
            "Collecting requests-toolbelt (from roboflow)\n",
            "  Downloading requests_toolbelt-1.0.0-py2.py3-none-any.whl (54 kB)\n",
            "\u001b[2K     \u001b[90m━━━━━━━━━━━━━━━━━━━━━━━━━━━━━━━━━━━━━━━━\u001b[0m \u001b[32m54.5/54.5 kB\u001b[0m \u001b[31m6.5 MB/s\u001b[0m eta \u001b[36m0:00:00\u001b[0m\n",
            "\u001b[?25hCollecting python-magic (from roboflow)\n",
            "  Downloading python_magic-0.4.27-py2.py3-none-any.whl (13 kB)\n",
            "Requirement already satisfied: contourpy>=1.0.1 in /usr/local/lib/python3.10/dist-packages (from matplotlib->roboflow) (1.2.0)\n",
            "Requirement already satisfied: fonttools>=4.22.0 in /usr/local/lib/python3.10/dist-packages (from matplotlib->roboflow) (4.49.0)\n",
            "Requirement already satisfied: packaging>=20.0 in /usr/local/lib/python3.10/dist-packages (from matplotlib->roboflow) (24.0)\n",
            "Requirement already satisfied: pyparsing>=2.3.1 in /usr/local/lib/python3.10/dist-packages (from matplotlib->roboflow) (3.1.2)\n",
            "Requirement already satisfied: charset-normalizer<4,>=2 in /usr/local/lib/python3.10/dist-packages (from requests->roboflow) (3.3.2)\n",
            "Installing collected packages: python-magic, python-dotenv, opencv-python-headless, idna, cycler, chardet, certifi, requests-toolbelt, roboflow\n",
            "  Attempting uninstall: opencv-python-headless\n",
            "    Found existing installation: opencv-python-headless 4.9.0.80\n",
            "    Uninstalling opencv-python-headless-4.9.0.80:\n",
            "      Successfully uninstalled opencv-python-headless-4.9.0.80\n",
            "  Attempting uninstall: idna\n",
            "    Found existing installation: idna 3.6\n",
            "    Uninstalling idna-3.6:\n",
            "      Successfully uninstalled idna-3.6\n",
            "  Attempting uninstall: cycler\n",
            "    Found existing installation: cycler 0.12.1\n",
            "    Uninstalling cycler-0.12.1:\n",
            "      Successfully uninstalled cycler-0.12.1\n",
            "  Attempting uninstall: chardet\n",
            "    Found existing installation: chardet 5.2.0\n",
            "    Uninstalling chardet-5.2.0:\n",
            "      Successfully uninstalled chardet-5.2.0\n",
            "  Attempting uninstall: certifi\n",
            "    Found existing installation: certifi 2024.2.2\n",
            "    Uninstalling certifi-2024.2.2:\n",
            "      Successfully uninstalled certifi-2024.2.2\n",
            "Successfully installed certifi-2023.7.22 chardet-4.0.0 cycler-0.10.0 idna-2.10 opencv-python-headless-4.8.0.74 python-dotenv-1.0.1 python-magic-0.4.27 requests-toolbelt-1.0.0 roboflow-1.1.24\n"
          ]
        },
        {
          "output_type": "display_data",
          "data": {
            "application/vnd.colab-display-data+json": {
              "pip_warning": {
                "packages": [
                  "certifi",
                  "cycler"
                ]
              },
              "id": "c24e9d5b689a4605ace95231b9face3a"
            }
          },
          "metadata": {}
        },
        {
          "output_type": "stream",
          "name": "stdout",
          "text": [
            "loading Roboflow workspace...\n",
            "loading Roboflow project...\n",
            "[WARNING] we noticed you are downloading a `yolov8` datasets but you don't have `ultralytics` installed. Roboflow `.deploy` supports only models trained with `ultralytics==8.0.196`, to intall it `pip install ultralytics==8.0.196`.\n"
          ]
        },
        {
          "output_type": "stream",
          "name": "stderr",
          "text": [
            "Downloading Dataset Version Zip in Fire-and-Smoke-detection-yolov8--1 to yolov8:: 100%|██████████| 3255/3255 [00:00<00:00, 10840.80it/s]\n"
          ]
        },
        {
          "output_type": "stream",
          "name": "stdout",
          "text": [
            "\n"
          ]
        },
        {
          "output_type": "stream",
          "name": "stderr",
          "text": [
            "Extracting Dataset Version Zip to Fire-and-Smoke-detection-yolov8--1 in yolov8:: 100%|██████████| 112/112 [00:00<00:00, 4729.12it/s]\n"
          ]
        }
      ],
      "source": [
        "!pip install roboflow\n",
        "\n",
        "from roboflow import Roboflow\n",
        "rf = Roboflow(api_key=\"0G65cELm7tggHTPBFG41\")\n",
        "project = rf.workspace(\"senior-design-project-cavtw\").project(\"fire-and-smoke-detection-yolov8\")\n",
        "version = project.version(1)\n",
        "dataset = version.download(\"yolov8\")"
      ]
    },
    {
      "cell_type": "code",
      "source": [
        "from ultralytics import YOLO\n",
        "\n",
        "# Load a COCO-pretrained YOLOv8n model\n",
        "model = YOLO('yolov8n.pt')\n",
        "\n",
        "# Display model information (optional)\n",
        "model.info()\n",
        "\n",
        "# Train the model on the COCO8 example dataset for 100 epochs\n",
        "results = model.train(data='data.yaml', epochs=100, imgsz=640)"
      ],
      "metadata": {
        "colab": {
          "base_uri": "https://localhost:8080/"
        },
        "id": "lRH7MI3hFU6a",
        "outputId": "3045579a-8c65-4804-8610-4e22028754f0"
      },
      "execution_count": 3,
      "outputs": [
        {
          "output_type": "stream",
          "name": "stdout",
          "text": [
            "Downloading https://github.com/ultralytics/assets/releases/download/v8.1.0/yolov8n.pt to 'yolov8n.pt'...\n"
          ]
        },
        {
          "output_type": "stream",
          "name": "stderr",
          "text": [
            "100%|██████████| 6.23M/6.23M [00:00<00:00, 91.9MB/s]\n"
          ]
        },
        {
          "output_type": "stream",
          "name": "stdout",
          "text": [
            "YOLOv8n summary: 225 layers, 3157200 parameters, 0 gradients, 8.9 GFLOPs\n",
            "Ultralytics YOLOv8.1.29 🚀 Python-3.10.12 torch-2.2.1+cu121 CUDA:0 (Tesla T4, 15102MiB)\n",
            "\u001b[34m\u001b[1mengine/trainer: \u001b[0mtask=detect, mode=train, model=yolov8n.pt, data=data.yaml, epochs=100, time=None, patience=100, batch=16, imgsz=640, save=True, save_period=-1, cache=False, device=None, workers=8, project=None, name=train, exist_ok=False, pretrained=True, optimizer=auto, verbose=True, seed=0, deterministic=True, single_cls=False, rect=False, cos_lr=False, close_mosaic=10, resume=False, amp=True, fraction=1.0, profile=False, freeze=None, multi_scale=False, overlap_mask=True, mask_ratio=4, dropout=0.0, val=True, split=val, save_json=False, save_hybrid=False, conf=None, iou=0.7, max_det=300, half=False, dnn=False, plots=True, source=None, vid_stride=1, stream_buffer=False, visualize=False, augment=False, agnostic_nms=False, classes=None, retina_masks=False, embed=None, show=False, save_frames=False, save_txt=False, save_conf=False, save_crop=False, show_labels=True, show_conf=True, show_boxes=True, line_width=None, format=torchscript, keras=False, optimize=False, int8=False, dynamic=False, simplify=False, opset=None, workspace=4, nms=False, lr0=0.01, lrf=0.01, momentum=0.937, weight_decay=0.0005, warmup_epochs=3.0, warmup_momentum=0.8, warmup_bias_lr=0.1, box=7.5, cls=0.5, dfl=1.5, pose=12.0, kobj=1.0, label_smoothing=0.0, nbs=64, hsv_h=0.015, hsv_s=0.7, hsv_v=0.4, degrees=0.0, translate=0.1, scale=0.5, shear=0.0, perspective=0.0, flipud=0.0, fliplr=0.5, mosaic=1.0, mixup=0.0, copy_paste=0.0, auto_augment=randaugment, erasing=0.4, crop_fraction=1.0, cfg=None, tracker=botsort.yaml, save_dir=runs/detect/train\n",
            "Downloading https://ultralytics.com/assets/Arial.ttf to '/root/.config/Ultralytics/Arial.ttf'...\n"
          ]
        },
        {
          "output_type": "stream",
          "name": "stderr",
          "text": [
            "100%|██████████| 755k/755k [00:00<00:00, 31.7MB/s]\n"
          ]
        },
        {
          "output_type": "stream",
          "name": "stdout",
          "text": [
            "Overriding model.yaml nc=80 with nc=3\n",
            "\n",
            "                   from  n    params  module                                       arguments                     \n",
            "  0                  -1  1       464  ultralytics.nn.modules.conv.Conv             [3, 16, 3, 2]                 \n",
            "  1                  -1  1      4672  ultralytics.nn.modules.conv.Conv             [16, 32, 3, 2]                \n",
            "  2                  -1  1      7360  ultralytics.nn.modules.block.C2f             [32, 32, 1, True]             \n",
            "  3                  -1  1     18560  ultralytics.nn.modules.conv.Conv             [32, 64, 3, 2]                \n",
            "  4                  -1  2     49664  ultralytics.nn.modules.block.C2f             [64, 64, 2, True]             \n",
            "  5                  -1  1     73984  ultralytics.nn.modules.conv.Conv             [64, 128, 3, 2]               \n",
            "  6                  -1  2    197632  ultralytics.nn.modules.block.C2f             [128, 128, 2, True]           \n",
            "  7                  -1  1    295424  ultralytics.nn.modules.conv.Conv             [128, 256, 3, 2]              \n",
            "  8                  -1  1    460288  ultralytics.nn.modules.block.C2f             [256, 256, 1, True]           \n",
            "  9                  -1  1    164608  ultralytics.nn.modules.block.SPPF            [256, 256, 5]                 \n",
            " 10                  -1  1         0  torch.nn.modules.upsampling.Upsample         [None, 2, 'nearest']          \n",
            " 11             [-1, 6]  1         0  ultralytics.nn.modules.conv.Concat           [1]                           \n",
            " 12                  -1  1    148224  ultralytics.nn.modules.block.C2f             [384, 128, 1]                 \n",
            " 13                  -1  1         0  torch.nn.modules.upsampling.Upsample         [None, 2, 'nearest']          \n",
            " 14             [-1, 4]  1         0  ultralytics.nn.modules.conv.Concat           [1]                           \n",
            " 15                  -1  1     37248  ultralytics.nn.modules.block.C2f             [192, 64, 1]                  \n",
            " 16                  -1  1     36992  ultralytics.nn.modules.conv.Conv             [64, 64, 3, 2]                \n",
            " 17            [-1, 12]  1         0  ultralytics.nn.modules.conv.Concat           [1]                           \n",
            " 18                  -1  1    123648  ultralytics.nn.modules.block.C2f             [192, 128, 1]                 \n",
            " 19                  -1  1    147712  ultralytics.nn.modules.conv.Conv             [128, 128, 3, 2]              \n",
            " 20             [-1, 9]  1         0  ultralytics.nn.modules.conv.Concat           [1]                           \n",
            " 21                  -1  1    493056  ultralytics.nn.modules.block.C2f             [384, 256, 1]                 \n",
            " 22        [15, 18, 21]  1    751897  ultralytics.nn.modules.head.Detect           [3, [64, 128, 256]]           \n",
            "Model summary: 225 layers, 3011433 parameters, 3011417 gradients, 8.2 GFLOPs\n",
            "\n",
            "Transferred 319/355 items from pretrained weights\n",
            "\u001b[34m\u001b[1mTensorBoard: \u001b[0mStart with 'tensorboard --logdir runs/detect/train', view at http://localhost:6006/\n",
            "Freezing layer 'model.22.dfl.conv.weight'\n",
            "\u001b[34m\u001b[1mAMP: \u001b[0mrunning Automatic Mixed Precision (AMP) checks with YOLOv8n...\n",
            "\u001b[34m\u001b[1mAMP: \u001b[0mchecks passed ✅\n"
          ]
        },
        {
          "output_type": "stream",
          "name": "stderr",
          "text": [
            "\u001b[34m\u001b[1mtrain: \u001b[0mScanning /content/Fire-and-Smoke-detection-yolov8--1/train/labels... 35 images, 0 backgrounds, 0 corrupt: 100%|██████████| 35/35 [00:00<00:00, 328.41it/s]"
          ]
        },
        {
          "output_type": "stream",
          "name": "stdout",
          "text": [
            "\u001b[34m\u001b[1mtrain: \u001b[0mNew cache created: /content/Fire-and-Smoke-detection-yolov8--1/train/labels.cache\n"
          ]
        },
        {
          "output_type": "stream",
          "name": "stderr",
          "text": [
            "\n"
          ]
        },
        {
          "output_type": "stream",
          "name": "stdout",
          "text": [
            "\u001b[34m\u001b[1malbumentations: \u001b[0mBlur(p=0.01, blur_limit=(3, 7)), MedianBlur(p=0.01, blur_limit=(3, 7)), ToGray(p=0.01), CLAHE(p=0.01, clip_limit=(1, 4.0), tile_grid_size=(8, 8))\n"
          ]
        },
        {
          "output_type": "stream",
          "name": "stderr",
          "text": [
            "\u001b[34m\u001b[1mval: \u001b[0mScanning /content/Fire-and-Smoke-detection-yolov8--1/valid/labels... 10 images, 0 backgrounds, 0 corrupt: 100%|██████████| 10/10 [00:00<00:00, 216.19it/s]"
          ]
        },
        {
          "output_type": "stream",
          "name": "stdout",
          "text": [
            "\u001b[34m\u001b[1mval: \u001b[0mNew cache created: /content/Fire-and-Smoke-detection-yolov8--1/valid/labels.cache\n"
          ]
        },
        {
          "output_type": "stream",
          "name": "stderr",
          "text": [
            "\n"
          ]
        },
        {
          "output_type": "stream",
          "name": "stdout",
          "text": [
            "Plotting labels to runs/detect/train/labels.jpg... \n",
            "\u001b[34m\u001b[1moptimizer:\u001b[0m 'optimizer=auto' found, ignoring 'lr0=0.01' and 'momentum=0.937' and determining best 'optimizer', 'lr0' and 'momentum' automatically... \n",
            "\u001b[34m\u001b[1moptimizer:\u001b[0m AdamW(lr=0.001429, momentum=0.9) with parameter groups 57 weight(decay=0.0), 64 weight(decay=0.0005), 63 bias(decay=0.0)\n",
            "\u001b[34m\u001b[1mTensorBoard: \u001b[0mmodel graph visualization added ✅\n",
            "Image sizes 640 train, 640 val\n",
            "Using 2 dataloader workers\n",
            "Logging results to \u001b[1mruns/detect/train\u001b[0m\n",
            "Starting training for 100 epochs...\n",
            "\n",
            "      Epoch    GPU_mem   box_loss   cls_loss   dfl_loss  Instances       Size\n"
          ]
        },
        {
          "output_type": "stream",
          "name": "stderr",
          "text": [
            "      1/100      2.25G      2.126      3.781      1.928         14        640: 100%|██████████| 3/3 [00:04<00:00,  1.35s/it]\n",
            "                 Class     Images  Instances      Box(P          R      mAP50  mAP50-95): 100%|██████████| 1/1 [00:01<00:00,  1.40s/it]"
          ]
        },
        {
          "output_type": "stream",
          "name": "stdout",
          "text": [
            "                   all         10         56    0.00403      0.333    0.00473    0.00121\n"
          ]
        },
        {
          "output_type": "stream",
          "name": "stderr",
          "text": [
            "\n"
          ]
        },
        {
          "output_type": "stream",
          "name": "stdout",
          "text": [
            "\n",
            "      Epoch    GPU_mem   box_loss   cls_loss   dfl_loss  Instances       Size\n"
          ]
        },
        {
          "output_type": "stream",
          "name": "stderr",
          "text": [
            "      2/100      2.35G      2.304      3.742      2.084         23        640: 100%|██████████| 3/3 [00:00<00:00,  3.86it/s]\n",
            "                 Class     Images  Instances      Box(P          R      mAP50  mAP50-95): 100%|██████████| 1/1 [00:00<00:00,  5.27it/s]"
          ]
        },
        {
          "output_type": "stream",
          "name": "stdout",
          "text": [
            "                   all         10         56    0.00408      0.333    0.00518    0.00171\n"
          ]
        },
        {
          "output_type": "stream",
          "name": "stderr",
          "text": [
            "\n"
          ]
        },
        {
          "output_type": "stream",
          "name": "stdout",
          "text": [
            "\n",
            "      Epoch    GPU_mem   box_loss   cls_loss   dfl_loss  Instances       Size\n"
          ]
        },
        {
          "output_type": "stream",
          "name": "stderr",
          "text": [
            "      3/100      2.24G      2.314      3.724       1.98         21        640: 100%|██████████| 3/3 [00:00<00:00,  5.56it/s]\n",
            "                 Class     Images  Instances      Box(P          R      mAP50  mAP50-95): 100%|██████████| 1/1 [00:00<00:00,  5.46it/s]\n"
          ]
        },
        {
          "output_type": "stream",
          "name": "stdout",
          "text": [
            "                   all         10         56    0.00684      0.567      0.162     0.0556\n",
            "\n",
            "      Epoch    GPU_mem   box_loss   cls_loss   dfl_loss  Instances       Size\n"
          ]
        },
        {
          "output_type": "stream",
          "name": "stderr",
          "text": [
            "      4/100      2.28G      1.911      3.358      1.658         18        640: 100%|██████████| 3/3 [00:00<00:00,  3.34it/s]\n",
            "                 Class     Images  Instances      Box(P          R      mAP50  mAP50-95): 100%|██████████| 1/1 [00:00<00:00,  4.78it/s]"
          ]
        },
        {
          "output_type": "stream",
          "name": "stdout",
          "text": [
            "                   all         10         56    0.00738      0.633      0.222      0.131\n"
          ]
        },
        {
          "output_type": "stream",
          "name": "stderr",
          "text": [
            "\n"
          ]
        },
        {
          "output_type": "stream",
          "name": "stdout",
          "text": [
            "\n",
            "      Epoch    GPU_mem   box_loss   cls_loss   dfl_loss  Instances       Size\n"
          ]
        },
        {
          "output_type": "stream",
          "name": "stderr",
          "text": [
            "      5/100      2.26G      1.902      2.959      1.585         25        640: 100%|██████████| 3/3 [00:00<00:00,  5.21it/s]\n",
            "                 Class     Images  Instances      Box(P          R      mAP50  mAP50-95): 100%|██████████| 1/1 [00:00<00:00,  8.62it/s]"
          ]
        },
        {
          "output_type": "stream",
          "name": "stdout",
          "text": [
            "                   all         10         56     0.0073      0.633      0.336      0.212\n"
          ]
        },
        {
          "output_type": "stream",
          "name": "stderr",
          "text": [
            "\n"
          ]
        },
        {
          "output_type": "stream",
          "name": "stdout",
          "text": [
            "\n",
            "      Epoch    GPU_mem   box_loss   cls_loss   dfl_loss  Instances       Size\n"
          ]
        },
        {
          "output_type": "stream",
          "name": "stderr",
          "text": [
            "      6/100      2.23G      1.725      2.167      1.537         23        640: 100%|██████████| 3/3 [00:00<00:00,  5.95it/s]\n",
            "                 Class     Images  Instances      Box(P          R      mAP50  mAP50-95): 100%|██████████| 1/1 [00:00<00:00,  5.73it/s]\n"
          ]
        },
        {
          "output_type": "stream",
          "name": "stdout",
          "text": [
            "                   all         10         56    0.00713      0.633       0.47      0.299\n",
            "\n",
            "      Epoch    GPU_mem   box_loss   cls_loss   dfl_loss  Instances       Size\n"
          ]
        },
        {
          "output_type": "stream",
          "name": "stderr",
          "text": [
            "      7/100      2.26G      1.687       1.89      1.581         21        640: 100%|██████████| 3/3 [00:00<00:00,  5.55it/s]\n",
            "                 Class     Images  Instances      Box(P          R      mAP50  mAP50-95): 100%|██████████| 1/1 [00:00<00:00,  5.39it/s]\n"
          ]
        },
        {
          "output_type": "stream",
          "name": "stdout",
          "text": [
            "                   all         10         56    0.00713      0.633      0.539      0.306\n",
            "\n",
            "      Epoch    GPU_mem   box_loss   cls_loss   dfl_loss  Instances       Size\n"
          ]
        },
        {
          "output_type": "stream",
          "name": "stderr",
          "text": [
            "      8/100      2.26G       1.62      2.079      1.616         10        640: 100%|██████████| 3/3 [00:00<00:00,  5.85it/s]\n",
            "                 Class     Images  Instances      Box(P          R      mAP50  mAP50-95): 100%|██████████| 1/1 [00:00<00:00,  5.27it/s]\n"
          ]
        },
        {
          "output_type": "stream",
          "name": "stdout",
          "text": [
            "                   all         10         56     0.0078      0.667      0.503      0.276\n",
            "\n",
            "      Epoch    GPU_mem   box_loss   cls_loss   dfl_loss  Instances       Size\n"
          ]
        },
        {
          "output_type": "stream",
          "name": "stderr",
          "text": [
            "      9/100      2.26G       1.84      1.979      1.445         23        640: 100%|██████████| 3/3 [00:00<00:00,  5.54it/s]\n",
            "                 Class     Images  Instances      Box(P          R      mAP50  mAP50-95): 100%|██████████| 1/1 [00:00<00:00,  4.09it/s]"
          ]
        },
        {
          "output_type": "stream",
          "name": "stdout",
          "text": [
            "                   all         10         56    0.00905      0.633      0.492       0.29\n"
          ]
        },
        {
          "output_type": "stream",
          "name": "stderr",
          "text": [
            "\n"
          ]
        },
        {
          "output_type": "stream",
          "name": "stdout",
          "text": [
            "\n",
            "      Epoch    GPU_mem   box_loss   cls_loss   dfl_loss  Instances       Size\n"
          ]
        },
        {
          "output_type": "stream",
          "name": "stderr",
          "text": [
            "     10/100      2.27G      1.749      1.743      1.514         20        640: 100%|██████████| 3/3 [00:00<00:00,  5.89it/s]\n",
            "                 Class     Images  Instances      Box(P          R      mAP50  mAP50-95): 100%|██████████| 1/1 [00:00<00:00,  6.33it/s]\n"
          ]
        },
        {
          "output_type": "stream",
          "name": "stdout",
          "text": [
            "                   all         10         56     0.0104      0.661      0.579      0.327\n",
            "\n",
            "      Epoch    GPU_mem   box_loss   cls_loss   dfl_loss  Instances       Size\n"
          ]
        },
        {
          "output_type": "stream",
          "name": "stderr",
          "text": [
            "     11/100      2.35G      1.782       1.66      1.513         47        640: 100%|██████████| 3/3 [00:00<00:00,  5.47it/s]\n",
            "                 Class     Images  Instances      Box(P          R      mAP50  mAP50-95): 100%|██████████| 1/1 [00:00<00:00,  6.66it/s]"
          ]
        },
        {
          "output_type": "stream",
          "name": "stdout",
          "text": [
            "                   all         10         56     0.0169      0.809      0.667       0.33\n"
          ]
        },
        {
          "output_type": "stream",
          "name": "stderr",
          "text": [
            "\n"
          ]
        },
        {
          "output_type": "stream",
          "name": "stdout",
          "text": [
            "\n",
            "      Epoch    GPU_mem   box_loss   cls_loss   dfl_loss  Instances       Size\n"
          ]
        },
        {
          "output_type": "stream",
          "name": "stderr",
          "text": [
            "     12/100      2.26G      1.514      1.468      1.331         23        640: 100%|██████████| 3/3 [00:01<00:00,  2.75it/s]\n",
            "                 Class     Images  Instances      Box(P          R      mAP50  mAP50-95): 100%|██████████| 1/1 [00:00<00:00,  4.05it/s]"
          ]
        },
        {
          "output_type": "stream",
          "name": "stdout",
          "text": [
            "                   all         10         56      0.923        0.3      0.498      0.263\n"
          ]
        },
        {
          "output_type": "stream",
          "name": "stderr",
          "text": [
            "\n"
          ]
        },
        {
          "output_type": "stream",
          "name": "stdout",
          "text": [
            "\n",
            "      Epoch    GPU_mem   box_loss   cls_loss   dfl_loss  Instances       Size\n"
          ]
        },
        {
          "output_type": "stream",
          "name": "stderr",
          "text": [
            "     13/100      2.26G      1.582      1.422      1.381         53        640: 100%|██████████| 3/3 [00:00<00:00,  4.13it/s]\n",
            "                 Class     Images  Instances      Box(P          R      mAP50  mAP50-95): 100%|██████████| 1/1 [00:00<00:00, 10.92it/s]"
          ]
        },
        {
          "output_type": "stream",
          "name": "stdout",
          "text": [
            "                   all         10         56          1      0.274      0.658      0.394\n"
          ]
        },
        {
          "output_type": "stream",
          "name": "stderr",
          "text": [
            "\n"
          ]
        },
        {
          "output_type": "stream",
          "name": "stdout",
          "text": [
            "\n",
            "      Epoch    GPU_mem   box_loss   cls_loss   dfl_loss  Instances       Size\n"
          ]
        },
        {
          "output_type": "stream",
          "name": "stderr",
          "text": [
            "     14/100      2.34G      1.496      1.534      1.401         11        640: 100%|██████████| 3/3 [00:00<00:00,  5.22it/s]\n",
            "                 Class     Images  Instances      Box(P          R      mAP50  mAP50-95): 100%|██████████| 1/1 [00:00<00:00,  5.82it/s]\n"
          ]
        },
        {
          "output_type": "stream",
          "name": "stdout",
          "text": [
            "                   all         10         56          1       0.17      0.606      0.378\n",
            "\n",
            "      Epoch    GPU_mem   box_loss   cls_loss   dfl_loss  Instances       Size\n"
          ]
        },
        {
          "output_type": "stream",
          "name": "stderr",
          "text": [
            "     15/100      2.25G      1.578      1.427      1.379         27        640: 100%|██████████| 3/3 [00:00<00:00,  5.80it/s]\n",
            "                 Class     Images  Instances      Box(P          R      mAP50  mAP50-95): 100%|██████████| 1/1 [00:00<00:00,  6.36it/s]\n"
          ]
        },
        {
          "output_type": "stream",
          "name": "stdout",
          "text": [
            "                   all         10         56          1      0.133      0.505      0.246\n",
            "\n",
            "      Epoch    GPU_mem   box_loss   cls_loss   dfl_loss  Instances       Size\n"
          ]
        },
        {
          "output_type": "stream",
          "name": "stderr",
          "text": [
            "     16/100      2.26G      1.585      1.386      1.363         37        640: 100%|██████████| 3/3 [00:00<00:00,  6.08it/s]\n",
            "                 Class     Images  Instances      Box(P          R      mAP50  mAP50-95): 100%|██████████| 1/1 [00:00<00:00,  4.67it/s]"
          ]
        },
        {
          "output_type": "stream",
          "name": "stdout",
          "text": [
            "                   all         10         56          1      0.252      0.527       0.29\n"
          ]
        },
        {
          "output_type": "stream",
          "name": "stderr",
          "text": [
            "\n"
          ]
        },
        {
          "output_type": "stream",
          "name": "stdout",
          "text": [
            "\n",
            "      Epoch    GPU_mem   box_loss   cls_loss   dfl_loss  Instances       Size\n"
          ]
        },
        {
          "output_type": "stream",
          "name": "stderr",
          "text": [
            "     17/100      2.28G      1.593      1.453      1.343         20        640: 100%|██████████| 3/3 [00:00<00:00,  5.41it/s]\n",
            "                 Class     Images  Instances      Box(P          R      mAP50  mAP50-95): 100%|██████████| 1/1 [00:00<00:00,  6.50it/s]"
          ]
        },
        {
          "output_type": "stream",
          "name": "stdout",
          "text": [
            "                   all         10         56      0.992        0.3      0.663      0.413\n"
          ]
        },
        {
          "output_type": "stream",
          "name": "stderr",
          "text": [
            "\n"
          ]
        },
        {
          "output_type": "stream",
          "name": "stdout",
          "text": [
            "\n",
            "      Epoch    GPU_mem   box_loss   cls_loss   dfl_loss  Instances       Size\n"
          ]
        },
        {
          "output_type": "stream",
          "name": "stderr",
          "text": [
            "     18/100      2.28G      1.515      1.244      1.311         36        640: 100%|██████████| 3/3 [00:00<00:00,  5.67it/s]\n",
            "                 Class     Images  Instances      Box(P          R      mAP50  mAP50-95): 100%|██████████| 1/1 [00:00<00:00,  5.22it/s]\n"
          ]
        },
        {
          "output_type": "stream",
          "name": "stdout",
          "text": [
            "                   all         10         56      0.912      0.372      0.709      0.442\n",
            "\n",
            "      Epoch    GPU_mem   box_loss   cls_loss   dfl_loss  Instances       Size\n"
          ]
        },
        {
          "output_type": "stream",
          "name": "stderr",
          "text": [
            "     19/100      2.26G      1.525      1.296      1.405         16        640: 100%|██████████| 3/3 [00:00<00:00,  5.44it/s]\n",
            "                 Class     Images  Instances      Box(P          R      mAP50  mAP50-95): 100%|██████████| 1/1 [00:00<00:00,  5.91it/s]"
          ]
        },
        {
          "output_type": "stream",
          "name": "stdout",
          "text": [
            "                   all         10         56      0.926      0.467       0.71      0.442\n"
          ]
        },
        {
          "output_type": "stream",
          "name": "stderr",
          "text": [
            "\n"
          ]
        },
        {
          "output_type": "stream",
          "name": "stdout",
          "text": [
            "\n",
            "      Epoch    GPU_mem   box_loss   cls_loss   dfl_loss  Instances       Size\n"
          ]
        },
        {
          "output_type": "stream",
          "name": "stderr",
          "text": [
            "     20/100      2.25G      1.455      1.236      1.308         29        640: 100%|██████████| 3/3 [00:00<00:00,  5.67it/s]\n",
            "                 Class     Images  Instances      Box(P          R      mAP50  mAP50-95): 100%|██████████| 1/1 [00:00<00:00,  8.28it/s]"
          ]
        },
        {
          "output_type": "stream",
          "name": "stdout",
          "text": [
            "                   all         10         56      0.977      0.513      0.747      0.394\n"
          ]
        },
        {
          "output_type": "stream",
          "name": "stderr",
          "text": [
            "\n"
          ]
        },
        {
          "output_type": "stream",
          "name": "stdout",
          "text": [
            "\n",
            "      Epoch    GPU_mem   box_loss   cls_loss   dfl_loss  Instances       Size\n"
          ]
        },
        {
          "output_type": "stream",
          "name": "stderr",
          "text": [
            "     21/100      2.24G      1.599      1.277      1.425         16        640: 100%|██████████| 3/3 [00:00<00:00,  4.05it/s]\n",
            "                 Class     Images  Instances      Box(P          R      mAP50  mAP50-95): 100%|██████████| 1/1 [00:00<00:00,  6.82it/s]\n"
          ]
        },
        {
          "output_type": "stream",
          "name": "stdout",
          "text": [
            "                   all         10         56      0.852      0.413      0.708      0.368\n",
            "\n",
            "      Epoch    GPU_mem   box_loss   cls_loss   dfl_loss  Instances       Size\n"
          ]
        },
        {
          "output_type": "stream",
          "name": "stderr",
          "text": [
            "     22/100      2.28G      1.523      1.275      1.278         45        640: 100%|██████████| 3/3 [00:00<00:00,  3.80it/s]\n",
            "                 Class     Images  Instances      Box(P          R      mAP50  mAP50-95): 100%|██████████| 1/1 [00:00<00:00,  3.66it/s]"
          ]
        },
        {
          "output_type": "stream",
          "name": "stdout",
          "text": [
            "                   all         10         56      0.996      0.333      0.677      0.352\n"
          ]
        },
        {
          "output_type": "stream",
          "name": "stderr",
          "text": [
            "\n"
          ]
        },
        {
          "output_type": "stream",
          "name": "stdout",
          "text": [
            "\n",
            "      Epoch    GPU_mem   box_loss   cls_loss   dfl_loss  Instances       Size\n"
          ]
        },
        {
          "output_type": "stream",
          "name": "stderr",
          "text": [
            "     23/100      2.27G      1.583      1.368      1.311         29        640: 100%|██████████| 3/3 [00:00<00:00,  5.92it/s]\n",
            "                 Class     Images  Instances      Box(P          R      mAP50  mAP50-95): 100%|██████████| 1/1 [00:00<00:00,  8.04it/s]"
          ]
        },
        {
          "output_type": "stream",
          "name": "stdout",
          "text": [
            "                   all         10         56      0.997      0.333      0.759      0.383\n"
          ]
        },
        {
          "output_type": "stream",
          "name": "stderr",
          "text": [
            "\n"
          ]
        },
        {
          "output_type": "stream",
          "name": "stdout",
          "text": [
            "\n",
            "      Epoch    GPU_mem   box_loss   cls_loss   dfl_loss  Instances       Size\n"
          ]
        },
        {
          "output_type": "stream",
          "name": "stderr",
          "text": [
            "     24/100      2.27G      1.448       1.17      1.319         26        640: 100%|██████████| 3/3 [00:00<00:00,  5.47it/s]\n",
            "                 Class     Images  Instances      Box(P          R      mAP50  mAP50-95): 100%|██████████| 1/1 [00:00<00:00,  7.60it/s]\n"
          ]
        },
        {
          "output_type": "stream",
          "name": "stdout",
          "text": [
            "                   all         10         56          1      0.333      0.754      0.405\n",
            "\n",
            "      Epoch    GPU_mem   box_loss   cls_loss   dfl_loss  Instances       Size\n"
          ]
        },
        {
          "output_type": "stream",
          "name": "stderr",
          "text": [
            "     25/100      2.26G      1.397      1.093      1.267         28        640: 100%|██████████| 3/3 [00:00<00:00,  5.97it/s]\n",
            "                 Class     Images  Instances      Box(P          R      mAP50  mAP50-95): 100%|██████████| 1/1 [00:00<00:00,  4.44it/s]"
          ]
        },
        {
          "output_type": "stream",
          "name": "stdout",
          "text": [
            "                   all         10         56       0.81      0.396      0.802      0.457\n"
          ]
        },
        {
          "output_type": "stream",
          "name": "stderr",
          "text": [
            "\n"
          ]
        },
        {
          "output_type": "stream",
          "name": "stdout",
          "text": [
            "\n",
            "      Epoch    GPU_mem   box_loss   cls_loss   dfl_loss  Instances       Size\n"
          ]
        },
        {
          "output_type": "stream",
          "name": "stderr",
          "text": [
            "     26/100      2.28G      1.494      1.156      1.302         31        640: 100%|██████████| 3/3 [00:00<00:00,  5.73it/s]\n",
            "                 Class     Images  Instances      Box(P          R      mAP50  mAP50-95): 100%|██████████| 1/1 [00:00<00:00,  7.73it/s]"
          ]
        },
        {
          "output_type": "stream",
          "name": "stdout",
          "text": [
            "                   all         10         56      0.783      0.492      0.838      0.474\n"
          ]
        },
        {
          "output_type": "stream",
          "name": "stderr",
          "text": [
            "\n"
          ]
        },
        {
          "output_type": "stream",
          "name": "stdout",
          "text": [
            "\n",
            "      Epoch    GPU_mem   box_loss   cls_loss   dfl_loss  Instances       Size\n"
          ]
        },
        {
          "output_type": "stream",
          "name": "stderr",
          "text": [
            "     27/100      2.26G      1.463      1.159      1.284         41        640: 100%|██████████| 3/3 [00:00<00:00,  5.70it/s]\n",
            "                 Class     Images  Instances      Box(P          R      mAP50  mAP50-95): 100%|██████████| 1/1 [00:00<00:00,  5.46it/s]"
          ]
        },
        {
          "output_type": "stream",
          "name": "stdout",
          "text": [
            "                   all         10         56      0.778      0.456      0.831      0.449\n"
          ]
        },
        {
          "output_type": "stream",
          "name": "stderr",
          "text": [
            "\n"
          ]
        },
        {
          "output_type": "stream",
          "name": "stdout",
          "text": [
            "\n",
            "      Epoch    GPU_mem   box_loss   cls_loss   dfl_loss  Instances       Size\n"
          ]
        },
        {
          "output_type": "stream",
          "name": "stderr",
          "text": [
            "     28/100      2.25G      1.453      1.451      1.387          8        640: 100%|██████████| 3/3 [00:00<00:00,  5.94it/s]\n",
            "                 Class     Images  Instances      Box(P          R      mAP50  mAP50-95): 100%|██████████| 1/1 [00:00<00:00,  4.75it/s]"
          ]
        },
        {
          "output_type": "stream",
          "name": "stdout",
          "text": [
            "                   all         10         56      0.771      0.461      0.847      0.482\n"
          ]
        },
        {
          "output_type": "stream",
          "name": "stderr",
          "text": [
            "\n"
          ]
        },
        {
          "output_type": "stream",
          "name": "stdout",
          "text": [
            "\n",
            "      Epoch    GPU_mem   box_loss   cls_loss   dfl_loss  Instances       Size\n"
          ]
        },
        {
          "output_type": "stream",
          "name": "stderr",
          "text": [
            "     29/100      2.29G      1.405      1.192       1.28         15        640: 100%|██████████| 3/3 [00:00<00:00,  6.26it/s]\n",
            "                 Class     Images  Instances      Box(P          R      mAP50  mAP50-95): 100%|██████████| 1/1 [00:00<00:00,  5.76it/s]"
          ]
        },
        {
          "output_type": "stream",
          "name": "stdout",
          "text": [
            "                   all         10         56      0.771      0.461      0.847      0.482\n"
          ]
        },
        {
          "output_type": "stream",
          "name": "stderr",
          "text": [
            "\n"
          ]
        },
        {
          "output_type": "stream",
          "name": "stdout",
          "text": [
            "\n",
            "      Epoch    GPU_mem   box_loss   cls_loss   dfl_loss  Instances       Size\n"
          ]
        },
        {
          "output_type": "stream",
          "name": "stderr",
          "text": [
            "     30/100      2.28G      1.446      1.111      1.278         30        640: 100%|██████████| 3/3 [00:00<00:00,  6.34it/s]\n",
            "                 Class     Images  Instances      Box(P          R      mAP50  mAP50-95): 100%|██████████| 1/1 [00:00<00:00,  4.60it/s]"
          ]
        },
        {
          "output_type": "stream",
          "name": "stdout",
          "text": [
            "                   all         10         56      0.738       0.54      0.864      0.471\n"
          ]
        },
        {
          "output_type": "stream",
          "name": "stderr",
          "text": [
            "\n"
          ]
        },
        {
          "output_type": "stream",
          "name": "stdout",
          "text": [
            "\n",
            "      Epoch    GPU_mem   box_loss   cls_loss   dfl_loss  Instances       Size\n"
          ]
        },
        {
          "output_type": "stream",
          "name": "stderr",
          "text": [
            "     31/100      2.24G      1.511      1.204      1.313         22        640: 100%|██████████| 3/3 [00:00<00:00,  4.09it/s]\n",
            "                 Class     Images  Instances      Box(P          R      mAP50  mAP50-95): 100%|██████████| 1/1 [00:00<00:00,  5.20it/s]\n"
          ]
        },
        {
          "output_type": "stream",
          "name": "stdout",
          "text": [
            "                   all         10         56      0.702      0.649      0.858      0.471\n",
            "\n",
            "      Epoch    GPU_mem   box_loss   cls_loss   dfl_loss  Instances       Size\n"
          ]
        },
        {
          "output_type": "stream",
          "name": "stderr",
          "text": [
            "     32/100      2.39G      1.406      1.203      1.292         21        640: 100%|██████████| 3/3 [00:00<00:00,  5.70it/s]\n",
            "                 Class     Images  Instances      Box(P          R      mAP50  mAP50-95): 100%|██████████| 1/1 [00:00<00:00,  4.80it/s]"
          ]
        },
        {
          "output_type": "stream",
          "name": "stdout",
          "text": [
            "                   all         10         56      0.747      0.618      0.869      0.461\n"
          ]
        },
        {
          "output_type": "stream",
          "name": "stderr",
          "text": [
            "\n"
          ]
        },
        {
          "output_type": "stream",
          "name": "stdout",
          "text": [
            "\n",
            "      Epoch    GPU_mem   box_loss   cls_loss   dfl_loss  Instances       Size\n"
          ]
        },
        {
          "output_type": "stream",
          "name": "stderr",
          "text": [
            "     33/100      2.26G      1.448      1.167      1.336         23        640: 100%|██████████| 3/3 [00:00<00:00,  5.87it/s]\n",
            "                 Class     Images  Instances      Box(P          R      mAP50  mAP50-95): 100%|██████████| 1/1 [00:00<00:00,  4.62it/s]"
          ]
        },
        {
          "output_type": "stream",
          "name": "stdout",
          "text": [
            "                   all         10         56      0.747      0.618      0.869      0.461\n"
          ]
        },
        {
          "output_type": "stream",
          "name": "stderr",
          "text": [
            "\n"
          ]
        },
        {
          "output_type": "stream",
          "name": "stdout",
          "text": [
            "\n",
            "      Epoch    GPU_mem   box_loss   cls_loss   dfl_loss  Instances       Size\n"
          ]
        },
        {
          "output_type": "stream",
          "name": "stderr",
          "text": [
            "     34/100      2.26G      1.437      1.206      1.286         19        640: 100%|██████████| 3/3 [00:00<00:00,  5.72it/s]\n",
            "                 Class     Images  Instances      Box(P          R      mAP50  mAP50-95): 100%|██████████| 1/1 [00:00<00:00,  4.83it/s]"
          ]
        },
        {
          "output_type": "stream",
          "name": "stdout",
          "text": [
            "                   all         10         56      0.771      0.738      0.844      0.421\n"
          ]
        },
        {
          "output_type": "stream",
          "name": "stderr",
          "text": [
            "\n"
          ]
        },
        {
          "output_type": "stream",
          "name": "stdout",
          "text": [
            "\n",
            "      Epoch    GPU_mem   box_loss   cls_loss   dfl_loss  Instances       Size\n"
          ]
        },
        {
          "output_type": "stream",
          "name": "stderr",
          "text": [
            "     35/100      2.26G      1.577      1.241      1.314         13        640: 100%|██████████| 3/3 [00:00<00:00,  5.87it/s]\n",
            "                 Class     Images  Instances      Box(P          R      mAP50  mAP50-95): 100%|██████████| 1/1 [00:00<00:00,  9.46it/s]"
          ]
        },
        {
          "output_type": "stream",
          "name": "stdout",
          "text": [
            "                   all         10         56      0.768      0.819      0.908      0.492\n"
          ]
        },
        {
          "output_type": "stream",
          "name": "stderr",
          "text": [
            "\n"
          ]
        },
        {
          "output_type": "stream",
          "name": "stdout",
          "text": [
            "\n",
            "      Epoch    GPU_mem   box_loss   cls_loss   dfl_loss  Instances       Size\n"
          ]
        },
        {
          "output_type": "stream",
          "name": "stderr",
          "text": [
            "     36/100      2.27G      1.401      1.054      1.208         30        640: 100%|██████████| 3/3 [00:00<00:00,  5.73it/s]\n",
            "                 Class     Images  Instances      Box(P          R      mAP50  mAP50-95): 100%|██████████| 1/1 [00:00<00:00,  5.39it/s]\n"
          ]
        },
        {
          "output_type": "stream",
          "name": "stdout",
          "text": [
            "                   all         10         56      0.794      0.818      0.912      0.509\n",
            "\n",
            "      Epoch    GPU_mem   box_loss   cls_loss   dfl_loss  Instances       Size\n"
          ]
        },
        {
          "output_type": "stream",
          "name": "stderr",
          "text": [
            "     37/100      2.27G      1.492      1.122      1.278         33        640: 100%|██████████| 3/3 [00:00<00:00,  6.35it/s]\n",
            "                 Class     Images  Instances      Box(P          R      mAP50  mAP50-95): 100%|██████████| 1/1 [00:00<00:00, 11.36it/s]"
          ]
        },
        {
          "output_type": "stream",
          "name": "stdout",
          "text": [
            "                   all         10         56      0.794      0.818      0.912      0.509\n"
          ]
        },
        {
          "output_type": "stream",
          "name": "stderr",
          "text": [
            "\n"
          ]
        },
        {
          "output_type": "stream",
          "name": "stdout",
          "text": [
            "\n",
            "      Epoch    GPU_mem   box_loss   cls_loss   dfl_loss  Instances       Size\n"
          ]
        },
        {
          "output_type": "stream",
          "name": "stderr",
          "text": [
            "     38/100      2.28G      1.586      1.168      1.403         24        640: 100%|██████████| 3/3 [00:00<00:00,  5.74it/s]\n",
            "                 Class     Images  Instances      Box(P          R      mAP50  mAP50-95): 100%|██████████| 1/1 [00:00<00:00,  6.06it/s]"
          ]
        },
        {
          "output_type": "stream",
          "name": "stdout",
          "text": [
            "                   all         10         56      0.815       0.77      0.905      0.502\n"
          ]
        },
        {
          "output_type": "stream",
          "name": "stderr",
          "text": [
            "\n"
          ]
        },
        {
          "output_type": "stream",
          "name": "stdout",
          "text": [
            "\n",
            "      Epoch    GPU_mem   box_loss   cls_loss   dfl_loss  Instances       Size\n"
          ]
        },
        {
          "output_type": "stream",
          "name": "stderr",
          "text": [
            "     39/100      2.23G       1.49       1.13      1.343         21        640: 100%|██████████| 3/3 [00:00<00:00,  5.96it/s]\n",
            "                 Class     Images  Instances      Box(P          R      mAP50  mAP50-95): 100%|██████████| 1/1 [00:00<00:00,  4.97it/s]"
          ]
        },
        {
          "output_type": "stream",
          "name": "stdout",
          "text": [
            "                   all         10         56      0.845      0.772      0.895      0.494\n"
          ]
        },
        {
          "output_type": "stream",
          "name": "stderr",
          "text": [
            "\n"
          ]
        },
        {
          "output_type": "stream",
          "name": "stdout",
          "text": [
            "\n",
            "      Epoch    GPU_mem   box_loss   cls_loss   dfl_loss  Instances       Size\n"
          ]
        },
        {
          "output_type": "stream",
          "name": "stderr",
          "text": [
            "     40/100      2.26G      1.484       1.17      1.264         22        640: 100%|██████████| 3/3 [00:00<00:00,  4.09it/s]\n",
            "                 Class     Images  Instances      Box(P          R      mAP50  mAP50-95): 100%|██████████| 1/1 [00:00<00:00,  5.19it/s]"
          ]
        },
        {
          "output_type": "stream",
          "name": "stdout",
          "text": [
            "                   all         10         56       0.87      0.812      0.912      0.507\n"
          ]
        },
        {
          "output_type": "stream",
          "name": "stderr",
          "text": [
            "\n"
          ]
        },
        {
          "output_type": "stream",
          "name": "stdout",
          "text": [
            "\n",
            "      Epoch    GPU_mem   box_loss   cls_loss   dfl_loss  Instances       Size\n"
          ]
        },
        {
          "output_type": "stream",
          "name": "stderr",
          "text": [
            "     41/100      2.28G      1.447      1.072      1.241         37        640: 100%|██████████| 3/3 [00:00<00:00,  4.92it/s]\n",
            "                 Class     Images  Instances      Box(P          R      mAP50  mAP50-95): 100%|██████████| 1/1 [00:00<00:00,  3.35it/s]"
          ]
        },
        {
          "output_type": "stream",
          "name": "stdout",
          "text": [
            "                   all         10         56       0.87      0.812      0.912      0.507\n"
          ]
        },
        {
          "output_type": "stream",
          "name": "stderr",
          "text": [
            "\n"
          ]
        },
        {
          "output_type": "stream",
          "name": "stdout",
          "text": [
            "\n",
            "      Epoch    GPU_mem   box_loss   cls_loss   dfl_loss  Instances       Size\n"
          ]
        },
        {
          "output_type": "stream",
          "name": "stderr",
          "text": [
            "     42/100      2.35G      1.358      1.086      1.281         16        640: 100%|██████████| 3/3 [00:00<00:00,  5.79it/s]\n",
            "                 Class     Images  Instances      Box(P          R      mAP50  mAP50-95): 100%|██████████| 1/1 [00:00<00:00,  9.21it/s]"
          ]
        },
        {
          "output_type": "stream",
          "name": "stdout",
          "text": [
            "                   all         10         56      0.904      0.842      0.928      0.534\n"
          ]
        },
        {
          "output_type": "stream",
          "name": "stderr",
          "text": [
            "\n"
          ]
        },
        {
          "output_type": "stream",
          "name": "stdout",
          "text": [
            "\n",
            "      Epoch    GPU_mem   box_loss   cls_loss   dfl_loss  Instances       Size\n"
          ]
        },
        {
          "output_type": "stream",
          "name": "stderr",
          "text": [
            "     43/100      2.25G      1.461      1.092      1.247         28        640: 100%|██████████| 3/3 [00:00<00:00,  5.63it/s]\n",
            "                 Class     Images  Instances      Box(P          R      mAP50  mAP50-95): 100%|██████████| 1/1 [00:00<00:00,  5.44it/s]\n"
          ]
        },
        {
          "output_type": "stream",
          "name": "stdout",
          "text": [
            "                   all         10         56      0.897      0.877      0.942      0.548\n",
            "\n",
            "      Epoch    GPU_mem   box_loss   cls_loss   dfl_loss  Instances       Size\n"
          ]
        },
        {
          "output_type": "stream",
          "name": "stderr",
          "text": [
            "     44/100       2.3G      1.416      1.182      1.287         16        640: 100%|██████████| 3/3 [00:00<00:00,  5.74it/s]\n",
            "                 Class     Images  Instances      Box(P          R      mAP50  mAP50-95): 100%|██████████| 1/1 [00:00<00:00,  5.36it/s]\n"
          ]
        },
        {
          "output_type": "stream",
          "name": "stdout",
          "text": [
            "                   all         10         56      0.909      0.885      0.952      0.531\n",
            "\n",
            "      Epoch    GPU_mem   box_loss   cls_loss   dfl_loss  Instances       Size\n"
          ]
        },
        {
          "output_type": "stream",
          "name": "stderr",
          "text": [
            "     45/100      2.26G      1.459      1.007      1.222         38        640: 100%|██████████| 3/3 [00:00<00:00,  5.79it/s]\n",
            "                 Class     Images  Instances      Box(P          R      mAP50  mAP50-95): 100%|██████████| 1/1 [00:00<00:00,  4.61it/s]"
          ]
        },
        {
          "output_type": "stream",
          "name": "stdout",
          "text": [
            "                   all         10         56      0.909      0.885      0.952      0.531\n"
          ]
        },
        {
          "output_type": "stream",
          "name": "stderr",
          "text": [
            "\n"
          ]
        },
        {
          "output_type": "stream",
          "name": "stdout",
          "text": [
            "\n",
            "      Epoch    GPU_mem   box_loss   cls_loss   dfl_loss  Instances       Size\n"
          ]
        },
        {
          "output_type": "stream",
          "name": "stderr",
          "text": [
            "     46/100      2.27G       1.35      1.065      1.244         15        640: 100%|██████████| 3/3 [00:00<00:00,  5.81it/s]\n",
            "                 Class     Images  Instances      Box(P          R      mAP50  mAP50-95): 100%|██████████| 1/1 [00:00<00:00,  6.44it/s]\n"
          ]
        },
        {
          "output_type": "stream",
          "name": "stdout",
          "text": [
            "                   all         10         56      0.838      0.862      0.941      0.545\n",
            "\n",
            "      Epoch    GPU_mem   box_loss   cls_loss   dfl_loss  Instances       Size\n"
          ]
        },
        {
          "output_type": "stream",
          "name": "stderr",
          "text": [
            "     47/100      2.27G      1.364      1.039       1.23         22        640: 100%|██████████| 3/3 [00:00<00:00,  5.81it/s]\n",
            "                 Class     Images  Instances      Box(P          R      mAP50  mAP50-95): 100%|██████████| 1/1 [00:00<00:00,  5.76it/s]"
          ]
        },
        {
          "output_type": "stream",
          "name": "stdout",
          "text": [
            "                   all         10         56      0.821      0.852      0.969       0.55\n"
          ]
        },
        {
          "output_type": "stream",
          "name": "stderr",
          "text": [
            "\n"
          ]
        },
        {
          "output_type": "stream",
          "name": "stdout",
          "text": [
            "\n",
            "      Epoch    GPU_mem   box_loss   cls_loss   dfl_loss  Instances       Size\n"
          ]
        },
        {
          "output_type": "stream",
          "name": "stderr",
          "text": [
            "     48/100      2.39G      1.332      1.078      1.308         21        640: 100%|██████████| 3/3 [00:00<00:00,  5.53it/s]\n",
            "                 Class     Images  Instances      Box(P          R      mAP50  mAP50-95): 100%|██████████| 1/1 [00:00<00:00,  8.07it/s]"
          ]
        },
        {
          "output_type": "stream",
          "name": "stdout",
          "text": [
            "                   all         10         56      0.845      0.846      0.951      0.547\n"
          ]
        },
        {
          "output_type": "stream",
          "name": "stderr",
          "text": [
            "\n"
          ]
        },
        {
          "output_type": "stream",
          "name": "stdout",
          "text": [
            "\n",
            "      Epoch    GPU_mem   box_loss   cls_loss   dfl_loss  Instances       Size\n"
          ]
        },
        {
          "output_type": "stream",
          "name": "stderr",
          "text": [
            "     49/100      2.24G      1.265     0.9966      1.121         18        640: 100%|██████████| 3/3 [00:00<00:00,  5.72it/s]\n",
            "                 Class     Images  Instances      Box(P          R      mAP50  mAP50-95): 100%|██████████| 1/1 [00:00<00:00,  5.71it/s]"
          ]
        },
        {
          "output_type": "stream",
          "name": "stdout",
          "text": [
            "                   all         10         56      0.845      0.846      0.951      0.547\n"
          ]
        },
        {
          "output_type": "stream",
          "name": "stderr",
          "text": [
            "\n"
          ]
        },
        {
          "output_type": "stream",
          "name": "stdout",
          "text": [
            "\n",
            "      Epoch    GPU_mem   box_loss   cls_loss   dfl_loss  Instances       Size\n"
          ]
        },
        {
          "output_type": "stream",
          "name": "stderr",
          "text": [
            "     50/100      2.27G      1.325     0.9962       1.27         19        640: 100%|██████████| 3/3 [00:00<00:00,  3.89it/s]\n",
            "                 Class     Images  Instances      Box(P          R      mAP50  mAP50-95): 100%|██████████| 1/1 [00:00<00:00,  4.57it/s]"
          ]
        },
        {
          "output_type": "stream",
          "name": "stdout",
          "text": [
            "                   all         10         56      0.841      0.834      0.926      0.519\n"
          ]
        },
        {
          "output_type": "stream",
          "name": "stderr",
          "text": [
            "\n"
          ]
        },
        {
          "output_type": "stream",
          "name": "stdout",
          "text": [
            "\n",
            "      Epoch    GPU_mem   box_loss   cls_loss   dfl_loss  Instances       Size\n"
          ]
        },
        {
          "output_type": "stream",
          "name": "stderr",
          "text": [
            "     51/100      2.23G      1.306       1.02      1.211         34        640: 100%|██████████| 3/3 [00:00<00:00,  6.09it/s]\n",
            "                 Class     Images  Instances      Box(P          R      mAP50  mAP50-95): 100%|██████████| 1/1 [00:00<00:00,  6.00it/s]"
          ]
        },
        {
          "output_type": "stream",
          "name": "stdout",
          "text": [
            "                   all         10         56      0.758      0.829      0.896      0.489\n"
          ]
        },
        {
          "output_type": "stream",
          "name": "stderr",
          "text": [
            "\n"
          ]
        },
        {
          "output_type": "stream",
          "name": "stdout",
          "text": [
            "\n",
            "      Epoch    GPU_mem   box_loss   cls_loss   dfl_loss  Instances       Size\n"
          ]
        },
        {
          "output_type": "stream",
          "name": "stderr",
          "text": [
            "     52/100      2.31G      1.424      1.035      1.296         31        640: 100%|██████████| 3/3 [00:00<00:00,  5.55it/s]\n",
            "                 Class     Images  Instances      Box(P          R      mAP50  mAP50-95): 100%|██████████| 1/1 [00:00<00:00,  4.93it/s]"
          ]
        },
        {
          "output_type": "stream",
          "name": "stdout",
          "text": [
            "                   all         10         56      0.844       0.86      0.916      0.509\n"
          ]
        },
        {
          "output_type": "stream",
          "name": "stderr",
          "text": [
            "\n"
          ]
        },
        {
          "output_type": "stream",
          "name": "stdout",
          "text": [
            "\n",
            "      Epoch    GPU_mem   box_loss   cls_loss   dfl_loss  Instances       Size\n"
          ]
        },
        {
          "output_type": "stream",
          "name": "stderr",
          "text": [
            "     53/100      2.27G       1.32     0.9833      1.193         20        640: 100%|██████████| 3/3 [00:00<00:00,  5.77it/s]\n",
            "                 Class     Images  Instances      Box(P          R      mAP50  mAP50-95): 100%|██████████| 1/1 [00:00<00:00,  7.49it/s]"
          ]
        },
        {
          "output_type": "stream",
          "name": "stdout",
          "text": [
            "                   all         10         56      0.844       0.86      0.916      0.509\n"
          ]
        },
        {
          "output_type": "stream",
          "name": "stderr",
          "text": [
            "\n"
          ]
        },
        {
          "output_type": "stream",
          "name": "stdout",
          "text": [
            "\n",
            "      Epoch    GPU_mem   box_loss   cls_loss   dfl_loss  Instances       Size\n"
          ]
        },
        {
          "output_type": "stream",
          "name": "stderr",
          "text": [
            "     54/100      2.25G       1.36      1.056      1.258         14        640: 100%|██████████| 3/3 [00:00<00:00,  6.10it/s]\n",
            "                 Class     Images  Instances      Box(P          R      mAP50  mAP50-95): 100%|██████████| 1/1 [00:00<00:00,  6.84it/s]"
          ]
        },
        {
          "output_type": "stream",
          "name": "stdout",
          "text": [
            "                   all         10         56      0.934      0.867      0.944      0.515\n"
          ]
        },
        {
          "output_type": "stream",
          "name": "stderr",
          "text": [
            "\n"
          ]
        },
        {
          "output_type": "stream",
          "name": "stdout",
          "text": [
            "\n",
            "      Epoch    GPU_mem   box_loss   cls_loss   dfl_loss  Instances       Size\n"
          ]
        },
        {
          "output_type": "stream",
          "name": "stderr",
          "text": [
            "     55/100      2.23G      1.402      1.049      1.278         26        640: 100%|██████████| 3/3 [00:00<00:00,  5.86it/s]\n",
            "                 Class     Images  Instances      Box(P          R      mAP50  mAP50-95): 100%|██████████| 1/1 [00:00<00:00,  6.86it/s]"
          ]
        },
        {
          "output_type": "stream",
          "name": "stdout",
          "text": [
            "                   all         10         56      0.854      0.963      0.934      0.522\n"
          ]
        },
        {
          "output_type": "stream",
          "name": "stderr",
          "text": [
            "\n"
          ]
        },
        {
          "output_type": "stream",
          "name": "stdout",
          "text": [
            "\n",
            "      Epoch    GPU_mem   box_loss   cls_loss   dfl_loss  Instances       Size\n"
          ]
        },
        {
          "output_type": "stream",
          "name": "stderr",
          "text": [
            "     56/100      2.26G        1.5      1.049      1.256         28        640: 100%|██████████| 3/3 [00:00<00:00,  5.41it/s]\n",
            "                 Class     Images  Instances      Box(P          R      mAP50  mAP50-95): 100%|██████████| 1/1 [00:00<00:00,  5.07it/s]"
          ]
        },
        {
          "output_type": "stream",
          "name": "stdout",
          "text": [
            "                   all         10         56      0.849      0.935      0.936      0.533\n"
          ]
        },
        {
          "output_type": "stream",
          "name": "stderr",
          "text": [
            "\n"
          ]
        },
        {
          "output_type": "stream",
          "name": "stdout",
          "text": [
            "\n",
            "      Epoch    GPU_mem   box_loss   cls_loss   dfl_loss  Instances       Size\n"
          ]
        },
        {
          "output_type": "stream",
          "name": "stderr",
          "text": [
            "     57/100      2.26G      1.342     0.9806      1.163         27        640: 100%|██████████| 3/3 [00:00<00:00,  5.85it/s]\n",
            "                 Class     Images  Instances      Box(P          R      mAP50  mAP50-95): 100%|██████████| 1/1 [00:00<00:00,  7.95it/s]"
          ]
        },
        {
          "output_type": "stream",
          "name": "stdout",
          "text": [
            "                   all         10         56      0.849      0.935      0.936      0.533\n"
          ]
        },
        {
          "output_type": "stream",
          "name": "stderr",
          "text": [
            "\n"
          ]
        },
        {
          "output_type": "stream",
          "name": "stdout",
          "text": [
            "\n",
            "      Epoch    GPU_mem   box_loss   cls_loss   dfl_loss  Instances       Size\n"
          ]
        },
        {
          "output_type": "stream",
          "name": "stderr",
          "text": [
            "     58/100      2.28G      1.257     0.9748      1.186         18        640: 100%|██████████| 3/3 [00:00<00:00,  6.14it/s]\n",
            "                 Class     Images  Instances      Box(P          R      mAP50  mAP50-95): 100%|██████████| 1/1 [00:00<00:00,  8.39it/s]"
          ]
        },
        {
          "output_type": "stream",
          "name": "stdout",
          "text": [
            "                   all         10         56      0.887      0.926      0.949      0.558\n"
          ]
        },
        {
          "output_type": "stream",
          "name": "stderr",
          "text": [
            "\n"
          ]
        },
        {
          "output_type": "stream",
          "name": "stdout",
          "text": [
            "\n",
            "      Epoch    GPU_mem   box_loss   cls_loss   dfl_loss  Instances       Size\n"
          ]
        },
        {
          "output_type": "stream",
          "name": "stderr",
          "text": [
            "     59/100      2.25G       1.37      1.178      1.288          8        640: 100%|██████████| 3/3 [00:00<00:00,  5.70it/s]\n",
            "                 Class     Images  Instances      Box(P          R      mAP50  mAP50-95): 100%|██████████| 1/1 [00:00<00:00,  3.46it/s]"
          ]
        },
        {
          "output_type": "stream",
          "name": "stdout",
          "text": [
            "                   all         10         56      0.938      0.935      0.968       0.58\n"
          ]
        },
        {
          "output_type": "stream",
          "name": "stderr",
          "text": [
            "\n"
          ]
        },
        {
          "output_type": "stream",
          "name": "stdout",
          "text": [
            "\n",
            "      Epoch    GPU_mem   box_loss   cls_loss   dfl_loss  Instances       Size\n"
          ]
        },
        {
          "output_type": "stream",
          "name": "stderr",
          "text": [
            "     60/100      2.29G      1.273     0.9847      1.166         24        640: 100%|██████████| 3/3 [00:00<00:00,  3.57it/s]\n",
            "                 Class     Images  Instances      Box(P          R      mAP50  mAP50-95): 100%|██████████| 1/1 [00:00<00:00,  4.78it/s]"
          ]
        },
        {
          "output_type": "stream",
          "name": "stdout",
          "text": [
            "                   all         10         56      0.935      0.926      0.961      0.586\n"
          ]
        },
        {
          "output_type": "stream",
          "name": "stderr",
          "text": [
            "\n"
          ]
        },
        {
          "output_type": "stream",
          "name": "stdout",
          "text": [
            "\n",
            "      Epoch    GPU_mem   box_loss   cls_loss   dfl_loss  Instances       Size\n"
          ]
        },
        {
          "output_type": "stream",
          "name": "stderr",
          "text": [
            "     61/100      2.28G      1.184     0.9515      1.184         19        640: 100%|██████████| 3/3 [00:00<00:00,  5.70it/s]\n",
            "                 Class     Images  Instances      Box(P          R      mAP50  mAP50-95): 100%|██████████| 1/1 [00:00<00:00,  4.43it/s]"
          ]
        },
        {
          "output_type": "stream",
          "name": "stdout",
          "text": [
            "                   all         10         56      0.935      0.926      0.961      0.586\n"
          ]
        },
        {
          "output_type": "stream",
          "name": "stderr",
          "text": [
            "\n"
          ]
        },
        {
          "output_type": "stream",
          "name": "stdout",
          "text": [
            "\n",
            "      Epoch    GPU_mem   box_loss   cls_loss   dfl_loss  Instances       Size\n"
          ]
        },
        {
          "output_type": "stream",
          "name": "stderr",
          "text": [
            "     62/100      2.26G       1.19     0.9682      1.108         38        640: 100%|██████████| 3/3 [00:00<00:00,  5.59it/s]\n",
            "                 Class     Images  Instances      Box(P          R      mAP50  mAP50-95): 100%|██████████| 1/1 [00:00<00:00,  5.15it/s]\n"
          ]
        },
        {
          "output_type": "stream",
          "name": "stdout",
          "text": [
            "                   all         10         56      0.867       0.91      0.944      0.546\n",
            "\n",
            "      Epoch    GPU_mem   box_loss   cls_loss   dfl_loss  Instances       Size\n"
          ]
        },
        {
          "output_type": "stream",
          "name": "stderr",
          "text": [
            "     63/100      2.34G      1.299      1.014      1.226         15        640: 100%|██████████| 3/3 [00:00<00:00,  5.86it/s]\n",
            "                 Class     Images  Instances      Box(P          R      mAP50  mAP50-95): 100%|██████████| 1/1 [00:00<00:00,  6.94it/s]\n"
          ]
        },
        {
          "output_type": "stream",
          "name": "stdout",
          "text": [
            "                   all         10         56      0.846      0.907      0.955      0.515\n",
            "\n",
            "      Epoch    GPU_mem   box_loss   cls_loss   dfl_loss  Instances       Size\n"
          ]
        },
        {
          "output_type": "stream",
          "name": "stderr",
          "text": [
            "     64/100      2.29G      1.202     0.8987      1.125         42        640: 100%|██████████| 3/3 [00:00<00:00,  5.94it/s]\n",
            "                 Class     Images  Instances      Box(P          R      mAP50  mAP50-95): 100%|██████████| 1/1 [00:00<00:00,  6.79it/s]"
          ]
        },
        {
          "output_type": "stream",
          "name": "stdout",
          "text": [
            "                   all         10         56      0.784      0.926      0.891      0.447\n"
          ]
        },
        {
          "output_type": "stream",
          "name": "stderr",
          "text": [
            "\n"
          ]
        },
        {
          "output_type": "stream",
          "name": "stdout",
          "text": [
            "\n",
            "      Epoch    GPU_mem   box_loss   cls_loss   dfl_loss  Instances       Size\n"
          ]
        },
        {
          "output_type": "stream",
          "name": "stderr",
          "text": [
            "     65/100      2.35G      1.255      1.052      1.268         12        640: 100%|██████████| 3/3 [00:00<00:00,  5.91it/s]\n",
            "                 Class     Images  Instances      Box(P          R      mAP50  mAP50-95): 100%|██████████| 1/1 [00:00<00:00,  9.16it/s]"
          ]
        },
        {
          "output_type": "stream",
          "name": "stdout",
          "text": [
            "                   all         10         56      0.784      0.926      0.891      0.447\n"
          ]
        },
        {
          "output_type": "stream",
          "name": "stderr",
          "text": [
            "\n"
          ]
        },
        {
          "output_type": "stream",
          "name": "stdout",
          "text": [
            "\n",
            "      Epoch    GPU_mem   box_loss   cls_loss   dfl_loss  Instances       Size\n"
          ]
        },
        {
          "output_type": "stream",
          "name": "stderr",
          "text": [
            "     66/100      2.27G      1.325     0.9903      1.155         57        640: 100%|██████████| 3/3 [00:00<00:00,  5.34it/s]\n",
            "                 Class     Images  Instances      Box(P          R      mAP50  mAP50-95): 100%|██████████| 1/1 [00:00<00:00,  5.90it/s]"
          ]
        },
        {
          "output_type": "stream",
          "name": "stdout",
          "text": [
            "                   all         10         56      0.799      0.869      0.892      0.446\n"
          ]
        },
        {
          "output_type": "stream",
          "name": "stderr",
          "text": [
            "\n"
          ]
        },
        {
          "output_type": "stream",
          "name": "stdout",
          "text": [
            "\n",
            "      Epoch    GPU_mem   box_loss   cls_loss   dfl_loss  Instances       Size\n"
          ]
        },
        {
          "output_type": "stream",
          "name": "stderr",
          "text": [
            "     67/100      2.23G      1.208     0.9274      1.202         13        640: 100%|██████████| 3/3 [00:00<00:00,  5.73it/s]\n",
            "                 Class     Images  Instances      Box(P          R      mAP50  mAP50-95): 100%|██████████| 1/1 [00:00<00:00,  5.40it/s]"
          ]
        },
        {
          "output_type": "stream",
          "name": "stdout",
          "text": [
            "                   all         10         56      0.889      0.889      0.954      0.495\n"
          ]
        },
        {
          "output_type": "stream",
          "name": "stderr",
          "text": [
            "\n"
          ]
        },
        {
          "output_type": "stream",
          "name": "stdout",
          "text": [
            "\n",
            "      Epoch    GPU_mem   box_loss   cls_loss   dfl_loss  Instances       Size\n"
          ]
        },
        {
          "output_type": "stream",
          "name": "stderr",
          "text": [
            "     68/100      2.37G      1.249      0.979      1.172         30        640: 100%|██████████| 3/3 [00:00<00:00,  5.62it/s]\n",
            "                 Class     Images  Instances      Box(P          R      mAP50  mAP50-95): 100%|██████████| 1/1 [00:00<00:00,  5.67it/s]\n"
          ]
        },
        {
          "output_type": "stream",
          "name": "stdout",
          "text": [
            "                   all         10         56      0.914      0.905      0.959      0.541\n",
            "\n",
            "      Epoch    GPU_mem   box_loss   cls_loss   dfl_loss  Instances       Size\n"
          ]
        },
        {
          "output_type": "stream",
          "name": "stderr",
          "text": [
            "     69/100      2.26G      1.298     0.9978      1.252         17        640: 100%|██████████| 3/3 [00:00<00:00,  3.78it/s]\n",
            "                 Class     Images  Instances      Box(P          R      mAP50  mAP50-95): 100%|██████████| 1/1 [00:00<00:00,  3.70it/s]"
          ]
        },
        {
          "output_type": "stream",
          "name": "stdout",
          "text": [
            "                   all         10         56      0.914      0.905      0.959      0.541\n"
          ]
        },
        {
          "output_type": "stream",
          "name": "stderr",
          "text": [
            "\n"
          ]
        },
        {
          "output_type": "stream",
          "name": "stdout",
          "text": [
            "\n",
            "      Epoch    GPU_mem   box_loss   cls_loss   dfl_loss  Instances       Size\n"
          ]
        },
        {
          "output_type": "stream",
          "name": "stderr",
          "text": [
            "     70/100      2.25G      1.254     0.9342      1.162         35        640: 100%|██████████| 3/3 [00:00<00:00,  4.50it/s]\n",
            "                 Class     Images  Instances      Box(P          R      mAP50  mAP50-95): 100%|██████████| 1/1 [00:00<00:00,  5.61it/s]"
          ]
        },
        {
          "output_type": "stream",
          "name": "stdout",
          "text": [
            "                   all         10         56      0.938      0.921      0.963      0.585\n"
          ]
        },
        {
          "output_type": "stream",
          "name": "stderr",
          "text": [
            "\n"
          ]
        },
        {
          "output_type": "stream",
          "name": "stdout",
          "text": [
            "\n",
            "      Epoch    GPU_mem   box_loss   cls_loss   dfl_loss  Instances       Size\n"
          ]
        },
        {
          "output_type": "stream",
          "name": "stderr",
          "text": [
            "     71/100      2.36G      1.329      1.064      1.369         11        640: 100%|██████████| 3/3 [00:00<00:00,  5.82it/s]\n",
            "                 Class     Images  Instances      Box(P          R      mAP50  mAP50-95): 100%|██████████| 1/1 [00:00<00:00,  4.89it/s]"
          ]
        },
        {
          "output_type": "stream",
          "name": "stdout",
          "text": [
            "                   all         10         56      0.927      0.954      0.977      0.597\n"
          ]
        },
        {
          "output_type": "stream",
          "name": "stderr",
          "text": [
            "\n"
          ]
        },
        {
          "output_type": "stream",
          "name": "stdout",
          "text": [
            "\n",
            "      Epoch    GPU_mem   box_loss   cls_loss   dfl_loss  Instances       Size\n"
          ]
        },
        {
          "output_type": "stream",
          "name": "stderr",
          "text": [
            "     72/100      2.28G      1.248     0.9109      1.133         24        640: 100%|██████████| 3/3 [00:00<00:00,  5.56it/s]\n",
            "                 Class     Images  Instances      Box(P          R      mAP50  mAP50-95): 100%|██████████| 1/1 [00:00<00:00,  4.63it/s]"
          ]
        },
        {
          "output_type": "stream",
          "name": "stdout",
          "text": [
            "                   all         10         56       0.94      0.935      0.973      0.579\n"
          ]
        },
        {
          "output_type": "stream",
          "name": "stderr",
          "text": [
            "\n"
          ]
        },
        {
          "output_type": "stream",
          "name": "stdout",
          "text": [
            "\n",
            "      Epoch    GPU_mem   box_loss   cls_loss   dfl_loss  Instances       Size\n"
          ]
        },
        {
          "output_type": "stream",
          "name": "stderr",
          "text": [
            "     73/100      2.25G      1.249     0.9481      1.141         49        640: 100%|██████████| 3/3 [00:00<00:00,  5.49it/s]\n",
            "                 Class     Images  Instances      Box(P          R      mAP50  mAP50-95): 100%|██████████| 1/1 [00:00<00:00, 11.54it/s]"
          ]
        },
        {
          "output_type": "stream",
          "name": "stdout",
          "text": [
            "                   all         10         56       0.94      0.935      0.973      0.579\n"
          ]
        },
        {
          "output_type": "stream",
          "name": "stderr",
          "text": [
            "\n"
          ]
        },
        {
          "output_type": "stream",
          "name": "stdout",
          "text": [
            "\n",
            "      Epoch    GPU_mem   box_loss   cls_loss   dfl_loss  Instances       Size\n"
          ]
        },
        {
          "output_type": "stream",
          "name": "stderr",
          "text": [
            "     74/100      2.26G      1.264     0.9731      1.195         38        640: 100%|██████████| 3/3 [00:00<00:00,  5.83it/s]\n",
            "                 Class     Images  Instances      Box(P          R      mAP50  mAP50-95): 100%|██████████| 1/1 [00:00<00:00,  6.90it/s]\n"
          ]
        },
        {
          "output_type": "stream",
          "name": "stdout",
          "text": [
            "                   all         10         56      0.947      0.935      0.977      0.567\n",
            "\n",
            "      Epoch    GPU_mem   box_loss   cls_loss   dfl_loss  Instances       Size\n"
          ]
        },
        {
          "output_type": "stream",
          "name": "stderr",
          "text": [
            "     75/100      2.24G      1.259     0.9622      1.204         31        640: 100%|██████████| 3/3 [00:00<00:00,  5.80it/s]\n",
            "                 Class     Images  Instances      Box(P          R      mAP50  mAP50-95): 100%|██████████| 1/1 [00:00<00:00,  7.98it/s]"
          ]
        },
        {
          "output_type": "stream",
          "name": "stdout",
          "text": [
            "                   all         10         56      0.944      0.935      0.977      0.568\n"
          ]
        },
        {
          "output_type": "stream",
          "name": "stderr",
          "text": [
            "\n"
          ]
        },
        {
          "output_type": "stream",
          "name": "stdout",
          "text": [
            "\n",
            "      Epoch    GPU_mem   box_loss   cls_loss   dfl_loss  Instances       Size\n"
          ]
        },
        {
          "output_type": "stream",
          "name": "stderr",
          "text": [
            "     76/100      2.28G      1.227      0.892      1.175         36        640: 100%|██████████| 3/3 [00:00<00:00,  5.65it/s]\n",
            "                 Class     Images  Instances      Box(P          R      mAP50  mAP50-95): 100%|██████████| 1/1 [00:00<00:00,  8.06it/s]"
          ]
        },
        {
          "output_type": "stream",
          "name": "stdout",
          "text": [
            "                   all         10         56      0.951      0.944      0.981      0.572\n"
          ]
        },
        {
          "output_type": "stream",
          "name": "stderr",
          "text": [
            "\n"
          ]
        },
        {
          "output_type": "stream",
          "name": "stdout",
          "text": [
            "\n",
            "      Epoch    GPU_mem   box_loss   cls_loss   dfl_loss  Instances       Size\n"
          ]
        },
        {
          "output_type": "stream",
          "name": "stderr",
          "text": [
            "     77/100      2.25G      1.176     0.9335      1.178         30        640: 100%|██████████| 3/3 [00:00<00:00,  6.12it/s]\n",
            "                 Class     Images  Instances      Box(P          R      mAP50  mAP50-95): 100%|██████████| 1/1 [00:00<00:00,  5.00it/s]"
          ]
        },
        {
          "output_type": "stream",
          "name": "stdout",
          "text": [
            "                   all         10         56      0.951      0.944      0.981      0.572\n"
          ]
        },
        {
          "output_type": "stream",
          "name": "stderr",
          "text": [
            "\n"
          ]
        },
        {
          "output_type": "stream",
          "name": "stdout",
          "text": [
            "\n",
            "      Epoch    GPU_mem   box_loss   cls_loss   dfl_loss  Instances       Size\n"
          ]
        },
        {
          "output_type": "stream",
          "name": "stderr",
          "text": [
            "     78/100      2.25G      1.307     0.9377      1.141         29        640: 100%|██████████| 3/3 [00:00<00:00,  5.76it/s]\n",
            "                 Class     Images  Instances      Box(P          R      mAP50  mAP50-95): 100%|██████████| 1/1 [00:00<00:00, 11.33it/s]"
          ]
        },
        {
          "output_type": "stream",
          "name": "stdout",
          "text": [
            "                   all         10         56      0.943      0.935      0.972      0.571\n"
          ]
        },
        {
          "output_type": "stream",
          "name": "stderr",
          "text": [
            "\n"
          ]
        },
        {
          "output_type": "stream",
          "name": "stdout",
          "text": [
            "\n",
            "      Epoch    GPU_mem   box_loss   cls_loss   dfl_loss  Instances       Size\n"
          ]
        },
        {
          "output_type": "stream",
          "name": "stderr",
          "text": [
            "     79/100      2.26G      1.184     0.8575      1.142         20        640: 100%|██████████| 3/3 [00:00<00:00,  4.07it/s]\n",
            "                 Class     Images  Instances      Box(P          R      mAP50  mAP50-95): 100%|██████████| 1/1 [00:00<00:00,  2.99it/s]"
          ]
        },
        {
          "output_type": "stream",
          "name": "stdout",
          "text": [
            "                   all         10         56      0.946      0.926      0.965      0.559\n"
          ]
        },
        {
          "output_type": "stream",
          "name": "stderr",
          "text": [
            "\n"
          ]
        },
        {
          "output_type": "stream",
          "name": "stdout",
          "text": [
            "\n",
            "      Epoch    GPU_mem   box_loss   cls_loss   dfl_loss  Instances       Size\n"
          ]
        },
        {
          "output_type": "stream",
          "name": "stderr",
          "text": [
            "     80/100      2.28G      1.205     0.8951      1.176         19        640: 100%|██████████| 3/3 [00:00<00:00,  5.36it/s]\n",
            "                 Class     Images  Instances      Box(P          R      mAP50  mAP50-95): 100%|██████████| 1/1 [00:00<00:00,  8.84it/s]"
          ]
        },
        {
          "output_type": "stream",
          "name": "stdout",
          "text": [
            "                   all         10         56       0.95      0.935      0.971      0.551\n"
          ]
        },
        {
          "output_type": "stream",
          "name": "stderr",
          "text": [
            "\n"
          ]
        },
        {
          "output_type": "stream",
          "name": "stdout",
          "text": [
            "\n",
            "      Epoch    GPU_mem   box_loss   cls_loss   dfl_loss  Instances       Size\n"
          ]
        },
        {
          "output_type": "stream",
          "name": "stderr",
          "text": [
            "     81/100      2.24G      1.268      0.953      1.197         60        640: 100%|██████████| 3/3 [00:00<00:00,  5.59it/s]\n",
            "                 Class     Images  Instances      Box(P          R      mAP50  mAP50-95): 100%|██████████| 1/1 [00:00<00:00,  5.87it/s]\n"
          ]
        },
        {
          "output_type": "stream",
          "name": "stdout",
          "text": [
            "                   all         10         56       0.95      0.935      0.971      0.551\n",
            "\n",
            "      Epoch    GPU_mem   box_loss   cls_loss   dfl_loss  Instances       Size\n"
          ]
        },
        {
          "output_type": "stream",
          "name": "stderr",
          "text": [
            "     82/100      2.35G       1.15     0.8482      1.142         27        640: 100%|██████████| 3/3 [00:00<00:00,  5.37it/s]\n",
            "                 Class     Images  Instances      Box(P          R      mAP50  mAP50-95): 100%|██████████| 1/1 [00:00<00:00,  8.12it/s]"
          ]
        },
        {
          "output_type": "stream",
          "name": "stdout",
          "text": [
            "                   all         10         56      0.947      0.935       0.98      0.554\n"
          ]
        },
        {
          "output_type": "stream",
          "name": "stderr",
          "text": [
            "\n"
          ]
        },
        {
          "output_type": "stream",
          "name": "stdout",
          "text": [
            "\n",
            "      Epoch    GPU_mem   box_loss   cls_loss   dfl_loss  Instances       Size\n"
          ]
        },
        {
          "output_type": "stream",
          "name": "stderr",
          "text": [
            "     83/100      2.26G      1.196     0.9151      1.157         21        640: 100%|██████████| 3/3 [00:00<00:00,  5.97it/s]\n",
            "                 Class     Images  Instances      Box(P          R      mAP50  mAP50-95): 100%|██████████| 1/1 [00:00<00:00,  5.34it/s]\n"
          ]
        },
        {
          "output_type": "stream",
          "name": "stdout",
          "text": [
            "                   all         10         56      0.958      0.944      0.985      0.562\n",
            "\n",
            "      Epoch    GPU_mem   box_loss   cls_loss   dfl_loss  Instances       Size\n"
          ]
        },
        {
          "output_type": "stream",
          "name": "stderr",
          "text": [
            "     84/100      2.28G      1.219     0.8618      1.141         46        640: 100%|██████████| 3/3 [00:00<00:00,  5.66it/s]\n",
            "                 Class     Images  Instances      Box(P          R      mAP50  mAP50-95): 100%|██████████| 1/1 [00:00<00:00, 11.25it/s]"
          ]
        },
        {
          "output_type": "stream",
          "name": "stdout",
          "text": [
            "                   all         10         56      0.961      0.944      0.988      0.571\n"
          ]
        },
        {
          "output_type": "stream",
          "name": "stderr",
          "text": [
            "\n"
          ]
        },
        {
          "output_type": "stream",
          "name": "stdout",
          "text": [
            "\n",
            "      Epoch    GPU_mem   box_loss   cls_loss   dfl_loss  Instances       Size\n"
          ]
        },
        {
          "output_type": "stream",
          "name": "stderr",
          "text": [
            "     85/100      2.24G      1.169     0.8396      1.079         41        640: 100%|██████████| 3/3 [00:00<00:00,  6.37it/s]\n",
            "                 Class     Images  Instances      Box(P          R      mAP50  mAP50-95): 100%|██████████| 1/1 [00:00<00:00,  6.22it/s]\n"
          ]
        },
        {
          "output_type": "stream",
          "name": "stdout",
          "text": [
            "                   all         10         56      0.961      0.944      0.988      0.571\n",
            "\n",
            "      Epoch    GPU_mem   box_loss   cls_loss   dfl_loss  Instances       Size\n"
          ]
        },
        {
          "output_type": "stream",
          "name": "stderr",
          "text": [
            "     86/100      2.25G      1.128     0.8349      1.117         28        640: 100%|██████████| 3/3 [00:00<00:00,  5.93it/s]\n",
            "                 Class     Images  Instances      Box(P          R      mAP50  mAP50-95): 100%|██████████| 1/1 [00:00<00:00,  7.25it/s]\n"
          ]
        },
        {
          "output_type": "stream",
          "name": "stdout",
          "text": [
            "                   all         10         56      0.968      0.944      0.987      0.587\n",
            "\n",
            "      Epoch    GPU_mem   box_loss   cls_loss   dfl_loss  Instances       Size\n"
          ]
        },
        {
          "output_type": "stream",
          "name": "stderr",
          "text": [
            "     87/100      2.26G       1.19     0.8395      1.094         20        640: 100%|██████████| 3/3 [00:00<00:00,  5.81it/s]\n",
            "                 Class     Images  Instances      Box(P          R      mAP50  mAP50-95): 100%|██████████| 1/1 [00:00<00:00,  7.97it/s]"
          ]
        },
        {
          "output_type": "stream",
          "name": "stdout",
          "text": [
            "                   all         10         56      0.971      0.944      0.987      0.613\n"
          ]
        },
        {
          "output_type": "stream",
          "name": "stderr",
          "text": [
            "\n"
          ]
        },
        {
          "output_type": "stream",
          "name": "stdout",
          "text": [
            "\n",
            "      Epoch    GPU_mem   box_loss   cls_loss   dfl_loss  Instances       Size\n"
          ]
        },
        {
          "output_type": "stream",
          "name": "stderr",
          "text": [
            "     88/100      2.28G       1.16     0.8593        1.1         32        640: 100%|██████████| 3/3 [00:00<00:00,  4.63it/s]\n",
            "                 Class     Images  Instances      Box(P          R      mAP50  mAP50-95): 100%|██████████| 1/1 [00:00<00:00,  4.19it/s]"
          ]
        },
        {
          "output_type": "stream",
          "name": "stdout",
          "text": [
            "                   all         10         56      0.973      0.944      0.988      0.618\n"
          ]
        },
        {
          "output_type": "stream",
          "name": "stderr",
          "text": [
            "\n"
          ]
        },
        {
          "output_type": "stream",
          "name": "stdout",
          "text": [
            "\n",
            "      Epoch    GPU_mem   box_loss   cls_loss   dfl_loss  Instances       Size\n"
          ]
        },
        {
          "output_type": "stream",
          "name": "stderr",
          "text": [
            "     89/100      2.24G      1.131     0.9495      1.139         18        640: 100%|██████████| 3/3 [00:00<00:00,  5.13it/s]\n",
            "                 Class     Images  Instances      Box(P          R      mAP50  mAP50-95): 100%|██████████| 1/1 [00:00<00:00,  3.52it/s]"
          ]
        },
        {
          "output_type": "stream",
          "name": "stdout",
          "text": [
            "                   all         10         56      0.973      0.944      0.988      0.618\n"
          ]
        },
        {
          "output_type": "stream",
          "name": "stderr",
          "text": [
            "\n"
          ]
        },
        {
          "output_type": "stream",
          "name": "stdout",
          "text": [
            "\n",
            "      Epoch    GPU_mem   box_loss   cls_loss   dfl_loss  Instances       Size\n"
          ]
        },
        {
          "output_type": "stream",
          "name": "stderr",
          "text": [
            "     90/100      2.37G       1.07     0.8871      1.135         11        640: 100%|██████████| 3/3 [00:00<00:00,  5.46it/s]\n",
            "                 Class     Images  Instances      Box(P          R      mAP50  mAP50-95): 100%|██████████| 1/1 [00:00<00:00,  9.87it/s]"
          ]
        },
        {
          "output_type": "stream",
          "name": "stdout",
          "text": [
            "                   all         10         56      0.968      0.944      0.988      0.604\n"
          ]
        },
        {
          "output_type": "stream",
          "name": "stderr",
          "text": [
            "\n"
          ]
        },
        {
          "output_type": "stream",
          "name": "stdout",
          "text": [
            "Closing dataloader mosaic\n",
            "\u001b[34m\u001b[1malbumentations: \u001b[0mBlur(p=0.01, blur_limit=(3, 7)), MedianBlur(p=0.01, blur_limit=(3, 7)), ToGray(p=0.01), CLAHE(p=0.01, clip_limit=(1, 4.0), tile_grid_size=(8, 8))\n",
            "\n",
            "      Epoch    GPU_mem   box_loss   cls_loss   dfl_loss  Instances       Size\n"
          ]
        },
        {
          "output_type": "stream",
          "name": "stderr",
          "text": [
            "     91/100      2.36G      1.181     0.8995      1.237         16        640: 100%|██████████| 3/3 [00:01<00:00,  1.70it/s]\n",
            "                 Class     Images  Instances      Box(P          R      mAP50  mAP50-95): 100%|██████████| 1/1 [00:01<00:00,  1.25s/it]"
          ]
        },
        {
          "output_type": "stream",
          "name": "stdout",
          "text": [
            "                   all         10         56      0.956      0.941      0.977      0.585\n"
          ]
        },
        {
          "output_type": "stream",
          "name": "stderr",
          "text": [
            "\n"
          ]
        },
        {
          "output_type": "stream",
          "name": "stdout",
          "text": [
            "\n",
            "      Epoch    GPU_mem   box_loss   cls_loss   dfl_loss  Instances       Size\n"
          ]
        },
        {
          "output_type": "stream",
          "name": "stderr",
          "text": [
            "     92/100      2.37G       1.18     0.9013      1.143         21        640: 100%|██████████| 3/3 [00:00<00:00,  6.31it/s]\n",
            "                 Class     Images  Instances      Box(P          R      mAP50  mAP50-95): 100%|██████████| 1/1 [00:00<00:00,  4.89it/s]"
          ]
        },
        {
          "output_type": "stream",
          "name": "stdout",
          "text": [
            "                   all         10         56      0.954      0.943      0.978       0.58\n"
          ]
        },
        {
          "output_type": "stream",
          "name": "stderr",
          "text": [
            "\n"
          ]
        },
        {
          "output_type": "stream",
          "name": "stdout",
          "text": [
            "\n",
            "      Epoch    GPU_mem   box_loss   cls_loss   dfl_loss  Instances       Size\n"
          ]
        },
        {
          "output_type": "stream",
          "name": "stderr",
          "text": [
            "     93/100      2.37G      1.133      0.916      1.145         21        640: 100%|██████████| 3/3 [00:00<00:00,  6.03it/s]\n",
            "                 Class     Images  Instances      Box(P          R      mAP50  mAP50-95): 100%|██████████| 1/1 [00:00<00:00, 11.17it/s]"
          ]
        },
        {
          "output_type": "stream",
          "name": "stdout",
          "text": [
            "                   all         10         56      0.954      0.943      0.978       0.58\n"
          ]
        },
        {
          "output_type": "stream",
          "name": "stderr",
          "text": [
            "\n"
          ]
        },
        {
          "output_type": "stream",
          "name": "stdout",
          "text": [
            "\n",
            "      Epoch    GPU_mem   box_loss   cls_loss   dfl_loss  Instances       Size\n"
          ]
        },
        {
          "output_type": "stream",
          "name": "stderr",
          "text": [
            "     94/100      2.37G      1.118     0.9238      1.142         16        640: 100%|██████████| 3/3 [00:00<00:00,  6.07it/s]\n",
            "                 Class     Images  Instances      Box(P          R      mAP50  mAP50-95): 100%|██████████| 1/1 [00:00<00:00,  9.24it/s]"
          ]
        },
        {
          "output_type": "stream",
          "name": "stdout",
          "text": [
            "                   all         10         56      0.952      0.945      0.979      0.557\n"
          ]
        },
        {
          "output_type": "stream",
          "name": "stderr",
          "text": [
            "\n"
          ]
        },
        {
          "output_type": "stream",
          "name": "stdout",
          "text": [
            "\n",
            "      Epoch    GPU_mem   box_loss   cls_loss   dfl_loss  Instances       Size\n"
          ]
        },
        {
          "output_type": "stream",
          "name": "stderr",
          "text": [
            "     95/100      2.34G      1.151     0.8849      1.184         18        640: 100%|██████████| 3/3 [00:00<00:00,  5.84it/s]\n",
            "                 Class     Images  Instances      Box(P          R      mAP50  mAP50-95): 100%|██████████| 1/1 [00:00<00:00, 10.73it/s]"
          ]
        },
        {
          "output_type": "stream",
          "name": "stdout",
          "text": [
            "                   all         10         56      0.951      0.954      0.979       0.55\n"
          ]
        },
        {
          "output_type": "stream",
          "name": "stderr",
          "text": [
            "\n"
          ]
        },
        {
          "output_type": "stream",
          "name": "stdout",
          "text": [
            "\n",
            "      Epoch    GPU_mem   box_loss   cls_loss   dfl_loss  Instances       Size\n"
          ]
        },
        {
          "output_type": "stream",
          "name": "stderr",
          "text": [
            "     96/100      2.38G       1.14     0.8452      1.072         21        640: 100%|██████████| 3/3 [00:00<00:00,  3.92it/s]\n",
            "                 Class     Images  Instances      Box(P          R      mAP50  mAP50-95): 100%|██████████| 1/1 [00:00<00:00,  5.31it/s]\n"
          ]
        },
        {
          "output_type": "stream",
          "name": "stdout",
          "text": [
            "                   all         10         56      0.963      0.961      0.989       0.55\n",
            "\n",
            "      Epoch    GPU_mem   box_loss   cls_loss   dfl_loss  Instances       Size\n"
          ]
        },
        {
          "output_type": "stream",
          "name": "stderr",
          "text": [
            "     97/100      2.35G      1.035     0.8326      1.073         21        640: 100%|██████████| 3/3 [00:00<00:00,  5.05it/s]\n",
            "                 Class     Images  Instances      Box(P          R      mAP50  mAP50-95): 100%|██████████| 1/1 [00:00<00:00,  8.26it/s]"
          ]
        },
        {
          "output_type": "stream",
          "name": "stdout",
          "text": [
            "                   all         10         56      0.963      0.961      0.989       0.55\n"
          ]
        },
        {
          "output_type": "stream",
          "name": "stderr",
          "text": [
            "\n"
          ]
        },
        {
          "output_type": "stream",
          "name": "stdout",
          "text": [
            "\n",
            "      Epoch    GPU_mem   box_loss   cls_loss   dfl_loss  Instances       Size\n"
          ]
        },
        {
          "output_type": "stream",
          "name": "stderr",
          "text": [
            "     98/100      2.37G      1.077     0.9194      1.184         10        640: 100%|██████████| 3/3 [00:00<00:00,  6.23it/s]\n",
            "                 Class     Images  Instances      Box(P          R      mAP50  mAP50-95): 100%|██████████| 1/1 [00:00<00:00,  4.86it/s]"
          ]
        },
        {
          "output_type": "stream",
          "name": "stdout",
          "text": [
            "                   all         10         56      0.965      0.958      0.988      0.558\n"
          ]
        },
        {
          "output_type": "stream",
          "name": "stderr",
          "text": [
            "\n"
          ]
        },
        {
          "output_type": "stream",
          "name": "stdout",
          "text": [
            "\n",
            "      Epoch    GPU_mem   box_loss   cls_loss   dfl_loss  Instances       Size\n"
          ]
        },
        {
          "output_type": "stream",
          "name": "stderr",
          "text": [
            "     99/100      2.34G      1.113     0.8874      1.186         21        640: 100%|██████████| 3/3 [00:00<00:00,  5.56it/s]\n",
            "                 Class     Images  Instances      Box(P          R      mAP50  mAP50-95): 100%|██████████| 1/1 [00:00<00:00,  6.74it/s]\n"
          ]
        },
        {
          "output_type": "stream",
          "name": "stdout",
          "text": [
            "                   all         10         56      0.964      0.954      0.988      0.567\n",
            "\n",
            "      Epoch    GPU_mem   box_loss   cls_loss   dfl_loss  Instances       Size\n"
          ]
        },
        {
          "output_type": "stream",
          "name": "stderr",
          "text": [
            "    100/100      2.35G      1.069     0.8292       1.06         21        640: 100%|██████████| 3/3 [00:00<00:00,  5.99it/s]\n",
            "                 Class     Images  Instances      Box(P          R      mAP50  mAP50-95): 100%|██████████| 1/1 [00:00<00:00,  5.15it/s]\n"
          ]
        },
        {
          "output_type": "stream",
          "name": "stdout",
          "text": [
            "                   all         10         56      0.966      0.954      0.988      0.566\n",
            "\n",
            "100 epochs completed in 0.040 hours.\n",
            "Optimizer stripped from runs/detect/train/weights/last.pt, 6.3MB\n",
            "Optimizer stripped from runs/detect/train/weights/best.pt, 6.3MB\n",
            "\n",
            "Validating runs/detect/train/weights/best.pt...\n",
            "Ultralytics YOLOv8.1.29 🚀 Python-3.10.12 torch-2.2.1+cu121 CUDA:0 (Tesla T4, 15102MiB)\n",
            "Model summary (fused): 168 layers, 3006233 parameters, 0 gradients, 8.1 GFLOPs\n"
          ]
        },
        {
          "output_type": "stream",
          "name": "stderr",
          "text": [
            "                 Class     Images  Instances      Box(P          R      mAP50  mAP50-95): 100%|██████████| 1/1 [00:00<00:00,  8.08it/s]\n"
          ]
        },
        {
          "output_type": "stream",
          "name": "stdout",
          "text": [
            "                   all         10         56      0.973      0.944      0.988      0.618\n",
            "                  Fire         10         10      0.957          1      0.995      0.643\n",
            "                Person         10         36      0.999      0.833      0.973      0.456\n",
            "                 Smoke         10         10      0.962          1      0.995      0.755\n",
            "Speed: 0.7ms preprocess, 2.0ms inference, 0.0ms loss, 2.1ms postprocess per image\n",
            "Results saved to \u001b[1mruns/detect/train\u001b[0m\n"
          ]
        }
      ]
    },
    {
      "cell_type": "code",
      "source": [
        "pip install ultralytics"
      ],
      "metadata": {
        "colab": {
          "base_uri": "https://localhost:8080/"
        },
        "id": "Ntqts9gFQjXQ",
        "outputId": "a27f1137-5f04-496b-ff0b-32161f6fb7fa"
      },
      "execution_count": 2,
      "outputs": [
        {
          "output_type": "stream",
          "name": "stdout",
          "text": [
            "Collecting ultralytics\n",
            "  Downloading ultralytics-8.1.29-py3-none-any.whl (721 kB)\n",
            "\u001b[?25l     \u001b[90m━━━━━━━━━━━━━━━━━━━━━━━━━━━━━━━━━━━━━━━━\u001b[0m \u001b[32m0.0/721.3 kB\u001b[0m \u001b[31m?\u001b[0m eta \u001b[36m-:--:--\u001b[0m\r\u001b[2K     \u001b[91m━━━━━━━━━━━━━━━━━━━\u001b[0m\u001b[91m╸\u001b[0m\u001b[90m━━━━━━━━━━━━━━━━━━━━\u001b[0m \u001b[32m358.4/721.3 kB\u001b[0m \u001b[31m10.7 MB/s\u001b[0m eta \u001b[36m0:00:01\u001b[0m\r\u001b[2K     \u001b[90m━━━━━━━━━━━━━━━━━━━━━━━━━━━━━━━━━━━━━━━━\u001b[0m \u001b[32m721.3/721.3 kB\u001b[0m \u001b[31m10.8 MB/s\u001b[0m eta \u001b[36m0:00:00\u001b[0m\n",
            "\u001b[?25hRequirement already satisfied: matplotlib>=3.3.0 in /usr/local/lib/python3.10/dist-packages (from ultralytics) (3.7.1)\n",
            "Requirement already satisfied: opencv-python>=4.6.0 in /usr/local/lib/python3.10/dist-packages (from ultralytics) (4.8.0.76)\n",
            "Requirement already satisfied: pillow>=7.1.2 in /usr/local/lib/python3.10/dist-packages (from ultralytics) (9.4.0)\n",
            "Requirement already satisfied: pyyaml>=5.3.1 in /usr/local/lib/python3.10/dist-packages (from ultralytics) (6.0.1)\n",
            "Requirement already satisfied: requests>=2.23.0 in /usr/local/lib/python3.10/dist-packages (from ultralytics) (2.31.0)\n",
            "Requirement already satisfied: scipy>=1.4.1 in /usr/local/lib/python3.10/dist-packages (from ultralytics) (1.11.4)\n",
            "Requirement already satisfied: torch>=1.8.0 in /usr/local/lib/python3.10/dist-packages (from ultralytics) (2.2.1+cu121)\n",
            "Requirement already satisfied: torchvision>=0.9.0 in /usr/local/lib/python3.10/dist-packages (from ultralytics) (0.17.1+cu121)\n",
            "Requirement already satisfied: tqdm>=4.64.0 in /usr/local/lib/python3.10/dist-packages (from ultralytics) (4.66.2)\n",
            "Requirement already satisfied: psutil in /usr/local/lib/python3.10/dist-packages (from ultralytics) (5.9.5)\n",
            "Requirement already satisfied: py-cpuinfo in /usr/local/lib/python3.10/dist-packages (from ultralytics) (9.0.0)\n",
            "Collecting thop>=0.1.1 (from ultralytics)\n",
            "  Downloading thop-0.1.1.post2209072238-py3-none-any.whl (15 kB)\n",
            "Requirement already satisfied: pandas>=1.1.4 in /usr/local/lib/python3.10/dist-packages (from ultralytics) (1.5.3)\n",
            "Requirement already satisfied: seaborn>=0.11.0 in /usr/local/lib/python3.10/dist-packages (from ultralytics) (0.13.1)\n",
            "Requirement already satisfied: contourpy>=1.0.1 in /usr/local/lib/python3.10/dist-packages (from matplotlib>=3.3.0->ultralytics) (1.2.0)\n",
            "Requirement already satisfied: cycler>=0.10 in /usr/local/lib/python3.10/dist-packages (from matplotlib>=3.3.0->ultralytics) (0.10.0)\n",
            "Requirement already satisfied: fonttools>=4.22.0 in /usr/local/lib/python3.10/dist-packages (from matplotlib>=3.3.0->ultralytics) (4.49.0)\n",
            "Requirement already satisfied: kiwisolver>=1.0.1 in /usr/local/lib/python3.10/dist-packages (from matplotlib>=3.3.0->ultralytics) (1.4.5)\n",
            "Requirement already satisfied: numpy>=1.20 in /usr/local/lib/python3.10/dist-packages (from matplotlib>=3.3.0->ultralytics) (1.25.2)\n",
            "Requirement already satisfied: packaging>=20.0 in /usr/local/lib/python3.10/dist-packages (from matplotlib>=3.3.0->ultralytics) (24.0)\n",
            "Requirement already satisfied: pyparsing>=2.3.1 in /usr/local/lib/python3.10/dist-packages (from matplotlib>=3.3.0->ultralytics) (3.1.2)\n",
            "Requirement already satisfied: python-dateutil>=2.7 in /usr/local/lib/python3.10/dist-packages (from matplotlib>=3.3.0->ultralytics) (2.8.2)\n",
            "Requirement already satisfied: pytz>=2020.1 in /usr/local/lib/python3.10/dist-packages (from pandas>=1.1.4->ultralytics) (2023.4)\n",
            "Requirement already satisfied: charset-normalizer<4,>=2 in /usr/local/lib/python3.10/dist-packages (from requests>=2.23.0->ultralytics) (3.3.2)\n",
            "Requirement already satisfied: idna<4,>=2.5 in /usr/local/lib/python3.10/dist-packages (from requests>=2.23.0->ultralytics) (2.10)\n",
            "Requirement already satisfied: urllib3<3,>=1.21.1 in /usr/local/lib/python3.10/dist-packages (from requests>=2.23.0->ultralytics) (2.0.7)\n",
            "Requirement already satisfied: certifi>=2017.4.17 in /usr/local/lib/python3.10/dist-packages (from requests>=2.23.0->ultralytics) (2023.7.22)\n",
            "Requirement already satisfied: filelock in /usr/local/lib/python3.10/dist-packages (from torch>=1.8.0->ultralytics) (3.13.1)\n",
            "Requirement already satisfied: typing-extensions>=4.8.0 in /usr/local/lib/python3.10/dist-packages (from torch>=1.8.0->ultralytics) (4.10.0)\n",
            "Requirement already satisfied: sympy in /usr/local/lib/python3.10/dist-packages (from torch>=1.8.0->ultralytics) (1.12)\n",
            "Requirement already satisfied: networkx in /usr/local/lib/python3.10/dist-packages (from torch>=1.8.0->ultralytics) (3.2.1)\n",
            "Requirement already satisfied: jinja2 in /usr/local/lib/python3.10/dist-packages (from torch>=1.8.0->ultralytics) (3.1.3)\n",
            "Requirement already satisfied: fsspec in /usr/local/lib/python3.10/dist-packages (from torch>=1.8.0->ultralytics) (2023.6.0)\n",
            "Collecting nvidia-cuda-nvrtc-cu12==12.1.105 (from torch>=1.8.0->ultralytics)\n",
            "  Downloading nvidia_cuda_nvrtc_cu12-12.1.105-py3-none-manylinux1_x86_64.whl (23.7 MB)\n",
            "\u001b[2K     \u001b[90m━━━━━━━━━━━━━━━━━━━━━━━━━━━━━━━━━━━━━━━━\u001b[0m \u001b[32m23.7/23.7 MB\u001b[0m \u001b[31m60.0 MB/s\u001b[0m eta \u001b[36m0:00:00\u001b[0m\n",
            "\u001b[?25hCollecting nvidia-cuda-runtime-cu12==12.1.105 (from torch>=1.8.0->ultralytics)\n",
            "  Downloading nvidia_cuda_runtime_cu12-12.1.105-py3-none-manylinux1_x86_64.whl (823 kB)\n",
            "\u001b[2K     \u001b[90m━━━━━━━━━━━━━━━━━━━━━━━━━━━━━━━━━━━━━━━━\u001b[0m \u001b[32m823.6/823.6 kB\u001b[0m \u001b[31m73.1 MB/s\u001b[0m eta \u001b[36m0:00:00\u001b[0m\n",
            "\u001b[?25hCollecting nvidia-cuda-cupti-cu12==12.1.105 (from torch>=1.8.0->ultralytics)\n",
            "  Downloading nvidia_cuda_cupti_cu12-12.1.105-py3-none-manylinux1_x86_64.whl (14.1 MB)\n",
            "\u001b[2K     \u001b[90m━━━━━━━━━━━━━━━━━━━━━━━━━━━━━━━━━━━━━━━━\u001b[0m \u001b[32m14.1/14.1 MB\u001b[0m \u001b[31m92.8 MB/s\u001b[0m eta \u001b[36m0:00:00\u001b[0m\n",
            "\u001b[?25hCollecting nvidia-cudnn-cu12==8.9.2.26 (from torch>=1.8.0->ultralytics)\n",
            "  Downloading nvidia_cudnn_cu12-8.9.2.26-py3-none-manylinux1_x86_64.whl (731.7 MB)\n",
            "\u001b[2K     \u001b[90m━━━━━━━━━━━━━━━━━━━━━━━━━━━━━━━━━━━━━━━━\u001b[0m \u001b[32m731.7/731.7 MB\u001b[0m \u001b[31m1.3 MB/s\u001b[0m eta \u001b[36m0:00:00\u001b[0m\n",
            "\u001b[?25hCollecting nvidia-cublas-cu12==12.1.3.1 (from torch>=1.8.0->ultralytics)\n",
            "  Downloading nvidia_cublas_cu12-12.1.3.1-py3-none-manylinux1_x86_64.whl (410.6 MB)\n",
            "\u001b[2K     \u001b[90m━━━━━━━━━━━━━━━━━━━━━━━━━━━━━━━━━━━━━━━━\u001b[0m \u001b[32m410.6/410.6 MB\u001b[0m \u001b[31m2.6 MB/s\u001b[0m eta \u001b[36m0:00:00\u001b[0m\n",
            "\u001b[?25hCollecting nvidia-cufft-cu12==11.0.2.54 (from torch>=1.8.0->ultralytics)\n",
            "  Downloading nvidia_cufft_cu12-11.0.2.54-py3-none-manylinux1_x86_64.whl (121.6 MB)\n",
            "\u001b[2K     \u001b[90m━━━━━━━━━━━━━━━━━━━━━━━━━━━━━━━━━━━━━━━━\u001b[0m \u001b[32m121.6/121.6 MB\u001b[0m \u001b[31m8.1 MB/s\u001b[0m eta \u001b[36m0:00:00\u001b[0m\n",
            "\u001b[?25hCollecting nvidia-curand-cu12==10.3.2.106 (from torch>=1.8.0->ultralytics)\n",
            "  Downloading nvidia_curand_cu12-10.3.2.106-py3-none-manylinux1_x86_64.whl (56.5 MB)\n",
            "\u001b[2K     \u001b[90m━━━━━━━━━━━━━━━━━━━━━━━━━━━━━━━━━━━━━━━━\u001b[0m \u001b[32m56.5/56.5 MB\u001b[0m \u001b[31m14.9 MB/s\u001b[0m eta \u001b[36m0:00:00\u001b[0m\n",
            "\u001b[?25hCollecting nvidia-cusolver-cu12==11.4.5.107 (from torch>=1.8.0->ultralytics)\n",
            "  Downloading nvidia_cusolver_cu12-11.4.5.107-py3-none-manylinux1_x86_64.whl (124.2 MB)\n",
            "\u001b[2K     \u001b[90m━━━━━━━━━━━━━━━━━━━━━━━━━━━━━━━━━━━━━━━━\u001b[0m \u001b[32m124.2/124.2 MB\u001b[0m \u001b[31m8.3 MB/s\u001b[0m eta \u001b[36m0:00:00\u001b[0m\n",
            "\u001b[?25hCollecting nvidia-cusparse-cu12==12.1.0.106 (from torch>=1.8.0->ultralytics)\n",
            "  Downloading nvidia_cusparse_cu12-12.1.0.106-py3-none-manylinux1_x86_64.whl (196.0 MB)\n",
            "\u001b[2K     \u001b[90m━━━━━━━━━━━━━━━━━━━━━━━━━━━━━━━━━━━━━━━━\u001b[0m \u001b[32m196.0/196.0 MB\u001b[0m \u001b[31m2.3 MB/s\u001b[0m eta \u001b[36m0:00:00\u001b[0m\n",
            "\u001b[?25hCollecting nvidia-nccl-cu12==2.19.3 (from torch>=1.8.0->ultralytics)\n",
            "  Downloading nvidia_nccl_cu12-2.19.3-py3-none-manylinux1_x86_64.whl (166.0 MB)\n",
            "\u001b[2K     \u001b[90m━━━━━━━━━━━━━━━━━━━━━━━━━━━━━━━━━━━━━━━━\u001b[0m \u001b[32m166.0/166.0 MB\u001b[0m \u001b[31m7.2 MB/s\u001b[0m eta \u001b[36m0:00:00\u001b[0m\n",
            "\u001b[?25hCollecting nvidia-nvtx-cu12==12.1.105 (from torch>=1.8.0->ultralytics)\n",
            "  Downloading nvidia_nvtx_cu12-12.1.105-py3-none-manylinux1_x86_64.whl (99 kB)\n",
            "\u001b[2K     \u001b[90m━━━━━━━━━━━━━━━━━━━━━━━━━━━━━━━━━━━━━━━━\u001b[0m \u001b[32m99.1/99.1 kB\u001b[0m \u001b[31m15.1 MB/s\u001b[0m eta \u001b[36m0:00:00\u001b[0m\n",
            "\u001b[?25hRequirement already satisfied: triton==2.2.0 in /usr/local/lib/python3.10/dist-packages (from torch>=1.8.0->ultralytics) (2.2.0)\n",
            "Collecting nvidia-nvjitlink-cu12 (from nvidia-cusolver-cu12==11.4.5.107->torch>=1.8.0->ultralytics)\n",
            "  Downloading nvidia_nvjitlink_cu12-12.4.99-py3-none-manylinux2014_x86_64.whl (21.1 MB)\n",
            "\u001b[2K     \u001b[90m━━━━━━━━━━━━━━━━━━━━━━━━━━━━━━━━━━━━━━━━\u001b[0m \u001b[32m21.1/21.1 MB\u001b[0m \u001b[31m61.9 MB/s\u001b[0m eta \u001b[36m0:00:00\u001b[0m\n",
            "\u001b[?25hRequirement already satisfied: six in /usr/local/lib/python3.10/dist-packages (from cycler>=0.10->matplotlib>=3.3.0->ultralytics) (1.16.0)\n",
            "Requirement already satisfied: MarkupSafe>=2.0 in /usr/local/lib/python3.10/dist-packages (from jinja2->torch>=1.8.0->ultralytics) (2.1.5)\n",
            "Requirement already satisfied: mpmath>=0.19 in /usr/local/lib/python3.10/dist-packages (from sympy->torch>=1.8.0->ultralytics) (1.3.0)\n",
            "Installing collected packages: nvidia-nvtx-cu12, nvidia-nvjitlink-cu12, nvidia-nccl-cu12, nvidia-curand-cu12, nvidia-cufft-cu12, nvidia-cuda-runtime-cu12, nvidia-cuda-nvrtc-cu12, nvidia-cuda-cupti-cu12, nvidia-cublas-cu12, nvidia-cusparse-cu12, nvidia-cudnn-cu12, nvidia-cusolver-cu12, thop, ultralytics\n",
            "Successfully installed nvidia-cublas-cu12-12.1.3.1 nvidia-cuda-cupti-cu12-12.1.105 nvidia-cuda-nvrtc-cu12-12.1.105 nvidia-cuda-runtime-cu12-12.1.105 nvidia-cudnn-cu12-8.9.2.26 nvidia-cufft-cu12-11.0.2.54 nvidia-curand-cu12-10.3.2.106 nvidia-cusolver-cu12-11.4.5.107 nvidia-cusparse-cu12-12.1.0.106 nvidia-nccl-cu12-2.19.3 nvidia-nvjitlink-cu12-12.4.99 nvidia-nvtx-cu12-12.1.105 thop-0.1.1.post2209072238 ultralytics-8.1.29\n"
          ]
        }
      ]
    },
    {
      "cell_type": "code",
      "source": [],
      "metadata": {
        "id": "05yBd4kNQidy"
      },
      "execution_count": null,
      "outputs": []
    },
    {
      "cell_type": "code",
      "source": [
        "from ultralytics import YOLO\n",
        "import PIL\n",
        "\n",
        "# Load a model\n",
        "custom = YOLO('/content/runs/detect/train/weights/best.pt')  # load a custom model\n",
        "\n",
        "# Predict with the model\n",
        "result = custom(save=True, conf=0.5, source=\"/content/Structure Fire Millers Falls 11_8_22 (1).mp4\")"
      ],
      "metadata": {
        "colab": {
          "base_uri": "https://localhost:8080/"
        },
        "id": "ivmHYOgjINqf",
        "outputId": "5d2c0bbf-7230-4daa-e9fe-b770ecf66942"
      },
      "execution_count": null,
      "outputs": [
        {
          "output_type": "stream",
          "name": "stdout",
          "text": [
            "\n",
            "\n",
            "WARNING ⚠️ inference results will accumulate in RAM unless `stream=True` is passed, causing potential out-of-memory\n",
            "errors for large sources or long-running streams and videos. See https://docs.ultralytics.com/modes/predict/ for help.\n",
            "\n",
            "Example:\n",
            "    results = model(source=..., stream=True)  # generator of Results objects\n",
            "    for r in results:\n",
            "        boxes = r.boxes  # Boxes object for bbox outputs\n",
            "        masks = r.masks  # Masks object for segment masks outputs\n",
            "        probs = r.probs  # Class probabilities for classification outputs\n",
            "\n",
            "video 1/1 (frame 1/11993) /content/Structure Fire Millers Falls 11_8_22 (1).mp4: 384x640 (no detections), 108.0ms\n",
            "video 1/1 (frame 2/11993) /content/Structure Fire Millers Falls 11_8_22 (1).mp4: 384x640 (no detections), 9.9ms\n",
            "video 1/1 (frame 3/11993) /content/Structure Fire Millers Falls 11_8_22 (1).mp4: 384x640 (no detections), 8.3ms\n",
            "video 1/1 (frame 4/11993) /content/Structure Fire Millers Falls 11_8_22 (1).mp4: 384x640 (no detections), 8.5ms\n",
            "video 1/1 (frame 5/11993) /content/Structure Fire Millers Falls 11_8_22 (1).mp4: 384x640 (no detections), 8.5ms\n",
            "video 1/1 (frame 6/11993) /content/Structure Fire Millers Falls 11_8_22 (1).mp4: 384x640 (no detections), 8.2ms\n",
            "video 1/1 (frame 7/11993) /content/Structure Fire Millers Falls 11_8_22 (1).mp4: 384x640 (no detections), 8.2ms\n",
            "video 1/1 (frame 8/11993) /content/Structure Fire Millers Falls 11_8_22 (1).mp4: 384x640 (no detections), 10.1ms\n",
            "video 1/1 (frame 9/11993) /content/Structure Fire Millers Falls 11_8_22 (1).mp4: 384x640 (no detections), 8.6ms\n",
            "video 1/1 (frame 10/11993) /content/Structure Fire Millers Falls 11_8_22 (1).mp4: 384x640 (no detections), 10.1ms\n",
            "video 1/1 (frame 11/11993) /content/Structure Fire Millers Falls 11_8_22 (1).mp4: 384x640 (no detections), 8.1ms\n",
            "video 1/1 (frame 12/11993) /content/Structure Fire Millers Falls 11_8_22 (1).mp4: 384x640 (no detections), 9.0ms\n",
            "video 1/1 (frame 13/11993) /content/Structure Fire Millers Falls 11_8_22 (1).mp4: 384x640 (no detections), 8.3ms\n",
            "video 1/1 (frame 14/11993) /content/Structure Fire Millers Falls 11_8_22 (1).mp4: 384x640 (no detections), 8.5ms\n",
            "video 1/1 (frame 15/11993) /content/Structure Fire Millers Falls 11_8_22 (1).mp4: 384x640 (no detections), 8.4ms\n",
            "video 1/1 (frame 16/11993) /content/Structure Fire Millers Falls 11_8_22 (1).mp4: 384x640 (no detections), 8.5ms\n",
            "video 1/1 (frame 17/11993) /content/Structure Fire Millers Falls 11_8_22 (1).mp4: 384x640 (no detections), 8.3ms\n",
            "video 1/1 (frame 18/11993) /content/Structure Fire Millers Falls 11_8_22 (1).mp4: 384x640 (no detections), 10.2ms\n",
            "video 1/1 (frame 19/11993) /content/Structure Fire Millers Falls 11_8_22 (1).mp4: 384x640 (no detections), 8.4ms\n",
            "video 1/1 (frame 20/11993) /content/Structure Fire Millers Falls 11_8_22 (1).mp4: 384x640 (no detections), 8.3ms\n",
            "video 1/1 (frame 21/11993) /content/Structure Fire Millers Falls 11_8_22 (1).mp4: 384x640 (no detections), 8.4ms\n",
            "video 1/1 (frame 22/11993) /content/Structure Fire Millers Falls 11_8_22 (1).mp4: 384x640 (no detections), 13.8ms\n",
            "video 1/1 (frame 23/11993) /content/Structure Fire Millers Falls 11_8_22 (1).mp4: 384x640 (no detections), 8.6ms\n",
            "video 1/1 (frame 24/11993) /content/Structure Fire Millers Falls 11_8_22 (1).mp4: 384x640 (no detections), 8.3ms\n",
            "video 1/1 (frame 25/11993) /content/Structure Fire Millers Falls 11_8_22 (1).mp4: 384x640 (no detections), 8.2ms\n",
            "video 1/1 (frame 26/11993) /content/Structure Fire Millers Falls 11_8_22 (1).mp4: 384x640 (no detections), 8.8ms\n",
            "video 1/1 (frame 27/11993) /content/Structure Fire Millers Falls 11_8_22 (1).mp4: 384x640 (no detections), 8.1ms\n",
            "video 1/1 (frame 28/11993) /content/Structure Fire Millers Falls 11_8_22 (1).mp4: 384x640 (no detections), 8.1ms\n",
            "video 1/1 (frame 29/11993) /content/Structure Fire Millers Falls 11_8_22 (1).mp4: 384x640 (no detections), 8.3ms\n",
            "video 1/1 (frame 30/11993) /content/Structure Fire Millers Falls 11_8_22 (1).mp4: 384x640 (no detections), 8.3ms\n",
            "video 1/1 (frame 31/11993) /content/Structure Fire Millers Falls 11_8_22 (1).mp4: 384x640 (no detections), 8.1ms\n",
            "video 1/1 (frame 32/11993) /content/Structure Fire Millers Falls 11_8_22 (1).mp4: 384x640 (no detections), 8.1ms\n",
            "video 1/1 (frame 33/11993) /content/Structure Fire Millers Falls 11_8_22 (1).mp4: 384x640 (no detections), 7.9ms\n",
            "video 1/1 (frame 34/11993) /content/Structure Fire Millers Falls 11_8_22 (1).mp4: 384x640 (no detections), 8.4ms\n",
            "video 1/1 (frame 35/11993) /content/Structure Fire Millers Falls 11_8_22 (1).mp4: 384x640 (no detections), 10.1ms\n",
            "video 1/1 (frame 36/11993) /content/Structure Fire Millers Falls 11_8_22 (1).mp4: 384x640 (no detections), 7.9ms\n",
            "video 1/1 (frame 37/11993) /content/Structure Fire Millers Falls 11_8_22 (1).mp4: 384x640 (no detections), 7.9ms\n",
            "video 1/1 (frame 38/11993) /content/Structure Fire Millers Falls 11_8_22 (1).mp4: 384x640 (no detections), 8.3ms\n",
            "video 1/1 (frame 39/11993) /content/Structure Fire Millers Falls 11_8_22 (1).mp4: 384x640 (no detections), 9.1ms\n",
            "video 1/1 (frame 40/11993) /content/Structure Fire Millers Falls 11_8_22 (1).mp4: 384x640 (no detections), 8.5ms\n",
            "video 1/1 (frame 41/11993) /content/Structure Fire Millers Falls 11_8_22 (1).mp4: 384x640 (no detections), 8.9ms\n",
            "video 1/1 (frame 42/11993) /content/Structure Fire Millers Falls 11_8_22 (1).mp4: 384x640 (no detections), 8.3ms\n",
            "video 1/1 (frame 43/11993) /content/Structure Fire Millers Falls 11_8_22 (1).mp4: 384x640 (no detections), 8.5ms\n",
            "video 1/1 (frame 44/11993) /content/Structure Fire Millers Falls 11_8_22 (1).mp4: 384x640 (no detections), 8.0ms\n",
            "video 1/1 (frame 45/11993) /content/Structure Fire Millers Falls 11_8_22 (1).mp4: 384x640 (no detections), 8.1ms\n",
            "video 1/1 (frame 46/11993) /content/Structure Fire Millers Falls 11_8_22 (1).mp4: 384x640 (no detections), 8.4ms\n",
            "video 1/1 (frame 47/11993) /content/Structure Fire Millers Falls 11_8_22 (1).mp4: 384x640 (no detections), 7.9ms\n",
            "video 1/1 (frame 48/11993) /content/Structure Fire Millers Falls 11_8_22 (1).mp4: 384x640 (no detections), 8.4ms\n",
            "video 1/1 (frame 49/11993) /content/Structure Fire Millers Falls 11_8_22 (1).mp4: 384x640 (no detections), 8.5ms\n",
            "video 1/1 (frame 50/11993) /content/Structure Fire Millers Falls 11_8_22 (1).mp4: 384x640 (no detections), 8.1ms\n",
            "video 1/1 (frame 51/11993) /content/Structure Fire Millers Falls 11_8_22 (1).mp4: 384x640 (no detections), 8.0ms\n",
            "video 1/1 (frame 52/11993) /content/Structure Fire Millers Falls 11_8_22 (1).mp4: 384x640 (no detections), 9.2ms\n",
            "video 1/1 (frame 53/11993) /content/Structure Fire Millers Falls 11_8_22 (1).mp4: 384x640 (no detections), 10.0ms\n",
            "video 1/1 (frame 54/11993) /content/Structure Fire Millers Falls 11_8_22 (1).mp4: 384x640 (no detections), 9.4ms\n",
            "video 1/1 (frame 55/11993) /content/Structure Fire Millers Falls 11_8_22 (1).mp4: 384x640 (no detections), 10.4ms\n",
            "video 1/1 (frame 56/11993) /content/Structure Fire Millers Falls 11_8_22 (1).mp4: 384x640 (no detections), 22.1ms\n",
            "video 1/1 (frame 57/11993) /content/Structure Fire Millers Falls 11_8_22 (1).mp4: 384x640 (no detections), 20.5ms\n",
            "video 1/1 (frame 58/11993) /content/Structure Fire Millers Falls 11_8_22 (1).mp4: 384x640 (no detections), 13.0ms\n",
            "video 1/1 (frame 59/11993) /content/Structure Fire Millers Falls 11_8_22 (1).mp4: 384x640 (no detections), 12.6ms\n",
            "video 1/1 (frame 60/11993) /content/Structure Fire Millers Falls 11_8_22 (1).mp4: 384x640 (no detections), 12.8ms\n",
            "video 1/1 (frame 61/11993) /content/Structure Fire Millers Falls 11_8_22 (1).mp4: 384x640 (no detections), 11.1ms\n",
            "video 1/1 (frame 62/11993) /content/Structure Fire Millers Falls 11_8_22 (1).mp4: 384x640 (no detections), 11.2ms\n",
            "video 1/1 (frame 63/11993) /content/Structure Fire Millers Falls 11_8_22 (1).mp4: 384x640 (no detections), 14.4ms\n",
            "video 1/1 (frame 64/11993) /content/Structure Fire Millers Falls 11_8_22 (1).mp4: 384x640 (no detections), 11.3ms\n",
            "video 1/1 (frame 65/11993) /content/Structure Fire Millers Falls 11_8_22 (1).mp4: 384x640 (no detections), 10.6ms\n",
            "video 1/1 (frame 66/11993) /content/Structure Fire Millers Falls 11_8_22 (1).mp4: 384x640 (no detections), 10.7ms\n",
            "video 1/1 (frame 67/11993) /content/Structure Fire Millers Falls 11_8_22 (1).mp4: 384x640 (no detections), 10.8ms\n",
            "video 1/1 (frame 68/11993) /content/Structure Fire Millers Falls 11_8_22 (1).mp4: 384x640 (no detections), 10.7ms\n",
            "video 1/1 (frame 69/11993) /content/Structure Fire Millers Falls 11_8_22 (1).mp4: 384x640 (no detections), 10.7ms\n",
            "video 1/1 (frame 70/11993) /content/Structure Fire Millers Falls 11_8_22 (1).mp4: 384x640 (no detections), 11.7ms\n",
            "video 1/1 (frame 71/11993) /content/Structure Fire Millers Falls 11_8_22 (1).mp4: 384x640 (no detections), 11.4ms\n",
            "video 1/1 (frame 72/11993) /content/Structure Fire Millers Falls 11_8_22 (1).mp4: 384x640 (no detections), 10.6ms\n",
            "video 1/1 (frame 73/11993) /content/Structure Fire Millers Falls 11_8_22 (1).mp4: 384x640 (no detections), 10.9ms\n",
            "video 1/1 (frame 74/11993) /content/Structure Fire Millers Falls 11_8_22 (1).mp4: 384x640 (no detections), 11.9ms\n",
            "video 1/1 (frame 75/11993) /content/Structure Fire Millers Falls 11_8_22 (1).mp4: 384x640 (no detections), 11.0ms\n",
            "video 1/1 (frame 76/11993) /content/Structure Fire Millers Falls 11_8_22 (1).mp4: 384x640 (no detections), 11.4ms\n",
            "video 1/1 (frame 77/11993) /content/Structure Fire Millers Falls 11_8_22 (1).mp4: 384x640 (no detections), 15.1ms\n",
            "video 1/1 (frame 78/11993) /content/Structure Fire Millers Falls 11_8_22 (1).mp4: 384x640 (no detections), 11.7ms\n",
            "video 1/1 (frame 79/11993) /content/Structure Fire Millers Falls 11_8_22 (1).mp4: 384x640 (no detections), 13.2ms\n",
            "video 1/1 (frame 80/11993) /content/Structure Fire Millers Falls 11_8_22 (1).mp4: 384x640 (no detections), 10.7ms\n",
            "video 1/1 (frame 81/11993) /content/Structure Fire Millers Falls 11_8_22 (1).mp4: 384x640 (no detections), 11.3ms\n",
            "video 1/1 (frame 82/11993) /content/Structure Fire Millers Falls 11_8_22 (1).mp4: 384x640 (no detections), 16.2ms\n",
            "video 1/1 (frame 83/11993) /content/Structure Fire Millers Falls 11_8_22 (1).mp4: 384x640 (no detections), 18.5ms\n",
            "video 1/1 (frame 84/11993) /content/Structure Fire Millers Falls 11_8_22 (1).mp4: 384x640 (no detections), 13.8ms\n",
            "video 1/1 (frame 85/11993) /content/Structure Fire Millers Falls 11_8_22 (1).mp4: 384x640 (no detections), 14.8ms\n",
            "video 1/1 (frame 86/11993) /content/Structure Fire Millers Falls 11_8_22 (1).mp4: 384x640 (no detections), 15.1ms\n",
            "video 1/1 (frame 87/11993) /content/Structure Fire Millers Falls 11_8_22 (1).mp4: 384x640 (no detections), 15.8ms\n",
            "video 1/1 (frame 88/11993) /content/Structure Fire Millers Falls 11_8_22 (1).mp4: 384x640 (no detections), 14.5ms\n",
            "video 1/1 (frame 89/11993) /content/Structure Fire Millers Falls 11_8_22 (1).mp4: 384x640 (no detections), 14.3ms\n",
            "video 1/1 (frame 90/11993) /content/Structure Fire Millers Falls 11_8_22 (1).mp4: 384x640 (no detections), 15.7ms\n",
            "video 1/1 (frame 91/11993) /content/Structure Fire Millers Falls 11_8_22 (1).mp4: 384x640 (no detections), 11.6ms\n",
            "video 1/1 (frame 92/11993) /content/Structure Fire Millers Falls 11_8_22 (1).mp4: 384x640 (no detections), 14.8ms\n",
            "video 1/1 (frame 93/11993) /content/Structure Fire Millers Falls 11_8_22 (1).mp4: 384x640 (no detections), 14.2ms\n",
            "video 1/1 (frame 94/11993) /content/Structure Fire Millers Falls 11_8_22 (1).mp4: 384x640 (no detections), 18.2ms\n",
            "video 1/1 (frame 95/11993) /content/Structure Fire Millers Falls 11_8_22 (1).mp4: 384x640 (no detections), 15.5ms\n",
            "video 1/1 (frame 96/11993) /content/Structure Fire Millers Falls 11_8_22 (1).mp4: 384x640 (no detections), 13.3ms\n",
            "video 1/1 (frame 97/11993) /content/Structure Fire Millers Falls 11_8_22 (1).mp4: 384x640 (no detections), 11.9ms\n",
            "video 1/1 (frame 98/11993) /content/Structure Fire Millers Falls 11_8_22 (1).mp4: 384x640 (no detections), 15.0ms\n",
            "video 1/1 (frame 99/11993) /content/Structure Fire Millers Falls 11_8_22 (1).mp4: 384x640 (no detections), 17.2ms\n",
            "video 1/1 (frame 100/11993) /content/Structure Fire Millers Falls 11_8_22 (1).mp4: 384x640 (no detections), 17.6ms\n",
            "video 1/1 (frame 101/11993) /content/Structure Fire Millers Falls 11_8_22 (1).mp4: 384x640 (no detections), 17.7ms\n",
            "video 1/1 (frame 102/11993) /content/Structure Fire Millers Falls 11_8_22 (1).mp4: 384x640 (no detections), 15.7ms\n",
            "video 1/1 (frame 103/11993) /content/Structure Fire Millers Falls 11_8_22 (1).mp4: 384x640 (no detections), 17.7ms\n",
            "video 1/1 (frame 104/11993) /content/Structure Fire Millers Falls 11_8_22 (1).mp4: 384x640 (no detections), 16.0ms\n",
            "video 1/1 (frame 105/11993) /content/Structure Fire Millers Falls 11_8_22 (1).mp4: 384x640 (no detections), 16.9ms\n",
            "video 1/1 (frame 106/11993) /content/Structure Fire Millers Falls 11_8_22 (1).mp4: 384x640 (no detections), 15.0ms\n",
            "video 1/1 (frame 107/11993) /content/Structure Fire Millers Falls 11_8_22 (1).mp4: 384x640 (no detections), 8.5ms\n",
            "video 1/1 (frame 108/11993) /content/Structure Fire Millers Falls 11_8_22 (1).mp4: 384x640 (no detections), 9.3ms\n",
            "video 1/1 (frame 109/11993) /content/Structure Fire Millers Falls 11_8_22 (1).mp4: 384x640 (no detections), 8.4ms\n",
            "video 1/1 (frame 110/11993) /content/Structure Fire Millers Falls 11_8_22 (1).mp4: 384x640 (no detections), 8.5ms\n",
            "video 1/1 (frame 111/11993) /content/Structure Fire Millers Falls 11_8_22 (1).mp4: 384x640 (no detections), 9.4ms\n",
            "video 1/1 (frame 112/11993) /content/Structure Fire Millers Falls 11_8_22 (1).mp4: 384x640 (no detections), 8.7ms\n",
            "video 1/1 (frame 113/11993) /content/Structure Fire Millers Falls 11_8_22 (1).mp4: 384x640 (no detections), 10.2ms\n",
            "video 1/1 (frame 114/11993) /content/Structure Fire Millers Falls 11_8_22 (1).mp4: 384x640 (no detections), 10.1ms\n",
            "video 1/1 (frame 115/11993) /content/Structure Fire Millers Falls 11_8_22 (1).mp4: 384x640 (no detections), 10.2ms\n",
            "video 1/1 (frame 116/11993) /content/Structure Fire Millers Falls 11_8_22 (1).mp4: 384x640 (no detections), 10.0ms\n",
            "video 1/1 (frame 117/11993) /content/Structure Fire Millers Falls 11_8_22 (1).mp4: 384x640 (no detections), 9.8ms\n",
            "video 1/1 (frame 118/11993) /content/Structure Fire Millers Falls 11_8_22 (1).mp4: 384x640 (no detections), 10.6ms\n",
            "video 1/1 (frame 119/11993) /content/Structure Fire Millers Falls 11_8_22 (1).mp4: 384x640 (no detections), 8.7ms\n",
            "video 1/1 (frame 120/11993) /content/Structure Fire Millers Falls 11_8_22 (1).mp4: 384x640 (no detections), 11.5ms\n",
            "video 1/1 (frame 121/11993) /content/Structure Fire Millers Falls 11_8_22 (1).mp4: 384x640 (no detections), 12.9ms\n",
            "video 1/1 (frame 122/11993) /content/Structure Fire Millers Falls 11_8_22 (1).mp4: 384x640 (no detections), 8.4ms\n",
            "video 1/1 (frame 123/11993) /content/Structure Fire Millers Falls 11_8_22 (1).mp4: 384x640 (no detections), 10.8ms\n",
            "video 1/1 (frame 124/11993) /content/Structure Fire Millers Falls 11_8_22 (1).mp4: 384x640 (no detections), 9.5ms\n",
            "video 1/1 (frame 125/11993) /content/Structure Fire Millers Falls 11_8_22 (1).mp4: 384x640 (no detections), 9.8ms\n",
            "video 1/1 (frame 126/11993) /content/Structure Fire Millers Falls 11_8_22 (1).mp4: 384x640 (no detections), 9.0ms\n",
            "video 1/1 (frame 127/11993) /content/Structure Fire Millers Falls 11_8_22 (1).mp4: 384x640 (no detections), 11.1ms\n",
            "video 1/1 (frame 128/11993) /content/Structure Fire Millers Falls 11_8_22 (1).mp4: 384x640 (no detections), 8.3ms\n",
            "video 1/1 (frame 129/11993) /content/Structure Fire Millers Falls 11_8_22 (1).mp4: 384x640 (no detections), 12.5ms\n",
            "video 1/1 (frame 130/11993) /content/Structure Fire Millers Falls 11_8_22 (1).mp4: 384x640 (no detections), 8.4ms\n",
            "video 1/1 (frame 131/11993) /content/Structure Fire Millers Falls 11_8_22 (1).mp4: 384x640 (no detections), 10.8ms\n",
            "video 1/1 (frame 132/11993) /content/Structure Fire Millers Falls 11_8_22 (1).mp4: 384x640 (no detections), 8.8ms\n",
            "video 1/1 (frame 133/11993) /content/Structure Fire Millers Falls 11_8_22 (1).mp4: 384x640 (no detections), 10.7ms\n",
            "video 1/1 (frame 134/11993) /content/Structure Fire Millers Falls 11_8_22 (1).mp4: 384x640 (no detections), 8.5ms\n",
            "video 1/1 (frame 135/11993) /content/Structure Fire Millers Falls 11_8_22 (1).mp4: 384x640 (no detections), 8.7ms\n",
            "video 1/1 (frame 136/11993) /content/Structure Fire Millers Falls 11_8_22 (1).mp4: 384x640 (no detections), 9.8ms\n",
            "video 1/1 (frame 137/11993) /content/Structure Fire Millers Falls 11_8_22 (1).mp4: 384x640 (no detections), 9.5ms\n",
            "video 1/1 (frame 138/11993) /content/Structure Fire Millers Falls 11_8_22 (1).mp4: 384x640 (no detections), 10.7ms\n",
            "video 1/1 (frame 139/11993) /content/Structure Fire Millers Falls 11_8_22 (1).mp4: 384x640 (no detections), 12.0ms\n",
            "video 1/1 (frame 140/11993) /content/Structure Fire Millers Falls 11_8_22 (1).mp4: 384x640 (no detections), 8.6ms\n",
            "video 1/1 (frame 141/11993) /content/Structure Fire Millers Falls 11_8_22 (1).mp4: 384x640 (no detections), 8.4ms\n",
            "video 1/1 (frame 142/11993) /content/Structure Fire Millers Falls 11_8_22 (1).mp4: 384x640 (no detections), 10.4ms\n",
            "video 1/1 (frame 143/11993) /content/Structure Fire Millers Falls 11_8_22 (1).mp4: 384x640 (no detections), 9.4ms\n",
            "video 1/1 (frame 144/11993) /content/Structure Fire Millers Falls 11_8_22 (1).mp4: 384x640 (no detections), 10.3ms\n",
            "video 1/1 (frame 145/11993) /content/Structure Fire Millers Falls 11_8_22 (1).mp4: 384x640 (no detections), 8.5ms\n",
            "video 1/1 (frame 146/11993) /content/Structure Fire Millers Falls 11_8_22 (1).mp4: 384x640 (no detections), 9.1ms\n",
            "video 1/1 (frame 147/11993) /content/Structure Fire Millers Falls 11_8_22 (1).mp4: 384x640 (no detections), 9.8ms\n",
            "video 1/1 (frame 148/11993) /content/Structure Fire Millers Falls 11_8_22 (1).mp4: 384x640 (no detections), 9.6ms\n",
            "video 1/1 (frame 149/11993) /content/Structure Fire Millers Falls 11_8_22 (1).mp4: 384x640 (no detections), 9.0ms\n",
            "video 1/1 (frame 150/11993) /content/Structure Fire Millers Falls 11_8_22 (1).mp4: 384x640 (no detections), 9.7ms\n",
            "video 1/1 (frame 151/11993) /content/Structure Fire Millers Falls 11_8_22 (1).mp4: 384x640 (no detections), 9.0ms\n",
            "video 1/1 (frame 152/11993) /content/Structure Fire Millers Falls 11_8_22 (1).mp4: 384x640 (no detections), 10.1ms\n",
            "video 1/1 (frame 153/11993) /content/Structure Fire Millers Falls 11_8_22 (1).mp4: 384x640 (no detections), 8.6ms\n",
            "video 1/1 (frame 154/11993) /content/Structure Fire Millers Falls 11_8_22 (1).mp4: 384x640 (no detections), 9.2ms\n",
            "video 1/1 (frame 155/11993) /content/Structure Fire Millers Falls 11_8_22 (1).mp4: 384x640 (no detections), 8.6ms\n",
            "video 1/1 (frame 156/11993) /content/Structure Fire Millers Falls 11_8_22 (1).mp4: 384x640 (no detections), 9.9ms\n",
            "video 1/1 (frame 157/11993) /content/Structure Fire Millers Falls 11_8_22 (1).mp4: 384x640 (no detections), 8.5ms\n",
            "video 1/1 (frame 158/11993) /content/Structure Fire Millers Falls 11_8_22 (1).mp4: 384x640 (no detections), 8.7ms\n",
            "video 1/1 (frame 159/11993) /content/Structure Fire Millers Falls 11_8_22 (1).mp4: 384x640 (no detections), 8.2ms\n",
            "video 1/1 (frame 160/11993) /content/Structure Fire Millers Falls 11_8_22 (1).mp4: 384x640 (no detections), 8.5ms\n",
            "video 1/1 (frame 161/11993) /content/Structure Fire Millers Falls 11_8_22 (1).mp4: 384x640 (no detections), 12.3ms\n",
            "video 1/1 (frame 162/11993) /content/Structure Fire Millers Falls 11_8_22 (1).mp4: 384x640 (no detections), 8.8ms\n",
            "video 1/1 (frame 163/11993) /content/Structure Fire Millers Falls 11_8_22 (1).mp4: 384x640 (no detections), 8.7ms\n",
            "video 1/1 (frame 164/11993) /content/Structure Fire Millers Falls 11_8_22 (1).mp4: 384x640 (no detections), 8.5ms\n",
            "video 1/1 (frame 165/11993) /content/Structure Fire Millers Falls 11_8_22 (1).mp4: 384x640 (no detections), 9.2ms\n",
            "video 1/1 (frame 166/11993) /content/Structure Fire Millers Falls 11_8_22 (1).mp4: 384x640 (no detections), 8.3ms\n",
            "video 1/1 (frame 167/11993) /content/Structure Fire Millers Falls 11_8_22 (1).mp4: 384x640 (no detections), 9.1ms\n",
            "video 1/1 (frame 168/11993) /content/Structure Fire Millers Falls 11_8_22 (1).mp4: 384x640 (no detections), 8.4ms\n",
            "video 1/1 (frame 169/11993) /content/Structure Fire Millers Falls 11_8_22 (1).mp4: 384x640 (no detections), 8.8ms\n",
            "video 1/1 (frame 170/11993) /content/Structure Fire Millers Falls 11_8_22 (1).mp4: 384x640 (no detections), 9.5ms\n",
            "video 1/1 (frame 171/11993) /content/Structure Fire Millers Falls 11_8_22 (1).mp4: 384x640 (no detections), 8.3ms\n",
            "video 1/1 (frame 172/11993) /content/Structure Fire Millers Falls 11_8_22 (1).mp4: 384x640 (no detections), 14.6ms\n",
            "video 1/1 (frame 173/11993) /content/Structure Fire Millers Falls 11_8_22 (1).mp4: 384x640 (no detections), 8.2ms\n",
            "video 1/1 (frame 174/11993) /content/Structure Fire Millers Falls 11_8_22 (1).mp4: 384x640 (no detections), 8.3ms\n",
            "video 1/1 (frame 175/11993) /content/Structure Fire Millers Falls 11_8_22 (1).mp4: 384x640 (no detections), 8.4ms\n",
            "video 1/1 (frame 176/11993) /content/Structure Fire Millers Falls 11_8_22 (1).mp4: 384x640 (no detections), 11.1ms\n",
            "video 1/1 (frame 177/11993) /content/Structure Fire Millers Falls 11_8_22 (1).mp4: 384x640 (no detections), 9.8ms\n",
            "video 1/1 (frame 178/11993) /content/Structure Fire Millers Falls 11_8_22 (1).mp4: 384x640 (no detections), 9.5ms\n",
            "video 1/1 (frame 179/11993) /content/Structure Fire Millers Falls 11_8_22 (1).mp4: 384x640 (no detections), 9.2ms\n",
            "video 1/1 (frame 180/11993) /content/Structure Fire Millers Falls 11_8_22 (1).mp4: 384x640 (no detections), 9.5ms\n",
            "video 1/1 (frame 181/11993) /content/Structure Fire Millers Falls 11_8_22 (1).mp4: 384x640 (no detections), 8.2ms\n",
            "video 1/1 (frame 182/11993) /content/Structure Fire Millers Falls 11_8_22 (1).mp4: 384x640 (no detections), 10.4ms\n",
            "video 1/1 (frame 183/11993) /content/Structure Fire Millers Falls 11_8_22 (1).mp4: 384x640 (no detections), 8.4ms\n",
            "video 1/1 (frame 184/11993) /content/Structure Fire Millers Falls 11_8_22 (1).mp4: 384x640 (no detections), 14.9ms\n",
            "video 1/1 (frame 185/11993) /content/Structure Fire Millers Falls 11_8_22 (1).mp4: 384x640 (no detections), 8.3ms\n",
            "video 1/1 (frame 186/11993) /content/Structure Fire Millers Falls 11_8_22 (1).mp4: 384x640 (no detections), 8.5ms\n",
            "video 1/1 (frame 187/11993) /content/Structure Fire Millers Falls 11_8_22 (1).mp4: 384x640 (no detections), 9.1ms\n",
            "video 1/1 (frame 188/11993) /content/Structure Fire Millers Falls 11_8_22 (1).mp4: 384x640 (no detections), 9.8ms\n",
            "video 1/1 (frame 189/11993) /content/Structure Fire Millers Falls 11_8_22 (1).mp4: 384x640 (no detections), 9.9ms\n",
            "video 1/1 (frame 190/11993) /content/Structure Fire Millers Falls 11_8_22 (1).mp4: 384x640 (no detections), 8.9ms\n",
            "video 1/1 (frame 191/11993) /content/Structure Fire Millers Falls 11_8_22 (1).mp4: 384x640 (no detections), 8.8ms\n",
            "video 1/1 (frame 192/11993) /content/Structure Fire Millers Falls 11_8_22 (1).mp4: 384x640 (no detections), 8.5ms\n",
            "video 1/1 (frame 193/11993) /content/Structure Fire Millers Falls 11_8_22 (1).mp4: 384x640 (no detections), 8.8ms\n",
            "video 1/1 (frame 194/11993) /content/Structure Fire Millers Falls 11_8_22 (1).mp4: 384x640 (no detections), 10.1ms\n",
            "video 1/1 (frame 195/11993) /content/Structure Fire Millers Falls 11_8_22 (1).mp4: 384x640 (no detections), 8.4ms\n",
            "video 1/1 (frame 196/11993) /content/Structure Fire Millers Falls 11_8_22 (1).mp4: 384x640 (no detections), 10.3ms\n",
            "video 1/1 (frame 197/11993) /content/Structure Fire Millers Falls 11_8_22 (1).mp4: 384x640 (no detections), 8.2ms\n",
            "video 1/1 (frame 198/11993) /content/Structure Fire Millers Falls 11_8_22 (1).mp4: 384x640 (no detections), 8.0ms\n",
            "video 1/1 (frame 199/11993) /content/Structure Fire Millers Falls 11_8_22 (1).mp4: 384x640 (no detections), 12.5ms\n",
            "video 1/1 (frame 200/11993) /content/Structure Fire Millers Falls 11_8_22 (1).mp4: 384x640 (no detections), 10.1ms\n",
            "video 1/1 (frame 201/11993) /content/Structure Fire Millers Falls 11_8_22 (1).mp4: 384x640 (no detections), 8.4ms\n",
            "video 1/1 (frame 202/11993) /content/Structure Fire Millers Falls 11_8_22 (1).mp4: 384x640 (no detections), 8.8ms\n",
            "video 1/1 (frame 203/11993) /content/Structure Fire Millers Falls 11_8_22 (1).mp4: 384x640 (no detections), 9.2ms\n",
            "video 1/1 (frame 204/11993) /content/Structure Fire Millers Falls 11_8_22 (1).mp4: 384x640 (no detections), 10.6ms\n",
            "video 1/1 (frame 205/11993) /content/Structure Fire Millers Falls 11_8_22 (1).mp4: 384x640 (no detections), 15.9ms\n",
            "video 1/1 (frame 206/11993) /content/Structure Fire Millers Falls 11_8_22 (1).mp4: 384x640 (no detections), 9.9ms\n",
            "video 1/1 (frame 207/11993) /content/Structure Fire Millers Falls 11_8_22 (1).mp4: 384x640 (no detections), 10.2ms\n",
            "video 1/1 (frame 208/11993) /content/Structure Fire Millers Falls 11_8_22 (1).mp4: 384x640 (no detections), 8.4ms\n",
            "video 1/1 (frame 209/11993) /content/Structure Fire Millers Falls 11_8_22 (1).mp4: 384x640 (no detections), 10.3ms\n",
            "video 1/1 (frame 210/11993) /content/Structure Fire Millers Falls 11_8_22 (1).mp4: 384x640 (no detections), 8.3ms\n",
            "video 1/1 (frame 211/11993) /content/Structure Fire Millers Falls 11_8_22 (1).mp4: 384x640 (no detections), 10.9ms\n",
            "video 1/1 (frame 212/11993) /content/Structure Fire Millers Falls 11_8_22 (1).mp4: 384x640 (no detections), 8.8ms\n",
            "video 1/1 (frame 213/11993) /content/Structure Fire Millers Falls 11_8_22 (1).mp4: 384x640 (no detections), 9.1ms\n",
            "video 1/1 (frame 214/11993) /content/Structure Fire Millers Falls 11_8_22 (1).mp4: 384x640 (no detections), 9.0ms\n",
            "video 1/1 (frame 215/11993) /content/Structure Fire Millers Falls 11_8_22 (1).mp4: 384x640 (no detections), 12.5ms\n",
            "video 1/1 (frame 216/11993) /content/Structure Fire Millers Falls 11_8_22 (1).mp4: 384x640 (no detections), 8.6ms\n",
            "video 1/1 (frame 217/11993) /content/Structure Fire Millers Falls 11_8_22 (1).mp4: 384x640 (no detections), 8.6ms\n",
            "video 1/1 (frame 218/11993) /content/Structure Fire Millers Falls 11_8_22 (1).mp4: 384x640 (no detections), 8.8ms\n",
            "video 1/1 (frame 219/11993) /content/Structure Fire Millers Falls 11_8_22 (1).mp4: 384x640 (no detections), 9.5ms\n",
            "video 1/1 (frame 220/11993) /content/Structure Fire Millers Falls 11_8_22 (1).mp4: 384x640 (no detections), 8.7ms\n",
            "video 1/1 (frame 221/11993) /content/Structure Fire Millers Falls 11_8_22 (1).mp4: 384x640 (no detections), 8.3ms\n",
            "video 1/1 (frame 222/11993) /content/Structure Fire Millers Falls 11_8_22 (1).mp4: 384x640 (no detections), 8.4ms\n",
            "video 1/1 (frame 223/11993) /content/Structure Fire Millers Falls 11_8_22 (1).mp4: 384x640 (no detections), 8.2ms\n",
            "video 1/1 (frame 224/11993) /content/Structure Fire Millers Falls 11_8_22 (1).mp4: 384x640 (no detections), 8.1ms\n",
            "video 1/1 (frame 225/11993) /content/Structure Fire Millers Falls 11_8_22 (1).mp4: 384x640 (no detections), 8.3ms\n",
            "video 1/1 (frame 226/11993) /content/Structure Fire Millers Falls 11_8_22 (1).mp4: 384x640 (no detections), 9.9ms\n",
            "video 1/1 (frame 227/11993) /content/Structure Fire Millers Falls 11_8_22 (1).mp4: 384x640 (no detections), 8.1ms\n",
            "video 1/1 (frame 228/11993) /content/Structure Fire Millers Falls 11_8_22 (1).mp4: 384x640 (no detections), 8.6ms\n",
            "video 1/1 (frame 229/11993) /content/Structure Fire Millers Falls 11_8_22 (1).mp4: 384x640 (no detections), 9.5ms\n",
            "video 1/1 (frame 230/11993) /content/Structure Fire Millers Falls 11_8_22 (1).mp4: 384x640 (no detections), 8.9ms\n",
            "video 1/1 (frame 231/11993) /content/Structure Fire Millers Falls 11_8_22 (1).mp4: 384x640 (no detections), 8.7ms\n",
            "video 1/1 (frame 232/11993) /content/Structure Fire Millers Falls 11_8_22 (1).mp4: 384x640 (no detections), 9.1ms\n",
            "video 1/1 (frame 233/11993) /content/Structure Fire Millers Falls 11_8_22 (1).mp4: 384x640 (no detections), 8.8ms\n",
            "video 1/1 (frame 234/11993) /content/Structure Fire Millers Falls 11_8_22 (1).mp4: 384x640 (no detections), 9.2ms\n",
            "video 1/1 (frame 235/11993) /content/Structure Fire Millers Falls 11_8_22 (1).mp4: 384x640 (no detections), 8.8ms\n",
            "video 1/1 (frame 236/11993) /content/Structure Fire Millers Falls 11_8_22 (1).mp4: 384x640 (no detections), 8.4ms\n",
            "video 1/1 (frame 237/11993) /content/Structure Fire Millers Falls 11_8_22 (1).mp4: 384x640 (no detections), 8.6ms\n",
            "video 1/1 (frame 238/11993) /content/Structure Fire Millers Falls 11_8_22 (1).mp4: 384x640 (no detections), 17.2ms\n",
            "video 1/1 (frame 239/11993) /content/Structure Fire Millers Falls 11_8_22 (1).mp4: 384x640 (no detections), 8.2ms\n",
            "video 1/1 (frame 240/11993) /content/Structure Fire Millers Falls 11_8_22 (1).mp4: 384x640 (no detections), 12.2ms\n",
            "video 1/1 (frame 241/11993) /content/Structure Fire Millers Falls 11_8_22 (1).mp4: 384x640 (no detections), 9.7ms\n",
            "video 1/1 (frame 242/11993) /content/Structure Fire Millers Falls 11_8_22 (1).mp4: 384x640 (no detections), 10.6ms\n",
            "video 1/1 (frame 243/11993) /content/Structure Fire Millers Falls 11_8_22 (1).mp4: 384x640 (no detections), 10.6ms\n",
            "video 1/1 (frame 244/11993) /content/Structure Fire Millers Falls 11_8_22 (1).mp4: 384x640 (no detections), 8.4ms\n",
            "video 1/1 (frame 245/11993) /content/Structure Fire Millers Falls 11_8_22 (1).mp4: 384x640 (no detections), 8.9ms\n",
            "video 1/1 (frame 246/11993) /content/Structure Fire Millers Falls 11_8_22 (1).mp4: 384x640 (no detections), 8.0ms\n",
            "video 1/1 (frame 247/11993) /content/Structure Fire Millers Falls 11_8_22 (1).mp4: 384x640 (no detections), 10.5ms\n",
            "video 1/1 (frame 248/11993) /content/Structure Fire Millers Falls 11_8_22 (1).mp4: 384x640 (no detections), 11.5ms\n",
            "video 1/1 (frame 249/11993) /content/Structure Fire Millers Falls 11_8_22 (1).mp4: 384x640 (no detections), 10.3ms\n",
            "video 1/1 (frame 250/11993) /content/Structure Fire Millers Falls 11_8_22 (1).mp4: 384x640 (no detections), 9.9ms\n",
            "video 1/1 (frame 251/11993) /content/Structure Fire Millers Falls 11_8_22 (1).mp4: 384x640 (no detections), 8.5ms\n",
            "video 1/1 (frame 252/11993) /content/Structure Fire Millers Falls 11_8_22 (1).mp4: 384x640 (no detections), 8.4ms\n",
            "video 1/1 (frame 253/11993) /content/Structure Fire Millers Falls 11_8_22 (1).mp4: 384x640 (no detections), 10.9ms\n",
            "video 1/1 (frame 254/11993) /content/Structure Fire Millers Falls 11_8_22 (1).mp4: 384x640 (no detections), 8.5ms\n",
            "video 1/1 (frame 255/11993) /content/Structure Fire Millers Falls 11_8_22 (1).mp4: 384x640 (no detections), 10.7ms\n",
            "video 1/1 (frame 256/11993) /content/Structure Fire Millers Falls 11_8_22 (1).mp4: 384x640 (no detections), 8.7ms\n",
            "video 1/1 (frame 257/11993) /content/Structure Fire Millers Falls 11_8_22 (1).mp4: 384x640 (no detections), 9.4ms\n",
            "video 1/1 (frame 258/11993) /content/Structure Fire Millers Falls 11_8_22 (1).mp4: 384x640 (no detections), 10.3ms\n",
            "video 1/1 (frame 259/11993) /content/Structure Fire Millers Falls 11_8_22 (1).mp4: 384x640 (no detections), 8.9ms\n",
            "video 1/1 (frame 260/11993) /content/Structure Fire Millers Falls 11_8_22 (1).mp4: 384x640 (no detections), 9.4ms\n",
            "video 1/1 (frame 261/11993) /content/Structure Fire Millers Falls 11_8_22 (1).mp4: 384x640 (no detections), 8.6ms\n",
            "video 1/1 (frame 262/11993) /content/Structure Fire Millers Falls 11_8_22 (1).mp4: 384x640 (no detections), 9.7ms\n",
            "video 1/1 (frame 263/11993) /content/Structure Fire Millers Falls 11_8_22 (1).mp4: 384x640 (no detections), 8.6ms\n",
            "video 1/1 (frame 264/11993) /content/Structure Fire Millers Falls 11_8_22 (1).mp4: 384x640 (no detections), 9.2ms\n",
            "video 1/1 (frame 265/11993) /content/Structure Fire Millers Falls 11_8_22 (1).mp4: 384x640 (no detections), 9.1ms\n",
            "video 1/1 (frame 266/11993) /content/Structure Fire Millers Falls 11_8_22 (1).mp4: 384x640 (no detections), 8.8ms\n",
            "video 1/1 (frame 267/11993) /content/Structure Fire Millers Falls 11_8_22 (1).mp4: 384x640 (no detections), 11.4ms\n",
            "video 1/1 (frame 268/11993) /content/Structure Fire Millers Falls 11_8_22 (1).mp4: 384x640 (no detections), 8.8ms\n",
            "video 1/1 (frame 269/11993) /content/Structure Fire Millers Falls 11_8_22 (1).mp4: 384x640 (no detections), 8.2ms\n",
            "video 1/1 (frame 270/11993) /content/Structure Fire Millers Falls 11_8_22 (1).mp4: 384x640 (no detections), 14.6ms\n",
            "video 1/1 (frame 271/11993) /content/Structure Fire Millers Falls 11_8_22 (1).mp4: 384x640 (no detections), 10.4ms\n",
            "video 1/1 (frame 272/11993) /content/Structure Fire Millers Falls 11_8_22 (1).mp4: 384x640 (no detections), 10.8ms\n",
            "video 1/1 (frame 273/11993) /content/Structure Fire Millers Falls 11_8_22 (1).mp4: 384x640 (no detections), 8.3ms\n",
            "video 1/1 (frame 274/11993) /content/Structure Fire Millers Falls 11_8_22 (1).mp4: 384x640 (no detections), 9.5ms\n",
            "video 1/1 (frame 275/11993) /content/Structure Fire Millers Falls 11_8_22 (1).mp4: 384x640 (no detections), 8.8ms\n",
            "video 1/1 (frame 276/11993) /content/Structure Fire Millers Falls 11_8_22 (1).mp4: 384x640 (no detections), 9.4ms\n",
            "video 1/1 (frame 277/11993) /content/Structure Fire Millers Falls 11_8_22 (1).mp4: 384x640 (no detections), 8.3ms\n",
            "video 1/1 (frame 278/11993) /content/Structure Fire Millers Falls 11_8_22 (1).mp4: 384x640 (no detections), 11.2ms\n",
            "video 1/1 (frame 279/11993) /content/Structure Fire Millers Falls 11_8_22 (1).mp4: 384x640 (no detections), 9.0ms\n",
            "video 1/1 (frame 280/11993) /content/Structure Fire Millers Falls 11_8_22 (1).mp4: 384x640 (no detections), 10.1ms\n",
            "video 1/1 (frame 281/11993) /content/Structure Fire Millers Falls 11_8_22 (1).mp4: 384x640 (no detections), 8.9ms\n",
            "video 1/1 (frame 282/11993) /content/Structure Fire Millers Falls 11_8_22 (1).mp4: 384x640 (no detections), 8.4ms\n",
            "video 1/1 (frame 283/11993) /content/Structure Fire Millers Falls 11_8_22 (1).mp4: 384x640 (no detections), 8.5ms\n",
            "video 1/1 (frame 284/11993) /content/Structure Fire Millers Falls 11_8_22 (1).mp4: 384x640 (no detections), 9.0ms\n",
            "video 1/1 (frame 285/11993) /content/Structure Fire Millers Falls 11_8_22 (1).mp4: 384x640 (no detections), 8.7ms\n",
            "video 1/1 (frame 286/11993) /content/Structure Fire Millers Falls 11_8_22 (1).mp4: 384x640 (no detections), 9.2ms\n",
            "video 1/1 (frame 287/11993) /content/Structure Fire Millers Falls 11_8_22 (1).mp4: 384x640 (no detections), 8.4ms\n",
            "video 1/1 (frame 288/11993) /content/Structure Fire Millers Falls 11_8_22 (1).mp4: 384x640 (no detections), 8.9ms\n",
            "video 1/1 (frame 289/11993) /content/Structure Fire Millers Falls 11_8_22 (1).mp4: 384x640 (no detections), 8.1ms\n",
            "video 1/1 (frame 290/11993) /content/Structure Fire Millers Falls 11_8_22 (1).mp4: 384x640 (no detections), 8.1ms\n",
            "video 1/1 (frame 291/11993) /content/Structure Fire Millers Falls 11_8_22 (1).mp4: 384x640 (no detections), 10.6ms\n",
            "video 1/1 (frame 292/11993) /content/Structure Fire Millers Falls 11_8_22 (1).mp4: 384x640 (no detections), 8.2ms\n",
            "video 1/1 (frame 293/11993) /content/Structure Fire Millers Falls 11_8_22 (1).mp4: 384x640 (no detections), 9.5ms\n",
            "video 1/1 (frame 294/11993) /content/Structure Fire Millers Falls 11_8_22 (1).mp4: 384x640 (no detections), 8.3ms\n",
            "video 1/1 (frame 295/11993) /content/Structure Fire Millers Falls 11_8_22 (1).mp4: 384x640 (no detections), 9.0ms\n",
            "video 1/1 (frame 296/11993) /content/Structure Fire Millers Falls 11_8_22 (1).mp4: 384x640 (no detections), 8.7ms\n",
            "video 1/1 (frame 297/11993) /content/Structure Fire Millers Falls 11_8_22 (1).mp4: 384x640 (no detections), 11.8ms\n",
            "video 1/1 (frame 298/11993) /content/Structure Fire Millers Falls 11_8_22 (1).mp4: 384x640 (no detections), 8.6ms\n",
            "video 1/1 (frame 299/11993) /content/Structure Fire Millers Falls 11_8_22 (1).mp4: 384x640 (no detections), 8.7ms\n",
            "video 1/1 (frame 300/11993) /content/Structure Fire Millers Falls 11_8_22 (1).mp4: 384x640 (no detections), 8.3ms\n",
            "video 1/1 (frame 301/11993) /content/Structure Fire Millers Falls 11_8_22 (1).mp4: 384x640 (no detections), 11.3ms\n",
            "video 1/1 (frame 302/11993) /content/Structure Fire Millers Falls 11_8_22 (1).mp4: 384x640 (no detections), 8.3ms\n",
            "video 1/1 (frame 303/11993) /content/Structure Fire Millers Falls 11_8_22 (1).mp4: 384x640 (no detections), 10.8ms\n",
            "video 1/1 (frame 304/11993) /content/Structure Fire Millers Falls 11_8_22 (1).mp4: 384x640 (no detections), 32.4ms\n",
            "video 1/1 (frame 305/11993) /content/Structure Fire Millers Falls 11_8_22 (1).mp4: 384x640 (no detections), 23.0ms\n",
            "video 1/1 (frame 306/11993) /content/Structure Fire Millers Falls 11_8_22 (1).mp4: 384x640 (no detections), 15.8ms\n",
            "video 1/1 (frame 307/11993) /content/Structure Fire Millers Falls 11_8_22 (1).mp4: 384x640 (no detections), 8.9ms\n",
            "video 1/1 (frame 308/11993) /content/Structure Fire Millers Falls 11_8_22 (1).mp4: 384x640 (no detections), 8.4ms\n",
            "video 1/1 (frame 309/11993) /content/Structure Fire Millers Falls 11_8_22 (1).mp4: 384x640 (no detections), 8.5ms\n",
            "video 1/1 (frame 310/11993) /content/Structure Fire Millers Falls 11_8_22 (1).mp4: 384x640 (no detections), 9.0ms\n",
            "video 1/1 (frame 311/11993) /content/Structure Fire Millers Falls 11_8_22 (1).mp4: 384x640 (no detections), 8.6ms\n",
            "video 1/1 (frame 312/11993) /content/Structure Fire Millers Falls 11_8_22 (1).mp4: 384x640 (no detections), 8.3ms\n",
            "video 1/1 (frame 313/11993) /content/Structure Fire Millers Falls 11_8_22 (1).mp4: 384x640 (no detections), 8.3ms\n",
            "video 1/1 (frame 314/11993) /content/Structure Fire Millers Falls 11_8_22 (1).mp4: 384x640 (no detections), 8.0ms\n",
            "video 1/1 (frame 315/11993) /content/Structure Fire Millers Falls 11_8_22 (1).mp4: 384x640 (no detections), 8.2ms\n",
            "video 1/1 (frame 316/11993) /content/Structure Fire Millers Falls 11_8_22 (1).mp4: 384x640 (no detections), 9.9ms\n",
            "video 1/1 (frame 317/11993) /content/Structure Fire Millers Falls 11_8_22 (1).mp4: 384x640 (no detections), 8.8ms\n",
            "video 1/1 (frame 318/11993) /content/Structure Fire Millers Falls 11_8_22 (1).mp4: 384x640 (no detections), 8.3ms\n",
            "video 1/1 (frame 319/11993) /content/Structure Fire Millers Falls 11_8_22 (1).mp4: 384x640 (no detections), 10.7ms\n",
            "video 1/1 (frame 320/11993) /content/Structure Fire Millers Falls 11_8_22 (1).mp4: 384x640 (no detections), 8.5ms\n",
            "video 1/1 (frame 321/11993) /content/Structure Fire Millers Falls 11_8_22 (1).mp4: 384x640 (no detections), 8.6ms\n",
            "video 1/1 (frame 322/11993) /content/Structure Fire Millers Falls 11_8_22 (1).mp4: 384x640 (no detections), 8.9ms\n",
            "video 1/1 (frame 323/11993) /content/Structure Fire Millers Falls 11_8_22 (1).mp4: 384x640 (no detections), 10.6ms\n",
            "video 1/1 (frame 324/11993) /content/Structure Fire Millers Falls 11_8_22 (1).mp4: 384x640 (no detections), 9.0ms\n",
            "video 1/1 (frame 325/11993) /content/Structure Fire Millers Falls 11_8_22 (1).mp4: 384x640 (no detections), 9.0ms\n",
            "video 1/1 (frame 326/11993) /content/Structure Fire Millers Falls 11_8_22 (1).mp4: 384x640 (no detections), 8.1ms\n",
            "video 1/1 (frame 327/11993) /content/Structure Fire Millers Falls 11_8_22 (1).mp4: 384x640 (no detections), 9.8ms\n",
            "video 1/1 (frame 328/11993) /content/Structure Fire Millers Falls 11_8_22 (1).mp4: 384x640 (no detections), 8.9ms\n",
            "video 1/1 (frame 329/11993) /content/Structure Fire Millers Falls 11_8_22 (1).mp4: 384x640 (no detections), 9.4ms\n",
            "video 1/1 (frame 330/11993) /content/Structure Fire Millers Falls 11_8_22 (1).mp4: 384x640 (no detections), 9.3ms\n",
            "video 1/1 (frame 331/11993) /content/Structure Fire Millers Falls 11_8_22 (1).mp4: 384x640 (no detections), 8.6ms\n",
            "video 1/1 (frame 332/11993) /content/Structure Fire Millers Falls 11_8_22 (1).mp4: 384x640 (no detections), 9.7ms\n",
            "video 1/1 (frame 333/11993) /content/Structure Fire Millers Falls 11_8_22 (1).mp4: 384x640 (no detections), 8.8ms\n",
            "video 1/1 (frame 334/11993) /content/Structure Fire Millers Falls 11_8_22 (1).mp4: 384x640 (no detections), 8.9ms\n",
            "video 1/1 (frame 335/11993) /content/Structure Fire Millers Falls 11_8_22 (1).mp4: 384x640 (no detections), 8.4ms\n",
            "video 1/1 (frame 336/11993) /content/Structure Fire Millers Falls 11_8_22 (1).mp4: 384x640 (no detections), 8.2ms\n",
            "video 1/1 (frame 337/11993) /content/Structure Fire Millers Falls 11_8_22 (1).mp4: 384x640 (no detections), 9.1ms\n",
            "video 1/1 (frame 338/11993) /content/Structure Fire Millers Falls 11_8_22 (1).mp4: 384x640 (no detections), 8.6ms\n",
            "video 1/1 (frame 339/11993) /content/Structure Fire Millers Falls 11_8_22 (1).mp4: 384x640 (no detections), 8.7ms\n",
            "video 1/1 (frame 340/11993) /content/Structure Fire Millers Falls 11_8_22 (1).mp4: 384x640 (no detections), 10.6ms\n",
            "video 1/1 (frame 341/11993) /content/Structure Fire Millers Falls 11_8_22 (1).mp4: 384x640 (no detections), 10.3ms\n",
            "video 1/1 (frame 342/11993) /content/Structure Fire Millers Falls 11_8_22 (1).mp4: 384x640 (no detections), 9.3ms\n",
            "video 1/1 (frame 343/11993) /content/Structure Fire Millers Falls 11_8_22 (1).mp4: 384x640 (no detections), 8.5ms\n",
            "video 1/1 (frame 344/11993) /content/Structure Fire Millers Falls 11_8_22 (1).mp4: 384x640 (no detections), 9.2ms\n",
            "video 1/1 (frame 345/11993) /content/Structure Fire Millers Falls 11_8_22 (1).mp4: 384x640 (no detections), 9.9ms\n",
            "video 1/1 (frame 346/11993) /content/Structure Fire Millers Falls 11_8_22 (1).mp4: 384x640 (no detections), 9.3ms\n",
            "video 1/1 (frame 347/11993) /content/Structure Fire Millers Falls 11_8_22 (1).mp4: 384x640 (no detections), 10.8ms\n",
            "video 1/1 (frame 348/11993) /content/Structure Fire Millers Falls 11_8_22 (1).mp4: 384x640 (no detections), 8.7ms\n",
            "video 1/1 (frame 349/11993) /content/Structure Fire Millers Falls 11_8_22 (1).mp4: 384x640 (no detections), 10.7ms\n",
            "video 1/1 (frame 350/11993) /content/Structure Fire Millers Falls 11_8_22 (1).mp4: 384x640 (no detections), 9.8ms\n",
            "video 1/1 (frame 351/11993) /content/Structure Fire Millers Falls 11_8_22 (1).mp4: 384x640 (no detections), 9.9ms\n",
            "video 1/1 (frame 352/11993) /content/Structure Fire Millers Falls 11_8_22 (1).mp4: 384x640 (no detections), 8.5ms\n",
            "video 1/1 (frame 353/11993) /content/Structure Fire Millers Falls 11_8_22 (1).mp4: 384x640 (no detections), 10.1ms\n",
            "video 1/1 (frame 354/11993) /content/Structure Fire Millers Falls 11_8_22 (1).mp4: 384x640 (no detections), 8.8ms\n",
            "video 1/1 (frame 355/11993) /content/Structure Fire Millers Falls 11_8_22 (1).mp4: 384x640 (no detections), 8.7ms\n",
            "video 1/1 (frame 356/11993) /content/Structure Fire Millers Falls 11_8_22 (1).mp4: 384x640 (no detections), 8.9ms\n",
            "video 1/1 (frame 357/11993) /content/Structure Fire Millers Falls 11_8_22 (1).mp4: 384x640 (no detections), 10.2ms\n",
            "video 1/1 (frame 358/11993) /content/Structure Fire Millers Falls 11_8_22 (1).mp4: 384x640 (no detections), 8.9ms\n",
            "video 1/1 (frame 359/11993) /content/Structure Fire Millers Falls 11_8_22 (1).mp4: 384x640 (no detections), 9.1ms\n",
            "video 1/1 (frame 360/11993) /content/Structure Fire Millers Falls 11_8_22 (1).mp4: 384x640 (no detections), 8.7ms\n",
            "video 1/1 (frame 361/11993) /content/Structure Fire Millers Falls 11_8_22 (1).mp4: 384x640 (no detections), 9.7ms\n",
            "video 1/1 (frame 362/11993) /content/Structure Fire Millers Falls 11_8_22 (1).mp4: 384x640 (no detections), 8.8ms\n",
            "video 1/1 (frame 363/11993) /content/Structure Fire Millers Falls 11_8_22 (1).mp4: 384x640 (no detections), 12.9ms\n",
            "video 1/1 (frame 364/11993) /content/Structure Fire Millers Falls 11_8_22 (1).mp4: 384x640 (no detections), 10.4ms\n",
            "video 1/1 (frame 365/11993) /content/Structure Fire Millers Falls 11_8_22 (1).mp4: 384x640 (no detections), 8.7ms\n",
            "video 1/1 (frame 366/11993) /content/Structure Fire Millers Falls 11_8_22 (1).mp4: 384x640 (no detections), 8.2ms\n",
            "video 1/1 (frame 367/11993) /content/Structure Fire Millers Falls 11_8_22 (1).mp4: 384x640 (no detections), 8.4ms\n",
            "video 1/1 (frame 368/11993) /content/Structure Fire Millers Falls 11_8_22 (1).mp4: 384x640 (no detections), 9.3ms\n",
            "video 1/1 (frame 369/11993) /content/Structure Fire Millers Falls 11_8_22 (1).mp4: 384x640 (no detections), 8.2ms\n",
            "video 1/1 (frame 370/11993) /content/Structure Fire Millers Falls 11_8_22 (1).mp4: 384x640 (no detections), 8.6ms\n",
            "video 1/1 (frame 371/11993) /content/Structure Fire Millers Falls 11_8_22 (1).mp4: 384x640 (no detections), 8.3ms\n",
            "video 1/1 (frame 372/11993) /content/Structure Fire Millers Falls 11_8_22 (1).mp4: 384x640 (no detections), 8.9ms\n",
            "video 1/1 (frame 373/11993) /content/Structure Fire Millers Falls 11_8_22 (1).mp4: 384x640 (no detections), 9.0ms\n",
            "video 1/1 (frame 374/11993) /content/Structure Fire Millers Falls 11_8_22 (1).mp4: 384x640 (no detections), 8.1ms\n",
            "video 1/1 (frame 375/11993) /content/Structure Fire Millers Falls 11_8_22 (1).mp4: 384x640 (no detections), 8.4ms\n",
            "video 1/1 (frame 376/11993) /content/Structure Fire Millers Falls 11_8_22 (1).mp4: 384x640 (no detections), 8.4ms\n",
            "video 1/1 (frame 377/11993) /content/Structure Fire Millers Falls 11_8_22 (1).mp4: 384x640 (no detections), 8.2ms\n",
            "video 1/1 (frame 378/11993) /content/Structure Fire Millers Falls 11_8_22 (1).mp4: 384x640 (no detections), 8.2ms\n",
            "video 1/1 (frame 379/11993) /content/Structure Fire Millers Falls 11_8_22 (1).mp4: 384x640 (no detections), 7.9ms\n",
            "video 1/1 (frame 380/11993) /content/Structure Fire Millers Falls 11_8_22 (1).mp4: 384x640 (no detections), 8.3ms\n",
            "video 1/1 (frame 381/11993) /content/Structure Fire Millers Falls 11_8_22 (1).mp4: 384x640 (no detections), 8.7ms\n",
            "video 1/1 (frame 382/11993) /content/Structure Fire Millers Falls 11_8_22 (1).mp4: 384x640 (no detections), 9.3ms\n",
            "video 1/1 (frame 383/11993) /content/Structure Fire Millers Falls 11_8_22 (1).mp4: 384x640 (no detections), 8.2ms\n",
            "video 1/1 (frame 384/11993) /content/Structure Fire Millers Falls 11_8_22 (1).mp4: 384x640 (no detections), 8.6ms\n",
            "video 1/1 (frame 385/11993) /content/Structure Fire Millers Falls 11_8_22 (1).mp4: 384x640 (no detections), 8.1ms\n",
            "video 1/1 (frame 386/11993) /content/Structure Fire Millers Falls 11_8_22 (1).mp4: 384x640 (no detections), 9.1ms\n",
            "video 1/1 (frame 387/11993) /content/Structure Fire Millers Falls 11_8_22 (1).mp4: 384x640 (no detections), 9.3ms\n",
            "video 1/1 (frame 388/11993) /content/Structure Fire Millers Falls 11_8_22 (1).mp4: 384x640 (no detections), 10.7ms\n",
            "video 1/1 (frame 389/11993) /content/Structure Fire Millers Falls 11_8_22 (1).mp4: 384x640 (no detections), 8.0ms\n",
            "video 1/1 (frame 390/11993) /content/Structure Fire Millers Falls 11_8_22 (1).mp4: 384x640 (no detections), 9.7ms\n",
            "video 1/1 (frame 391/11993) /content/Structure Fire Millers Falls 11_8_22 (1).mp4: 384x640 (no detections), 8.0ms\n",
            "video 1/1 (frame 392/11993) /content/Structure Fire Millers Falls 11_8_22 (1).mp4: 384x640 (no detections), 9.1ms\n",
            "video 1/1 (frame 393/11993) /content/Structure Fire Millers Falls 11_8_22 (1).mp4: 384x640 (no detections), 8.4ms\n",
            "video 1/1 (frame 394/11993) /content/Structure Fire Millers Falls 11_8_22 (1).mp4: 384x640 (no detections), 8.3ms\n",
            "video 1/1 (frame 395/11993) /content/Structure Fire Millers Falls 11_8_22 (1).mp4: 384x640 (no detections), 8.4ms\n",
            "video 1/1 (frame 396/11993) /content/Structure Fire Millers Falls 11_8_22 (1).mp4: 384x640 (no detections), 10.1ms\n",
            "video 1/1 (frame 397/11993) /content/Structure Fire Millers Falls 11_8_22 (1).mp4: 384x640 (no detections), 11.5ms\n",
            "video 1/1 (frame 398/11993) /content/Structure Fire Millers Falls 11_8_22 (1).mp4: 384x640 (no detections), 9.8ms\n",
            "video 1/1 (frame 399/11993) /content/Structure Fire Millers Falls 11_8_22 (1).mp4: 384x640 (no detections), 9.5ms\n",
            "video 1/1 (frame 400/11993) /content/Structure Fire Millers Falls 11_8_22 (1).mp4: 384x640 (no detections), 9.5ms\n",
            "video 1/1 (frame 401/11993) /content/Structure Fire Millers Falls 11_8_22 (1).mp4: 384x640 (no detections), 10.4ms\n",
            "video 1/1 (frame 402/11993) /content/Structure Fire Millers Falls 11_8_22 (1).mp4: 384x640 (no detections), 12.4ms\n",
            "video 1/1 (frame 403/11993) /content/Structure Fire Millers Falls 11_8_22 (1).mp4: 384x640 (no detections), 10.2ms\n",
            "video 1/1 (frame 404/11993) /content/Structure Fire Millers Falls 11_8_22 (1).mp4: 384x640 (no detections), 11.9ms\n",
            "video 1/1 (frame 405/11993) /content/Structure Fire Millers Falls 11_8_22 (1).mp4: 384x640 (no detections), 9.3ms\n",
            "video 1/1 (frame 406/11993) /content/Structure Fire Millers Falls 11_8_22 (1).mp4: 384x640 (no detections), 9.6ms\n",
            "video 1/1 (frame 407/11993) /content/Structure Fire Millers Falls 11_8_22 (1).mp4: 384x640 (no detections), 10.4ms\n",
            "video 1/1 (frame 408/11993) /content/Structure Fire Millers Falls 11_8_22 (1).mp4: 384x640 (no detections), 9.9ms\n",
            "video 1/1 (frame 409/11993) /content/Structure Fire Millers Falls 11_8_22 (1).mp4: 384x640 (no detections), 8.1ms\n",
            "video 1/1 (frame 410/11993) /content/Structure Fire Millers Falls 11_8_22 (1).mp4: 384x640 (no detections), 10.0ms\n",
            "video 1/1 (frame 411/11993) /content/Structure Fire Millers Falls 11_8_22 (1).mp4: 384x640 (no detections), 11.2ms\n",
            "video 1/1 (frame 412/11993) /content/Structure Fire Millers Falls 11_8_22 (1).mp4: 384x640 (no detections), 11.6ms\n",
            "video 1/1 (frame 413/11993) /content/Structure Fire Millers Falls 11_8_22 (1).mp4: 384x640 (no detections), 11.7ms\n",
            "video 1/1 (frame 414/11993) /content/Structure Fire Millers Falls 11_8_22 (1).mp4: 384x640 (no detections), 10.5ms\n",
            "video 1/1 (frame 415/11993) /content/Structure Fire Millers Falls 11_8_22 (1).mp4: 384x640 (no detections), 14.3ms\n",
            "video 1/1 (frame 416/11993) /content/Structure Fire Millers Falls 11_8_22 (1).mp4: 384x640 (no detections), 11.1ms\n",
            "video 1/1 (frame 417/11993) /content/Structure Fire Millers Falls 11_8_22 (1).mp4: 384x640 (no detections), 11.4ms\n",
            "video 1/1 (frame 418/11993) /content/Structure Fire Millers Falls 11_8_22 (1).mp4: 384x640 (no detections), 10.3ms\n",
            "video 1/1 (frame 419/11993) /content/Structure Fire Millers Falls 11_8_22 (1).mp4: 384x640 (no detections), 8.6ms\n",
            "video 1/1 (frame 420/11993) /content/Structure Fire Millers Falls 11_8_22 (1).mp4: 384x640 (no detections), 11.3ms\n",
            "video 1/1 (frame 421/11993) /content/Structure Fire Millers Falls 11_8_22 (1).mp4: 384x640 (no detections), 12.1ms\n",
            "video 1/1 (frame 422/11993) /content/Structure Fire Millers Falls 11_8_22 (1).mp4: 384x640 (no detections), 15.8ms\n",
            "video 1/1 (frame 423/11993) /content/Structure Fire Millers Falls 11_8_22 (1).mp4: 384x640 (no detections), 15.2ms\n",
            "video 1/1 (frame 424/11993) /content/Structure Fire Millers Falls 11_8_22 (1).mp4: 384x640 (no detections), 10.7ms\n",
            "video 1/1 (frame 425/11993) /content/Structure Fire Millers Falls 11_8_22 (1).mp4: 384x640 (no detections), 11.1ms\n",
            "video 1/1 (frame 426/11993) /content/Structure Fire Millers Falls 11_8_22 (1).mp4: 384x640 (no detections), 16.9ms\n",
            "video 1/1 (frame 427/11993) /content/Structure Fire Millers Falls 11_8_22 (1).mp4: 384x640 (no detections), 19.1ms\n",
            "video 1/1 (frame 428/11993) /content/Structure Fire Millers Falls 11_8_22 (1).mp4: 384x640 (no detections), 14.5ms\n",
            "video 1/1 (frame 429/11993) /content/Structure Fire Millers Falls 11_8_22 (1).mp4: 384x640 (no detections), 10.7ms\n",
            "video 1/1 (frame 430/11993) /content/Structure Fire Millers Falls 11_8_22 (1).mp4: 384x640 (no detections), 14.0ms\n",
            "video 1/1 (frame 431/11993) /content/Structure Fire Millers Falls 11_8_22 (1).mp4: 384x640 (no detections), 12.4ms\n",
            "video 1/1 (frame 432/11993) /content/Structure Fire Millers Falls 11_8_22 (1).mp4: 384x640 (no detections), 12.1ms\n",
            "video 1/1 (frame 433/11993) /content/Structure Fire Millers Falls 11_8_22 (1).mp4: 384x640 (no detections), 11.7ms\n",
            "video 1/1 (frame 434/11993) /content/Structure Fire Millers Falls 11_8_22 (1).mp4: 384x640 (no detections), 10.9ms\n",
            "video 1/1 (frame 435/11993) /content/Structure Fire Millers Falls 11_8_22 (1).mp4: 384x640 (no detections), 11.1ms\n",
            "video 1/1 (frame 436/11993) /content/Structure Fire Millers Falls 11_8_22 (1).mp4: 384x640 (no detections), 10.6ms\n",
            "video 1/1 (frame 437/11993) /content/Structure Fire Millers Falls 11_8_22 (1).mp4: 384x640 (no detections), 13.0ms\n",
            "video 1/1 (frame 438/11993) /content/Structure Fire Millers Falls 11_8_22 (1).mp4: 384x640 (no detections), 11.5ms\n",
            "video 1/1 (frame 439/11993) /content/Structure Fire Millers Falls 11_8_22 (1).mp4: 384x640 (no detections), 11.9ms\n",
            "video 1/1 (frame 440/11993) /content/Structure Fire Millers Falls 11_8_22 (1).mp4: 384x640 (no detections), 13.3ms\n",
            "video 1/1 (frame 441/11993) /content/Structure Fire Millers Falls 11_8_22 (1).mp4: 384x640 (no detections), 14.9ms\n",
            "video 1/1 (frame 442/11993) /content/Structure Fire Millers Falls 11_8_22 (1).mp4: 384x640 (no detections), 11.8ms\n",
            "video 1/1 (frame 443/11993) /content/Structure Fire Millers Falls 11_8_22 (1).mp4: 384x640 (no detections), 11.9ms\n",
            "video 1/1 (frame 444/11993) /content/Structure Fire Millers Falls 11_8_22 (1).mp4: 384x640 (no detections), 10.2ms\n",
            "video 1/1 (frame 445/11993) /content/Structure Fire Millers Falls 11_8_22 (1).mp4: 384x640 (no detections), 12.0ms\n",
            "video 1/1 (frame 446/11993) /content/Structure Fire Millers Falls 11_8_22 (1).mp4: 384x640 (no detections), 10.7ms\n",
            "video 1/1 (frame 447/11993) /content/Structure Fire Millers Falls 11_8_22 (1).mp4: 384x640 (no detections), 13.7ms\n",
            "video 1/1 (frame 448/11993) /content/Structure Fire Millers Falls 11_8_22 (1).mp4: 384x640 (no detections), 12.6ms\n",
            "video 1/1 (frame 449/11993) /content/Structure Fire Millers Falls 11_8_22 (1).mp4: 384x640 (no detections), 19.1ms\n",
            "video 1/1 (frame 450/11993) /content/Structure Fire Millers Falls 11_8_22 (1).mp4: 384x640 (no detections), 17.4ms\n",
            "video 1/1 (frame 451/11993) /content/Structure Fire Millers Falls 11_8_22 (1).mp4: 384x640 (no detections), 16.6ms\n",
            "video 1/1 (frame 452/11993) /content/Structure Fire Millers Falls 11_8_22 (1).mp4: 384x640 (no detections), 13.3ms\n",
            "video 1/1 (frame 453/11993) /content/Structure Fire Millers Falls 11_8_22 (1).mp4: 384x640 (no detections), 15.1ms\n",
            "video 1/1 (frame 454/11993) /content/Structure Fire Millers Falls 11_8_22 (1).mp4: 384x640 (no detections), 12.7ms\n",
            "video 1/1 (frame 455/11993) /content/Structure Fire Millers Falls 11_8_22 (1).mp4: 384x640 (no detections), 13.6ms\n",
            "video 1/1 (frame 456/11993) /content/Structure Fire Millers Falls 11_8_22 (1).mp4: 384x640 (no detections), 11.2ms\n",
            "video 1/1 (frame 457/11993) /content/Structure Fire Millers Falls 11_8_22 (1).mp4: 384x640 (no detections), 17.1ms\n",
            "video 1/1 (frame 458/11993) /content/Structure Fire Millers Falls 11_8_22 (1).mp4: 384x640 (no detections), 13.6ms\n",
            "video 1/1 (frame 459/11993) /content/Structure Fire Millers Falls 11_8_22 (1).mp4: 384x640 (no detections), 17.1ms\n",
            "video 1/1 (frame 460/11993) /content/Structure Fire Millers Falls 11_8_22 (1).mp4: 384x640 (no detections), 19.4ms\n",
            "video 1/1 (frame 461/11993) /content/Structure Fire Millers Falls 11_8_22 (1).mp4: 384x640 (no detections), 18.3ms\n",
            "video 1/1 (frame 462/11993) /content/Structure Fire Millers Falls 11_8_22 (1).mp4: 384x640 (no detections), 18.7ms\n",
            "video 1/1 (frame 463/11993) /content/Structure Fire Millers Falls 11_8_22 (1).mp4: 384x640 (no detections), 25.0ms\n",
            "video 1/1 (frame 464/11993) /content/Structure Fire Millers Falls 11_8_22 (1).mp4: 384x640 (no detections), 15.5ms\n",
            "video 1/1 (frame 465/11993) /content/Structure Fire Millers Falls 11_8_22 (1).mp4: 384x640 (no detections), 15.5ms\n",
            "video 1/1 (frame 466/11993) /content/Structure Fire Millers Falls 11_8_22 (1).mp4: 384x640 (no detections), 17.4ms\n",
            "video 1/1 (frame 467/11993) /content/Structure Fire Millers Falls 11_8_22 (1).mp4: 384x640 (no detections), 19.0ms\n",
            "video 1/1 (frame 468/11993) /content/Structure Fire Millers Falls 11_8_22 (1).mp4: 384x640 (no detections), 17.4ms\n",
            "video 1/1 (frame 469/11993) /content/Structure Fire Millers Falls 11_8_22 (1).mp4: 384x640 (no detections), 17.9ms\n",
            "video 1/1 (frame 470/11993) /content/Structure Fire Millers Falls 11_8_22 (1).mp4: 384x640 (no detections), 17.3ms\n",
            "video 1/1 (frame 471/11993) /content/Structure Fire Millers Falls 11_8_22 (1).mp4: 384x640 (no detections), 9.0ms\n",
            "video 1/1 (frame 472/11993) /content/Structure Fire Millers Falls 11_8_22 (1).mp4: 384x640 (no detections), 11.4ms\n",
            "video 1/1 (frame 473/11993) /content/Structure Fire Millers Falls 11_8_22 (1).mp4: 384x640 (no detections), 11.1ms\n",
            "video 1/1 (frame 474/11993) /content/Structure Fire Millers Falls 11_8_22 (1).mp4: 384x640 (no detections), 12.1ms\n",
            "video 1/1 (frame 475/11993) /content/Structure Fire Millers Falls 11_8_22 (1).mp4: 384x640 (no detections), 8.6ms\n",
            "video 1/1 (frame 476/11993) /content/Structure Fire Millers Falls 11_8_22 (1).mp4: 384x640 (no detections), 8.9ms\n",
            "video 1/1 (frame 477/11993) /content/Structure Fire Millers Falls 11_8_22 (1).mp4: 384x640 (no detections), 10.0ms\n",
            "video 1/1 (frame 478/11993) /content/Structure Fire Millers Falls 11_8_22 (1).mp4: 384x640 (no detections), 10.9ms\n",
            "video 1/1 (frame 479/11993) /content/Structure Fire Millers Falls 11_8_22 (1).mp4: 384x640 (no detections), 12.4ms\n",
            "video 1/1 (frame 480/11993) /content/Structure Fire Millers Falls 11_8_22 (1).mp4: 384x640 (no detections), 12.2ms\n",
            "video 1/1 (frame 481/11993) /content/Structure Fire Millers Falls 11_8_22 (1).mp4: 384x640 (no detections), 11.3ms\n",
            "video 1/1 (frame 482/11993) /content/Structure Fire Millers Falls 11_8_22 (1).mp4: 384x640 (no detections), 13.9ms\n",
            "video 1/1 (frame 483/11993) /content/Structure Fire Millers Falls 11_8_22 (1).mp4: 384x640 (no detections), 11.6ms\n",
            "video 1/1 (frame 484/11993) /content/Structure Fire Millers Falls 11_8_22 (1).mp4: 384x640 (no detections), 13.5ms\n",
            "video 1/1 (frame 485/11993) /content/Structure Fire Millers Falls 11_8_22 (1).mp4: 384x640 (no detections), 10.5ms\n",
            "video 1/1 (frame 486/11993) /content/Structure Fire Millers Falls 11_8_22 (1).mp4: 384x640 (no detections), 11.1ms\n",
            "video 1/1 (frame 487/11993) /content/Structure Fire Millers Falls 11_8_22 (1).mp4: 384x640 (no detections), 12.4ms\n",
            "video 1/1 (frame 488/11993) /content/Structure Fire Millers Falls 11_8_22 (1).mp4: 384x640 (no detections), 9.3ms\n",
            "video 1/1 (frame 489/11993) /content/Structure Fire Millers Falls 11_8_22 (1).mp4: 384x640 (no detections), 10.3ms\n",
            "video 1/1 (frame 490/11993) /content/Structure Fire Millers Falls 11_8_22 (1).mp4: 384x640 (no detections), 10.7ms\n",
            "video 1/1 (frame 491/11993) /content/Structure Fire Millers Falls 11_8_22 (1).mp4: 384x640 (no detections), 12.6ms\n",
            "video 1/1 (frame 492/11993) /content/Structure Fire Millers Falls 11_8_22 (1).mp4: 384x640 (no detections), 8.8ms\n",
            "video 1/1 (frame 493/11993) /content/Structure Fire Millers Falls 11_8_22 (1).mp4: 384x640 (no detections), 9.7ms\n",
            "video 1/1 (frame 494/11993) /content/Structure Fire Millers Falls 11_8_22 (1).mp4: 384x640 (no detections), 8.8ms\n",
            "video 1/1 (frame 495/11993) /content/Structure Fire Millers Falls 11_8_22 (1).mp4: 384x640 (no detections), 10.2ms\n",
            "video 1/1 (frame 496/11993) /content/Structure Fire Millers Falls 11_8_22 (1).mp4: 384x640 (no detections), 10.4ms\n",
            "video 1/1 (frame 497/11993) /content/Structure Fire Millers Falls 11_8_22 (1).mp4: 384x640 (no detections), 9.2ms\n",
            "video 1/1 (frame 498/11993) /content/Structure Fire Millers Falls 11_8_22 (1).mp4: 384x640 (no detections), 11.7ms\n",
            "video 1/1 (frame 499/11993) /content/Structure Fire Millers Falls 11_8_22 (1).mp4: 384x640 (no detections), 11.2ms\n",
            "video 1/1 (frame 500/11993) /content/Structure Fire Millers Falls 11_8_22 (1).mp4: 384x640 (no detections), 8.6ms\n",
            "video 1/1 (frame 501/11993) /content/Structure Fire Millers Falls 11_8_22 (1).mp4: 384x640 (no detections), 8.4ms\n",
            "video 1/1 (frame 502/11993) /content/Structure Fire Millers Falls 11_8_22 (1).mp4: 384x640 (no detections), 8.8ms\n",
            "video 1/1 (frame 503/11993) /content/Structure Fire Millers Falls 11_8_22 (1).mp4: 384x640 (no detections), 12.5ms\n",
            "video 1/1 (frame 504/11993) /content/Structure Fire Millers Falls 11_8_22 (1).mp4: 384x640 (no detections), 9.7ms\n",
            "video 1/1 (frame 505/11993) /content/Structure Fire Millers Falls 11_8_22 (1).mp4: 384x640 (no detections), 8.3ms\n",
            "video 1/1 (frame 506/11993) /content/Structure Fire Millers Falls 11_8_22 (1).mp4: 384x640 (no detections), 8.4ms\n",
            "video 1/1 (frame 507/11993) /content/Structure Fire Millers Falls 11_8_22 (1).mp4: 384x640 (no detections), 10.3ms\n",
            "video 1/1 (frame 508/11993) /content/Structure Fire Millers Falls 11_8_22 (1).mp4: 384x640 (no detections), 8.3ms\n",
            "video 1/1 (frame 509/11993) /content/Structure Fire Millers Falls 11_8_22 (1).mp4: 384x640 (no detections), 8.0ms\n",
            "video 1/1 (frame 510/11993) /content/Structure Fire Millers Falls 11_8_22 (1).mp4: 384x640 (no detections), 8.4ms\n",
            "video 1/1 (frame 511/11993) /content/Structure Fire Millers Falls 11_8_22 (1).mp4: 384x640 (no detections), 10.4ms\n",
            "video 1/1 (frame 512/11993) /content/Structure Fire Millers Falls 11_8_22 (1).mp4: 384x640 (no detections), 8.6ms\n",
            "video 1/1 (frame 513/11993) /content/Structure Fire Millers Falls 11_8_22 (1).mp4: 384x640 (no detections), 8.1ms\n",
            "video 1/1 (frame 514/11993) /content/Structure Fire Millers Falls 11_8_22 (1).mp4: 384x640 (no detections), 8.0ms\n",
            "video 1/1 (frame 515/11993) /content/Structure Fire Millers Falls 11_8_22 (1).mp4: 384x640 (no detections), 9.3ms\n",
            "video 1/1 (frame 516/11993) /content/Structure Fire Millers Falls 11_8_22 (1).mp4: 384x640 (no detections), 10.5ms\n",
            "video 1/1 (frame 517/11993) /content/Structure Fire Millers Falls 11_8_22 (1).mp4: 384x640 (no detections), 10.1ms\n",
            "video 1/1 (frame 518/11993) /content/Structure Fire Millers Falls 11_8_22 (1).mp4: 384x640 (no detections), 8.0ms\n",
            "video 1/1 (frame 519/11993) /content/Structure Fire Millers Falls 11_8_22 (1).mp4: 384x640 (no detections), 10.1ms\n",
            "video 1/1 (frame 520/11993) /content/Structure Fire Millers Falls 11_8_22 (1).mp4: 384x640 (no detections), 9.9ms\n",
            "video 1/1 (frame 521/11993) /content/Structure Fire Millers Falls 11_8_22 (1).mp4: 384x640 (no detections), 10.7ms\n",
            "video 1/1 (frame 522/11993) /content/Structure Fire Millers Falls 11_8_22 (1).mp4: 384x640 (no detections), 9.6ms\n",
            "video 1/1 (frame 523/11993) /content/Structure Fire Millers Falls 11_8_22 (1).mp4: 384x640 (no detections), 8.2ms\n",
            "video 1/1 (frame 524/11993) /content/Structure Fire Millers Falls 11_8_22 (1).mp4: 384x640 (no detections), 10.7ms\n",
            "video 1/1 (frame 525/11993) /content/Structure Fire Millers Falls 11_8_22 (1).mp4: 384x640 (no detections), 10.6ms\n",
            "video 1/1 (frame 526/11993) /content/Structure Fire Millers Falls 11_8_22 (1).mp4: 384x640 (no detections), 7.9ms\n",
            "video 1/1 (frame 527/11993) /content/Structure Fire Millers Falls 11_8_22 (1).mp4: 384x640 (no detections), 8.3ms\n",
            "video 1/1 (frame 528/11993) /content/Structure Fire Millers Falls 11_8_22 (1).mp4: 384x640 (no detections), 8.5ms\n",
            "video 1/1 (frame 529/11993) /content/Structure Fire Millers Falls 11_8_22 (1).mp4: 384x640 (no detections), 10.2ms\n",
            "video 1/1 (frame 530/11993) /content/Structure Fire Millers Falls 11_8_22 (1).mp4: 384x640 (no detections), 9.6ms\n",
            "video 1/1 (frame 531/11993) /content/Structure Fire Millers Falls 11_8_22 (1).mp4: 384x640 (no detections), 12.2ms\n",
            "video 1/1 (frame 532/11993) /content/Structure Fire Millers Falls 11_8_22 (1).mp4: 384x640 (no detections), 9.0ms\n",
            "video 1/1 (frame 533/11993) /content/Structure Fire Millers Falls 11_8_22 (1).mp4: 384x640 (no detections), 8.6ms\n",
            "video 1/1 (frame 534/11993) /content/Structure Fire Millers Falls 11_8_22 (1).mp4: 384x640 (no detections), 9.4ms\n",
            "video 1/1 (frame 535/11993) /content/Structure Fire Millers Falls 11_8_22 (1).mp4: 384x640 (no detections), 10.1ms\n",
            "video 1/1 (frame 536/11993) /content/Structure Fire Millers Falls 11_8_22 (1).mp4: 384x640 (no detections), 8.2ms\n",
            "video 1/1 (frame 537/11993) /content/Structure Fire Millers Falls 11_8_22 (1).mp4: 384x640 (no detections), 25.8ms\n",
            "video 1/1 (frame 538/11993) /content/Structure Fire Millers Falls 11_8_22 (1).mp4: 384x640 (no detections), 8.3ms\n",
            "video 1/1 (frame 539/11993) /content/Structure Fire Millers Falls 11_8_22 (1).mp4: 384x640 (no detections), 10.8ms\n",
            "video 1/1 (frame 540/11993) /content/Structure Fire Millers Falls 11_8_22 (1).mp4: 384x640 (no detections), 10.3ms\n",
            "video 1/1 (frame 541/11993) /content/Structure Fire Millers Falls 11_8_22 (1).mp4: 384x640 (no detections), 8.3ms\n",
            "video 1/1 (frame 542/11993) /content/Structure Fire Millers Falls 11_8_22 (1).mp4: 384x640 (no detections), 9.9ms\n",
            "video 1/1 (frame 543/11993) /content/Structure Fire Millers Falls 11_8_22 (1).mp4: 384x640 (no detections), 8.3ms\n",
            "video 1/1 (frame 544/11993) /content/Structure Fire Millers Falls 11_8_22 (1).mp4: 384x640 (no detections), 8.9ms\n",
            "video 1/1 (frame 545/11993) /content/Structure Fire Millers Falls 11_8_22 (1).mp4: 384x640 (no detections), 8.9ms\n",
            "video 1/1 (frame 546/11993) /content/Structure Fire Millers Falls 11_8_22 (1).mp4: 384x640 (no detections), 8.6ms\n",
            "video 1/1 (frame 547/11993) /content/Structure Fire Millers Falls 11_8_22 (1).mp4: 384x640 (no detections), 7.8ms\n",
            "video 1/1 (frame 548/11993) /content/Structure Fire Millers Falls 11_8_22 (1).mp4: 384x640 (no detections), 10.1ms\n",
            "video 1/1 (frame 549/11993) /content/Structure Fire Millers Falls 11_8_22 (1).mp4: 384x640 (no detections), 8.0ms\n",
            "video 1/1 (frame 550/11993) /content/Structure Fire Millers Falls 11_8_22 (1).mp4: 384x640 (no detections), 12.6ms\n",
            "video 1/1 (frame 551/11993) /content/Structure Fire Millers Falls 11_8_22 (1).mp4: 384x640 (no detections), 8.3ms\n",
            "video 1/1 (frame 552/11993) /content/Structure Fire Millers Falls 11_8_22 (1).mp4: 384x640 (no detections), 8.6ms\n",
            "video 1/1 (frame 553/11993) /content/Structure Fire Millers Falls 11_8_22 (1).mp4: 384x640 (no detections), 10.2ms\n",
            "video 1/1 (frame 554/11993) /content/Structure Fire Millers Falls 11_8_22 (1).mp4: 384x640 (no detections), 9.4ms\n",
            "video 1/1 (frame 555/11993) /content/Structure Fire Millers Falls 11_8_22 (1).mp4: 384x640 (no detections), 8.2ms\n",
            "video 1/1 (frame 556/11993) /content/Structure Fire Millers Falls 11_8_22 (1).mp4: 384x640 (no detections), 8.5ms\n",
            "video 1/1 (frame 557/11993) /content/Structure Fire Millers Falls 11_8_22 (1).mp4: 384x640 (no detections), 10.2ms\n",
            "video 1/1 (frame 558/11993) /content/Structure Fire Millers Falls 11_8_22 (1).mp4: 384x640 (no detections), 8.3ms\n",
            "video 1/1 (frame 559/11993) /content/Structure Fire Millers Falls 11_8_22 (1).mp4: 384x640 (no detections), 10.6ms\n",
            "video 1/1 (frame 560/11993) /content/Structure Fire Millers Falls 11_8_22 (1).mp4: 384x640 (no detections), 11.4ms\n",
            "video 1/1 (frame 561/11993) /content/Structure Fire Millers Falls 11_8_22 (1).mp4: 384x640 (no detections), 8.0ms\n",
            "video 1/1 (frame 562/11993) /content/Structure Fire Millers Falls 11_8_22 (1).mp4: 384x640 (no detections), 8.3ms\n",
            "video 1/1 (frame 563/11993) /content/Structure Fire Millers Falls 11_8_22 (1).mp4: 384x640 (no detections), 8.7ms\n",
            "video 1/1 (frame 564/11993) /content/Structure Fire Millers Falls 11_8_22 (1).mp4: 384x640 (no detections), 12.2ms\n",
            "video 1/1 (frame 565/11993) /content/Structure Fire Millers Falls 11_8_22 (1).mp4: 384x640 (no detections), 8.5ms\n",
            "video 1/1 (frame 566/11993) /content/Structure Fire Millers Falls 11_8_22 (1).mp4: 384x640 (no detections), 8.3ms\n",
            "video 1/1 (frame 567/11993) /content/Structure Fire Millers Falls 11_8_22 (1).mp4: 384x640 (no detections), 8.4ms\n",
            "video 1/1 (frame 568/11993) /content/Structure Fire Millers Falls 11_8_22 (1).mp4: 384x640 (no detections), 11.5ms\n",
            "video 1/1 (frame 569/11993) /content/Structure Fire Millers Falls 11_8_22 (1).mp4: 384x640 (no detections), 8.5ms\n",
            "video 1/1 (frame 570/11993) /content/Structure Fire Millers Falls 11_8_22 (1).mp4: 384x640 (no detections), 9.4ms\n",
            "video 1/1 (frame 571/11993) /content/Structure Fire Millers Falls 11_8_22 (1).mp4: 384x640 (no detections), 8.5ms\n",
            "video 1/1 (frame 572/11993) /content/Structure Fire Millers Falls 11_8_22 (1).mp4: 384x640 (no detections), 11.0ms\n",
            "video 1/1 (frame 573/11993) /content/Structure Fire Millers Falls 11_8_22 (1).mp4: 384x640 (no detections), 9.4ms\n",
            "video 1/1 (frame 574/11993) /content/Structure Fire Millers Falls 11_8_22 (1).mp4: 384x640 (no detections), 9.5ms\n",
            "video 1/1 (frame 575/11993) /content/Structure Fire Millers Falls 11_8_22 (1).mp4: 384x640 (no detections), 8.4ms\n",
            "video 1/1 (frame 576/11993) /content/Structure Fire Millers Falls 11_8_22 (1).mp4: 384x640 (no detections), 10.3ms\n",
            "video 1/1 (frame 577/11993) /content/Structure Fire Millers Falls 11_8_22 (1).mp4: 384x640 (no detections), 10.3ms\n",
            "video 1/1 (frame 578/11993) /content/Structure Fire Millers Falls 11_8_22 (1).mp4: 384x640 (no detections), 8.8ms\n",
            "video 1/1 (frame 579/11993) /content/Structure Fire Millers Falls 11_8_22 (1).mp4: 384x640 (no detections), 9.9ms\n",
            "video 1/1 (frame 580/11993) /content/Structure Fire Millers Falls 11_8_22 (1).mp4: 384x640 (no detections), 9.9ms\n",
            "video 1/1 (frame 581/11993) /content/Structure Fire Millers Falls 11_8_22 (1).mp4: 384x640 (no detections), 10.2ms\n",
            "video 1/1 (frame 582/11993) /content/Structure Fire Millers Falls 11_8_22 (1).mp4: 384x640 (no detections), 9.0ms\n",
            "video 1/1 (frame 583/11993) /content/Structure Fire Millers Falls 11_8_22 (1).mp4: 384x640 (no detections), 11.5ms\n",
            "video 1/1 (frame 584/11993) /content/Structure Fire Millers Falls 11_8_22 (1).mp4: 384x640 (no detections), 8.3ms\n",
            "video 1/1 (frame 585/11993) /content/Structure Fire Millers Falls 11_8_22 (1).mp4: 384x640 (no detections), 10.4ms\n",
            "video 1/1 (frame 586/11993) /content/Structure Fire Millers Falls 11_8_22 (1).mp4: 384x640 (no detections), 8.4ms\n",
            "video 1/1 (frame 587/11993) /content/Structure Fire Millers Falls 11_8_22 (1).mp4: 384x640 (no detections), 10.5ms\n",
            "video 1/1 (frame 588/11993) /content/Structure Fire Millers Falls 11_8_22 (1).mp4: 384x640 (no detections), 8.1ms\n",
            "video 1/1 (frame 589/11993) /content/Structure Fire Millers Falls 11_8_22 (1).mp4: 384x640 (no detections), 8.9ms\n",
            "video 1/1 (frame 590/11993) /content/Structure Fire Millers Falls 11_8_22 (1).mp4: 384x640 (no detections), 8.1ms\n",
            "video 1/1 (frame 591/11993) /content/Structure Fire Millers Falls 11_8_22 (1).mp4: 384x640 (no detections), 9.9ms\n",
            "video 1/1 (frame 592/11993) /content/Structure Fire Millers Falls 11_8_22 (1).mp4: 384x640 (no detections), 8.4ms\n",
            "video 1/1 (frame 593/11993) /content/Structure Fire Millers Falls 11_8_22 (1).mp4: 384x640 (no detections), 8.5ms\n",
            "video 1/1 (frame 594/11993) /content/Structure Fire Millers Falls 11_8_22 (1).mp4: 384x640 (no detections), 8.5ms\n",
            "video 1/1 (frame 595/11993) /content/Structure Fire Millers Falls 11_8_22 (1).mp4: 384x640 (no detections), 8.4ms\n",
            "video 1/1 (frame 596/11993) /content/Structure Fire Millers Falls 11_8_22 (1).mp4: 384x640 (no detections), 9.2ms\n",
            "video 1/1 (frame 597/11993) /content/Structure Fire Millers Falls 11_8_22 (1).mp4: 384x640 (no detections), 10.9ms\n",
            "video 1/1 (frame 598/11993) /content/Structure Fire Millers Falls 11_8_22 (1).mp4: 384x640 (no detections), 9.7ms\n",
            "video 1/1 (frame 599/11993) /content/Structure Fire Millers Falls 11_8_22 (1).mp4: 384x640 (no detections), 10.5ms\n",
            "video 1/1 (frame 600/11993) /content/Structure Fire Millers Falls 11_8_22 (1).mp4: 384x640 (no detections), 11.1ms\n",
            "video 1/1 (frame 601/11993) /content/Structure Fire Millers Falls 11_8_22 (1).mp4: 384x640 (no detections), 9.5ms\n",
            "video 1/1 (frame 602/11993) /content/Structure Fire Millers Falls 11_8_22 (1).mp4: 384x640 (no detections), 12.1ms\n",
            "video 1/1 (frame 603/11993) /content/Structure Fire Millers Falls 11_8_22 (1).mp4: 384x640 (no detections), 11.7ms\n",
            "video 1/1 (frame 604/11993) /content/Structure Fire Millers Falls 11_8_22 (1).mp4: 384x640 (no detections), 9.5ms\n",
            "video 1/1 (frame 605/11993) /content/Structure Fire Millers Falls 11_8_22 (1).mp4: 384x640 (no detections), 10.0ms\n",
            "video 1/1 (frame 606/11993) /content/Structure Fire Millers Falls 11_8_22 (1).mp4: 384x640 (no detections), 13.4ms\n",
            "video 1/1 (frame 607/11993) /content/Structure Fire Millers Falls 11_8_22 (1).mp4: 384x640 (no detections), 8.7ms\n",
            "video 1/1 (frame 608/11993) /content/Structure Fire Millers Falls 11_8_22 (1).mp4: 384x640 (no detections), 16.7ms\n",
            "video 1/1 (frame 609/11993) /content/Structure Fire Millers Falls 11_8_22 (1).mp4: 384x640 (no detections), 9.9ms\n",
            "video 1/1 (frame 610/11993) /content/Structure Fire Millers Falls 11_8_22 (1).mp4: 384x640 (no detections), 9.6ms\n",
            "video 1/1 (frame 611/11993) /content/Structure Fire Millers Falls 11_8_22 (1).mp4: 384x640 (no detections), 10.8ms\n",
            "video 1/1 (frame 612/11993) /content/Structure Fire Millers Falls 11_8_22 (1).mp4: 384x640 (no detections), 9.6ms\n",
            "video 1/1 (frame 613/11993) /content/Structure Fire Millers Falls 11_8_22 (1).mp4: 384x640 (no detections), 8.3ms\n",
            "video 1/1 (frame 614/11993) /content/Structure Fire Millers Falls 11_8_22 (1).mp4: 384x640 (no detections), 8.3ms\n",
            "video 1/1 (frame 615/11993) /content/Structure Fire Millers Falls 11_8_22 (1).mp4: 384x640 (no detections), 10.4ms\n",
            "video 1/1 (frame 616/11993) /content/Structure Fire Millers Falls 11_8_22 (1).mp4: 384x640 (no detections), 12.8ms\n",
            "video 1/1 (frame 617/11993) /content/Structure Fire Millers Falls 11_8_22 (1).mp4: 384x640 (no detections), 8.6ms\n",
            "video 1/1 (frame 618/11993) /content/Structure Fire Millers Falls 11_8_22 (1).mp4: 384x640 (no detections), 8.4ms\n",
            "video 1/1 (frame 619/11993) /content/Structure Fire Millers Falls 11_8_22 (1).mp4: 384x640 (no detections), 10.8ms\n",
            "video 1/1 (frame 620/11993) /content/Structure Fire Millers Falls 11_8_22 (1).mp4: 384x640 (no detections), 10.7ms\n",
            "video 1/1 (frame 621/11993) /content/Structure Fire Millers Falls 11_8_22 (1).mp4: 384x640 (no detections), 8.3ms\n",
            "video 1/1 (frame 622/11993) /content/Structure Fire Millers Falls 11_8_22 (1).mp4: 384x640 (no detections), 12.3ms\n",
            "video 1/1 (frame 623/11993) /content/Structure Fire Millers Falls 11_8_22 (1).mp4: 384x640 (no detections), 9.0ms\n",
            "video 1/1 (frame 624/11993) /content/Structure Fire Millers Falls 11_8_22 (1).mp4: 384x640 (no detections), 9.8ms\n",
            "video 1/1 (frame 625/11993) /content/Structure Fire Millers Falls 11_8_22 (1).mp4: 384x640 (no detections), 9.1ms\n",
            "video 1/1 (frame 626/11993) /content/Structure Fire Millers Falls 11_8_22 (1).mp4: 384x640 (no detections), 9.6ms\n",
            "video 1/1 (frame 627/11993) /content/Structure Fire Millers Falls 11_8_22 (1).mp4: 384x640 (no detections), 8.7ms\n",
            "video 1/1 (frame 628/11993) /content/Structure Fire Millers Falls 11_8_22 (1).mp4: 384x640 (no detections), 8.3ms\n",
            "video 1/1 (frame 629/11993) /content/Structure Fire Millers Falls 11_8_22 (1).mp4: 384x640 (no detections), 9.6ms\n",
            "video 1/1 (frame 630/11993) /content/Structure Fire Millers Falls 11_8_22 (1).mp4: 384x640 (no detections), 9.2ms\n",
            "video 1/1 (frame 631/11993) /content/Structure Fire Millers Falls 11_8_22 (1).mp4: 384x640 (no detections), 9.8ms\n",
            "video 1/1 (frame 632/11993) /content/Structure Fire Millers Falls 11_8_22 (1).mp4: 384x640 (no detections), 8.1ms\n",
            "video 1/1 (frame 633/11993) /content/Structure Fire Millers Falls 11_8_22 (1).mp4: 384x640 (no detections), 10.2ms\n",
            "video 1/1 (frame 634/11993) /content/Structure Fire Millers Falls 11_8_22 (1).mp4: 384x640 (no detections), 13.9ms\n",
            "video 1/1 (frame 635/11993) /content/Structure Fire Millers Falls 11_8_22 (1).mp4: 384x640 (no detections), 10.8ms\n",
            "video 1/1 (frame 636/11993) /content/Structure Fire Millers Falls 11_8_22 (1).mp4: 384x640 (no detections), 10.5ms\n",
            "video 1/1 (frame 637/11993) /content/Structure Fire Millers Falls 11_8_22 (1).mp4: 384x640 (no detections), 8.6ms\n",
            "video 1/1 (frame 638/11993) /content/Structure Fire Millers Falls 11_8_22 (1).mp4: 384x640 (no detections), 8.6ms\n",
            "video 1/1 (frame 639/11993) /content/Structure Fire Millers Falls 11_8_22 (1).mp4: 384x640 (no detections), 8.3ms\n",
            "video 1/1 (frame 640/11993) /content/Structure Fire Millers Falls 11_8_22 (1).mp4: 384x640 (no detections), 9.6ms\n",
            "video 1/1 (frame 641/11993) /content/Structure Fire Millers Falls 11_8_22 (1).mp4: 384x640 (no detections), 9.0ms\n",
            "video 1/1 (frame 642/11993) /content/Structure Fire Millers Falls 11_8_22 (1).mp4: 384x640 (no detections), 8.6ms\n",
            "video 1/1 (frame 643/11993) /content/Structure Fire Millers Falls 11_8_22 (1).mp4: 384x640 (no detections), 8.6ms\n",
            "video 1/1 (frame 644/11993) /content/Structure Fire Millers Falls 11_8_22 (1).mp4: 384x640 (no detections), 11.2ms\n",
            "video 1/1 (frame 645/11993) /content/Structure Fire Millers Falls 11_8_22 (1).mp4: 384x640 (no detections), 8.4ms\n",
            "video 1/1 (frame 646/11993) /content/Structure Fire Millers Falls 11_8_22 (1).mp4: 384x640 (no detections), 8.4ms\n",
            "video 1/1 (frame 647/11993) /content/Structure Fire Millers Falls 11_8_22 (1).mp4: 384x640 (no detections), 9.5ms\n",
            "video 1/1 (frame 648/11993) /content/Structure Fire Millers Falls 11_8_22 (1).mp4: 384x640 (no detections), 11.2ms\n",
            "video 1/1 (frame 649/11993) /content/Structure Fire Millers Falls 11_8_22 (1).mp4: 384x640 (no detections), 8.4ms\n",
            "video 1/1 (frame 650/11993) /content/Structure Fire Millers Falls 11_8_22 (1).mp4: 384x640 (no detections), 9.8ms\n",
            "video 1/1 (frame 651/11993) /content/Structure Fire Millers Falls 11_8_22 (1).mp4: 384x640 (no detections), 12.6ms\n",
            "video 1/1 (frame 652/11993) /content/Structure Fire Millers Falls 11_8_22 (1).mp4: 384x640 (no detections), 9.7ms\n",
            "video 1/1 (frame 653/11993) /content/Structure Fire Millers Falls 11_8_22 (1).mp4: 384x640 (no detections), 8.3ms\n",
            "video 1/1 (frame 654/11993) /content/Structure Fire Millers Falls 11_8_22 (1).mp4: 384x640 (no detections), 9.4ms\n",
            "video 1/1 (frame 655/11993) /content/Structure Fire Millers Falls 11_8_22 (1).mp4: 384x640 (no detections), 10.3ms\n",
            "video 1/1 (frame 656/11993) /content/Structure Fire Millers Falls 11_8_22 (1).mp4: 384x640 (no detections), 10.7ms\n",
            "video 1/1 (frame 657/11993) /content/Structure Fire Millers Falls 11_8_22 (1).mp4: 384x640 (no detections), 8.2ms\n",
            "video 1/1 (frame 658/11993) /content/Structure Fire Millers Falls 11_8_22 (1).mp4: 384x640 (no detections), 9.9ms\n",
            "video 1/1 (frame 659/11993) /content/Structure Fire Millers Falls 11_8_22 (1).mp4: 384x640 (no detections), 9.1ms\n",
            "video 1/1 (frame 660/11993) /content/Structure Fire Millers Falls 11_8_22 (1).mp4: 384x640 (no detections), 14.9ms\n",
            "video 1/1 (frame 661/11993) /content/Structure Fire Millers Falls 11_8_22 (1).mp4: 384x640 (no detections), 9.2ms\n",
            "video 1/1 (frame 662/11993) /content/Structure Fire Millers Falls 11_8_22 (1).mp4: 384x640 (no detections), 10.3ms\n",
            "video 1/1 (frame 663/11993) /content/Structure Fire Millers Falls 11_8_22 (1).mp4: 384x640 (no detections), 10.5ms\n",
            "video 1/1 (frame 664/11993) /content/Structure Fire Millers Falls 11_8_22 (1).mp4: 384x640 (no detections), 9.6ms\n",
            "video 1/1 (frame 665/11993) /content/Structure Fire Millers Falls 11_8_22 (1).mp4: 384x640 (no detections), 9.0ms\n",
            "video 1/1 (frame 666/11993) /content/Structure Fire Millers Falls 11_8_22 (1).mp4: 384x640 (no detections), 9.7ms\n",
            "video 1/1 (frame 667/11993) /content/Structure Fire Millers Falls 11_8_22 (1).mp4: 384x640 (no detections), 14.4ms\n",
            "video 1/1 (frame 668/11993) /content/Structure Fire Millers Falls 11_8_22 (1).mp4: 384x640 (no detections), 10.0ms\n",
            "video 1/1 (frame 669/11993) /content/Structure Fire Millers Falls 11_8_22 (1).mp4: 384x640 (no detections), 8.6ms\n",
            "video 1/1 (frame 670/11993) /content/Structure Fire Millers Falls 11_8_22 (1).mp4: 384x640 (no detections), 8.7ms\n",
            "video 1/1 (frame 671/11993) /content/Structure Fire Millers Falls 11_8_22 (1).mp4: 384x640 (no detections), 11.8ms\n",
            "video 1/1 (frame 672/11993) /content/Structure Fire Millers Falls 11_8_22 (1).mp4: 384x640 (no detections), 9.1ms\n",
            "video 1/1 (frame 673/11993) /content/Structure Fire Millers Falls 11_8_22 (1).mp4: 384x640 (no detections), 8.5ms\n",
            "video 1/1 (frame 674/11993) /content/Structure Fire Millers Falls 11_8_22 (1).mp4: 384x640 (no detections), 9.2ms\n",
            "video 1/1 (frame 675/11993) /content/Structure Fire Millers Falls 11_8_22 (1).mp4: 384x640 (no detections), 11.2ms\n",
            "video 1/1 (frame 676/11993) /content/Structure Fire Millers Falls 11_8_22 (1).mp4: 384x640 (no detections), 8.8ms\n",
            "video 1/1 (frame 677/11993) /content/Structure Fire Millers Falls 11_8_22 (1).mp4: 384x640 (no detections), 8.9ms\n",
            "video 1/1 (frame 678/11993) /content/Structure Fire Millers Falls 11_8_22 (1).mp4: 384x640 (no detections), 12.5ms\n",
            "video 1/1 (frame 679/11993) /content/Structure Fire Millers Falls 11_8_22 (1).mp4: 384x640 (no detections), 10.9ms\n",
            "video 1/1 (frame 680/11993) /content/Structure Fire Millers Falls 11_8_22 (1).mp4: 384x640 (no detections), 8.7ms\n",
            "video 1/1 (frame 681/11993) /content/Structure Fire Millers Falls 11_8_22 (1).mp4: 384x640 (no detections), 8.7ms\n",
            "video 1/1 (frame 682/11993) /content/Structure Fire Millers Falls 11_8_22 (1).mp4: 384x640 (no detections), 11.3ms\n",
            "video 1/1 (frame 683/11993) /content/Structure Fire Millers Falls 11_8_22 (1).mp4: 384x640 (no detections), 11.3ms\n",
            "video 1/1 (frame 684/11993) /content/Structure Fire Millers Falls 11_8_22 (1).mp4: 384x640 (no detections), 12.1ms\n",
            "video 1/1 (frame 685/11993) /content/Structure Fire Millers Falls 11_8_22 (1).mp4: 384x640 (no detections), 10.6ms\n",
            "video 1/1 (frame 686/11993) /content/Structure Fire Millers Falls 11_8_22 (1).mp4: 384x640 (no detections), 14.6ms\n",
            "video 1/1 (frame 687/11993) /content/Structure Fire Millers Falls 11_8_22 (1).mp4: 384x640 (no detections), 10.9ms\n",
            "video 1/1 (frame 688/11993) /content/Structure Fire Millers Falls 11_8_22 (1).mp4: 384x640 (no detections), 12.2ms\n",
            "video 1/1 (frame 689/11993) /content/Structure Fire Millers Falls 11_8_22 (1).mp4: 384x640 (no detections), 9.7ms\n",
            "video 1/1 (frame 690/11993) /content/Structure Fire Millers Falls 11_8_22 (1).mp4: 384x640 (no detections), 11.9ms\n",
            "video 1/1 (frame 691/11993) /content/Structure Fire Millers Falls 11_8_22 (1).mp4: 384x640 (no detections), 9.4ms\n",
            "video 1/1 (frame 692/11993) /content/Structure Fire Millers Falls 11_8_22 (1).mp4: 384x640 (no detections), 12.3ms\n",
            "video 1/1 (frame 693/11993) /content/Structure Fire Millers Falls 11_8_22 (1).mp4: 384x640 (no detections), 12.5ms\n",
            "video 1/1 (frame 694/11993) /content/Structure Fire Millers Falls 11_8_22 (1).mp4: 384x640 (no detections), 11.6ms\n",
            "video 1/1 (frame 695/11993) /content/Structure Fire Millers Falls 11_8_22 (1).mp4: 384x640 (no detections), 8.6ms\n",
            "video 1/1 (frame 696/11993) /content/Structure Fire Millers Falls 11_8_22 (1).mp4: 384x640 (no detections), 8.5ms\n",
            "video 1/1 (frame 697/11993) /content/Structure Fire Millers Falls 11_8_22 (1).mp4: 384x640 (no detections), 8.6ms\n",
            "video 1/1 (frame 698/11993) /content/Structure Fire Millers Falls 11_8_22 (1).mp4: 384x640 (no detections), 14.5ms\n",
            "video 1/1 (frame 699/11993) /content/Structure Fire Millers Falls 11_8_22 (1).mp4: 384x640 (no detections), 8.8ms\n",
            "video 1/1 (frame 700/11993) /content/Structure Fire Millers Falls 11_8_22 (1).mp4: 384x640 (no detections), 9.4ms\n",
            "video 1/1 (frame 701/11993) /content/Structure Fire Millers Falls 11_8_22 (1).mp4: 384x640 (no detections), 9.4ms\n",
            "video 1/1 (frame 702/11993) /content/Structure Fire Millers Falls 11_8_22 (1).mp4: 384x640 (no detections), 9.7ms\n",
            "video 1/1 (frame 703/11993) /content/Structure Fire Millers Falls 11_8_22 (1).mp4: 384x640 (no detections), 19.6ms\n",
            "video 1/1 (frame 704/11993) /content/Structure Fire Millers Falls 11_8_22 (1).mp4: 384x640 (no detections), 12.4ms\n",
            "video 1/1 (frame 705/11993) /content/Structure Fire Millers Falls 11_8_22 (1).mp4: 384x640 (no detections), 8.5ms\n",
            "video 1/1 (frame 706/11993) /content/Structure Fire Millers Falls 11_8_22 (1).mp4: 384x640 (no detections), 10.1ms\n",
            "video 1/1 (frame 707/11993) /content/Structure Fire Millers Falls 11_8_22 (1).mp4: 384x640 (no detections), 8.6ms\n",
            "video 1/1 (frame 708/11993) /content/Structure Fire Millers Falls 11_8_22 (1).mp4: 384x640 (no detections), 8.7ms\n",
            "video 1/1 (frame 709/11993) /content/Structure Fire Millers Falls 11_8_22 (1).mp4: 384x640 (no detections), 9.0ms\n",
            "video 1/1 (frame 710/11993) /content/Structure Fire Millers Falls 11_8_22 (1).mp4: 384x640 (no detections), 9.4ms\n",
            "video 1/1 (frame 711/11993) /content/Structure Fire Millers Falls 11_8_22 (1).mp4: 384x640 (no detections), 9.3ms\n",
            "video 1/1 (frame 712/11993) /content/Structure Fire Millers Falls 11_8_22 (1).mp4: 384x640 (no detections), 8.4ms\n",
            "video 1/1 (frame 713/11993) /content/Structure Fire Millers Falls 11_8_22 (1).mp4: 384x640 (no detections), 10.4ms\n",
            "video 1/1 (frame 714/11993) /content/Structure Fire Millers Falls 11_8_22 (1).mp4: 384x640 (no detections), 9.2ms\n",
            "video 1/1 (frame 715/11993) /content/Structure Fire Millers Falls 11_8_22 (1).mp4: 384x640 (no detections), 8.3ms\n",
            "video 1/1 (frame 716/11993) /content/Structure Fire Millers Falls 11_8_22 (1).mp4: 384x640 (no detections), 8.1ms\n",
            "video 1/1 (frame 717/11993) /content/Structure Fire Millers Falls 11_8_22 (1).mp4: 384x640 (no detections), 8.8ms\n",
            "video 1/1 (frame 718/11993) /content/Structure Fire Millers Falls 11_8_22 (1).mp4: 384x640 (no detections), 8.9ms\n",
            "video 1/1 (frame 719/11993) /content/Structure Fire Millers Falls 11_8_22 (1).mp4: 384x640 (no detections), 9.6ms\n",
            "video 1/1 (frame 720/11993) /content/Structure Fire Millers Falls 11_8_22 (1).mp4: 384x640 (no detections), 8.2ms\n",
            "video 1/1 (frame 721/11993) /content/Structure Fire Millers Falls 11_8_22 (1).mp4: 384x640 (no detections), 8.5ms\n",
            "video 1/1 (frame 722/11993) /content/Structure Fire Millers Falls 11_8_22 (1).mp4: 384x640 (no detections), 9.9ms\n",
            "video 1/1 (frame 723/11993) /content/Structure Fire Millers Falls 11_8_22 (1).mp4: 384x640 (no detections), 8.8ms\n",
            "video 1/1 (frame 724/11993) /content/Structure Fire Millers Falls 11_8_22 (1).mp4: 384x640 (no detections), 8.7ms\n",
            "video 1/1 (frame 725/11993) /content/Structure Fire Millers Falls 11_8_22 (1).mp4: 384x640 (no detections), 13.6ms\n",
            "video 1/1 (frame 726/11993) /content/Structure Fire Millers Falls 11_8_22 (1).mp4: 384x640 (no detections), 8.8ms\n",
            "video 1/1 (frame 727/11993) /content/Structure Fire Millers Falls 11_8_22 (1).mp4: 384x640 (no detections), 8.5ms\n",
            "video 1/1 (frame 728/11993) /content/Structure Fire Millers Falls 11_8_22 (1).mp4: 384x640 (no detections), 8.3ms\n",
            "video 1/1 (frame 729/11993) /content/Structure Fire Millers Falls 11_8_22 (1).mp4: 384x640 (no detections), 9.4ms\n",
            "video 1/1 (frame 730/11993) /content/Structure Fire Millers Falls 11_8_22 (1).mp4: 384x640 (no detections), 18.3ms\n",
            "video 1/1 (frame 731/11993) /content/Structure Fire Millers Falls 11_8_22 (1).mp4: 384x640 (no detections), 8.2ms\n",
            "video 1/1 (frame 732/11993) /content/Structure Fire Millers Falls 11_8_22 (1).mp4: 384x640 (no detections), 8.8ms\n",
            "video 1/1 (frame 733/11993) /content/Structure Fire Millers Falls 11_8_22 (1).mp4: 384x640 (no detections), 8.5ms\n",
            "video 1/1 (frame 734/11993) /content/Structure Fire Millers Falls 11_8_22 (1).mp4: 384x640 (no detections), 9.4ms\n",
            "video 1/1 (frame 735/11993) /content/Structure Fire Millers Falls 11_8_22 (1).mp4: 384x640 (no detections), 8.8ms\n",
            "video 1/1 (frame 736/11993) /content/Structure Fire Millers Falls 11_8_22 (1).mp4: 384x640 (no detections), 8.3ms\n",
            "video 1/1 (frame 737/11993) /content/Structure Fire Millers Falls 11_8_22 (1).mp4: 384x640 (no detections), 9.2ms\n",
            "video 1/1 (frame 738/11993) /content/Structure Fire Millers Falls 11_8_22 (1).mp4: 384x640 (no detections), 8.8ms\n",
            "video 1/1 (frame 739/11993) /content/Structure Fire Millers Falls 11_8_22 (1).mp4: 384x640 (no detections), 8.5ms\n",
            "video 1/1 (frame 740/11993) /content/Structure Fire Millers Falls 11_8_22 (1).mp4: 384x640 (no detections), 8.5ms\n",
            "video 1/1 (frame 741/11993) /content/Structure Fire Millers Falls 11_8_22 (1).mp4: 384x640 (no detections), 8.3ms\n",
            "video 1/1 (frame 742/11993) /content/Structure Fire Millers Falls 11_8_22 (1).mp4: 384x640 (no detections), 8.1ms\n",
            "video 1/1 (frame 743/11993) /content/Structure Fire Millers Falls 11_8_22 (1).mp4: 384x640 (no detections), 8.9ms\n",
            "video 1/1 (frame 744/11993) /content/Structure Fire Millers Falls 11_8_22 (1).mp4: 384x640 (no detections), 8.5ms\n",
            "video 1/1 (frame 745/11993) /content/Structure Fire Millers Falls 11_8_22 (1).mp4: 384x640 (no detections), 9.5ms\n",
            "video 1/1 (frame 746/11993) /content/Structure Fire Millers Falls 11_8_22 (1).mp4: 384x640 (no detections), 8.7ms\n",
            "video 1/1 (frame 747/11993) /content/Structure Fire Millers Falls 11_8_22 (1).mp4: 384x640 (no detections), 8.2ms\n",
            "video 1/1 (frame 748/11993) /content/Structure Fire Millers Falls 11_8_22 (1).mp4: 384x640 (no detections), 8.4ms\n",
            "video 1/1 (frame 749/11993) /content/Structure Fire Millers Falls 11_8_22 (1).mp4: 384x640 (no detections), 9.6ms\n",
            "video 1/1 (frame 750/11993) /content/Structure Fire Millers Falls 11_8_22 (1).mp4: 384x640 (no detections), 8.9ms\n",
            "video 1/1 (frame 751/11993) /content/Structure Fire Millers Falls 11_8_22 (1).mp4: 384x640 (no detections), 8.2ms\n",
            "video 1/1 (frame 752/11993) /content/Structure Fire Millers Falls 11_8_22 (1).mp4: 384x640 (no detections), 8.1ms\n",
            "video 1/1 (frame 753/11993) /content/Structure Fire Millers Falls 11_8_22 (1).mp4: 384x640 (no detections), 8.7ms\n",
            "video 1/1 (frame 754/11993) /content/Structure Fire Millers Falls 11_8_22 (1).mp4: 384x640 (no detections), 8.3ms\n",
            "video 1/1 (frame 755/11993) /content/Structure Fire Millers Falls 11_8_22 (1).mp4: 384x640 (no detections), 8.6ms\n",
            "video 1/1 (frame 756/11993) /content/Structure Fire Millers Falls 11_8_22 (1).mp4: 384x640 (no detections), 8.9ms\n",
            "video 1/1 (frame 757/11993) /content/Structure Fire Millers Falls 11_8_22 (1).mp4: 384x640 (no detections), 11.4ms\n",
            "video 1/1 (frame 758/11993) /content/Structure Fire Millers Falls 11_8_22 (1).mp4: 384x640 (no detections), 10.1ms\n",
            "video 1/1 (frame 759/11993) /content/Structure Fire Millers Falls 11_8_22 (1).mp4: 384x640 (no detections), 8.5ms\n",
            "video 1/1 (frame 760/11993) /content/Structure Fire Millers Falls 11_8_22 (1).mp4: 384x640 (no detections), 8.6ms\n",
            "video 1/1 (frame 761/11993) /content/Structure Fire Millers Falls 11_8_22 (1).mp4: 384x640 (no detections), 11.6ms\n",
            "video 1/1 (frame 762/11993) /content/Structure Fire Millers Falls 11_8_22 (1).mp4: 384x640 (no detections), 10.9ms\n",
            "video 1/1 (frame 763/11993) /content/Structure Fire Millers Falls 11_8_22 (1).mp4: 384x640 (no detections), 17.6ms\n",
            "video 1/1 (frame 764/11993) /content/Structure Fire Millers Falls 11_8_22 (1).mp4: 384x640 (no detections), 9.6ms\n",
            "video 1/1 (frame 765/11993) /content/Structure Fire Millers Falls 11_8_22 (1).mp4: 384x640 (no detections), 9.1ms\n",
            "video 1/1 (frame 766/11993) /content/Structure Fire Millers Falls 11_8_22 (1).mp4: 384x640 (no detections), 11.4ms\n",
            "video 1/1 (frame 767/11993) /content/Structure Fire Millers Falls 11_8_22 (1).mp4: 384x640 (no detections), 9.6ms\n",
            "video 1/1 (frame 768/11993) /content/Structure Fire Millers Falls 11_8_22 (1).mp4: 384x640 (no detections), 8.3ms\n",
            "video 1/1 (frame 769/11993) /content/Structure Fire Millers Falls 11_8_22 (1).mp4: 384x640 (no detections), 9.5ms\n",
            "video 1/1 (frame 770/11993) /content/Structure Fire Millers Falls 11_8_22 (1).mp4: 384x640 (no detections), 10.1ms\n",
            "video 1/1 (frame 771/11993) /content/Structure Fire Millers Falls 11_8_22 (1).mp4: 384x640 (no detections), 9.6ms\n",
            "video 1/1 (frame 772/11993) /content/Structure Fire Millers Falls 11_8_22 (1).mp4: 384x640 (no detections), 13.1ms\n",
            "video 1/1 (frame 773/11993) /content/Structure Fire Millers Falls 11_8_22 (1).mp4: 384x640 (no detections), 8.5ms\n",
            "video 1/1 (frame 774/11993) /content/Structure Fire Millers Falls 11_8_22 (1).mp4: 384x640 (no detections), 8.2ms\n",
            "video 1/1 (frame 775/11993) /content/Structure Fire Millers Falls 11_8_22 (1).mp4: 384x640 (no detections), 8.5ms\n",
            "video 1/1 (frame 776/11993) /content/Structure Fire Millers Falls 11_8_22 (1).mp4: 384x640 (no detections), 10.0ms\n",
            "video 1/1 (frame 777/11993) /content/Structure Fire Millers Falls 11_8_22 (1).mp4: 384x640 (no detections), 11.7ms\n",
            "video 1/1 (frame 778/11993) /content/Structure Fire Millers Falls 11_8_22 (1).mp4: 384x640 (no detections), 10.9ms\n",
            "video 1/1 (frame 779/11993) /content/Structure Fire Millers Falls 11_8_22 (1).mp4: 384x640 (no detections), 8.3ms\n",
            "video 1/1 (frame 780/11993) /content/Structure Fire Millers Falls 11_8_22 (1).mp4: 384x640 (no detections), 9.1ms\n",
            "video 1/1 (frame 781/11993) /content/Structure Fire Millers Falls 11_8_22 (1).mp4: 384x640 (no detections), 8.1ms\n",
            "video 1/1 (frame 782/11993) /content/Structure Fire Millers Falls 11_8_22 (1).mp4: 384x640 (no detections), 10.7ms\n",
            "video 1/1 (frame 783/11993) /content/Structure Fire Millers Falls 11_8_22 (1).mp4: 384x640 (no detections), 10.5ms\n",
            "video 1/1 (frame 784/11993) /content/Structure Fire Millers Falls 11_8_22 (1).mp4: 384x640 (no detections), 11.5ms\n",
            "video 1/1 (frame 785/11993) /content/Structure Fire Millers Falls 11_8_22 (1).mp4: 384x640 (no detections), 11.4ms\n",
            "video 1/1 (frame 786/11993) /content/Structure Fire Millers Falls 11_8_22 (1).mp4: 384x640 (no detections), 14.2ms\n",
            "video 1/1 (frame 787/11993) /content/Structure Fire Millers Falls 11_8_22 (1).mp4: 384x640 (no detections), 21.7ms\n",
            "video 1/1 (frame 788/11993) /content/Structure Fire Millers Falls 11_8_22 (1).mp4: 384x640 (no detections), 17.5ms\n",
            "video 1/1 (frame 789/11993) /content/Structure Fire Millers Falls 11_8_22 (1).mp4: 384x640 (no detections), 13.1ms\n",
            "video 1/1 (frame 790/11993) /content/Structure Fire Millers Falls 11_8_22 (1).mp4: 384x640 (no detections), 12.8ms\n",
            "video 1/1 (frame 791/11993) /content/Structure Fire Millers Falls 11_8_22 (1).mp4: 384x640 (no detections), 13.0ms\n",
            "video 1/1 (frame 792/11993) /content/Structure Fire Millers Falls 11_8_22 (1).mp4: 384x640 (no detections), 21.5ms\n",
            "video 1/1 (frame 793/11993) /content/Structure Fire Millers Falls 11_8_22 (1).mp4: 384x640 (no detections), 19.1ms\n",
            "video 1/1 (frame 794/11993) /content/Structure Fire Millers Falls 11_8_22 (1).mp4: 384x640 (no detections), 11.7ms\n",
            "video 1/1 (frame 795/11993) /content/Structure Fire Millers Falls 11_8_22 (1).mp4: 384x640 (no detections), 15.3ms\n",
            "video 1/1 (frame 796/11993) /content/Structure Fire Millers Falls 11_8_22 (1).mp4: 384x640 (no detections), 19.4ms\n",
            "video 1/1 (frame 797/11993) /content/Structure Fire Millers Falls 11_8_22 (1).mp4: 384x640 (no detections), 13.7ms\n",
            "video 1/1 (frame 798/11993) /content/Structure Fire Millers Falls 11_8_22 (1).mp4: 384x640 (no detections), 10.9ms\n",
            "video 1/1 (frame 799/11993) /content/Structure Fire Millers Falls 11_8_22 (1).mp4: 384x640 (no detections), 12.0ms\n",
            "video 1/1 (frame 800/11993) /content/Structure Fire Millers Falls 11_8_22 (1).mp4: 384x640 (no detections), 10.7ms\n",
            "video 1/1 (frame 801/11993) /content/Structure Fire Millers Falls 11_8_22 (1).mp4: 384x640 (no detections), 10.6ms\n",
            "video 1/1 (frame 802/11993) /content/Structure Fire Millers Falls 11_8_22 (1).mp4: 384x640 (no detections), 12.1ms\n",
            "video 1/1 (frame 803/11993) /content/Structure Fire Millers Falls 11_8_22 (1).mp4: 384x640 (no detections), 12.4ms\n",
            "video 1/1 (frame 804/11993) /content/Structure Fire Millers Falls 11_8_22 (1).mp4: 384x640 (no detections), 31.2ms\n",
            "video 1/1 (frame 805/11993) /content/Structure Fire Millers Falls 11_8_22 (1).mp4: 384x640 (no detections), 81.4ms\n",
            "video 1/1 (frame 806/11993) /content/Structure Fire Millers Falls 11_8_22 (1).mp4: 384x640 (no detections), 10.7ms\n",
            "video 1/1 (frame 807/11993) /content/Structure Fire Millers Falls 11_8_22 (1).mp4: 384x640 (no detections), 10.6ms\n",
            "video 1/1 (frame 808/11993) /content/Structure Fire Millers Falls 11_8_22 (1).mp4: 384x640 (no detections), 10.2ms\n",
            "video 1/1 (frame 809/11993) /content/Structure Fire Millers Falls 11_8_22 (1).mp4: 384x640 (no detections), 10.4ms\n",
            "video 1/1 (frame 810/11993) /content/Structure Fire Millers Falls 11_8_22 (1).mp4: 384x640 (no detections), 11.5ms\n",
            "video 1/1 (frame 811/11993) /content/Structure Fire Millers Falls 11_8_22 (1).mp4: 384x640 (no detections), 21.1ms\n",
            "video 1/1 (frame 812/11993) /content/Structure Fire Millers Falls 11_8_22 (1).mp4: 384x640 (no detections), 16.1ms\n",
            "video 1/1 (frame 813/11993) /content/Structure Fire Millers Falls 11_8_22 (1).mp4: 384x640 (no detections), 16.6ms\n",
            "video 1/1 (frame 814/11993) /content/Structure Fire Millers Falls 11_8_22 (1).mp4: 384x640 (no detections), 15.7ms\n",
            "video 1/1 (frame 815/11993) /content/Structure Fire Millers Falls 11_8_22 (1).mp4: 384x640 (no detections), 15.3ms\n",
            "video 1/1 (frame 816/11993) /content/Structure Fire Millers Falls 11_8_22 (1).mp4: 384x640 (no detections), 17.4ms\n",
            "video 1/1 (frame 817/11993) /content/Structure Fire Millers Falls 11_8_22 (1).mp4: 384x640 (no detections), 11.1ms\n",
            "video 1/1 (frame 818/11993) /content/Structure Fire Millers Falls 11_8_22 (1).mp4: 384x640 (no detections), 14.9ms\n",
            "video 1/1 (frame 819/11993) /content/Structure Fire Millers Falls 11_8_22 (1).mp4: 384x640 (no detections), 35.5ms\n",
            "video 1/1 (frame 820/11993) /content/Structure Fire Millers Falls 11_8_22 (1).mp4: 384x640 (no detections), 18.3ms\n",
            "video 1/1 (frame 821/11993) /content/Structure Fire Millers Falls 11_8_22 (1).mp4: 384x640 (no detections), 17.6ms\n",
            "video 1/1 (frame 822/11993) /content/Structure Fire Millers Falls 11_8_22 (1).mp4: 384x640 (no detections), 15.4ms\n",
            "video 1/1 (frame 823/11993) /content/Structure Fire Millers Falls 11_8_22 (1).mp4: 384x640 (no detections), 18.3ms\n",
            "video 1/1 (frame 824/11993) /content/Structure Fire Millers Falls 11_8_22 (1).mp4: 384x640 (no detections), 21.9ms\n",
            "video 1/1 (frame 825/11993) /content/Structure Fire Millers Falls 11_8_22 (1).mp4: 384x640 (no detections), 16.1ms\n",
            "video 1/1 (frame 826/11993) /content/Structure Fire Millers Falls 11_8_22 (1).mp4: 384x640 (no detections), 18.6ms\n",
            "video 1/1 (frame 827/11993) /content/Structure Fire Millers Falls 11_8_22 (1).mp4: 384x640 (no detections), 14.7ms\n",
            "video 1/1 (frame 828/11993) /content/Structure Fire Millers Falls 11_8_22 (1).mp4: 384x640 (no detections), 8.4ms\n",
            "video 1/1 (frame 829/11993) /content/Structure Fire Millers Falls 11_8_22 (1).mp4: 384x640 (no detections), 11.3ms\n",
            "video 1/1 (frame 830/11993) /content/Structure Fire Millers Falls 11_8_22 (1).mp4: 384x640 (no detections), 16.5ms\n",
            "video 1/1 (frame 831/11993) /content/Structure Fire Millers Falls 11_8_22 (1).mp4: 384x640 (no detections), 10.6ms\n",
            "video 1/1 (frame 832/11993) /content/Structure Fire Millers Falls 11_8_22 (1).mp4: 384x640 (no detections), 9.8ms\n",
            "video 1/1 (frame 833/11993) /content/Structure Fire Millers Falls 11_8_22 (1).mp4: 384x640 (no detections), 10.0ms\n",
            "video 1/1 (frame 834/11993) /content/Structure Fire Millers Falls 11_8_22 (1).mp4: 384x640 (no detections), 8.3ms\n",
            "video 1/1 (frame 835/11993) /content/Structure Fire Millers Falls 11_8_22 (1).mp4: 384x640 (no detections), 8.8ms\n",
            "video 1/1 (frame 836/11993) /content/Structure Fire Millers Falls 11_8_22 (1).mp4: 384x640 (no detections), 11.1ms\n",
            "video 1/1 (frame 837/11993) /content/Structure Fire Millers Falls 11_8_22 (1).mp4: 384x640 (no detections), 10.4ms\n",
            "video 1/1 (frame 838/11993) /content/Structure Fire Millers Falls 11_8_22 (1).mp4: 384x640 (no detections), 11.5ms\n",
            "video 1/1 (frame 839/11993) /content/Structure Fire Millers Falls 11_8_22 (1).mp4: 384x640 (no detections), 9.4ms\n",
            "video 1/1 (frame 840/11993) /content/Structure Fire Millers Falls 11_8_22 (1).mp4: 384x640 (no detections), 8.3ms\n",
            "video 1/1 (frame 841/11993) /content/Structure Fire Millers Falls 11_8_22 (1).mp4: 384x640 (no detections), 8.2ms\n",
            "video 1/1 (frame 842/11993) /content/Structure Fire Millers Falls 11_8_22 (1).mp4: 384x640 (no detections), 8.6ms\n",
            "video 1/1 (frame 843/11993) /content/Structure Fire Millers Falls 11_8_22 (1).mp4: 384x640 (no detections), 11.2ms\n",
            "video 1/1 (frame 844/11993) /content/Structure Fire Millers Falls 11_8_22 (1).mp4: 384x640 (no detections), 11.4ms\n",
            "video 1/1 (frame 845/11993) /content/Structure Fire Millers Falls 11_8_22 (1).mp4: 384x640 (no detections), 8.3ms\n",
            "video 1/1 (frame 846/11993) /content/Structure Fire Millers Falls 11_8_22 (1).mp4: 384x640 (no detections), 11.5ms\n",
            "video 1/1 (frame 847/11993) /content/Structure Fire Millers Falls 11_8_22 (1).mp4: 384x640 (no detections), 8.3ms\n",
            "video 1/1 (frame 848/11993) /content/Structure Fire Millers Falls 11_8_22 (1).mp4: 384x640 (no detections), 11.5ms\n",
            "video 1/1 (frame 849/11993) /content/Structure Fire Millers Falls 11_8_22 (1).mp4: 384x640 (no detections), 11.1ms\n",
            "video 1/1 (frame 850/11993) /content/Structure Fire Millers Falls 11_8_22 (1).mp4: 384x640 (no detections), 11.7ms\n",
            "video 1/1 (frame 851/11993) /content/Structure Fire Millers Falls 11_8_22 (1).mp4: 384x640 (no detections), 8.5ms\n",
            "video 1/1 (frame 852/11993) /content/Structure Fire Millers Falls 11_8_22 (1).mp4: 384x640 (no detections), 8.5ms\n",
            "video 1/1 (frame 853/11993) /content/Structure Fire Millers Falls 11_8_22 (1).mp4: 384x640 (no detections), 10.5ms\n",
            "video 1/1 (frame 854/11993) /content/Structure Fire Millers Falls 11_8_22 (1).mp4: 384x640 (no detections), 10.1ms\n",
            "video 1/1 (frame 855/11993) /content/Structure Fire Millers Falls 11_8_22 (1).mp4: 384x640 (no detections), 8.7ms\n",
            "video 1/1 (frame 856/11993) /content/Structure Fire Millers Falls 11_8_22 (1).mp4: 384x640 (no detections), 8.6ms\n",
            "video 1/1 (frame 857/11993) /content/Structure Fire Millers Falls 11_8_22 (1).mp4: 384x640 (no detections), 9.3ms\n",
            "video 1/1 (frame 858/11993) /content/Structure Fire Millers Falls 11_8_22 (1).mp4: 384x640 (no detections), 10.9ms\n",
            "video 1/1 (frame 859/11993) /content/Structure Fire Millers Falls 11_8_22 (1).mp4: 384x640 (no detections), 8.2ms\n",
            "video 1/1 (frame 860/11993) /content/Structure Fire Millers Falls 11_8_22 (1).mp4: 384x640 (no detections), 9.6ms\n",
            "video 1/1 (frame 861/11993) /content/Structure Fire Millers Falls 11_8_22 (1).mp4: 384x640 (no detections), 9.9ms\n",
            "video 1/1 (frame 862/11993) /content/Structure Fire Millers Falls 11_8_22 (1).mp4: 384x640 (no detections), 9.8ms\n",
            "video 1/1 (frame 863/11993) /content/Structure Fire Millers Falls 11_8_22 (1).mp4: 384x640 (no detections), 9.0ms\n",
            "video 1/1 (frame 864/11993) /content/Structure Fire Millers Falls 11_8_22 (1).mp4: 384x640 (no detections), 8.5ms\n",
            "video 1/1 (frame 865/11993) /content/Structure Fire Millers Falls 11_8_22 (1).mp4: 384x640 (no detections), 11.0ms\n",
            "video 1/1 (frame 866/11993) /content/Structure Fire Millers Falls 11_8_22 (1).mp4: 384x640 (no detections), 8.5ms\n",
            "video 1/1 (frame 867/11993) /content/Structure Fire Millers Falls 11_8_22 (1).mp4: 384x640 (no detections), 9.5ms\n",
            "video 1/1 (frame 868/11993) /content/Structure Fire Millers Falls 11_8_22 (1).mp4: 384x640 (no detections), 8.2ms\n",
            "video 1/1 (frame 869/11993) /content/Structure Fire Millers Falls 11_8_22 (1).mp4: 384x640 (no detections), 9.0ms\n",
            "video 1/1 (frame 870/11993) /content/Structure Fire Millers Falls 11_8_22 (1).mp4: 384x640 (no detections), 9.3ms\n",
            "video 1/1 (frame 871/11993) /content/Structure Fire Millers Falls 11_8_22 (1).mp4: 384x640 (no detections), 9.8ms\n",
            "video 1/1 (frame 872/11993) /content/Structure Fire Millers Falls 11_8_22 (1).mp4: 384x640 (no detections), 11.0ms\n",
            "video 1/1 (frame 873/11993) /content/Structure Fire Millers Falls 11_8_22 (1).mp4: 384x640 (no detections), 8.7ms\n",
            "video 1/1 (frame 874/11993) /content/Structure Fire Millers Falls 11_8_22 (1).mp4: 384x640 (no detections), 8.4ms\n",
            "video 1/1 (frame 875/11993) /content/Structure Fire Millers Falls 11_8_22 (1).mp4: 384x640 (no detections), 10.7ms\n",
            "video 1/1 (frame 876/11993) /content/Structure Fire Millers Falls 11_8_22 (1).mp4: 384x640 (no detections), 8.6ms\n",
            "video 1/1 (frame 877/11993) /content/Structure Fire Millers Falls 11_8_22 (1).mp4: 384x640 (no detections), 8.0ms\n",
            "video 1/1 (frame 878/11993) /content/Structure Fire Millers Falls 11_8_22 (1).mp4: 384x640 (no detections), 9.9ms\n",
            "video 1/1 (frame 879/11993) /content/Structure Fire Millers Falls 11_8_22 (1).mp4: 384x640 (no detections), 11.0ms\n",
            "video 1/1 (frame 880/11993) /content/Structure Fire Millers Falls 11_8_22 (1).mp4: 384x640 (no detections), 10.5ms\n",
            "video 1/1 (frame 881/11993) /content/Structure Fire Millers Falls 11_8_22 (1).mp4: 384x640 (no detections), 11.4ms\n",
            "video 1/1 (frame 882/11993) /content/Structure Fire Millers Falls 11_8_22 (1).mp4: 384x640 (no detections), 10.3ms\n",
            "video 1/1 (frame 883/11993) /content/Structure Fire Millers Falls 11_8_22 (1).mp4: 384x640 (no detections), 11.4ms\n",
            "video 1/1 (frame 884/11993) /content/Structure Fire Millers Falls 11_8_22 (1).mp4: 384x640 (no detections), 8.8ms\n",
            "video 1/1 (frame 885/11993) /content/Structure Fire Millers Falls 11_8_22 (1).mp4: 384x640 (no detections), 12.2ms\n",
            "video 1/1 (frame 886/11993) /content/Structure Fire Millers Falls 11_8_22 (1).mp4: 384x640 (no detections), 10.2ms\n",
            "video 1/1 (frame 887/11993) /content/Structure Fire Millers Falls 11_8_22 (1).mp4: 384x640 (no detections), 8.6ms\n",
            "video 1/1 (frame 888/11993) /content/Structure Fire Millers Falls 11_8_22 (1).mp4: 384x640 (no detections), 10.9ms\n",
            "video 1/1 (frame 889/11993) /content/Structure Fire Millers Falls 11_8_22 (1).mp4: 384x640 (no detections), 11.5ms\n",
            "video 1/1 (frame 890/11993) /content/Structure Fire Millers Falls 11_8_22 (1).mp4: 384x640 (no detections), 9.9ms\n",
            "video 1/1 (frame 891/11993) /content/Structure Fire Millers Falls 11_8_22 (1).mp4: 384x640 (no detections), 10.6ms\n",
            "video 1/1 (frame 892/11993) /content/Structure Fire Millers Falls 11_8_22 (1).mp4: 384x640 (no detections), 9.7ms\n",
            "video 1/1 (frame 893/11993) /content/Structure Fire Millers Falls 11_8_22 (1).mp4: 384x640 (no detections), 8.7ms\n",
            "video 1/1 (frame 894/11993) /content/Structure Fire Millers Falls 11_8_22 (1).mp4: 384x640 (no detections), 8.5ms\n",
            "video 1/1 (frame 895/11993) /content/Structure Fire Millers Falls 11_8_22 (1).mp4: 384x640 (no detections), 11.7ms\n",
            "video 1/1 (frame 896/11993) /content/Structure Fire Millers Falls 11_8_22 (1).mp4: 384x640 (no detections), 16.6ms\n",
            "video 1/1 (frame 897/11993) /content/Structure Fire Millers Falls 11_8_22 (1).mp4: 384x640 (no detections), 9.8ms\n",
            "video 1/1 (frame 898/11993) /content/Structure Fire Millers Falls 11_8_22 (1).mp4: 384x640 (no detections), 11.2ms\n",
            "video 1/1 (frame 899/11993) /content/Structure Fire Millers Falls 11_8_22 (1).mp4: 384x640 (no detections), 9.2ms\n",
            "video 1/1 (frame 900/11993) /content/Structure Fire Millers Falls 11_8_22 (1).mp4: 384x640 (no detections), 12.0ms\n",
            "video 1/1 (frame 901/11993) /content/Structure Fire Millers Falls 11_8_22 (1).mp4: 384x640 (no detections), 8.5ms\n",
            "video 1/1 (frame 902/11993) /content/Structure Fire Millers Falls 11_8_22 (1).mp4: 384x640 (no detections), 8.3ms\n",
            "video 1/1 (frame 903/11993) /content/Structure Fire Millers Falls 11_8_22 (1).mp4: 384x640 (no detections), 10.9ms\n",
            "video 1/1 (frame 904/11993) /content/Structure Fire Millers Falls 11_8_22 (1).mp4: 384x640 (no detections), 11.7ms\n",
            "video 1/1 (frame 905/11993) /content/Structure Fire Millers Falls 11_8_22 (1).mp4: 384x640 (no detections), 8.6ms\n",
            "video 1/1 (frame 906/11993) /content/Structure Fire Millers Falls 11_8_22 (1).mp4: 384x640 (no detections), 8.6ms\n",
            "video 1/1 (frame 907/11993) /content/Structure Fire Millers Falls 11_8_22 (1).mp4: 384x640 (no detections), 9.5ms\n",
            "video 1/1 (frame 908/11993) /content/Structure Fire Millers Falls 11_8_22 (1).mp4: 384x640 (no detections), 9.5ms\n",
            "video 1/1 (frame 909/11993) /content/Structure Fire Millers Falls 11_8_22 (1).mp4: 384x640 (no detections), 11.7ms\n",
            "video 1/1 (frame 910/11993) /content/Structure Fire Millers Falls 11_8_22 (1).mp4: 384x640 (no detections), 8.4ms\n",
            "video 1/1 (frame 911/11993) /content/Structure Fire Millers Falls 11_8_22 (1).mp4: 384x640 (no detections), 8.5ms\n",
            "video 1/1 (frame 912/11993) /content/Structure Fire Millers Falls 11_8_22 (1).mp4: 384x640 (no detections), 11.1ms\n",
            "video 1/1 (frame 913/11993) /content/Structure Fire Millers Falls 11_8_22 (1).mp4: 384x640 (no detections), 10.5ms\n",
            "video 1/1 (frame 914/11993) /content/Structure Fire Millers Falls 11_8_22 (1).mp4: 384x640 (no detections), 8.5ms\n",
            "video 1/1 (frame 915/11993) /content/Structure Fire Millers Falls 11_8_22 (1).mp4: 384x640 (no detections), 12.7ms\n",
            "video 1/1 (frame 916/11993) /content/Structure Fire Millers Falls 11_8_22 (1).mp4: 384x640 (no detections), 9.4ms\n",
            "video 1/1 (frame 917/11993) /content/Structure Fire Millers Falls 11_8_22 (1).mp4: 384x640 (no detections), 11.1ms\n",
            "video 1/1 (frame 918/11993) /content/Structure Fire Millers Falls 11_8_22 (1).mp4: 384x640 (no detections), 11.4ms\n",
            "video 1/1 (frame 919/11993) /content/Structure Fire Millers Falls 11_8_22 (1).mp4: 384x640 (no detections), 13.2ms\n",
            "video 1/1 (frame 920/11993) /content/Structure Fire Millers Falls 11_8_22 (1).mp4: 384x640 (no detections), 11.1ms\n",
            "video 1/1 (frame 921/11993) /content/Structure Fire Millers Falls 11_8_22 (1).mp4: 384x640 (no detections), 11.7ms\n",
            "video 1/1 (frame 922/11993) /content/Structure Fire Millers Falls 11_8_22 (1).mp4: 384x640 (no detections), 8.4ms\n",
            "video 1/1 (frame 923/11993) /content/Structure Fire Millers Falls 11_8_22 (1).mp4: 384x640 (no detections), 12.0ms\n",
            "video 1/1 (frame 924/11993) /content/Structure Fire Millers Falls 11_8_22 (1).mp4: 384x640 (no detections), 8.8ms\n",
            "video 1/1 (frame 925/11993) /content/Structure Fire Millers Falls 11_8_22 (1).mp4: 384x640 (no detections), 11.5ms\n",
            "video 1/1 (frame 926/11993) /content/Structure Fire Millers Falls 11_8_22 (1).mp4: 384x640 (no detections), 8.9ms\n",
            "video 1/1 (frame 927/11993) /content/Structure Fire Millers Falls 11_8_22 (1).mp4: 384x640 (no detections), 10.0ms\n",
            "video 1/1 (frame 928/11993) /content/Structure Fire Millers Falls 11_8_22 (1).mp4: 384x640 (no detections), 20.0ms\n",
            "video 1/1 (frame 929/11993) /content/Structure Fire Millers Falls 11_8_22 (1).mp4: 384x640 (no detections), 10.8ms\n",
            "video 1/1 (frame 930/11993) /content/Structure Fire Millers Falls 11_8_22 (1).mp4: 384x640 (no detections), 9.4ms\n",
            "video 1/1 (frame 931/11993) /content/Structure Fire Millers Falls 11_8_22 (1).mp4: 384x640 (no detections), 10.6ms\n",
            "video 1/1 (frame 932/11993) /content/Structure Fire Millers Falls 11_8_22 (1).mp4: 384x640 (no detections), 15.2ms\n",
            "video 1/1 (frame 933/11993) /content/Structure Fire Millers Falls 11_8_22 (1).mp4: 384x640 (no detections), 12.4ms\n",
            "video 1/1 (frame 934/11993) /content/Structure Fire Millers Falls 11_8_22 (1).mp4: 384x640 (no detections), 10.7ms\n",
            "video 1/1 (frame 935/11993) /content/Structure Fire Millers Falls 11_8_22 (1).mp4: 384x640 (no detections), 10.3ms\n",
            "video 1/1 (frame 936/11993) /content/Structure Fire Millers Falls 11_8_22 (1).mp4: 384x640 (no detections), 9.7ms\n",
            "video 1/1 (frame 937/11993) /content/Structure Fire Millers Falls 11_8_22 (1).mp4: 384x640 (no detections), 9.2ms\n",
            "video 1/1 (frame 938/11993) /content/Structure Fire Millers Falls 11_8_22 (1).mp4: 384x640 (no detections), 11.1ms\n",
            "video 1/1 (frame 939/11993) /content/Structure Fire Millers Falls 11_8_22 (1).mp4: 384x640 (no detections), 9.0ms\n",
            "video 1/1 (frame 940/11993) /content/Structure Fire Millers Falls 11_8_22 (1).mp4: 384x640 (no detections), 12.3ms\n",
            "video 1/1 (frame 941/11993) /content/Structure Fire Millers Falls 11_8_22 (1).mp4: 384x640 (no detections), 10.1ms\n",
            "video 1/1 (frame 942/11993) /content/Structure Fire Millers Falls 11_8_22 (1).mp4: 384x640 (no detections), 11.4ms\n",
            "video 1/1 (frame 943/11993) /content/Structure Fire Millers Falls 11_8_22 (1).mp4: 384x640 (no detections), 8.8ms\n",
            "video 1/1 (frame 944/11993) /content/Structure Fire Millers Falls 11_8_22 (1).mp4: 384x640 (no detections), 11.6ms\n",
            "video 1/1 (frame 945/11993) /content/Structure Fire Millers Falls 11_8_22 (1).mp4: 384x640 (no detections), 8.5ms\n",
            "video 1/1 (frame 946/11993) /content/Structure Fire Millers Falls 11_8_22 (1).mp4: 384x640 (no detections), 9.1ms\n",
            "video 1/1 (frame 947/11993) /content/Structure Fire Millers Falls 11_8_22 (1).mp4: 384x640 (no detections), 8.9ms\n",
            "video 1/1 (frame 948/11993) /content/Structure Fire Millers Falls 11_8_22 (1).mp4: 384x640 (no detections), 10.1ms\n",
            "video 1/1 (frame 949/11993) /content/Structure Fire Millers Falls 11_8_22 (1).mp4: 384x640 (no detections), 8.6ms\n",
            "video 1/1 (frame 950/11993) /content/Structure Fire Millers Falls 11_8_22 (1).mp4: 384x640 (no detections), 8.7ms\n",
            "video 1/1 (frame 951/11993) /content/Structure Fire Millers Falls 11_8_22 (1).mp4: 384x640 (no detections), 8.2ms\n",
            "video 1/1 (frame 952/11993) /content/Structure Fire Millers Falls 11_8_22 (1).mp4: 384x640 (no detections), 10.4ms\n",
            "video 1/1 (frame 953/11993) /content/Structure Fire Millers Falls 11_8_22 (1).mp4: 384x640 (no detections), 10.0ms\n",
            "video 1/1 (frame 954/11993) /content/Structure Fire Millers Falls 11_8_22 (1).mp4: 384x640 (no detections), 10.8ms\n",
            "video 1/1 (frame 955/11993) /content/Structure Fire Millers Falls 11_8_22 (1).mp4: 384x640 (no detections), 8.5ms\n",
            "video 1/1 (frame 956/11993) /content/Structure Fire Millers Falls 11_8_22 (1).mp4: 384x640 (no detections), 10.7ms\n",
            "video 1/1 (frame 957/11993) /content/Structure Fire Millers Falls 11_8_22 (1).mp4: 384x640 (no detections), 8.7ms\n",
            "video 1/1 (frame 958/11993) /content/Structure Fire Millers Falls 11_8_22 (1).mp4: 384x640 (no detections), 9.3ms\n",
            "video 1/1 (frame 959/11993) /content/Structure Fire Millers Falls 11_8_22 (1).mp4: 384x640 (no detections), 8.7ms\n",
            "video 1/1 (frame 960/11993) /content/Structure Fire Millers Falls 11_8_22 (1).mp4: 384x640 (no detections), 11.0ms\n",
            "video 1/1 (frame 961/11993) /content/Structure Fire Millers Falls 11_8_22 (1).mp4: 384x640 (no detections), 12.7ms\n",
            "video 1/1 (frame 962/11993) /content/Structure Fire Millers Falls 11_8_22 (1).mp4: 384x640 (no detections), 8.1ms\n",
            "video 1/1 (frame 963/11993) /content/Structure Fire Millers Falls 11_8_22 (1).mp4: 384x640 (no detections), 8.2ms\n",
            "video 1/1 (frame 964/11993) /content/Structure Fire Millers Falls 11_8_22 (1).mp4: 384x640 (no detections), 10.4ms\n",
            "video 1/1 (frame 965/11993) /content/Structure Fire Millers Falls 11_8_22 (1).mp4: 384x640 (no detections), 9.1ms\n",
            "video 1/1 (frame 966/11993) /content/Structure Fire Millers Falls 11_8_22 (1).mp4: 384x640 (no detections), 10.6ms\n",
            "video 1/1 (frame 967/11993) /content/Structure Fire Millers Falls 11_8_22 (1).mp4: 384x640 (no detections), 9.3ms\n",
            "video 1/1 (frame 968/11993) /content/Structure Fire Millers Falls 11_8_22 (1).mp4: 384x640 (no detections), 8.9ms\n",
            "video 1/1 (frame 969/11993) /content/Structure Fire Millers Falls 11_8_22 (1).mp4: 384x640 (no detections), 8.0ms\n",
            "video 1/1 (frame 970/11993) /content/Structure Fire Millers Falls 11_8_22 (1).mp4: 384x640 (no detections), 9.0ms\n",
            "video 1/1 (frame 971/11993) /content/Structure Fire Millers Falls 11_8_22 (1).mp4: 384x640 (no detections), 8.8ms\n",
            "video 1/1 (frame 972/11993) /content/Structure Fire Millers Falls 11_8_22 (1).mp4: 384x640 (no detections), 12.7ms\n",
            "video 1/1 (frame 973/11993) /content/Structure Fire Millers Falls 11_8_22 (1).mp4: 384x640 (no detections), 8.5ms\n",
            "video 1/1 (frame 974/11993) /content/Structure Fire Millers Falls 11_8_22 (1).mp4: 384x640 (no detections), 9.2ms\n",
            "video 1/1 (frame 975/11993) /content/Structure Fire Millers Falls 11_8_22 (1).mp4: 384x640 (no detections), 10.6ms\n",
            "video 1/1 (frame 976/11993) /content/Structure Fire Millers Falls 11_8_22 (1).mp4: 384x640 (no detections), 10.8ms\n",
            "video 1/1 (frame 977/11993) /content/Structure Fire Millers Falls 11_8_22 (1).mp4: 384x640 (no detections), 8.9ms\n",
            "video 1/1 (frame 978/11993) /content/Structure Fire Millers Falls 11_8_22 (1).mp4: 384x640 (no detections), 9.3ms\n",
            "video 1/1 (frame 979/11993) /content/Structure Fire Millers Falls 11_8_22 (1).mp4: 384x640 (no detections), 11.3ms\n",
            "video 1/1 (frame 980/11993) /content/Structure Fire Millers Falls 11_8_22 (1).mp4: 384x640 (no detections), 8.7ms\n",
            "video 1/1 (frame 981/11993) /content/Structure Fire Millers Falls 11_8_22 (1).mp4: 384x640 (no detections), 8.1ms\n",
            "video 1/1 (frame 982/11993) /content/Structure Fire Millers Falls 11_8_22 (1).mp4: 384x640 (no detections), 8.5ms\n",
            "video 1/1 (frame 983/11993) /content/Structure Fire Millers Falls 11_8_22 (1).mp4: 384x640 (no detections), 11.5ms\n",
            "video 1/1 (frame 984/11993) /content/Structure Fire Millers Falls 11_8_22 (1).mp4: 384x640 (no detections), 8.1ms\n",
            "video 1/1 (frame 985/11993) /content/Structure Fire Millers Falls 11_8_22 (1).mp4: 384x640 (no detections), 9.2ms\n",
            "video 1/1 (frame 986/11993) /content/Structure Fire Millers Falls 11_8_22 (1).mp4: 384x640 (no detections), 9.0ms\n",
            "video 1/1 (frame 987/11993) /content/Structure Fire Millers Falls 11_8_22 (1).mp4: 384x640 (no detections), 14.2ms\n",
            "video 1/1 (frame 988/11993) /content/Structure Fire Millers Falls 11_8_22 (1).mp4: 384x640 (no detections), 11.4ms\n",
            "video 1/1 (frame 989/11993) /content/Structure Fire Millers Falls 11_8_22 (1).mp4: 384x640 (no detections), 12.6ms\n",
            "video 1/1 (frame 990/11993) /content/Structure Fire Millers Falls 11_8_22 (1).mp4: 384x640 (no detections), 8.3ms\n",
            "video 1/1 (frame 991/11993) /content/Structure Fire Millers Falls 11_8_22 (1).mp4: 384x640 (no detections), 8.5ms\n",
            "video 1/1 (frame 992/11993) /content/Structure Fire Millers Falls 11_8_22 (1).mp4: 384x640 (no detections), 8.2ms\n",
            "video 1/1 (frame 993/11993) /content/Structure Fire Millers Falls 11_8_22 (1).mp4: 384x640 (no detections), 10.3ms\n",
            "video 1/1 (frame 994/11993) /content/Structure Fire Millers Falls 11_8_22 (1).mp4: 384x640 (no detections), 8.7ms\n",
            "video 1/1 (frame 995/11993) /content/Structure Fire Millers Falls 11_8_22 (1).mp4: 384x640 (no detections), 8.5ms\n",
            "video 1/1 (frame 996/11993) /content/Structure Fire Millers Falls 11_8_22 (1).mp4: 384x640 (no detections), 8.3ms\n",
            "video 1/1 (frame 997/11993) /content/Structure Fire Millers Falls 11_8_22 (1).mp4: 384x640 (no detections), 10.0ms\n",
            "video 1/1 (frame 998/11993) /content/Structure Fire Millers Falls 11_8_22 (1).mp4: 384x640 (no detections), 9.9ms\n",
            "video 1/1 (frame 999/11993) /content/Structure Fire Millers Falls 11_8_22 (1).mp4: 384x640 (no detections), 10.2ms\n",
            "video 1/1 (frame 1000/11993) /content/Structure Fire Millers Falls 11_8_22 (1).mp4: 384x640 (no detections), 8.6ms\n",
            "video 1/1 (frame 1001/11993) /content/Structure Fire Millers Falls 11_8_22 (1).mp4: 384x640 (no detections), 8.5ms\n",
            "video 1/1 (frame 1002/11993) /content/Structure Fire Millers Falls 11_8_22 (1).mp4: 384x640 (no detections), 9.9ms\n",
            "video 1/1 (frame 1003/11993) /content/Structure Fire Millers Falls 11_8_22 (1).mp4: 384x640 (no detections), 11.3ms\n",
            "video 1/1 (frame 1004/11993) /content/Structure Fire Millers Falls 11_8_22 (1).mp4: 384x640 (no detections), 13.8ms\n",
            "video 1/1 (frame 1005/11993) /content/Structure Fire Millers Falls 11_8_22 (1).mp4: 384x640 (no detections), 16.2ms\n",
            "video 1/1 (frame 1006/11993) /content/Structure Fire Millers Falls 11_8_22 (1).mp4: 384x640 (no detections), 11.8ms\n",
            "video 1/1 (frame 1007/11993) /content/Structure Fire Millers Falls 11_8_22 (1).mp4: 384x640 (no detections), 11.1ms\n",
            "video 1/1 (frame 1008/11993) /content/Structure Fire Millers Falls 11_8_22 (1).mp4: 384x640 (no detections), 9.9ms\n",
            "video 1/1 (frame 1009/11993) /content/Structure Fire Millers Falls 11_8_22 (1).mp4: 384x640 (no detections), 9.9ms\n",
            "video 1/1 (frame 1010/11993) /content/Structure Fire Millers Falls 11_8_22 (1).mp4: 384x640 (no detections), 8.6ms\n",
            "video 1/1 (frame 1011/11993) /content/Structure Fire Millers Falls 11_8_22 (1).mp4: 384x640 (no detections), 9.8ms\n",
            "video 1/1 (frame 1012/11993) /content/Structure Fire Millers Falls 11_8_22 (1).mp4: 384x640 (no detections), 9.8ms\n",
            "video 1/1 (frame 1013/11993) /content/Structure Fire Millers Falls 11_8_22 (1).mp4: 384x640 (no detections), 10.0ms\n",
            "video 1/1 (frame 1014/11993) /content/Structure Fire Millers Falls 11_8_22 (1).mp4: 384x640 (no detections), 8.7ms\n",
            "video 1/1 (frame 1015/11993) /content/Structure Fire Millers Falls 11_8_22 (1).mp4: 384x640 (no detections), 9.0ms\n",
            "video 1/1 (frame 1016/11993) /content/Structure Fire Millers Falls 11_8_22 (1).mp4: 384x640 (no detections), 8.6ms\n",
            "video 1/1 (frame 1017/11993) /content/Structure Fire Millers Falls 11_8_22 (1).mp4: 384x640 (no detections), 12.0ms\n",
            "video 1/1 (frame 1018/11993) /content/Structure Fire Millers Falls 11_8_22 (1).mp4: 384x640 (no detections), 8.9ms\n",
            "video 1/1 (frame 1019/11993) /content/Structure Fire Millers Falls 11_8_22 (1).mp4: 384x640 (no detections), 12.3ms\n",
            "video 1/1 (frame 1020/11993) /content/Structure Fire Millers Falls 11_8_22 (1).mp4: 384x640 (no detections), 9.0ms\n",
            "video 1/1 (frame 1021/11993) /content/Structure Fire Millers Falls 11_8_22 (1).mp4: 384x640 (no detections), 13.6ms\n",
            "video 1/1 (frame 1022/11993) /content/Structure Fire Millers Falls 11_8_22 (1).mp4: 384x640 (no detections), 8.8ms\n",
            "video 1/1 (frame 1023/11993) /content/Structure Fire Millers Falls 11_8_22 (1).mp4: 384x640 (no detections), 10.9ms\n",
            "video 1/1 (frame 1024/11993) /content/Structure Fire Millers Falls 11_8_22 (1).mp4: 384x640 (no detections), 12.7ms\n",
            "video 1/1 (frame 1025/11993) /content/Structure Fire Millers Falls 11_8_22 (1).mp4: 384x640 (no detections), 11.5ms\n",
            "video 1/1 (frame 1026/11993) /content/Structure Fire Millers Falls 11_8_22 (1).mp4: 384x640 (no detections), 8.5ms\n",
            "video 1/1 (frame 1027/11993) /content/Structure Fire Millers Falls 11_8_22 (1).mp4: 384x640 (no detections), 10.1ms\n",
            "video 1/1 (frame 1028/11993) /content/Structure Fire Millers Falls 11_8_22 (1).mp4: 384x640 (no detections), 8.4ms\n",
            "video 1/1 (frame 1029/11993) /content/Structure Fire Millers Falls 11_8_22 (1).mp4: 384x640 (no detections), 10.3ms\n",
            "video 1/1 (frame 1030/11993) /content/Structure Fire Millers Falls 11_8_22 (1).mp4: 384x640 (no detections), 8.8ms\n",
            "video 1/1 (frame 1031/11993) /content/Structure Fire Millers Falls 11_8_22 (1).mp4: 384x640 (no detections), 8.8ms\n",
            "video 1/1 (frame 1032/11993) /content/Structure Fire Millers Falls 11_8_22 (1).mp4: 384x640 (no detections), 8.9ms\n",
            "video 1/1 (frame 1033/11993) /content/Structure Fire Millers Falls 11_8_22 (1).mp4: 384x640 (no detections), 11.7ms\n",
            "video 1/1 (frame 1034/11993) /content/Structure Fire Millers Falls 11_8_22 (1).mp4: 384x640 (no detections), 8.9ms\n",
            "video 1/1 (frame 1035/11993) /content/Structure Fire Millers Falls 11_8_22 (1).mp4: 384x640 (no detections), 9.2ms\n",
            "video 1/1 (frame 1036/11993) /content/Structure Fire Millers Falls 11_8_22 (1).mp4: 384x640 (no detections), 8.7ms\n",
            "video 1/1 (frame 1037/11993) /content/Structure Fire Millers Falls 11_8_22 (1).mp4: 384x640 (no detections), 12.6ms\n",
            "video 1/1 (frame 1038/11993) /content/Structure Fire Millers Falls 11_8_22 (1).mp4: 384x640 (no detections), 12.1ms\n",
            "video 1/1 (frame 1039/11993) /content/Structure Fire Millers Falls 11_8_22 (1).mp4: 384x640 (no detections), 8.9ms\n",
            "video 1/1 (frame 1040/11993) /content/Structure Fire Millers Falls 11_8_22 (1).mp4: 384x640 (no detections), 10.5ms\n",
            "video 1/1 (frame 1041/11993) /content/Structure Fire Millers Falls 11_8_22 (1).mp4: 384x640 (no detections), 9.1ms\n",
            "video 1/1 (frame 1042/11993) /content/Structure Fire Millers Falls 11_8_22 (1).mp4: 384x640 (no detections), 11.9ms\n",
            "video 1/1 (frame 1043/11993) /content/Structure Fire Millers Falls 11_8_22 (1).mp4: 384x640 (no detections), 10.3ms\n",
            "video 1/1 (frame 1044/11993) /content/Structure Fire Millers Falls 11_8_22 (1).mp4: 384x640 (no detections), 11.3ms\n",
            "video 1/1 (frame 1045/11993) /content/Structure Fire Millers Falls 11_8_22 (1).mp4: 384x640 (no detections), 13.0ms\n",
            "video 1/1 (frame 1046/11993) /content/Structure Fire Millers Falls 11_8_22 (1).mp4: 384x640 (no detections), 10.6ms\n",
            "video 1/1 (frame 1047/11993) /content/Structure Fire Millers Falls 11_8_22 (1).mp4: 384x640 (no detections), 11.2ms\n",
            "video 1/1 (frame 1048/11993) /content/Structure Fire Millers Falls 11_8_22 (1).mp4: 384x640 (no detections), 13.8ms\n",
            "video 1/1 (frame 1049/11993) /content/Structure Fire Millers Falls 11_8_22 (1).mp4: 384x640 (no detections), 10.7ms\n",
            "video 1/1 (frame 1050/11993) /content/Structure Fire Millers Falls 11_8_22 (1).mp4: 384x640 (no detections), 12.9ms\n",
            "video 1/1 (frame 1051/11993) /content/Structure Fire Millers Falls 11_8_22 (1).mp4: 384x640 (no detections), 9.9ms\n",
            "video 1/1 (frame 1052/11993) /content/Structure Fire Millers Falls 11_8_22 (1).mp4: 384x640 (no detections), 10.0ms\n",
            "video 1/1 (frame 1053/11993) /content/Structure Fire Millers Falls 11_8_22 (1).mp4: 384x640 (no detections), 10.4ms\n",
            "video 1/1 (frame 1054/11993) /content/Structure Fire Millers Falls 11_8_22 (1).mp4: 384x640 (no detections), 11.8ms\n",
            "video 1/1 (frame 1055/11993) /content/Structure Fire Millers Falls 11_8_22 (1).mp4: 384x640 (no detections), 10.6ms\n",
            "video 1/1 (frame 1056/11993) /content/Structure Fire Millers Falls 11_8_22 (1).mp4: 384x640 (no detections), 12.3ms\n",
            "video 1/1 (frame 1057/11993) /content/Structure Fire Millers Falls 11_8_22 (1).mp4: 384x640 (no detections), 9.9ms\n",
            "video 1/1 (frame 1058/11993) /content/Structure Fire Millers Falls 11_8_22 (1).mp4: 384x640 (no detections), 13.1ms\n",
            "video 1/1 (frame 1059/11993) /content/Structure Fire Millers Falls 11_8_22 (1).mp4: 384x640 (no detections), 10.4ms\n",
            "video 1/1 (frame 1060/11993) /content/Structure Fire Millers Falls 11_8_22 (1).mp4: 384x640 (no detections), 8.4ms\n",
            "video 1/1 (frame 1061/11993) /content/Structure Fire Millers Falls 11_8_22 (1).mp4: 384x640 (no detections), 9.8ms\n",
            "video 1/1 (frame 1062/11993) /content/Structure Fire Millers Falls 11_8_22 (1).mp4: 384x640 (no detections), 8.5ms\n",
            "video 1/1 (frame 1063/11993) /content/Structure Fire Millers Falls 11_8_22 (1).mp4: 384x640 (no detections), 9.9ms\n",
            "video 1/1 (frame 1064/11993) /content/Structure Fire Millers Falls 11_8_22 (1).mp4: 384x640 (no detections), 10.9ms\n",
            "video 1/1 (frame 1065/11993) /content/Structure Fire Millers Falls 11_8_22 (1).mp4: 384x640 (no detections), 10.7ms\n",
            "video 1/1 (frame 1066/11993) /content/Structure Fire Millers Falls 11_8_22 (1).mp4: 384x640 (no detections), 8.5ms\n",
            "video 1/1 (frame 1067/11993) /content/Structure Fire Millers Falls 11_8_22 (1).mp4: 384x640 (no detections), 10.2ms\n",
            "video 1/1 (frame 1068/11993) /content/Structure Fire Millers Falls 11_8_22 (1).mp4: 384x640 (no detections), 8.9ms\n",
            "video 1/1 (frame 1069/11993) /content/Structure Fire Millers Falls 11_8_22 (1).mp4: 384x640 (no detections), 8.6ms\n",
            "video 1/1 (frame 1070/11993) /content/Structure Fire Millers Falls 11_8_22 (1).mp4: 384x640 (no detections), 8.8ms\n",
            "video 1/1 (frame 1071/11993) /content/Structure Fire Millers Falls 11_8_22 (1).mp4: 384x640 (no detections), 12.3ms\n",
            "video 1/1 (frame 1072/11993) /content/Structure Fire Millers Falls 11_8_22 (1).mp4: 384x640 (no detections), 8.7ms\n",
            "video 1/1 (frame 1073/11993) /content/Structure Fire Millers Falls 11_8_22 (1).mp4: 384x640 (no detections), 8.4ms\n",
            "video 1/1 (frame 1074/11993) /content/Structure Fire Millers Falls 11_8_22 (1).mp4: 384x640 (no detections), 11.1ms\n",
            "video 1/1 (frame 1075/11993) /content/Structure Fire Millers Falls 11_8_22 (1).mp4: 384x640 (no detections), 9.0ms\n",
            "video 1/1 (frame 1076/11993) /content/Structure Fire Millers Falls 11_8_22 (1).mp4: 384x640 (no detections), 13.7ms\n",
            "video 1/1 (frame 1077/11993) /content/Structure Fire Millers Falls 11_8_22 (1).mp4: 384x640 (no detections), 8.9ms\n",
            "video 1/1 (frame 1078/11993) /content/Structure Fire Millers Falls 11_8_22 (1).mp4: 384x640 (no detections), 10.1ms\n",
            "video 1/1 (frame 1079/11993) /content/Structure Fire Millers Falls 11_8_22 (1).mp4: 384x640 (no detections), 11.5ms\n",
            "video 1/1 (frame 1080/11993) /content/Structure Fire Millers Falls 11_8_22 (1).mp4: 384x640 (no detections), 9.9ms\n",
            "video 1/1 (frame 1081/11993) /content/Structure Fire Millers Falls 11_8_22 (1).mp4: 384x640 (no detections), 9.8ms\n",
            "video 1/1 (frame 1082/11993) /content/Structure Fire Millers Falls 11_8_22 (1).mp4: 384x640 (no detections), 13.9ms\n",
            "video 1/1 (frame 1083/11993) /content/Structure Fire Millers Falls 11_8_22 (1).mp4: 384x640 (no detections), 12.6ms\n",
            "video 1/1 (frame 1084/11993) /content/Structure Fire Millers Falls 11_8_22 (1).mp4: 384x640 (no detections), 15.0ms\n",
            "video 1/1 (frame 1085/11993) /content/Structure Fire Millers Falls 11_8_22 (1).mp4: 384x640 (no detections), 8.8ms\n",
            "video 1/1 (frame 1086/11993) /content/Structure Fire Millers Falls 11_8_22 (1).mp4: 384x640 (no detections), 15.8ms\n",
            "video 1/1 (frame 1087/11993) /content/Structure Fire Millers Falls 11_8_22 (1).mp4: 384x640 (no detections), 9.9ms\n",
            "video 1/1 (frame 1088/11993) /content/Structure Fire Millers Falls 11_8_22 (1).mp4: 384x640 (no detections), 9.7ms\n",
            "video 1/1 (frame 1089/11993) /content/Structure Fire Millers Falls 11_8_22 (1).mp4: 384x640 (no detections), 12.0ms\n",
            "video 1/1 (frame 1090/11993) /content/Structure Fire Millers Falls 11_8_22 (1).mp4: 384x640 (no detections), 11.5ms\n",
            "video 1/1 (frame 1091/11993) /content/Structure Fire Millers Falls 11_8_22 (1).mp4: 384x640 (no detections), 9.4ms\n",
            "video 1/1 (frame 1092/11993) /content/Structure Fire Millers Falls 11_8_22 (1).mp4: 384x640 (no detections), 13.8ms\n",
            "video 1/1 (frame 1093/11993) /content/Structure Fire Millers Falls 11_8_22 (1).mp4: 384x640 (no detections), 10.7ms\n",
            "video 1/1 (frame 1094/11993) /content/Structure Fire Millers Falls 11_8_22 (1).mp4: 384x640 (no detections), 10.7ms\n",
            "video 1/1 (frame 1095/11993) /content/Structure Fire Millers Falls 11_8_22 (1).mp4: 384x640 (no detections), 8.7ms\n",
            "video 1/1 (frame 1096/11993) /content/Structure Fire Millers Falls 11_8_22 (1).mp4: 384x640 (no detections), 12.0ms\n",
            "video 1/1 (frame 1097/11993) /content/Structure Fire Millers Falls 11_8_22 (1).mp4: 384x640 (no detections), 9.3ms\n",
            "video 1/1 (frame 1098/11993) /content/Structure Fire Millers Falls 11_8_22 (1).mp4: 384x640 (no detections), 11.7ms\n",
            "video 1/1 (frame 1099/11993) /content/Structure Fire Millers Falls 11_8_22 (1).mp4: 384x640 (no detections), 10.5ms\n",
            "video 1/1 (frame 1100/11993) /content/Structure Fire Millers Falls 11_8_22 (1).mp4: 384x640 (no detections), 11.8ms\n",
            "video 1/1 (frame 1101/11993) /content/Structure Fire Millers Falls 11_8_22 (1).mp4: 384x640 (no detections), 9.7ms\n",
            "video 1/1 (frame 1102/11993) /content/Structure Fire Millers Falls 11_8_22 (1).mp4: 384x640 (no detections), 10.0ms\n",
            "video 1/1 (frame 1103/11993) /content/Structure Fire Millers Falls 11_8_22 (1).mp4: 384x640 (no detections), 10.9ms\n",
            "video 1/1 (frame 1104/11993) /content/Structure Fire Millers Falls 11_8_22 (1).mp4: 384x640 (no detections), 10.1ms\n",
            "video 1/1 (frame 1105/11993) /content/Structure Fire Millers Falls 11_8_22 (1).mp4: 384x640 (no detections), 9.1ms\n",
            "video 1/1 (frame 1106/11993) /content/Structure Fire Millers Falls 11_8_22 (1).mp4: 384x640 (no detections), 11.9ms\n",
            "video 1/1 (frame 1107/11993) /content/Structure Fire Millers Falls 11_8_22 (1).mp4: 384x640 (no detections), 13.4ms\n",
            "video 1/1 (frame 1108/11993) /content/Structure Fire Millers Falls 11_8_22 (1).mp4: 384x640 (no detections), 14.5ms\n",
            "video 1/1 (frame 1109/11993) /content/Structure Fire Millers Falls 11_8_22 (1).mp4: 384x640 (no detections), 12.5ms\n",
            "video 1/1 (frame 1110/11993) /content/Structure Fire Millers Falls 11_8_22 (1).mp4: 384x640 (no detections), 10.3ms\n",
            "video 1/1 (frame 1111/11993) /content/Structure Fire Millers Falls 11_8_22 (1).mp4: 384x640 (no detections), 11.9ms\n",
            "video 1/1 (frame 1112/11993) /content/Structure Fire Millers Falls 11_8_22 (1).mp4: 384x640 (no detections), 12.0ms\n",
            "video 1/1 (frame 1113/11993) /content/Structure Fire Millers Falls 11_8_22 (1).mp4: 384x640 (no detections), 12.2ms\n",
            "video 1/1 (frame 1114/11993) /content/Structure Fire Millers Falls 11_8_22 (1).mp4: 384x640 (no detections), 13.5ms\n",
            "video 1/1 (frame 1115/11993) /content/Structure Fire Millers Falls 11_8_22 (1).mp4: 384x640 (no detections), 14.4ms\n",
            "video 1/1 (frame 1116/11993) /content/Structure Fire Millers Falls 11_8_22 (1).mp4: 384x640 (no detections), 14.4ms\n",
            "video 1/1 (frame 1117/11993) /content/Structure Fire Millers Falls 11_8_22 (1).mp4: 384x640 (no detections), 16.8ms\n",
            "video 1/1 (frame 1118/11993) /content/Structure Fire Millers Falls 11_8_22 (1).mp4: 384x640 (no detections), 8.7ms\n",
            "video 1/1 (frame 1119/11993) /content/Structure Fire Millers Falls 11_8_22 (1).mp4: 384x640 (no detections), 9.4ms\n",
            "video 1/1 (frame 1120/11993) /content/Structure Fire Millers Falls 11_8_22 (1).mp4: 384x640 (no detections), 8.8ms\n",
            "video 1/1 (frame 1121/11993) /content/Structure Fire Millers Falls 11_8_22 (1).mp4: 384x640 (no detections), 10.7ms\n",
            "video 1/1 (frame 1122/11993) /content/Structure Fire Millers Falls 11_8_22 (1).mp4: 384x640 (no detections), 11.4ms\n",
            "video 1/1 (frame 1123/11993) /content/Structure Fire Millers Falls 11_8_22 (1).mp4: 384x640 (no detections), 9.1ms\n",
            "video 1/1 (frame 1124/11993) /content/Structure Fire Millers Falls 11_8_22 (1).mp4: 384x640 (no detections), 9.9ms\n",
            "video 1/1 (frame 1125/11993) /content/Structure Fire Millers Falls 11_8_22 (1).mp4: 384x640 (no detections), 9.3ms\n",
            "video 1/1 (frame 1126/11993) /content/Structure Fire Millers Falls 11_8_22 (1).mp4: 384x640 (no detections), 10.5ms\n",
            "video 1/1 (frame 1127/11993) /content/Structure Fire Millers Falls 11_8_22 (1).mp4: 384x640 (no detections), 11.5ms\n",
            "video 1/1 (frame 1128/11993) /content/Structure Fire Millers Falls 11_8_22 (1).mp4: 384x640 (no detections), 9.3ms\n",
            "video 1/1 (frame 1129/11993) /content/Structure Fire Millers Falls 11_8_22 (1).mp4: 384x640 (no detections), 8.6ms\n",
            "video 1/1 (frame 1130/11993) /content/Structure Fire Millers Falls 11_8_22 (1).mp4: 384x640 (no detections), 10.2ms\n",
            "video 1/1 (frame 1131/11993) /content/Structure Fire Millers Falls 11_8_22 (1).mp4: 384x640 (no detections), 10.9ms\n",
            "video 1/1 (frame 1132/11993) /content/Structure Fire Millers Falls 11_8_22 (1).mp4: 384x640 (no detections), 9.7ms\n",
            "video 1/1 (frame 1133/11993) /content/Structure Fire Millers Falls 11_8_22 (1).mp4: 384x640 (no detections), 8.7ms\n",
            "video 1/1 (frame 1134/11993) /content/Structure Fire Millers Falls 11_8_22 (1).mp4: 384x640 (no detections), 8.7ms\n",
            "video 1/1 (frame 1135/11993) /content/Structure Fire Millers Falls 11_8_22 (1).mp4: 384x640 (no detections), 10.8ms\n",
            "video 1/1 (frame 1136/11993) /content/Structure Fire Millers Falls 11_8_22 (1).mp4: 384x640 (no detections), 9.0ms\n",
            "video 1/1 (frame 1137/11993) /content/Structure Fire Millers Falls 11_8_22 (1).mp4: 384x640 (no detections), 15.2ms\n",
            "video 1/1 (frame 1138/11993) /content/Structure Fire Millers Falls 11_8_22 (1).mp4: 384x640 (no detections), 15.6ms\n",
            "video 1/1 (frame 1139/11993) /content/Structure Fire Millers Falls 11_8_22 (1).mp4: 384x640 (no detections), 16.2ms\n",
            "video 1/1 (frame 1140/11993) /content/Structure Fire Millers Falls 11_8_22 (1).mp4: 384x640 (no detections), 14.8ms\n",
            "video 1/1 (frame 1141/11993) /content/Structure Fire Millers Falls 11_8_22 (1).mp4: 384x640 (no detections), 15.8ms\n",
            "video 1/1 (frame 1142/11993) /content/Structure Fire Millers Falls 11_8_22 (1).mp4: 384x640 (no detections), 17.3ms\n",
            "video 1/1 (frame 1143/11993) /content/Structure Fire Millers Falls 11_8_22 (1).mp4: 384x640 (no detections), 18.5ms\n",
            "video 1/1 (frame 1144/11993) /content/Structure Fire Millers Falls 11_8_22 (1).mp4: 384x640 (no detections), 16.8ms\n",
            "video 1/1 (frame 1145/11993) /content/Structure Fire Millers Falls 11_8_22 (1).mp4: 384x640 (no detections), 14.4ms\n",
            "video 1/1 (frame 1146/11993) /content/Structure Fire Millers Falls 11_8_22 (1).mp4: 384x640 (no detections), 16.2ms\n",
            "video 1/1 (frame 1147/11993) /content/Structure Fire Millers Falls 11_8_22 (1).mp4: 384x640 (no detections), 12.4ms\n",
            "video 1/1 (frame 1148/11993) /content/Structure Fire Millers Falls 11_8_22 (1).mp4: 384x640 (no detections), 14.2ms\n",
            "video 1/1 (frame 1149/11993) /content/Structure Fire Millers Falls 11_8_22 (1).mp4: 384x640 (no detections), 12.8ms\n",
            "video 1/1 (frame 1150/11993) /content/Structure Fire Millers Falls 11_8_22 (1).mp4: 384x640 (no detections), 11.5ms\n",
            "video 1/1 (frame 1151/11993) /content/Structure Fire Millers Falls 11_8_22 (1).mp4: 384x640 (no detections), 12.8ms\n",
            "video 1/1 (frame 1152/11993) /content/Structure Fire Millers Falls 11_8_22 (1).mp4: 384x640 (no detections), 14.1ms\n",
            "video 1/1 (frame 1153/11993) /content/Structure Fire Millers Falls 11_8_22 (1).mp4: 384x640 (no detections), 11.9ms\n",
            "video 1/1 (frame 1154/11993) /content/Structure Fire Millers Falls 11_8_22 (1).mp4: 384x640 (no detections), 23.9ms\n",
            "video 1/1 (frame 1155/11993) /content/Structure Fire Millers Falls 11_8_22 (1).mp4: 384x640 (no detections), 15.1ms\n",
            "video 1/1 (frame 1156/11993) /content/Structure Fire Millers Falls 11_8_22 (1).mp4: 384x640 (no detections), 12.1ms\n",
            "video 1/1 (frame 1157/11993) /content/Structure Fire Millers Falls 11_8_22 (1).mp4: 384x640 (no detections), 15.3ms\n",
            "video 1/1 (frame 1158/11993) /content/Structure Fire Millers Falls 11_8_22 (1).mp4: 384x640 (no detections), 10.7ms\n",
            "video 1/1 (frame 1159/11993) /content/Structure Fire Millers Falls 11_8_22 (1).mp4: 384x640 (no detections), 13.2ms\n",
            "video 1/1 (frame 1160/11993) /content/Structure Fire Millers Falls 11_8_22 (1).mp4: 384x640 (no detections), 10.8ms\n",
            "video 1/1 (frame 1161/11993) /content/Structure Fire Millers Falls 11_8_22 (1).mp4: 384x640 (no detections), 10.1ms\n",
            "video 1/1 (frame 1162/11993) /content/Structure Fire Millers Falls 11_8_22 (1).mp4: 384x640 (no detections), 11.2ms\n",
            "video 1/1 (frame 1163/11993) /content/Structure Fire Millers Falls 11_8_22 (1).mp4: 384x640 (no detections), 14.0ms\n",
            "video 1/1 (frame 1164/11993) /content/Structure Fire Millers Falls 11_8_22 (1).mp4: 384x640 (no detections), 16.9ms\n",
            "video 1/1 (frame 1165/11993) /content/Structure Fire Millers Falls 11_8_22 (1).mp4: 384x640 (no detections), 13.4ms\n",
            "video 1/1 (frame 1166/11993) /content/Structure Fire Millers Falls 11_8_22 (1).mp4: 384x640 (no detections), 21.3ms\n",
            "video 1/1 (frame 1167/11993) /content/Structure Fire Millers Falls 11_8_22 (1).mp4: 384x640 (no detections), 18.9ms\n",
            "video 1/1 (frame 1168/11993) /content/Structure Fire Millers Falls 11_8_22 (1).mp4: 384x640 (no detections), 13.7ms\n",
            "video 1/1 (frame 1169/11993) /content/Structure Fire Millers Falls 11_8_22 (1).mp4: 384x640 (no detections), 22.0ms\n",
            "video 1/1 (frame 1170/11993) /content/Structure Fire Millers Falls 11_8_22 (1).mp4: 384x640 (no detections), 20.3ms\n",
            "video 1/1 (frame 1171/11993) /content/Structure Fire Millers Falls 11_8_22 (1).mp4: 384x640 (no detections), 15.9ms\n",
            "video 1/1 (frame 1172/11993) /content/Structure Fire Millers Falls 11_8_22 (1).mp4: 384x640 (no detections), 16.5ms\n",
            "video 1/1 (frame 1173/11993) /content/Structure Fire Millers Falls 11_8_22 (1).mp4: 384x640 (no detections), 13.2ms\n",
            "video 1/1 (frame 1174/11993) /content/Structure Fire Millers Falls 11_8_22 (1).mp4: 384x640 (no detections), 12.8ms\n",
            "video 1/1 (frame 1175/11993) /content/Structure Fire Millers Falls 11_8_22 (1).mp4: 384x640 (no detections), 12.6ms\n",
            "video 1/1 (frame 1176/11993) /content/Structure Fire Millers Falls 11_8_22 (1).mp4: 384x640 (no detections), 19.4ms\n",
            "video 1/1 (frame 1177/11993) /content/Structure Fire Millers Falls 11_8_22 (1).mp4: 384x640 (no detections), 11.6ms\n",
            "video 1/1 (frame 1178/11993) /content/Structure Fire Millers Falls 11_8_22 (1).mp4: 384x640 (no detections), 13.6ms\n",
            "video 1/1 (frame 1179/11993) /content/Structure Fire Millers Falls 11_8_22 (1).mp4: 384x640 (no detections), 15.5ms\n",
            "video 1/1 (frame 1180/11993) /content/Structure Fire Millers Falls 11_8_22 (1).mp4: 384x640 (no detections), 17.9ms\n",
            "video 1/1 (frame 1181/11993) /content/Structure Fire Millers Falls 11_8_22 (1).mp4: 384x640 (no detections), 23.6ms\n",
            "video 1/1 (frame 1182/11993) /content/Structure Fire Millers Falls 11_8_22 (1).mp4: 384x640 (no detections), 18.2ms\n",
            "video 1/1 (frame 1183/11993) /content/Structure Fire Millers Falls 11_8_22 (1).mp4: 384x640 (no detections), 17.1ms\n",
            "video 1/1 (frame 1184/11993) /content/Structure Fire Millers Falls 11_8_22 (1).mp4: 384x640 (no detections), 19.4ms\n",
            "video 1/1 (frame 1185/11993) /content/Structure Fire Millers Falls 11_8_22 (1).mp4: 384x640 (no detections), 10.7ms\n",
            "video 1/1 (frame 1186/11993) /content/Structure Fire Millers Falls 11_8_22 (1).mp4: 384x640 (no detections), 8.8ms\n",
            "video 1/1 (frame 1187/11993) /content/Structure Fire Millers Falls 11_8_22 (1).mp4: 384x640 (no detections), 13.2ms\n",
            "video 1/1 (frame 1188/11993) /content/Structure Fire Millers Falls 11_8_22 (1).mp4: 384x640 (no detections), 8.8ms\n",
            "video 1/1 (frame 1189/11993) /content/Structure Fire Millers Falls 11_8_22 (1).mp4: 384x640 (no detections), 10.0ms\n",
            "video 1/1 (frame 1190/11993) /content/Structure Fire Millers Falls 11_8_22 (1).mp4: 384x640 (no detections), 14.2ms\n",
            "video 1/1 (frame 1191/11993) /content/Structure Fire Millers Falls 11_8_22 (1).mp4: 384x640 (no detections), 8.7ms\n",
            "video 1/1 (frame 1192/11993) /content/Structure Fire Millers Falls 11_8_22 (1).mp4: 384x640 (no detections), 8.5ms\n",
            "video 1/1 (frame 1193/11993) /content/Structure Fire Millers Falls 11_8_22 (1).mp4: 384x640 (no detections), 10.7ms\n",
            "video 1/1 (frame 1194/11993) /content/Structure Fire Millers Falls 11_8_22 (1).mp4: 384x640 (no detections), 11.1ms\n",
            "video 1/1 (frame 1195/11993) /content/Structure Fire Millers Falls 11_8_22 (1).mp4: 384x640 (no detections), 8.7ms\n",
            "video 1/1 (frame 1196/11993) /content/Structure Fire Millers Falls 11_8_22 (1).mp4: 384x640 (no detections), 11.0ms\n",
            "video 1/1 (frame 1197/11993) /content/Structure Fire Millers Falls 11_8_22 (1).mp4: 384x640 (no detections), 9.9ms\n",
            "video 1/1 (frame 1198/11993) /content/Structure Fire Millers Falls 11_8_22 (1).mp4: 384x640 (no detections), 9.1ms\n",
            "video 1/1 (frame 1199/11993) /content/Structure Fire Millers Falls 11_8_22 (1).mp4: 384x640 (no detections), 8.6ms\n",
            "video 1/1 (frame 1200/11993) /content/Structure Fire Millers Falls 11_8_22 (1).mp4: 384x640 (no detections), 13.5ms\n",
            "video 1/1 (frame 1201/11993) /content/Structure Fire Millers Falls 11_8_22 (1).mp4: 384x640 (no detections), 9.8ms\n",
            "video 1/1 (frame 1202/11993) /content/Structure Fire Millers Falls 11_8_22 (1).mp4: 384x640 (no detections), 12.2ms\n",
            "video 1/1 (frame 1203/11993) /content/Structure Fire Millers Falls 11_8_22 (1).mp4: 384x640 (no detections), 9.6ms\n",
            "video 1/1 (frame 1204/11993) /content/Structure Fire Millers Falls 11_8_22 (1).mp4: 384x640 (no detections), 11.1ms\n",
            "video 1/1 (frame 1205/11993) /content/Structure Fire Millers Falls 11_8_22 (1).mp4: 384x640 (no detections), 9.3ms\n",
            "video 1/1 (frame 1206/11993) /content/Structure Fire Millers Falls 11_8_22 (1).mp4: 384x640 (no detections), 9.3ms\n",
            "video 1/1 (frame 1207/11993) /content/Structure Fire Millers Falls 11_8_22 (1).mp4: 384x640 (no detections), 10.0ms\n",
            "video 1/1 (frame 1208/11993) /content/Structure Fire Millers Falls 11_8_22 (1).mp4: 384x640 (no detections), 11.6ms\n",
            "video 1/1 (frame 1209/11993) /content/Structure Fire Millers Falls 11_8_22 (1).mp4: 384x640 (no detections), 12.9ms\n",
            "video 1/1 (frame 1210/11993) /content/Structure Fire Millers Falls 11_8_22 (1).mp4: 384x640 (no detections), 9.9ms\n",
            "video 1/1 (frame 1211/11993) /content/Structure Fire Millers Falls 11_8_22 (1).mp4: 384x640 (no detections), 8.7ms\n",
            "video 1/1 (frame 1212/11993) /content/Structure Fire Millers Falls 11_8_22 (1).mp4: 384x640 (no detections), 10.7ms\n",
            "video 1/1 (frame 1213/11993) /content/Structure Fire Millers Falls 11_8_22 (1).mp4: 384x640 (no detections), 10.7ms\n",
            "video 1/1 (frame 1214/11993) /content/Structure Fire Millers Falls 11_8_22 (1).mp4: 384x640 (no detections), 11.8ms\n",
            "video 1/1 (frame 1215/11993) /content/Structure Fire Millers Falls 11_8_22 (1).mp4: 384x640 (no detections), 8.7ms\n",
            "video 1/1 (frame 1216/11993) /content/Structure Fire Millers Falls 11_8_22 (1).mp4: 384x640 (no detections), 9.1ms\n",
            "video 1/1 (frame 1217/11993) /content/Structure Fire Millers Falls 11_8_22 (1).mp4: 384x640 (no detections), 12.2ms\n",
            "video 1/1 (frame 1218/11993) /content/Structure Fire Millers Falls 11_8_22 (1).mp4: 384x640 (no detections), 9.9ms\n",
            "video 1/1 (frame 1219/11993) /content/Structure Fire Millers Falls 11_8_22 (1).mp4: 384x640 (no detections), 9.3ms\n",
            "video 1/1 (frame 1220/11993) /content/Structure Fire Millers Falls 11_8_22 (1).mp4: 384x640 (no detections), 8.9ms\n",
            "video 1/1 (frame 1221/11993) /content/Structure Fire Millers Falls 11_8_22 (1).mp4: 384x640 (no detections), 14.3ms\n",
            "video 1/1 (frame 1222/11993) /content/Structure Fire Millers Falls 11_8_22 (1).mp4: 384x640 (no detections), 11.7ms\n",
            "video 1/1 (frame 1223/11993) /content/Structure Fire Millers Falls 11_8_22 (1).mp4: 384x640 (no detections), 9.9ms\n",
            "video 1/1 (frame 1224/11993) /content/Structure Fire Millers Falls 11_8_22 (1).mp4: 384x640 (no detections), 13.6ms\n",
            "video 1/1 (frame 1225/11993) /content/Structure Fire Millers Falls 11_8_22 (1).mp4: 384x640 (no detections), 10.9ms\n",
            "video 1/1 (frame 1226/11993) /content/Structure Fire Millers Falls 11_8_22 (1).mp4: 384x640 (no detections), 9.9ms\n",
            "video 1/1 (frame 1227/11993) /content/Structure Fire Millers Falls 11_8_22 (1).mp4: 384x640 (no detections), 12.5ms\n",
            "video 1/1 (frame 1228/11993) /content/Structure Fire Millers Falls 11_8_22 (1).mp4: 384x640 (no detections), 11.9ms\n",
            "video 1/1 (frame 1229/11993) /content/Structure Fire Millers Falls 11_8_22 (1).mp4: 384x640 (no detections), 10.5ms\n",
            "video 1/1 (frame 1230/11993) /content/Structure Fire Millers Falls 11_8_22 (1).mp4: 384x640 (no detections), 11.9ms\n",
            "video 1/1 (frame 1231/11993) /content/Structure Fire Millers Falls 11_8_22 (1).mp4: 384x640 (no detections), 9.1ms\n",
            "video 1/1 (frame 1232/11993) /content/Structure Fire Millers Falls 11_8_22 (1).mp4: 384x640 (no detections), 11.8ms\n",
            "video 1/1 (frame 1233/11993) /content/Structure Fire Millers Falls 11_8_22 (1).mp4: 384x640 (no detections), 11.3ms\n",
            "video 1/1 (frame 1234/11993) /content/Structure Fire Millers Falls 11_8_22 (1).mp4: 384x640 (no detections), 10.1ms\n",
            "video 1/1 (frame 1235/11993) /content/Structure Fire Millers Falls 11_8_22 (1).mp4: 384x640 (no detections), 11.2ms\n",
            "video 1/1 (frame 1236/11993) /content/Structure Fire Millers Falls 11_8_22 (1).mp4: 384x640 (no detections), 10.5ms\n",
            "video 1/1 (frame 1237/11993) /content/Structure Fire Millers Falls 11_8_22 (1).mp4: 384x640 (no detections), 15.3ms\n",
            "video 1/1 (frame 1238/11993) /content/Structure Fire Millers Falls 11_8_22 (1).mp4: 384x640 (no detections), 11.7ms\n",
            "video 1/1 (frame 1239/11993) /content/Structure Fire Millers Falls 11_8_22 (1).mp4: 384x640 (no detections), 8.7ms\n",
            "video 1/1 (frame 1240/11993) /content/Structure Fire Millers Falls 11_8_22 (1).mp4: 384x640 (no detections), 12.9ms\n",
            "video 1/1 (frame 1241/11993) /content/Structure Fire Millers Falls 11_8_22 (1).mp4: 384x640 (no detections), 9.2ms\n",
            "video 1/1 (frame 1242/11993) /content/Structure Fire Millers Falls 11_8_22 (1).mp4: 384x640 (no detections), 9.4ms\n",
            "video 1/1 (frame 1243/11993) /content/Structure Fire Millers Falls 11_8_22 (1).mp4: 384x640 (no detections), 8.4ms\n",
            "video 1/1 (frame 1244/11993) /content/Structure Fire Millers Falls 11_8_22 (1).mp4: 384x640 (no detections), 12.9ms\n",
            "video 1/1 (frame 1245/11993) /content/Structure Fire Millers Falls 11_8_22 (1).mp4: 384x640 (no detections), 8.7ms\n",
            "video 1/1 (frame 1246/11993) /content/Structure Fire Millers Falls 11_8_22 (1).mp4: 384x640 (no detections), 11.2ms\n",
            "video 1/1 (frame 1247/11993) /content/Structure Fire Millers Falls 11_8_22 (1).mp4: 384x640 (no detections), 12.7ms\n",
            "video 1/1 (frame 1248/11993) /content/Structure Fire Millers Falls 11_8_22 (1).mp4: 384x640 (no detections), 8.2ms\n",
            "video 1/1 (frame 1249/11993) /content/Structure Fire Millers Falls 11_8_22 (1).mp4: 384x640 (no detections), 11.4ms\n",
            "video 1/1 (frame 1250/11993) /content/Structure Fire Millers Falls 11_8_22 (1).mp4: 384x640 (no detections), 10.0ms\n",
            "video 1/1 (frame 1251/11993) /content/Structure Fire Millers Falls 11_8_22 (1).mp4: 384x640 (no detections), 11.2ms\n",
            "video 1/1 (frame 1252/11993) /content/Structure Fire Millers Falls 11_8_22 (1).mp4: 384x640 (no detections), 12.7ms\n",
            "video 1/1 (frame 1253/11993) /content/Structure Fire Millers Falls 11_8_22 (1).mp4: 384x640 (no detections), 19.7ms\n",
            "video 1/1 (frame 1254/11993) /content/Structure Fire Millers Falls 11_8_22 (1).mp4: 384x640 (no detections), 10.1ms\n",
            "video 1/1 (frame 1255/11993) /content/Structure Fire Millers Falls 11_8_22 (1).mp4: 384x640 (no detections), 12.1ms\n",
            "video 1/1 (frame 1256/11993) /content/Structure Fire Millers Falls 11_8_22 (1).mp4: 384x640 (no detections), 12.5ms\n",
            "video 1/1 (frame 1257/11993) /content/Structure Fire Millers Falls 11_8_22 (1).mp4: 384x640 (no detections), 12.4ms\n",
            "video 1/1 (frame 1258/11993) /content/Structure Fire Millers Falls 11_8_22 (1).mp4: 384x640 (no detections), 8.5ms\n",
            "video 1/1 (frame 1259/11993) /content/Structure Fire Millers Falls 11_8_22 (1).mp4: 384x640 (no detections), 12.3ms\n",
            "video 1/1 (frame 1260/11993) /content/Structure Fire Millers Falls 11_8_22 (1).mp4: 384x640 (no detections), 8.8ms\n",
            "video 1/1 (frame 1261/11993) /content/Structure Fire Millers Falls 11_8_22 (1).mp4: 384x640 (no detections), 8.4ms\n",
            "video 1/1 (frame 1262/11993) /content/Structure Fire Millers Falls 11_8_22 (1).mp4: 384x640 (no detections), 9.0ms\n",
            "video 1/1 (frame 1263/11993) /content/Structure Fire Millers Falls 11_8_22 (1).mp4: 384x640 (no detections), 10.5ms\n",
            "video 1/1 (frame 1264/11993) /content/Structure Fire Millers Falls 11_8_22 (1).mp4: 384x640 (no detections), 10.1ms\n",
            "video 1/1 (frame 1265/11993) /content/Structure Fire Millers Falls 11_8_22 (1).mp4: 384x640 (no detections), 8.3ms\n",
            "video 1/1 (frame 1266/11993) /content/Structure Fire Millers Falls 11_8_22 (1).mp4: 384x640 (no detections), 8.7ms\n",
            "video 1/1 (frame 1267/11993) /content/Structure Fire Millers Falls 11_8_22 (1).mp4: 384x640 (no detections), 13.4ms\n",
            "video 1/1 (frame 1268/11993) /content/Structure Fire Millers Falls 11_8_22 (1).mp4: 384x640 (no detections), 11.5ms\n",
            "video 1/1 (frame 1269/11993) /content/Structure Fire Millers Falls 11_8_22 (1).mp4: 384x640 (no detections), 11.0ms\n",
            "video 1/1 (frame 1270/11993) /content/Structure Fire Millers Falls 11_8_22 (1).mp4: 384x640 (no detections), 12.9ms\n",
            "video 1/1 (frame 1271/11993) /content/Structure Fire Millers Falls 11_8_22 (1).mp4: 384x640 (no detections), 12.6ms\n",
            "video 1/1 (frame 1272/11993) /content/Structure Fire Millers Falls 11_8_22 (1).mp4: 384x640 (no detections), 8.6ms\n",
            "video 1/1 (frame 1273/11993) /content/Structure Fire Millers Falls 11_8_22 (1).mp4: 384x640 (no detections), 15.7ms\n",
            "video 1/1 (frame 1274/11993) /content/Structure Fire Millers Falls 11_8_22 (1).mp4: 384x640 (no detections), 8.8ms\n",
            "video 1/1 (frame 1275/11993) /content/Structure Fire Millers Falls 11_8_22 (1).mp4: 384x640 (no detections), 10.5ms\n",
            "video 1/1 (frame 1276/11993) /content/Structure Fire Millers Falls 11_8_22 (1).mp4: 384x640 (no detections), 9.0ms\n",
            "video 1/1 (frame 1277/11993) /content/Structure Fire Millers Falls 11_8_22 (1).mp4: 384x640 (no detections), 14.6ms\n",
            "video 1/1 (frame 1278/11993) /content/Structure Fire Millers Falls 11_8_22 (1).mp4: 384x640 (no detections), 9.1ms\n",
            "video 1/1 (frame 1279/11993) /content/Structure Fire Millers Falls 11_8_22 (1).mp4: 384x640 (no detections), 12.0ms\n",
            "video 1/1 (frame 1280/11993) /content/Structure Fire Millers Falls 11_8_22 (1).mp4: 384x640 (no detections), 10.1ms\n",
            "video 1/1 (frame 1281/11993) /content/Structure Fire Millers Falls 11_8_22 (1).mp4: 384x640 (no detections), 8.4ms\n",
            "video 1/1 (frame 1282/11993) /content/Structure Fire Millers Falls 11_8_22 (1).mp4: 384x640 (no detections), 21.7ms\n",
            "video 1/1 (frame 1283/11993) /content/Structure Fire Millers Falls 11_8_22 (1).mp4: 384x640 (no detections), 13.6ms\n",
            "video 1/1 (frame 1284/11993) /content/Structure Fire Millers Falls 11_8_22 (1).mp4: 384x640 (no detections), 10.1ms\n",
            "video 1/1 (frame 1285/11993) /content/Structure Fire Millers Falls 11_8_22 (1).mp4: 384x640 (no detections), 10.5ms\n",
            "video 1/1 (frame 1286/11993) /content/Structure Fire Millers Falls 11_8_22 (1).mp4: 384x640 (no detections), 8.9ms\n",
            "video 1/1 (frame 1287/11993) /content/Structure Fire Millers Falls 11_8_22 (1).mp4: 384x640 (no detections), 9.7ms\n",
            "video 1/1 (frame 1288/11993) /content/Structure Fire Millers Falls 11_8_22 (1).mp4: 384x640 (no detections), 8.8ms\n",
            "video 1/1 (frame 1289/11993) /content/Structure Fire Millers Falls 11_8_22 (1).mp4: 384x640 (no detections), 12.2ms\n",
            "video 1/1 (frame 1290/11993) /content/Structure Fire Millers Falls 11_8_22 (1).mp4: 384x640 (no detections), 8.9ms\n",
            "video 1/1 (frame 1291/11993) /content/Structure Fire Millers Falls 11_8_22 (1).mp4: 384x640 (no detections), 12.6ms\n",
            "video 1/1 (frame 1292/11993) /content/Structure Fire Millers Falls 11_8_22 (1).mp4: 384x640 (no detections), 10.5ms\n",
            "video 1/1 (frame 1293/11993) /content/Structure Fire Millers Falls 11_8_22 (1).mp4: 384x640 (no detections), 11.7ms\n",
            "video 1/1 (frame 1294/11993) /content/Structure Fire Millers Falls 11_8_22 (1).mp4: 384x640 (no detections), 11.5ms\n",
            "video 1/1 (frame 1295/11993) /content/Structure Fire Millers Falls 11_8_22 (1).mp4: 384x640 (no detections), 8.8ms\n",
            "video 1/1 (frame 1296/11993) /content/Structure Fire Millers Falls 11_8_22 (1).mp4: 384x640 (no detections), 10.8ms\n",
            "video 1/1 (frame 1297/11993) /content/Structure Fire Millers Falls 11_8_22 (1).mp4: 384x640 (no detections), 11.1ms\n",
            "video 1/1 (frame 1298/11993) /content/Structure Fire Millers Falls 11_8_22 (1).mp4: 384x640 (no detections), 12.0ms\n",
            "video 1/1 (frame 1299/11993) /content/Structure Fire Millers Falls 11_8_22 (1).mp4: 384x640 (no detections), 12.4ms\n",
            "video 1/1 (frame 1300/11993) /content/Structure Fire Millers Falls 11_8_22 (1).mp4: 384x640 (no detections), 12.0ms\n",
            "video 1/1 (frame 1301/11993) /content/Structure Fire Millers Falls 11_8_22 (1).mp4: 384x640 (no detections), 11.5ms\n",
            "video 1/1 (frame 1302/11993) /content/Structure Fire Millers Falls 11_8_22 (1).mp4: 384x640 (no detections), 10.5ms\n",
            "video 1/1 (frame 1303/11993) /content/Structure Fire Millers Falls 11_8_22 (1).mp4: 384x640 (no detections), 9.2ms\n",
            "video 1/1 (frame 1304/11993) /content/Structure Fire Millers Falls 11_8_22 (1).mp4: 384x640 (no detections), 11.7ms\n",
            "video 1/1 (frame 1305/11993) /content/Structure Fire Millers Falls 11_8_22 (1).mp4: 384x640 (no detections), 9.5ms\n",
            "video 1/1 (frame 1306/11993) /content/Structure Fire Millers Falls 11_8_22 (1).mp4: 384x640 (no detections), 10.1ms\n",
            "video 1/1 (frame 1307/11993) /content/Structure Fire Millers Falls 11_8_22 (1).mp4: 384x640 (no detections), 8.5ms\n",
            "video 1/1 (frame 1308/11993) /content/Structure Fire Millers Falls 11_8_22 (1).mp4: 384x640 (no detections), 12.3ms\n",
            "video 1/1 (frame 1309/11993) /content/Structure Fire Millers Falls 11_8_22 (1).mp4: 384x640 (no detections), 8.9ms\n",
            "video 1/1 (frame 1310/11993) /content/Structure Fire Millers Falls 11_8_22 (1).mp4: 384x640 (no detections), 10.6ms\n",
            "video 1/1 (frame 1311/11993) /content/Structure Fire Millers Falls 11_8_22 (1).mp4: 384x640 (no detections), 10.6ms\n",
            "video 1/1 (frame 1312/11993) /content/Structure Fire Millers Falls 11_8_22 (1).mp4: 384x640 (no detections), 9.3ms\n",
            "video 1/1 (frame 1313/11993) /content/Structure Fire Millers Falls 11_8_22 (1).mp4: 384x640 (no detections), 12.4ms\n",
            "video 1/1 (frame 1314/11993) /content/Structure Fire Millers Falls 11_8_22 (1).mp4: 384x640 (no detections), 14.5ms\n",
            "video 1/1 (frame 1315/11993) /content/Structure Fire Millers Falls 11_8_22 (1).mp4: 384x640 (no detections), 20.0ms\n",
            "video 1/1 (frame 1316/11993) /content/Structure Fire Millers Falls 11_8_22 (1).mp4: 384x640 (no detections), 9.2ms\n",
            "video 1/1 (frame 1317/11993) /content/Structure Fire Millers Falls 11_8_22 (1).mp4: 384x640 (no detections), 11.1ms\n",
            "video 1/1 (frame 1318/11993) /content/Structure Fire Millers Falls 11_8_22 (1).mp4: 384x640 (no detections), 10.6ms\n",
            "video 1/1 (frame 1319/11993) /content/Structure Fire Millers Falls 11_8_22 (1).mp4: 384x640 (no detections), 11.1ms\n",
            "video 1/1 (frame 1320/11993) /content/Structure Fire Millers Falls 11_8_22 (1).mp4: 384x640 (no detections), 11.5ms\n",
            "video 1/1 (frame 1321/11993) /content/Structure Fire Millers Falls 11_8_22 (1).mp4: 384x640 (no detections), 8.7ms\n",
            "video 1/1 (frame 1322/11993) /content/Structure Fire Millers Falls 11_8_22 (1).mp4: 384x640 (no detections), 10.4ms\n",
            "video 1/1 (frame 1323/11993) /content/Structure Fire Millers Falls 11_8_22 (1).mp4: 384x640 (no detections), 9.1ms\n",
            "video 1/1 (frame 1324/11993) /content/Structure Fire Millers Falls 11_8_22 (1).mp4: 384x640 (no detections), 13.2ms\n",
            "video 1/1 (frame 1325/11993) /content/Structure Fire Millers Falls 11_8_22 (1).mp4: 384x640 (no detections), 9.1ms\n",
            "video 1/1 (frame 1326/11993) /content/Structure Fire Millers Falls 11_8_22 (1).mp4: 384x640 (no detections), 10.4ms\n",
            "video 1/1 (frame 1327/11993) /content/Structure Fire Millers Falls 11_8_22 (1).mp4: 384x640 (no detections), 12.4ms\n",
            "video 1/1 (frame 1328/11993) /content/Structure Fire Millers Falls 11_8_22 (1).mp4: 384x640 (no detections), 13.1ms\n",
            "video 1/1 (frame 1329/11993) /content/Structure Fire Millers Falls 11_8_22 (1).mp4: 384x640 (no detections), 11.0ms\n",
            "video 1/1 (frame 1330/11993) /content/Structure Fire Millers Falls 11_8_22 (1).mp4: 384x640 (no detections), 9.0ms\n",
            "video 1/1 (frame 1331/11993) /content/Structure Fire Millers Falls 11_8_22 (1).mp4: 384x640 (no detections), 18.7ms\n",
            "video 1/1 (frame 1332/11993) /content/Structure Fire Millers Falls 11_8_22 (1).mp4: 384x640 (no detections), 8.2ms\n",
            "video 1/1 (frame 1333/11993) /content/Structure Fire Millers Falls 11_8_22 (1).mp4: 384x640 (no detections), 9.7ms\n",
            "video 1/1 (frame 1334/11993) /content/Structure Fire Millers Falls 11_8_22 (1).mp4: 384x640 (no detections), 8.6ms\n",
            "video 1/1 (frame 1335/11993) /content/Structure Fire Millers Falls 11_8_22 (1).mp4: 384x640 (no detections), 11.0ms\n",
            "video 1/1 (frame 1336/11993) /content/Structure Fire Millers Falls 11_8_22 (1).mp4: 384x640 (no detections), 9.7ms\n",
            "video 1/1 (frame 1337/11993) /content/Structure Fire Millers Falls 11_8_22 (1).mp4: 384x640 (no detections), 10.5ms\n",
            "video 1/1 (frame 1338/11993) /content/Structure Fire Millers Falls 11_8_22 (1).mp4: 384x640 (no detections), 8.8ms\n",
            "video 1/1 (frame 1339/11993) /content/Structure Fire Millers Falls 11_8_22 (1).mp4: 384x640 (no detections), 11.1ms\n",
            "video 1/1 (frame 1340/11993) /content/Structure Fire Millers Falls 11_8_22 (1).mp4: 384x640 (no detections), 10.4ms\n",
            "video 1/1 (frame 1341/11993) /content/Structure Fire Millers Falls 11_8_22 (1).mp4: 384x640 (no detections), 11.9ms\n",
            "video 1/1 (frame 1342/11993) /content/Structure Fire Millers Falls 11_8_22 (1).mp4: 384x640 (no detections), 11.6ms\n",
            "video 1/1 (frame 1343/11993) /content/Structure Fire Millers Falls 11_8_22 (1).mp4: 384x640 (no detections), 11.9ms\n",
            "video 1/1 (frame 1344/11993) /content/Structure Fire Millers Falls 11_8_22 (1).mp4: 384x640 (no detections), 8.9ms\n",
            "video 1/1 (frame 1345/11993) /content/Structure Fire Millers Falls 11_8_22 (1).mp4: 384x640 (no detections), 10.5ms\n",
            "video 1/1 (frame 1346/11993) /content/Structure Fire Millers Falls 11_8_22 (1).mp4: 384x640 (no detections), 10.2ms\n",
            "video 1/1 (frame 1347/11993) /content/Structure Fire Millers Falls 11_8_22 (1).mp4: 384x640 (no detections), 14.6ms\n",
            "video 1/1 (frame 1348/11993) /content/Structure Fire Millers Falls 11_8_22 (1).mp4: 384x640 (no detections), 11.9ms\n",
            "video 1/1 (frame 1349/11993) /content/Structure Fire Millers Falls 11_8_22 (1).mp4: 384x640 (no detections), 8.7ms\n",
            "video 1/1 (frame 1350/11993) /content/Structure Fire Millers Falls 11_8_22 (1).mp4: 384x640 (no detections), 8.3ms\n",
            "video 1/1 (frame 1351/11993) /content/Structure Fire Millers Falls 11_8_22 (1).mp4: 384x640 (no detections), 8.4ms\n",
            "video 1/1 (frame 1352/11993) /content/Structure Fire Millers Falls 11_8_22 (1).mp4: 384x640 (no detections), 10.3ms\n",
            "video 1/1 (frame 1353/11993) /content/Structure Fire Millers Falls 11_8_22 (1).mp4: 384x640 (no detections), 8.9ms\n",
            "video 1/1 (frame 1354/11993) /content/Structure Fire Millers Falls 11_8_22 (1).mp4: 384x640 (no detections), 8.6ms\n",
            "video 1/1 (frame 1355/11993) /content/Structure Fire Millers Falls 11_8_22 (1).mp4: 384x640 (no detections), 9.2ms\n",
            "video 1/1 (frame 1356/11993) /content/Structure Fire Millers Falls 11_8_22 (1).mp4: 384x640 (no detections), 11.5ms\n",
            "video 1/1 (frame 1357/11993) /content/Structure Fire Millers Falls 11_8_22 (1).mp4: 384x640 (no detections), 8.7ms\n",
            "video 1/1 (frame 1358/11993) /content/Structure Fire Millers Falls 11_8_22 (1).mp4: 384x640 (no detections), 10.6ms\n",
            "video 1/1 (frame 1359/11993) /content/Structure Fire Millers Falls 11_8_22 (1).mp4: 384x640 (no detections), 9.2ms\n",
            "video 1/1 (frame 1360/11993) /content/Structure Fire Millers Falls 11_8_22 (1).mp4: 384x640 (no detections), 10.5ms\n",
            "video 1/1 (frame 1361/11993) /content/Structure Fire Millers Falls 11_8_22 (1).mp4: 384x640 (no detections), 8.6ms\n",
            "video 1/1 (frame 1362/11993) /content/Structure Fire Millers Falls 11_8_22 (1).mp4: 384x640 (no detections), 9.0ms\n",
            "video 1/1 (frame 1363/11993) /content/Structure Fire Millers Falls 11_8_22 (1).mp4: 384x640 (no detections), 10.1ms\n",
            "video 1/1 (frame 1364/11993) /content/Structure Fire Millers Falls 11_8_22 (1).mp4: 384x640 (no detections), 10.6ms\n",
            "video 1/1 (frame 1365/11993) /content/Structure Fire Millers Falls 11_8_22 (1).mp4: 384x640 (no detections), 8.9ms\n",
            "video 1/1 (frame 1366/11993) /content/Structure Fire Millers Falls 11_8_22 (1).mp4: 384x640 (no detections), 9.4ms\n",
            "video 1/1 (frame 1367/11993) /content/Structure Fire Millers Falls 11_8_22 (1).mp4: 384x640 (no detections), 11.8ms\n",
            "video 1/1 (frame 1368/11993) /content/Structure Fire Millers Falls 11_8_22 (1).mp4: 384x640 (no detections), 9.2ms\n",
            "video 1/1 (frame 1369/11993) /content/Structure Fire Millers Falls 11_8_22 (1).mp4: 384x640 (no detections), 11.2ms\n",
            "video 1/1 (frame 1370/11993) /content/Structure Fire Millers Falls 11_8_22 (1).mp4: 384x640 (no detections), 14.9ms\n",
            "video 1/1 (frame 1371/11993) /content/Structure Fire Millers Falls 11_8_22 (1).mp4: 384x640 (no detections), 10.4ms\n",
            "video 1/1 (frame 1372/11993) /content/Structure Fire Millers Falls 11_8_22 (1).mp4: 384x640 (no detections), 8.5ms\n",
            "video 1/1 (frame 1373/11993) /content/Structure Fire Millers Falls 11_8_22 (1).mp4: 384x640 (no detections), 10.8ms\n",
            "video 1/1 (frame 1374/11993) /content/Structure Fire Millers Falls 11_8_22 (1).mp4: 384x640 (no detections), 18.4ms\n",
            "video 1/1 (frame 1375/11993) /content/Structure Fire Millers Falls 11_8_22 (1).mp4: 384x640 (no detections), 9.8ms\n",
            "video 1/1 (frame 1376/11993) /content/Structure Fire Millers Falls 11_8_22 (1).mp4: 384x640 (no detections), 9.8ms\n",
            "video 1/1 (frame 1377/11993) /content/Structure Fire Millers Falls 11_8_22 (1).mp4: 384x640 (no detections), 10.8ms\n",
            "video 1/1 (frame 1378/11993) /content/Structure Fire Millers Falls 11_8_22 (1).mp4: 384x640 (no detections), 19.3ms\n",
            "video 1/1 (frame 1379/11993) /content/Structure Fire Millers Falls 11_8_22 (1).mp4: 384x640 (no detections), 13.4ms\n",
            "video 1/1 (frame 1380/11993) /content/Structure Fire Millers Falls 11_8_22 (1).mp4: 384x640 (no detections), 8.8ms\n",
            "video 1/1 (frame 1381/11993) /content/Structure Fire Millers Falls 11_8_22 (1).mp4: 384x640 (no detections), 10.0ms\n",
            "video 1/1 (frame 1382/11993) /content/Structure Fire Millers Falls 11_8_22 (1).mp4: 384x640 (no detections), 8.4ms\n",
            "video 1/1 (frame 1383/11993) /content/Structure Fire Millers Falls 11_8_22 (1).mp4: 384x640 (no detections), 11.5ms\n",
            "video 1/1 (frame 1384/11993) /content/Structure Fire Millers Falls 11_8_22 (1).mp4: 384x640 (no detections), 11.6ms\n",
            "video 1/1 (frame 1385/11993) /content/Structure Fire Millers Falls 11_8_22 (1).mp4: 384x640 (no detections), 9.0ms\n",
            "video 1/1 (frame 1386/11993) /content/Structure Fire Millers Falls 11_8_22 (1).mp4: 384x640 (no detections), 8.3ms\n",
            "video 1/1 (frame 1387/11993) /content/Structure Fire Millers Falls 11_8_22 (1).mp4: 384x640 (no detections), 14.9ms\n",
            "video 1/1 (frame 1388/11993) /content/Structure Fire Millers Falls 11_8_22 (1).mp4: 384x640 (no detections), 10.6ms\n",
            "video 1/1 (frame 1389/11993) /content/Structure Fire Millers Falls 11_8_22 (1).mp4: 384x640 (no detections), 9.2ms\n",
            "video 1/1 (frame 1390/11993) /content/Structure Fire Millers Falls 11_8_22 (1).mp4: 384x640 (no detections), 9.5ms\n",
            "video 1/1 (frame 1391/11993) /content/Structure Fire Millers Falls 11_8_22 (1).mp4: 384x640 (no detections), 10.3ms\n",
            "video 1/1 (frame 1392/11993) /content/Structure Fire Millers Falls 11_8_22 (1).mp4: 384x640 (no detections), 9.7ms\n",
            "video 1/1 (frame 1393/11993) /content/Structure Fire Millers Falls 11_8_22 (1).mp4: 384x640 (no detections), 10.3ms\n",
            "video 1/1 (frame 1394/11993) /content/Structure Fire Millers Falls 11_8_22 (1).mp4: 384x640 (no detections), 9.9ms\n",
            "video 1/1 (frame 1395/11993) /content/Structure Fire Millers Falls 11_8_22 (1).mp4: 384x640 (no detections), 12.4ms\n",
            "video 1/1 (frame 1396/11993) /content/Structure Fire Millers Falls 11_8_22 (1).mp4: 384x640 (no detections), 10.3ms\n",
            "video 1/1 (frame 1397/11993) /content/Structure Fire Millers Falls 11_8_22 (1).mp4: 384x640 (no detections), 10.5ms\n",
            "video 1/1 (frame 1398/11993) /content/Structure Fire Millers Falls 11_8_22 (1).mp4: 384x640 (no detections), 8.1ms\n",
            "video 1/1 (frame 1399/11993) /content/Structure Fire Millers Falls 11_8_22 (1).mp4: 384x640 (no detections), 10.4ms\n",
            "video 1/1 (frame 1400/11993) /content/Structure Fire Millers Falls 11_8_22 (1).mp4: 384x640 (no detections), 11.9ms\n",
            "video 1/1 (frame 1401/11993) /content/Structure Fire Millers Falls 11_8_22 (1).mp4: 384x640 (no detections), 8.5ms\n",
            "video 1/1 (frame 1402/11993) /content/Structure Fire Millers Falls 11_8_22 (1).mp4: 384x640 (no detections), 9.7ms\n",
            "video 1/1 (frame 1403/11993) /content/Structure Fire Millers Falls 11_8_22 (1).mp4: 384x640 (no detections), 9.9ms\n",
            "video 1/1 (frame 1404/11993) /content/Structure Fire Millers Falls 11_8_22 (1).mp4: 384x640 (no detections), 13.0ms\n",
            "video 1/1 (frame 1405/11993) /content/Structure Fire Millers Falls 11_8_22 (1).mp4: 384x640 (no detections), 11.9ms\n",
            "video 1/1 (frame 1406/11993) /content/Structure Fire Millers Falls 11_8_22 (1).mp4: 384x640 (no detections), 8.9ms\n",
            "video 1/1 (frame 1407/11993) /content/Structure Fire Millers Falls 11_8_22 (1).mp4: 384x640 (no detections), 8.5ms\n",
            "video 1/1 (frame 1408/11993) /content/Structure Fire Millers Falls 11_8_22 (1).mp4: 384x640 (no detections), 11.1ms\n",
            "video 1/1 (frame 1409/11993) /content/Structure Fire Millers Falls 11_8_22 (1).mp4: 384x640 (no detections), 11.1ms\n",
            "video 1/1 (frame 1410/11993) /content/Structure Fire Millers Falls 11_8_22 (1).mp4: 384x640 (no detections), 20.9ms\n",
            "video 1/1 (frame 1411/11993) /content/Structure Fire Millers Falls 11_8_22 (1).mp4: 384x640 (no detections), 10.8ms\n",
            "video 1/1 (frame 1412/11993) /content/Structure Fire Millers Falls 11_8_22 (1).mp4: 384x640 (no detections), 9.3ms\n",
            "video 1/1 (frame 1413/11993) /content/Structure Fire Millers Falls 11_8_22 (1).mp4: 384x640 (no detections), 12.4ms\n",
            "video 1/1 (frame 1414/11993) /content/Structure Fire Millers Falls 11_8_22 (1).mp4: 384x640 (no detections), 10.7ms\n",
            "video 1/1 (frame 1415/11993) /content/Structure Fire Millers Falls 11_8_22 (1).mp4: 384x640 (no detections), 12.7ms\n",
            "video 1/1 (frame 1416/11993) /content/Structure Fire Millers Falls 11_8_22 (1).mp4: 384x640 (no detections), 8.4ms\n",
            "video 1/1 (frame 1417/11993) /content/Structure Fire Millers Falls 11_8_22 (1).mp4: 384x640 (no detections), 11.6ms\n",
            "video 1/1 (frame 1418/11993) /content/Structure Fire Millers Falls 11_8_22 (1).mp4: 384x640 (no detections), 11.8ms\n",
            "video 1/1 (frame 1419/11993) /content/Structure Fire Millers Falls 11_8_22 (1).mp4: 384x640 (no detections), 10.9ms\n",
            "video 1/1 (frame 1420/11993) /content/Structure Fire Millers Falls 11_8_22 (1).mp4: 384x640 (no detections), 13.1ms\n",
            "video 1/1 (frame 1421/11993) /content/Structure Fire Millers Falls 11_8_22 (1).mp4: 384x640 (no detections), 9.9ms\n",
            "video 1/1 (frame 1422/11993) /content/Structure Fire Millers Falls 11_8_22 (1).mp4: 384x640 (no detections), 12.3ms\n",
            "video 1/1 (frame 1423/11993) /content/Structure Fire Millers Falls 11_8_22 (1).mp4: 384x640 (no detections), 9.0ms\n",
            "video 1/1 (frame 1424/11993) /content/Structure Fire Millers Falls 11_8_22 (1).mp4: 384x640 (no detections), 12.0ms\n",
            "video 1/1 (frame 1425/11993) /content/Structure Fire Millers Falls 11_8_22 (1).mp4: 384x640 (no detections), 10.0ms\n",
            "video 1/1 (frame 1426/11993) /content/Structure Fire Millers Falls 11_8_22 (1).mp4: 384x640 (no detections), 17.2ms\n",
            "video 1/1 (frame 1427/11993) /content/Structure Fire Millers Falls 11_8_22 (1).mp4: 384x640 (no detections), 8.2ms\n",
            "video 1/1 (frame 1428/11993) /content/Structure Fire Millers Falls 11_8_22 (1).mp4: 384x640 (no detections), 10.1ms\n",
            "video 1/1 (frame 1429/11993) /content/Structure Fire Millers Falls 11_8_22 (1).mp4: 384x640 (no detections), 11.8ms\n",
            "video 1/1 (frame 1430/11993) /content/Structure Fire Millers Falls 11_8_22 (1).mp4: 384x640 (no detections), 8.1ms\n",
            "video 1/1 (frame 1431/11993) /content/Structure Fire Millers Falls 11_8_22 (1).mp4: 384x640 (no detections), 8.3ms\n",
            "video 1/1 (frame 1432/11993) /content/Structure Fire Millers Falls 11_8_22 (1).mp4: 384x640 (no detections), 9.5ms\n",
            "video 1/1 (frame 1433/11993) /content/Structure Fire Millers Falls 11_8_22 (1).mp4: 384x640 (no detections), 11.1ms\n",
            "video 1/1 (frame 1434/11993) /content/Structure Fire Millers Falls 11_8_22 (1).mp4: 384x640 (no detections), 8.9ms\n",
            "video 1/1 (frame 1435/11993) /content/Structure Fire Millers Falls 11_8_22 (1).mp4: 384x640 (no detections), 8.7ms\n",
            "video 1/1 (frame 1436/11993) /content/Structure Fire Millers Falls 11_8_22 (1).mp4: 384x640 (no detections), 10.9ms\n",
            "video 1/1 (frame 1437/11993) /content/Structure Fire Millers Falls 11_8_22 (1).mp4: 384x640 (no detections), 11.2ms\n",
            "video 1/1 (frame 1438/11993) /content/Structure Fire Millers Falls 11_8_22 (1).mp4: 384x640 (no detections), 9.0ms\n",
            "video 1/1 (frame 1439/11993) /content/Structure Fire Millers Falls 11_8_22 (1).mp4: 384x640 (no detections), 9.5ms\n",
            "video 1/1 (frame 1440/11993) /content/Structure Fire Millers Falls 11_8_22 (1).mp4: 384x640 (no detections), 13.7ms\n",
            "video 1/1 (frame 1441/11993) /content/Structure Fire Millers Falls 11_8_22 (1).mp4: 384x640 (no detections), 10.9ms\n",
            "video 1/1 (frame 1442/11993) /content/Structure Fire Millers Falls 11_8_22 (1).mp4: 384x640 (no detections), 12.8ms\n",
            "video 1/1 (frame 1443/11993) /content/Structure Fire Millers Falls 11_8_22 (1).mp4: 384x640 (no detections), 9.2ms\n",
            "video 1/1 (frame 1444/11993) /content/Structure Fire Millers Falls 11_8_22 (1).mp4: 384x640 (no detections), 8.6ms\n",
            "video 1/1 (frame 1445/11993) /content/Structure Fire Millers Falls 11_8_22 (1).mp4: 384x640 (no detections), 9.5ms\n",
            "video 1/1 (frame 1446/11993) /content/Structure Fire Millers Falls 11_8_22 (1).mp4: 384x640 (no detections), 11.7ms\n",
            "video 1/1 (frame 1447/11993) /content/Structure Fire Millers Falls 11_8_22 (1).mp4: 384x640 (no detections), 8.5ms\n",
            "video 1/1 (frame 1448/11993) /content/Structure Fire Millers Falls 11_8_22 (1).mp4: 384x640 (no detections), 14.6ms\n",
            "video 1/1 (frame 1449/11993) /content/Structure Fire Millers Falls 11_8_22 (1).mp4: 384x640 (no detections), 9.2ms\n",
            "video 1/1 (frame 1450/11993) /content/Structure Fire Millers Falls 11_8_22 (1).mp4: 384x640 (no detections), 10.0ms\n",
            "video 1/1 (frame 1451/11993) /content/Structure Fire Millers Falls 11_8_22 (1).mp4: 384x640 (no detections), 8.4ms\n",
            "video 1/1 (frame 1452/11993) /content/Structure Fire Millers Falls 11_8_22 (1).mp4: 384x640 (no detections), 10.0ms\n",
            "video 1/1 (frame 1453/11993) /content/Structure Fire Millers Falls 11_8_22 (1).mp4: 384x640 (no detections), 9.2ms\n",
            "video 1/1 (frame 1454/11993) /content/Structure Fire Millers Falls 11_8_22 (1).mp4: 384x640 (no detections), 8.5ms\n",
            "video 1/1 (frame 1455/11993) /content/Structure Fire Millers Falls 11_8_22 (1).mp4: 384x640 (no detections), 12.5ms\n",
            "video 1/1 (frame 1456/11993) /content/Structure Fire Millers Falls 11_8_22 (1).mp4: 384x640 (no detections), 10.3ms\n",
            "video 1/1 (frame 1457/11993) /content/Structure Fire Millers Falls 11_8_22 (1).mp4: 384x640 (no detections), 9.6ms\n",
            "video 1/1 (frame 1458/11993) /content/Structure Fire Millers Falls 11_8_22 (1).mp4: 384x640 (no detections), 9.7ms\n",
            "video 1/1 (frame 1459/11993) /content/Structure Fire Millers Falls 11_8_22 (1).mp4: 384x640 (no detections), 13.0ms\n",
            "video 1/1 (frame 1460/11993) /content/Structure Fire Millers Falls 11_8_22 (1).mp4: 384x640 (no detections), 13.3ms\n",
            "video 1/1 (frame 1461/11993) /content/Structure Fire Millers Falls 11_8_22 (1).mp4: 384x640 (no detections), 11.6ms\n",
            "video 1/1 (frame 1462/11993) /content/Structure Fire Millers Falls 11_8_22 (1).mp4: 384x640 (no detections), 8.4ms\n",
            "video 1/1 (frame 1463/11993) /content/Structure Fire Millers Falls 11_8_22 (1).mp4: 384x640 (no detections), 8.7ms\n",
            "video 1/1 (frame 1464/11993) /content/Structure Fire Millers Falls 11_8_22 (1).mp4: 384x640 (no detections), 10.7ms\n",
            "video 1/1 (frame 1465/11993) /content/Structure Fire Millers Falls 11_8_22 (1).mp4: 384x640 (no detections), 10.1ms\n",
            "video 1/1 (frame 1466/11993) /content/Structure Fire Millers Falls 11_8_22 (1).mp4: 384x640 (no detections), 11.3ms\n",
            "video 1/1 (frame 1467/11993) /content/Structure Fire Millers Falls 11_8_22 (1).mp4: 384x640 (no detections), 9.2ms\n",
            "video 1/1 (frame 1468/11993) /content/Structure Fire Millers Falls 11_8_22 (1).mp4: 384x640 (no detections), 10.3ms\n",
            "video 1/1 (frame 1469/11993) /content/Structure Fire Millers Falls 11_8_22 (1).mp4: 384x640 (no detections), 8.5ms\n",
            "video 1/1 (frame 1470/11993) /content/Structure Fire Millers Falls 11_8_22 (1).mp4: 384x640 (no detections), 10.4ms\n",
            "video 1/1 (frame 1471/11993) /content/Structure Fire Millers Falls 11_8_22 (1).mp4: 384x640 (no detections), 11.7ms\n",
            "video 1/1 (frame 1472/11993) /content/Structure Fire Millers Falls 11_8_22 (1).mp4: 384x640 (no detections), 11.5ms\n",
            "video 1/1 (frame 1473/11993) /content/Structure Fire Millers Falls 11_8_22 (1).mp4: 384x640 (no detections), 12.4ms\n",
            "video 1/1 (frame 1474/11993) /content/Structure Fire Millers Falls 11_8_22 (1).mp4: 384x640 (no detections), 17.1ms\n",
            "video 1/1 (frame 1475/11993) /content/Structure Fire Millers Falls 11_8_22 (1).mp4: 384x640 (no detections), 12.9ms\n",
            "video 1/1 (frame 1476/11993) /content/Structure Fire Millers Falls 11_8_22 (1).mp4: 384x640 (no detections), 10.2ms\n",
            "video 1/1 (frame 1477/11993) /content/Structure Fire Millers Falls 11_8_22 (1).mp4: 384x640 (no detections), 16.7ms\n",
            "video 1/1 (frame 1478/11993) /content/Structure Fire Millers Falls 11_8_22 (1).mp4: 384x640 (no detections), 8.5ms\n",
            "video 1/1 (frame 1479/11993) /content/Structure Fire Millers Falls 11_8_22 (1).mp4: 384x640 (no detections), 11.2ms\n",
            "video 1/1 (frame 1480/11993) /content/Structure Fire Millers Falls 11_8_22 (1).mp4: 384x640 (no detections), 10.5ms\n",
            "video 1/1 (frame 1481/11993) /content/Structure Fire Millers Falls 11_8_22 (1).mp4: 384x640 (no detections), 10.2ms\n",
            "video 1/1 (frame 1482/11993) /content/Structure Fire Millers Falls 11_8_22 (1).mp4: 384x640 (no detections), 12.3ms\n",
            "video 1/1 (frame 1483/11993) /content/Structure Fire Millers Falls 11_8_22 (1).mp4: 384x640 (no detections), 12.9ms\n",
            "video 1/1 (frame 1484/11993) /content/Structure Fire Millers Falls 11_8_22 (1).mp4: 384x640 (no detections), 11.6ms\n",
            "video 1/1 (frame 1485/11993) /content/Structure Fire Millers Falls 11_8_22 (1).mp4: 384x640 (no detections), 10.3ms\n",
            "video 1/1 (frame 1486/11993) /content/Structure Fire Millers Falls 11_8_22 (1).mp4: 384x640 (no detections), 10.3ms\n",
            "video 1/1 (frame 1487/11993) /content/Structure Fire Millers Falls 11_8_22 (1).mp4: 384x640 (no detections), 10.4ms\n",
            "video 1/1 (frame 1488/11993) /content/Structure Fire Millers Falls 11_8_22 (1).mp4: 384x640 (no detections), 12.0ms\n",
            "video 1/1 (frame 1489/11993) /content/Structure Fire Millers Falls 11_8_22 (1).mp4: 384x640 (no detections), 14.2ms\n",
            "video 1/1 (frame 1490/11993) /content/Structure Fire Millers Falls 11_8_22 (1).mp4: 384x640 (no detections), 8.6ms\n",
            "video 1/1 (frame 1491/11993) /content/Structure Fire Millers Falls 11_8_22 (1).mp4: 384x640 (no detections), 8.8ms\n",
            "video 1/1 (frame 1492/11993) /content/Structure Fire Millers Falls 11_8_22 (1).mp4: 384x640 (no detections), 17.6ms\n",
            "video 1/1 (frame 1493/11993) /content/Structure Fire Millers Falls 11_8_22 (1).mp4: 384x640 (no detections), 14.2ms\n",
            "video 1/1 (frame 1494/11993) /content/Structure Fire Millers Falls 11_8_22 (1).mp4: 384x640 (no detections), 16.5ms\n",
            "video 1/1 (frame 1495/11993) /content/Structure Fire Millers Falls 11_8_22 (1).mp4: 384x640 (no detections), 34.3ms\n",
            "video 1/1 (frame 1496/11993) /content/Structure Fire Millers Falls 11_8_22 (1).mp4: 384x640 (no detections), 14.6ms\n",
            "video 1/1 (frame 1497/11993) /content/Structure Fire Millers Falls 11_8_22 (1).mp4: 384x640 (no detections), 14.1ms\n",
            "video 1/1 (frame 1498/11993) /content/Structure Fire Millers Falls 11_8_22 (1).mp4: 384x640 (no detections), 14.8ms\n",
            "video 1/1 (frame 1499/11993) /content/Structure Fire Millers Falls 11_8_22 (1).mp4: 384x640 (no detections), 12.6ms\n",
            "video 1/1 (frame 1500/11993) /content/Structure Fire Millers Falls 11_8_22 (1).mp4: 384x640 (no detections), 18.8ms\n",
            "video 1/1 (frame 1501/11993) /content/Structure Fire Millers Falls 11_8_22 (1).mp4: 384x640 (no detections), 12.5ms\n",
            "video 1/1 (frame 1502/11993) /content/Structure Fire Millers Falls 11_8_22 (1).mp4: 384x640 (no detections), 14.8ms\n",
            "video 1/1 (frame 1503/11993) /content/Structure Fire Millers Falls 11_8_22 (1).mp4: 384x640 (no detections), 11.7ms\n",
            "video 1/1 (frame 1504/11993) /content/Structure Fire Millers Falls 11_8_22 (1).mp4: 384x640 (no detections), 11.4ms\n",
            "video 1/1 (frame 1505/11993) /content/Structure Fire Millers Falls 11_8_22 (1).mp4: 384x640 (no detections), 12.0ms\n",
            "video 1/1 (frame 1506/11993) /content/Structure Fire Millers Falls 11_8_22 (1).mp4: 384x640 (no detections), 11.0ms\n",
            "video 1/1 (frame 1507/11993) /content/Structure Fire Millers Falls 11_8_22 (1).mp4: 384x640 (no detections), 14.6ms\n",
            "video 1/1 (frame 1508/11993) /content/Structure Fire Millers Falls 11_8_22 (1).mp4: 384x640 (no detections), 11.6ms\n",
            "video 1/1 (frame 1509/11993) /content/Structure Fire Millers Falls 11_8_22 (1).mp4: 384x640 (no detections), 12.1ms\n",
            "video 1/1 (frame 1510/11993) /content/Structure Fire Millers Falls 11_8_22 (1).mp4: 384x640 (no detections), 10.7ms\n",
            "video 1/1 (frame 1511/11993) /content/Structure Fire Millers Falls 11_8_22 (1).mp4: 384x640 (no detections), 12.9ms\n",
            "video 1/1 (frame 1512/11993) /content/Structure Fire Millers Falls 11_8_22 (1).mp4: 384x640 (no detections), 13.3ms\n",
            "video 1/1 (frame 1513/11993) /content/Structure Fire Millers Falls 11_8_22 (1).mp4: 384x640 (no detections), 11.9ms\n",
            "video 1/1 (frame 1514/11993) /content/Structure Fire Millers Falls 11_8_22 (1).mp4: 384x640 (no detections), 11.8ms\n",
            "video 1/1 (frame 1515/11993) /content/Structure Fire Millers Falls 11_8_22 (1).mp4: 384x640 (no detections), 14.8ms\n",
            "video 1/1 (frame 1516/11993) /content/Structure Fire Millers Falls 11_8_22 (1).mp4: 384x640 (no detections), 11.4ms\n",
            "video 1/1 (frame 1517/11993) /content/Structure Fire Millers Falls 11_8_22 (1).mp4: 384x640 (no detections), 12.4ms\n",
            "video 1/1 (frame 1518/11993) /content/Structure Fire Millers Falls 11_8_22 (1).mp4: 384x640 (no detections), 12.6ms\n",
            "video 1/1 (frame 1519/11993) /content/Structure Fire Millers Falls 11_8_22 (1).mp4: 384x640 (no detections), 11.2ms\n",
            "video 1/1 (frame 1520/11993) /content/Structure Fire Millers Falls 11_8_22 (1).mp4: 384x640 (no detections), 12.2ms\n",
            "video 1/1 (frame 1521/11993) /content/Structure Fire Millers Falls 11_8_22 (1).mp4: 384x640 (no detections), 11.0ms\n",
            "video 1/1 (frame 1522/11993) /content/Structure Fire Millers Falls 11_8_22 (1).mp4: 384x640 (no detections), 10.8ms\n",
            "video 1/1 (frame 1523/11993) /content/Structure Fire Millers Falls 11_8_22 (1).mp4: 384x640 (no detections), 12.1ms\n",
            "video 1/1 (frame 1524/11993) /content/Structure Fire Millers Falls 11_8_22 (1).mp4: 384x640 (no detections), 12.7ms\n",
            "video 1/1 (frame 1525/11993) /content/Structure Fire Millers Falls 11_8_22 (1).mp4: 384x640 (no detections), 15.3ms\n",
            "video 1/1 (frame 1526/11993) /content/Structure Fire Millers Falls 11_8_22 (1).mp4: 384x640 (no detections), 21.5ms\n",
            "video 1/1 (frame 1527/11993) /content/Structure Fire Millers Falls 11_8_22 (1).mp4: 384x640 (no detections), 12.8ms\n",
            "video 1/1 (frame 1528/11993) /content/Structure Fire Millers Falls 11_8_22 (1).mp4: 384x640 (no detections), 15.0ms\n",
            "video 1/1 (frame 1529/11993) /content/Structure Fire Millers Falls 11_8_22 (1).mp4: 384x640 (no detections), 12.6ms\n",
            "video 1/1 (frame 1530/11993) /content/Structure Fire Millers Falls 11_8_22 (1).mp4: 384x640 (no detections), 17.3ms\n",
            "video 1/1 (frame 1531/11993) /content/Structure Fire Millers Falls 11_8_22 (1).mp4: 384x640 (no detections), 20.2ms\n",
            "video 1/1 (frame 1532/11993) /content/Structure Fire Millers Falls 11_8_22 (1).mp4: 384x640 (no detections), 13.0ms\n",
            "video 1/1 (frame 1533/11993) /content/Structure Fire Millers Falls 11_8_22 (1).mp4: 384x640 (no detections), 17.9ms\n",
            "video 1/1 (frame 1534/11993) /content/Structure Fire Millers Falls 11_8_22 (1).mp4: 384x640 (no detections), 16.5ms\n",
            "video 1/1 (frame 1535/11993) /content/Structure Fire Millers Falls 11_8_22 (1).mp4: 384x640 (no detections), 12.7ms\n",
            "video 1/1 (frame 1536/11993) /content/Structure Fire Millers Falls 11_8_22 (1).mp4: 384x640 (no detections), 13.7ms\n",
            "video 1/1 (frame 1537/11993) /content/Structure Fire Millers Falls 11_8_22 (1).mp4: 384x640 (no detections), 15.8ms\n",
            "video 1/1 (frame 1538/11993) /content/Structure Fire Millers Falls 11_8_22 (1).mp4: 384x640 (no detections), 17.8ms\n",
            "video 1/1 (frame 1539/11993) /content/Structure Fire Millers Falls 11_8_22 (1).mp4: 384x640 (no detections), 16.1ms\n",
            "video 1/1 (frame 1540/11993) /content/Structure Fire Millers Falls 11_8_22 (1).mp4: 384x640 (no detections), 33.4ms\n",
            "video 1/1 (frame 1541/11993) /content/Structure Fire Millers Falls 11_8_22 (1).mp4: 384x640 (no detections), 21.1ms\n",
            "video 1/1 (frame 1542/11993) /content/Structure Fire Millers Falls 11_8_22 (1).mp4: 384x640 (no detections), 17.4ms\n",
            "video 1/1 (frame 1543/11993) /content/Structure Fire Millers Falls 11_8_22 (1).mp4: 384x640 (no detections), 16.8ms\n",
            "video 1/1 (frame 1544/11993) /content/Structure Fire Millers Falls 11_8_22 (1).mp4: 384x640 (no detections), 18.9ms\n",
            "video 1/1 (frame 1545/11993) /content/Structure Fire Millers Falls 11_8_22 (1).mp4: 384x640 (no detections), 10.0ms\n",
            "video 1/1 (frame 1546/11993) /content/Structure Fire Millers Falls 11_8_22 (1).mp4: 384x640 (no detections), 18.4ms\n",
            "video 1/1 (frame 1547/11993) /content/Structure Fire Millers Falls 11_8_22 (1).mp4: 384x640 (no detections), 11.9ms\n",
            "video 1/1 (frame 1548/11993) /content/Structure Fire Millers Falls 11_8_22 (1).mp4: 384x640 (no detections), 10.4ms\n",
            "video 1/1 (frame 1549/11993) /content/Structure Fire Millers Falls 11_8_22 (1).mp4: 384x640 (no detections), 17.1ms\n",
            "video 1/1 (frame 1550/11993) /content/Structure Fire Millers Falls 11_8_22 (1).mp4: 384x640 (no detections), 10.8ms\n",
            "video 1/1 (frame 1551/11993) /content/Structure Fire Millers Falls 11_8_22 (1).mp4: 384x640 (no detections), 11.2ms\n",
            "video 1/1 (frame 1552/11993) /content/Structure Fire Millers Falls 11_8_22 (1).mp4: 384x640 (no detections), 13.4ms\n",
            "video 1/1 (frame 1553/11993) /content/Structure Fire Millers Falls 11_8_22 (1).mp4: 384x640 (no detections), 9.4ms\n",
            "video 1/1 (frame 1554/11993) /content/Structure Fire Millers Falls 11_8_22 (1).mp4: 384x640 (no detections), 13.5ms\n",
            "video 1/1 (frame 1555/11993) /content/Structure Fire Millers Falls 11_8_22 (1).mp4: 384x640 (no detections), 10.4ms\n",
            "video 1/1 (frame 1556/11993) /content/Structure Fire Millers Falls 11_8_22 (1).mp4: 384x640 (no detections), 12.0ms\n",
            "video 1/1 (frame 1557/11993) /content/Structure Fire Millers Falls 11_8_22 (1).mp4: 384x640 (no detections), 12.1ms\n",
            "video 1/1 (frame 1558/11993) /content/Structure Fire Millers Falls 11_8_22 (1).mp4: 384x640 (no detections), 8.7ms\n",
            "video 1/1 (frame 1559/11993) /content/Structure Fire Millers Falls 11_8_22 (1).mp4: 384x640 (no detections), 10.7ms\n",
            "video 1/1 (frame 1560/11993) /content/Structure Fire Millers Falls 11_8_22 (1).mp4: 384x640 (no detections), 8.8ms\n",
            "video 1/1 (frame 1561/11993) /content/Structure Fire Millers Falls 11_8_22 (1).mp4: 384x640 (no detections), 12.1ms\n",
            "video 1/1 (frame 1562/11993) /content/Structure Fire Millers Falls 11_8_22 (1).mp4: 384x640 (no detections), 12.6ms\n",
            "video 1/1 (frame 1563/11993) /content/Structure Fire Millers Falls 11_8_22 (1).mp4: 384x640 (no detections), 10.6ms\n",
            "video 1/1 (frame 1564/11993) /content/Structure Fire Millers Falls 11_8_22 (1).mp4: 384x640 (no detections), 9.5ms\n",
            "video 1/1 (frame 1565/11993) /content/Structure Fire Millers Falls 11_8_22 (1).mp4: 384x640 (no detections), 11.6ms\n",
            "video 1/1 (frame 1566/11993) /content/Structure Fire Millers Falls 11_8_22 (1).mp4: 384x640 (no detections), 10.3ms\n",
            "video 1/1 (frame 1567/11993) /content/Structure Fire Millers Falls 11_8_22 (1).mp4: 384x640 (no detections), 10.0ms\n",
            "video 1/1 (frame 1568/11993) /content/Structure Fire Millers Falls 11_8_22 (1).mp4: 384x640 (no detections), 9.0ms\n",
            "video 1/1 (frame 1569/11993) /content/Structure Fire Millers Falls 11_8_22 (1).mp4: 384x640 (no detections), 13.7ms\n",
            "video 1/1 (frame 1570/11993) /content/Structure Fire Millers Falls 11_8_22 (1).mp4: 384x640 (no detections), 10.6ms\n",
            "video 1/1 (frame 1571/11993) /content/Structure Fire Millers Falls 11_8_22 (1).mp4: 384x640 (no detections), 9.4ms\n",
            "video 1/1 (frame 1572/11993) /content/Structure Fire Millers Falls 11_8_22 (1).mp4: 384x640 (no detections), 9.2ms\n",
            "video 1/1 (frame 1573/11993) /content/Structure Fire Millers Falls 11_8_22 (1).mp4: 384x640 (no detections), 9.2ms\n",
            "video 1/1 (frame 1574/11993) /content/Structure Fire Millers Falls 11_8_22 (1).mp4: 384x640 (no detections), 11.2ms\n",
            "video 1/1 (frame 1575/11993) /content/Structure Fire Millers Falls 11_8_22 (1).mp4: 384x640 (no detections), 9.2ms\n",
            "video 1/1 (frame 1576/11993) /content/Structure Fire Millers Falls 11_8_22 (1).mp4: 384x640 (no detections), 9.8ms\n",
            "video 1/1 (frame 1577/11993) /content/Structure Fire Millers Falls 11_8_22 (1).mp4: 384x640 (no detections), 13.8ms\n",
            "video 1/1 (frame 1578/11993) /content/Structure Fire Millers Falls 11_8_22 (1).mp4: 384x640 (no detections), 10.3ms\n",
            "video 1/1 (frame 1579/11993) /content/Structure Fire Millers Falls 11_8_22 (1).mp4: 384x640 (no detections), 8.5ms\n",
            "video 1/1 (frame 1580/11993) /content/Structure Fire Millers Falls 11_8_22 (1).mp4: 384x640 (no detections), 9.8ms\n",
            "video 1/1 (frame 1581/11993) /content/Structure Fire Millers Falls 11_8_22 (1).mp4: 384x640 (no detections), 8.1ms\n",
            "video 1/1 (frame 1582/11993) /content/Structure Fire Millers Falls 11_8_22 (1).mp4: 384x640 (no detections), 14.6ms\n",
            "video 1/1 (frame 1583/11993) /content/Structure Fire Millers Falls 11_8_22 (1).mp4: 384x640 (no detections), 9.4ms\n",
            "video 1/1 (frame 1584/11993) /content/Structure Fire Millers Falls 11_8_22 (1).mp4: 384x640 (no detections), 11.4ms\n",
            "video 1/1 (frame 1585/11993) /content/Structure Fire Millers Falls 11_8_22 (1).mp4: 384x640 (no detections), 24.2ms\n",
            "video 1/1 (frame 1586/11993) /content/Structure Fire Millers Falls 11_8_22 (1).mp4: 384x640 (no detections), 8.9ms\n",
            "video 1/1 (frame 1587/11993) /content/Structure Fire Millers Falls 11_8_22 (1).mp4: 384x640 (no detections), 13.1ms\n",
            "video 1/1 (frame 1588/11993) /content/Structure Fire Millers Falls 11_8_22 (1).mp4: 384x640 (no detections), 11.0ms\n",
            "video 1/1 (frame 1589/11993) /content/Structure Fire Millers Falls 11_8_22 (1).mp4: 384x640 (no detections), 10.8ms\n",
            "video 1/1 (frame 1590/11993) /content/Structure Fire Millers Falls 11_8_22 (1).mp4: 384x640 (no detections), 8.5ms\n",
            "video 1/1 (frame 1591/11993) /content/Structure Fire Millers Falls 11_8_22 (1).mp4: 384x640 (no detections), 10.3ms\n",
            "video 1/1 (frame 1592/11993) /content/Structure Fire Millers Falls 11_8_22 (1).mp4: 384x640 (no detections), 11.4ms\n",
            "video 1/1 (frame 1593/11993) /content/Structure Fire Millers Falls 11_8_22 (1).mp4: 384x640 (no detections), 11.5ms\n",
            "video 1/1 (frame 1594/11993) /content/Structure Fire Millers Falls 11_8_22 (1).mp4: 384x640 (no detections), 12.6ms\n",
            "video 1/1 (frame 1595/11993) /content/Structure Fire Millers Falls 11_8_22 (1).mp4: 384x640 (no detections), 9.9ms\n",
            "video 1/1 (frame 1596/11993) /content/Structure Fire Millers Falls 11_8_22 (1).mp4: 384x640 (no detections), 12.2ms\n",
            "video 1/1 (frame 1597/11993) /content/Structure Fire Millers Falls 11_8_22 (1).mp4: 384x640 (no detections), 9.1ms\n",
            "video 1/1 (frame 1598/11993) /content/Structure Fire Millers Falls 11_8_22 (1).mp4: 384x640 (no detections), 9.4ms\n",
            "video 1/1 (frame 1599/11993) /content/Structure Fire Millers Falls 11_8_22 (1).mp4: 384x640 (no detections), 13.7ms\n",
            "video 1/1 (frame 1600/11993) /content/Structure Fire Millers Falls 11_8_22 (1).mp4: 384x640 (no detections), 10.5ms\n",
            "video 1/1 (frame 1601/11993) /content/Structure Fire Millers Falls 11_8_22 (1).mp4: 384x640 (no detections), 13.0ms\n",
            "video 1/1 (frame 1602/11993) /content/Structure Fire Millers Falls 11_8_22 (1).mp4: 384x640 (no detections), 9.0ms\n",
            "video 1/1 (frame 1603/11993) /content/Structure Fire Millers Falls 11_8_22 (1).mp4: 384x640 (no detections), 12.8ms\n",
            "video 1/1 (frame 1604/11993) /content/Structure Fire Millers Falls 11_8_22 (1).mp4: 384x640 (no detections), 8.8ms\n",
            "video 1/1 (frame 1605/11993) /content/Structure Fire Millers Falls 11_8_22 (1).mp4: 384x640 (no detections), 13.0ms\n",
            "video 1/1 (frame 1606/11993) /content/Structure Fire Millers Falls 11_8_22 (1).mp4: 384x640 (no detections), 11.0ms\n",
            "video 1/1 (frame 1607/11993) /content/Structure Fire Millers Falls 11_8_22 (1).mp4: 384x640 (no detections), 11.6ms\n",
            "video 1/1 (frame 1608/11993) /content/Structure Fire Millers Falls 11_8_22 (1).mp4: 384x640 (no detections), 15.3ms\n",
            "video 1/1 (frame 1609/11993) /content/Structure Fire Millers Falls 11_8_22 (1).mp4: 384x640 (no detections), 12.7ms\n",
            "video 1/1 (frame 1610/11993) /content/Structure Fire Millers Falls 11_8_22 (1).mp4: 384x640 (no detections), 10.8ms\n",
            "video 1/1 (frame 1611/11993) /content/Structure Fire Millers Falls 11_8_22 (1).mp4: 384x640 (no detections), 11.7ms\n",
            "video 1/1 (frame 1612/11993) /content/Structure Fire Millers Falls 11_8_22 (1).mp4: 384x640 (no detections), 11.3ms\n",
            "video 1/1 (frame 1613/11993) /content/Structure Fire Millers Falls 11_8_22 (1).mp4: 384x640 (no detections), 16.5ms\n",
            "video 1/1 (frame 1614/11993) /content/Structure Fire Millers Falls 11_8_22 (1).mp4: 384x640 (no detections), 12.2ms\n",
            "video 1/1 (frame 1615/11993) /content/Structure Fire Millers Falls 11_8_22 (1).mp4: 384x640 (no detections), 10.0ms\n",
            "video 1/1 (frame 1616/11993) /content/Structure Fire Millers Falls 11_8_22 (1).mp4: 384x640 (no detections), 12.7ms\n",
            "video 1/1 (frame 1617/11993) /content/Structure Fire Millers Falls 11_8_22 (1).mp4: 384x640 (no detections), 14.9ms\n",
            "video 1/1 (frame 1618/11993) /content/Structure Fire Millers Falls 11_8_22 (1).mp4: 384x640 (no detections), 12.4ms\n",
            "video 1/1 (frame 1619/11993) /content/Structure Fire Millers Falls 11_8_22 (1).mp4: 384x640 (no detections), 12.1ms\n",
            "video 1/1 (frame 1620/11993) /content/Structure Fire Millers Falls 11_8_22 (1).mp4: 384x640 (no detections), 10.6ms\n",
            "video 1/1 (frame 1621/11993) /content/Structure Fire Millers Falls 11_8_22 (1).mp4: 384x640 (no detections), 10.1ms\n",
            "video 1/1 (frame 1622/11993) /content/Structure Fire Millers Falls 11_8_22 (1).mp4: 384x640 (no detections), 9.8ms\n",
            "video 1/1 (frame 1623/11993) /content/Structure Fire Millers Falls 11_8_22 (1).mp4: 384x640 (no detections), 12.9ms\n",
            "video 1/1 (frame 1624/11993) /content/Structure Fire Millers Falls 11_8_22 (1).mp4: 384x640 (no detections), 8.8ms\n",
            "video 1/1 (frame 1625/11993) /content/Structure Fire Millers Falls 11_8_22 (1).mp4: 384x640 (no detections), 11.2ms\n",
            "video 1/1 (frame 1626/11993) /content/Structure Fire Millers Falls 11_8_22 (1).mp4: 384x640 (no detections), 8.9ms\n",
            "video 1/1 (frame 1627/11993) /content/Structure Fire Millers Falls 11_8_22 (1).mp4: 384x640 (no detections), 10.6ms\n",
            "video 1/1 (frame 1628/11993) /content/Structure Fire Millers Falls 11_8_22 (1).mp4: 384x640 (no detections), 8.6ms\n",
            "video 1/1 (frame 1629/11993) /content/Structure Fire Millers Falls 11_8_22 (1).mp4: 384x640 (no detections), 13.7ms\n",
            "video 1/1 (frame 1630/11993) /content/Structure Fire Millers Falls 11_8_22 (1).mp4: 384x640 (no detections), 9.8ms\n",
            "video 1/1 (frame 1631/11993) /content/Structure Fire Millers Falls 11_8_22 (1).mp4: 384x640 (no detections), 10.5ms\n",
            "video 1/1 (frame 1632/11993) /content/Structure Fire Millers Falls 11_8_22 (1).mp4: 384x640 (no detections), 8.7ms\n",
            "video 1/1 (frame 1633/11993) /content/Structure Fire Millers Falls 11_8_22 (1).mp4: 384x640 (no detections), 10.1ms\n",
            "video 1/1 (frame 1634/11993) /content/Structure Fire Millers Falls 11_8_22 (1).mp4: 384x640 (no detections), 23.0ms\n",
            "video 1/1 (frame 1635/11993) /content/Structure Fire Millers Falls 11_8_22 (1).mp4: 384x640 (no detections), 10.0ms\n",
            "video 1/1 (frame 1636/11993) /content/Structure Fire Millers Falls 11_8_22 (1).mp4: 384x640 (no detections), 10.6ms\n",
            "video 1/1 (frame 1637/11993) /content/Structure Fire Millers Falls 11_8_22 (1).mp4: 384x640 (no detections), 12.4ms\n",
            "video 1/1 (frame 1638/11993) /content/Structure Fire Millers Falls 11_8_22 (1).mp4: 384x640 (no detections), 9.6ms\n",
            "video 1/1 (frame 1639/11993) /content/Structure Fire Millers Falls 11_8_22 (1).mp4: 384x640 (no detections), 11.4ms\n",
            "video 1/1 (frame 1640/11993) /content/Structure Fire Millers Falls 11_8_22 (1).mp4: 384x640 (no detections), 9.4ms\n",
            "video 1/1 (frame 1641/11993) /content/Structure Fire Millers Falls 11_8_22 (1).mp4: 384x640 (no detections), 11.8ms\n",
            "video 1/1 (frame 1642/11993) /content/Structure Fire Millers Falls 11_8_22 (1).mp4: 384x640 (no detections), 10.1ms\n",
            "video 1/1 (frame 1643/11993) /content/Structure Fire Millers Falls 11_8_22 (1).mp4: 384x640 (no detections), 9.4ms\n",
            "video 1/1 (frame 1644/11993) /content/Structure Fire Millers Falls 11_8_22 (1).mp4: 384x640 (no detections), 10.7ms\n",
            "video 1/1 (frame 1645/11993) /content/Structure Fire Millers Falls 11_8_22 (1).mp4: 384x640 (no detections), 9.4ms\n",
            "video 1/1 (frame 1646/11993) /content/Structure Fire Millers Falls 11_8_22 (1).mp4: 384x640 (no detections), 10.1ms\n",
            "video 1/1 (frame 1647/11993) /content/Structure Fire Millers Falls 11_8_22 (1).mp4: 384x640 (no detections), 8.8ms\n",
            "video 1/1 (frame 1648/11993) /content/Structure Fire Millers Falls 11_8_22 (1).mp4: 384x640 (no detections), 12.1ms\n",
            "video 1/1 (frame 1649/11993) /content/Structure Fire Millers Falls 11_8_22 (1).mp4: 384x640 (no detections), 14.4ms\n",
            "video 1/1 (frame 1650/11993) /content/Structure Fire Millers Falls 11_8_22 (1).mp4: 384x640 (no detections), 10.0ms\n",
            "video 1/1 (frame 1651/11993) /content/Structure Fire Millers Falls 11_8_22 (1).mp4: 384x640 (no detections), 9.3ms\n",
            "video 1/1 (frame 1652/11993) /content/Structure Fire Millers Falls 11_8_22 (1).mp4: 384x640 (no detections), 9.8ms\n",
            "video 1/1 (frame 1653/11993) /content/Structure Fire Millers Falls 11_8_22 (1).mp4: 384x640 (no detections), 10.9ms\n",
            "video 1/1 (frame 1654/11993) /content/Structure Fire Millers Falls 11_8_22 (1).mp4: 384x640 (no detections), 11.1ms\n",
            "video 1/1 (frame 1655/11993) /content/Structure Fire Millers Falls 11_8_22 (1).mp4: 384x640 (no detections), 9.2ms\n",
            "video 1/1 (frame 1656/11993) /content/Structure Fire Millers Falls 11_8_22 (1).mp4: 384x640 (no detections), 9.5ms\n",
            "video 1/1 (frame 1657/11993) /content/Structure Fire Millers Falls 11_8_22 (1).mp4: 384x640 (no detections), 8.6ms\n",
            "video 1/1 (frame 1658/11993) /content/Structure Fire Millers Falls 11_8_22 (1).mp4: 384x640 (no detections), 12.2ms\n",
            "video 1/1 (frame 1659/11993) /content/Structure Fire Millers Falls 11_8_22 (1).mp4: 384x640 (no detections), 10.7ms\n",
            "video 1/1 (frame 1660/11993) /content/Structure Fire Millers Falls 11_8_22 (1).mp4: 384x640 (no detections), 10.7ms\n",
            "video 1/1 (frame 1661/11993) /content/Structure Fire Millers Falls 11_8_22 (1).mp4: 384x640 (no detections), 9.5ms\n",
            "video 1/1 (frame 1662/11993) /content/Structure Fire Millers Falls 11_8_22 (1).mp4: 384x640 (no detections), 8.3ms\n",
            "video 1/1 (frame 1663/11993) /content/Structure Fire Millers Falls 11_8_22 (1).mp4: 384x640 (no detections), 11.1ms\n",
            "video 1/1 (frame 1664/11993) /content/Structure Fire Millers Falls 11_8_22 (1).mp4: 384x640 (no detections), 10.1ms\n",
            "video 1/1 (frame 1665/11993) /content/Structure Fire Millers Falls 11_8_22 (1).mp4: 384x640 (no detections), 8.6ms\n",
            "video 1/1 (frame 1666/11993) /content/Structure Fire Millers Falls 11_8_22 (1).mp4: 384x640 (no detections), 10.0ms\n",
            "video 1/1 (frame 1667/11993) /content/Structure Fire Millers Falls 11_8_22 (1).mp4: 384x640 (no detections), 10.6ms\n",
            "video 1/1 (frame 1668/11993) /content/Structure Fire Millers Falls 11_8_22 (1).mp4: 384x640 (no detections), 9.4ms\n",
            "video 1/1 (frame 1669/11993) /content/Structure Fire Millers Falls 11_8_22 (1).mp4: 384x640 (no detections), 8.8ms\n",
            "video 1/1 (frame 1670/11993) /content/Structure Fire Millers Falls 11_8_22 (1).mp4: 384x640 (no detections), 24.8ms\n",
            "video 1/1 (frame 1671/11993) /content/Structure Fire Millers Falls 11_8_22 (1).mp4: 384x640 (no detections), 11.1ms\n",
            "video 1/1 (frame 1672/11993) /content/Structure Fire Millers Falls 11_8_22 (1).mp4: 384x640 (no detections), 9.9ms\n",
            "video 1/1 (frame 1673/11993) /content/Structure Fire Millers Falls 11_8_22 (1).mp4: 384x640 (no detections), 10.2ms\n",
            "video 1/1 (frame 1674/11993) /content/Structure Fire Millers Falls 11_8_22 (1).mp4: 384x640 (no detections), 10.8ms\n",
            "video 1/1 (frame 1675/11993) /content/Structure Fire Millers Falls 11_8_22 (1).mp4: 384x640 (no detections), 11.4ms\n",
            "video 1/1 (frame 1676/11993) /content/Structure Fire Millers Falls 11_8_22 (1).mp4: 384x640 (no detections), 9.9ms\n",
            "video 1/1 (frame 1677/11993) /content/Structure Fire Millers Falls 11_8_22 (1).mp4: 384x640 (no detections), 11.2ms\n",
            "video 1/1 (frame 1678/11993) /content/Structure Fire Millers Falls 11_8_22 (1).mp4: 384x640 (no detections), 10.8ms\n",
            "video 1/1 (frame 1679/11993) /content/Structure Fire Millers Falls 11_8_22 (1).mp4: 384x640 (no detections), 18.5ms\n",
            "video 1/1 (frame 1680/11993) /content/Structure Fire Millers Falls 11_8_22 (1).mp4: 384x640 (no detections), 10.0ms\n",
            "video 1/1 (frame 1681/11993) /content/Structure Fire Millers Falls 11_8_22 (1).mp4: 384x640 (no detections), 14.9ms\n",
            "video 1/1 (frame 1682/11993) /content/Structure Fire Millers Falls 11_8_22 (1).mp4: 384x640 (no detections), 8.9ms\n",
            "video 1/1 (frame 1683/11993) /content/Structure Fire Millers Falls 11_8_22 (1).mp4: 384x640 (no detections), 9.2ms\n",
            "video 1/1 (frame 1684/11993) /content/Structure Fire Millers Falls 11_8_22 (1).mp4: 384x640 (no detections), 10.2ms\n",
            "video 1/1 (frame 1685/11993) /content/Structure Fire Millers Falls 11_8_22 (1).mp4: 384x640 (no detections), 11.2ms\n",
            "video 1/1 (frame 1686/11993) /content/Structure Fire Millers Falls 11_8_22 (1).mp4: 384x640 (no detections), 11.9ms\n",
            "video 1/1 (frame 1687/11993) /content/Structure Fire Millers Falls 11_8_22 (1).mp4: 384x640 (no detections), 9.6ms\n",
            "video 1/1 (frame 1688/11993) /content/Structure Fire Millers Falls 11_8_22 (1).mp4: 384x640 (no detections), 11.7ms\n",
            "video 1/1 (frame 1689/11993) /content/Structure Fire Millers Falls 11_8_22 (1).mp4: 384x640 (no detections), 9.2ms\n",
            "video 1/1 (frame 1690/11993) /content/Structure Fire Millers Falls 11_8_22 (1).mp4: 384x640 (no detections), 9.9ms\n",
            "video 1/1 (frame 1691/11993) /content/Structure Fire Millers Falls 11_8_22 (1).mp4: 384x640 (no detections), 14.6ms\n",
            "video 1/1 (frame 1692/11993) /content/Structure Fire Millers Falls 11_8_22 (1).mp4: 384x640 (no detections), 12.3ms\n",
            "video 1/1 (frame 1693/11993) /content/Structure Fire Millers Falls 11_8_22 (1).mp4: 384x640 (no detections), 10.1ms\n",
            "video 1/1 (frame 1694/11993) /content/Structure Fire Millers Falls 11_8_22 (1).mp4: 384x640 (no detections), 10.2ms\n",
            "video 1/1 (frame 1695/11993) /content/Structure Fire Millers Falls 11_8_22 (1).mp4: 384x640 (no detections), 11.9ms\n",
            "video 1/1 (frame 1696/11993) /content/Structure Fire Millers Falls 11_8_22 (1).mp4: 384x640 (no detections), 12.5ms\n",
            "video 1/1 (frame 1697/11993) /content/Structure Fire Millers Falls 11_8_22 (1).mp4: 384x640 (no detections), 11.3ms\n",
            "video 1/1 (frame 1698/11993) /content/Structure Fire Millers Falls 11_8_22 (1).mp4: 384x640 (no detections), 11.0ms\n",
            "video 1/1 (frame 1699/11993) /content/Structure Fire Millers Falls 11_8_22 (1).mp4: 384x640 (no detections), 9.4ms\n",
            "video 1/1 (frame 1700/11993) /content/Structure Fire Millers Falls 11_8_22 (1).mp4: 384x640 (no detections), 13.9ms\n",
            "video 1/1 (frame 1701/11993) /content/Structure Fire Millers Falls 11_8_22 (1).mp4: 384x640 (no detections), 12.3ms\n",
            "video 1/1 (frame 1702/11993) /content/Structure Fire Millers Falls 11_8_22 (1).mp4: 384x640 (no detections), 9.6ms\n",
            "video 1/1 (frame 1703/11993) /content/Structure Fire Millers Falls 11_8_22 (1).mp4: 384x640 (no detections), 10.1ms\n",
            "video 1/1 (frame 1704/11993) /content/Structure Fire Millers Falls 11_8_22 (1).mp4: 384x640 (no detections), 11.4ms\n",
            "video 1/1 (frame 1705/11993) /content/Structure Fire Millers Falls 11_8_22 (1).mp4: 384x640 (no detections), 8.3ms\n",
            "video 1/1 (frame 1706/11993) /content/Structure Fire Millers Falls 11_8_22 (1).mp4: 384x640 (no detections), 10.9ms\n",
            "video 1/1 (frame 1707/11993) /content/Structure Fire Millers Falls 11_8_22 (1).mp4: 384x640 (no detections), 10.1ms\n",
            "video 1/1 (frame 1708/11993) /content/Structure Fire Millers Falls 11_8_22 (1).mp4: 384x640 (no detections), 10.5ms\n",
            "video 1/1 (frame 1709/11993) /content/Structure Fire Millers Falls 11_8_22 (1).mp4: 384x640 (no detections), 10.8ms\n",
            "video 1/1 (frame 1710/11993) /content/Structure Fire Millers Falls 11_8_22 (1).mp4: 384x640 (no detections), 24.1ms\n",
            "video 1/1 (frame 1711/11993) /content/Structure Fire Millers Falls 11_8_22 (1).mp4: 384x640 (no detections), 14.2ms\n",
            "video 1/1 (frame 1712/11993) /content/Structure Fire Millers Falls 11_8_22 (1).mp4: 384x640 (no detections), 11.7ms\n",
            "video 1/1 (frame 1713/11993) /content/Structure Fire Millers Falls 11_8_22 (1).mp4: 384x640 (no detections), 14.5ms\n",
            "video 1/1 (frame 1714/11993) /content/Structure Fire Millers Falls 11_8_22 (1).mp4: 384x640 (no detections), 12.6ms\n",
            "video 1/1 (frame 1715/11993) /content/Structure Fire Millers Falls 11_8_22 (1).mp4: 384x640 (no detections), 14.0ms\n",
            "video 1/1 (frame 1716/11993) /content/Structure Fire Millers Falls 11_8_22 (1).mp4: 384x640 (no detections), 9.0ms\n",
            "video 1/1 (frame 1717/11993) /content/Structure Fire Millers Falls 11_8_22 (1).mp4: 384x640 (no detections), 10.2ms\n",
            "video 1/1 (frame 1718/11993) /content/Structure Fire Millers Falls 11_8_22 (1).mp4: 384x640 (no detections), 8.4ms\n",
            "video 1/1 (frame 1719/11993) /content/Structure Fire Millers Falls 11_8_22 (1).mp4: 384x640 (no detections), 12.7ms\n",
            "video 1/1 (frame 1720/11993) /content/Structure Fire Millers Falls 11_8_22 (1).mp4: 384x640 (no detections), 9.8ms\n",
            "video 1/1 (frame 1721/11993) /content/Structure Fire Millers Falls 11_8_22 (1).mp4: 384x640 (no detections), 8.8ms\n",
            "video 1/1 (frame 1722/11993) /content/Structure Fire Millers Falls 11_8_22 (1).mp4: 384x640 (no detections), 13.4ms\n",
            "video 1/1 (frame 1723/11993) /content/Structure Fire Millers Falls 11_8_22 (1).mp4: 384x640 (no detections), 8.7ms\n",
            "video 1/1 (frame 1724/11993) /content/Structure Fire Millers Falls 11_8_22 (1).mp4: 384x640 (no detections), 13.3ms\n",
            "video 1/1 (frame 1725/11993) /content/Structure Fire Millers Falls 11_8_22 (1).mp4: 384x640 (no detections), 12.0ms\n",
            "video 1/1 (frame 1726/11993) /content/Structure Fire Millers Falls 11_8_22 (1).mp4: 384x640 (no detections), 9.4ms\n",
            "video 1/1 (frame 1727/11993) /content/Structure Fire Millers Falls 11_8_22 (1).mp4: 384x640 (no detections), 8.4ms\n",
            "video 1/1 (frame 1728/11993) /content/Structure Fire Millers Falls 11_8_22 (1).mp4: 384x640 (no detections), 12.1ms\n",
            "video 1/1 (frame 1729/11993) /content/Structure Fire Millers Falls 11_8_22 (1).mp4: 384x640 (no detections), 11.5ms\n",
            "video 1/1 (frame 1730/11993) /content/Structure Fire Millers Falls 11_8_22 (1).mp4: 384x640 (no detections), 9.3ms\n",
            "video 1/1 (frame 1731/11993) /content/Structure Fire Millers Falls 11_8_22 (1).mp4: 384x640 (no detections), 22.3ms\n",
            "video 1/1 (frame 1732/11993) /content/Structure Fire Millers Falls 11_8_22 (1).mp4: 384x640 (no detections), 10.7ms\n",
            "video 1/1 (frame 1733/11993) /content/Structure Fire Millers Falls 11_8_22 (1).mp4: 384x640 (no detections), 11.9ms\n",
            "video 1/1 (frame 1734/11993) /content/Structure Fire Millers Falls 11_8_22 (1).mp4: 384x640 (no detections), 9.9ms\n",
            "video 1/1 (frame 1735/11993) /content/Structure Fire Millers Falls 11_8_22 (1).mp4: 384x640 (no detections), 11.3ms\n",
            "video 1/1 (frame 1736/11993) /content/Structure Fire Millers Falls 11_8_22 (1).mp4: 384x640 (no detections), 10.2ms\n",
            "video 1/1 (frame 1737/11993) /content/Structure Fire Millers Falls 11_8_22 (1).mp4: 384x640 (no detections), 10.0ms\n",
            "video 1/1 (frame 1738/11993) /content/Structure Fire Millers Falls 11_8_22 (1).mp4: 384x640 (no detections), 12.4ms\n",
            "video 1/1 (frame 1739/11993) /content/Structure Fire Millers Falls 11_8_22 (1).mp4: 384x640 (no detections), 10.5ms\n",
            "video 1/1 (frame 1740/11993) /content/Structure Fire Millers Falls 11_8_22 (1).mp4: 384x640 (no detections), 13.3ms\n",
            "video 1/1 (frame 1741/11993) /content/Structure Fire Millers Falls 11_8_22 (1).mp4: 384x640 (no detections), 9.8ms\n",
            "video 1/1 (frame 1742/11993) /content/Structure Fire Millers Falls 11_8_22 (1).mp4: 384x640 (no detections), 9.4ms\n",
            "video 1/1 (frame 1743/11993) /content/Structure Fire Millers Falls 11_8_22 (1).mp4: 384x640 (no detections), 9.3ms\n",
            "video 1/1 (frame 1744/11993) /content/Structure Fire Millers Falls 11_8_22 (1).mp4: 384x640 (no detections), 9.8ms\n",
            "video 1/1 (frame 1745/11993) /content/Structure Fire Millers Falls 11_8_22 (1).mp4: 384x640 (no detections), 12.1ms\n",
            "video 1/1 (frame 1746/11993) /content/Structure Fire Millers Falls 11_8_22 (1).mp4: 384x640 (no detections), 10.1ms\n",
            "video 1/1 (frame 1747/11993) /content/Structure Fire Millers Falls 11_8_22 (1).mp4: 384x640 (no detections), 9.5ms\n",
            "video 1/1 (frame 1748/11993) /content/Structure Fire Millers Falls 11_8_22 (1).mp4: 384x640 (no detections), 8.5ms\n",
            "video 1/1 (frame 1749/11993) /content/Structure Fire Millers Falls 11_8_22 (1).mp4: 384x640 (no detections), 8.7ms\n",
            "video 1/1 (frame 1750/11993) /content/Structure Fire Millers Falls 11_8_22 (1).mp4: 384x640 (no detections), 11.4ms\n",
            "video 1/1 (frame 1751/11993) /content/Structure Fire Millers Falls 11_8_22 (1).mp4: 384x640 (no detections), 8.6ms\n",
            "video 1/1 (frame 1752/11993) /content/Structure Fire Millers Falls 11_8_22 (1).mp4: 384x640 (no detections), 11.9ms\n",
            "video 1/1 (frame 1753/11993) /content/Structure Fire Millers Falls 11_8_22 (1).mp4: 384x640 (no detections), 9.5ms\n",
            "video 1/1 (frame 1754/11993) /content/Structure Fire Millers Falls 11_8_22 (1).mp4: 384x640 (no detections), 10.4ms\n",
            "video 1/1 (frame 1755/11993) /content/Structure Fire Millers Falls 11_8_22 (1).mp4: 384x640 (no detections), 8.4ms\n",
            "video 1/1 (frame 1756/11993) /content/Structure Fire Millers Falls 11_8_22 (1).mp4: 384x640 (no detections), 10.3ms\n",
            "video 1/1 (frame 1757/11993) /content/Structure Fire Millers Falls 11_8_22 (1).mp4: 384x640 (no detections), 8.8ms\n",
            "video 1/1 (frame 1758/11993) /content/Structure Fire Millers Falls 11_8_22 (1).mp4: 384x640 (no detections), 10.2ms\n",
            "video 1/1 (frame 1759/11993) /content/Structure Fire Millers Falls 11_8_22 (1).mp4: 384x640 (no detections), 12.7ms\n",
            "video 1/1 (frame 1760/11993) /content/Structure Fire Millers Falls 11_8_22 (1).mp4: 384x640 (no detections), 12.1ms\n",
            "video 1/1 (frame 1761/11993) /content/Structure Fire Millers Falls 11_8_22 (1).mp4: 384x640 (no detections), 10.0ms\n",
            "video 1/1 (frame 1762/11993) /content/Structure Fire Millers Falls 11_8_22 (1).mp4: 384x640 (no detections), 10.1ms\n",
            "video 1/1 (frame 1763/11993) /content/Structure Fire Millers Falls 11_8_22 (1).mp4: 384x640 (no detections), 14.4ms\n",
            "video 1/1 (frame 1764/11993) /content/Structure Fire Millers Falls 11_8_22 (1).mp4: 384x640 (no detections), 12.2ms\n",
            "video 1/1 (frame 1765/11993) /content/Structure Fire Millers Falls 11_8_22 (1).mp4: 384x640 (no detections), 13.1ms\n",
            "video 1/1 (frame 1766/11993) /content/Structure Fire Millers Falls 11_8_22 (1).mp4: 384x640 (no detections), 12.9ms\n",
            "video 1/1 (frame 1767/11993) /content/Structure Fire Millers Falls 11_8_22 (1).mp4: 384x640 (no detections), 9.4ms\n",
            "video 1/1 (frame 1768/11993) /content/Structure Fire Millers Falls 11_8_22 (1).mp4: 384x640 (no detections), 10.2ms\n",
            "video 1/1 (frame 1769/11993) /content/Structure Fire Millers Falls 11_8_22 (1).mp4: 384x640 (no detections), 11.0ms\n",
            "video 1/1 (frame 1770/11993) /content/Structure Fire Millers Falls 11_8_22 (1).mp4: 384x640 (no detections), 13.4ms\n",
            "video 1/1 (frame 1771/11993) /content/Structure Fire Millers Falls 11_8_22 (1).mp4: 384x640 (no detections), 9.6ms\n",
            "video 1/1 (frame 1772/11993) /content/Structure Fire Millers Falls 11_8_22 (1).mp4: 384x640 (no detections), 9.4ms\n",
            "video 1/1 (frame 1773/11993) /content/Structure Fire Millers Falls 11_8_22 (1).mp4: 384x640 (no detections), 8.4ms\n",
            "video 1/1 (frame 1774/11993) /content/Structure Fire Millers Falls 11_8_22 (1).mp4: 384x640 (no detections), 9.7ms\n",
            "video 1/1 (frame 1775/11993) /content/Structure Fire Millers Falls 11_8_22 (1).mp4: 384x640 (no detections), 9.2ms\n",
            "video 1/1 (frame 1776/11993) /content/Structure Fire Millers Falls 11_8_22 (1).mp4: 384x640 (no detections), 11.3ms\n",
            "video 1/1 (frame 1777/11993) /content/Structure Fire Millers Falls 11_8_22 (1).mp4: 384x640 (no detections), 12.3ms\n",
            "video 1/1 (frame 1778/11993) /content/Structure Fire Millers Falls 11_8_22 (1).mp4: 384x640 (no detections), 11.1ms\n",
            "video 1/1 (frame 1779/11993) /content/Structure Fire Millers Falls 11_8_22 (1).mp4: 384x640 (no detections), 10.7ms\n",
            "video 1/1 (frame 1780/11993) /content/Structure Fire Millers Falls 11_8_22 (1).mp4: 384x640 (no detections), 11.5ms\n",
            "video 1/1 (frame 1781/11993) /content/Structure Fire Millers Falls 11_8_22 (1).mp4: 384x640 (no detections), 10.5ms\n",
            "video 1/1 (frame 1782/11993) /content/Structure Fire Millers Falls 11_8_22 (1).mp4: 384x640 (no detections), 11.3ms\n",
            "video 1/1 (frame 1783/11993) /content/Structure Fire Millers Falls 11_8_22 (1).mp4: 384x640 (no detections), 8.6ms\n",
            "video 1/1 (frame 1784/11993) /content/Structure Fire Millers Falls 11_8_22 (1).mp4: 384x640 (no detections), 12.6ms\n",
            "video 1/1 (frame 1785/11993) /content/Structure Fire Millers Falls 11_8_22 (1).mp4: 384x640 (no detections), 8.7ms\n",
            "video 1/1 (frame 1786/11993) /content/Structure Fire Millers Falls 11_8_22 (1).mp4: 384x640 (no detections), 10.6ms\n",
            "video 1/1 (frame 1787/11993) /content/Structure Fire Millers Falls 11_8_22 (1).mp4: 384x640 (no detections), 11.0ms\n",
            "video 1/1 (frame 1788/11993) /content/Structure Fire Millers Falls 11_8_22 (1).mp4: 384x640 (no detections), 9.8ms\n",
            "video 1/1 (frame 1789/11993) /content/Structure Fire Millers Falls 11_8_22 (1).mp4: 384x640 (no detections), 10.7ms\n",
            "video 1/1 (frame 1790/11993) /content/Structure Fire Millers Falls 11_8_22 (1).mp4: 384x640 (no detections), 10.2ms\n",
            "video 1/1 (frame 1791/11993) /content/Structure Fire Millers Falls 11_8_22 (1).mp4: 384x640 (no detections), 9.3ms\n",
            "video 1/1 (frame 1792/11993) /content/Structure Fire Millers Falls 11_8_22 (1).mp4: 384x640 (no detections), 8.5ms\n",
            "video 1/1 (frame 1793/11993) /content/Structure Fire Millers Falls 11_8_22 (1).mp4: 384x640 (no detections), 8.6ms\n",
            "video 1/1 (frame 1794/11993) /content/Structure Fire Millers Falls 11_8_22 (1).mp4: 384x640 (no detections), 11.9ms\n",
            "video 1/1 (frame 1795/11993) /content/Structure Fire Millers Falls 11_8_22 (1).mp4: 384x640 (no detections), 10.4ms\n",
            "video 1/1 (frame 1796/11993) /content/Structure Fire Millers Falls 11_8_22 (1).mp4: 384x640 (no detections), 8.7ms\n",
            "video 1/1 (frame 1797/11993) /content/Structure Fire Millers Falls 11_8_22 (1).mp4: 384x640 (no detections), 10.2ms\n",
            "video 1/1 (frame 1798/11993) /content/Structure Fire Millers Falls 11_8_22 (1).mp4: 384x640 (no detections), 9.2ms\n",
            "video 1/1 (frame 1799/11993) /content/Structure Fire Millers Falls 11_8_22 (1).mp4: 384x640 (no detections), 10.7ms\n",
            "video 1/1 (frame 1800/11993) /content/Structure Fire Millers Falls 11_8_22 (1).mp4: 384x640 (no detections), 12.0ms\n",
            "video 1/1 (frame 1801/11993) /content/Structure Fire Millers Falls 11_8_22 (1).mp4: 384x640 (no detections), 11.3ms\n",
            "video 1/1 (frame 1802/11993) /content/Structure Fire Millers Falls 11_8_22 (1).mp4: 384x640 (no detections), 18.4ms\n",
            "video 1/1 (frame 1803/11993) /content/Structure Fire Millers Falls 11_8_22 (1).mp4: 384x640 (no detections), 8.9ms\n",
            "video 1/1 (frame 1804/11993) /content/Structure Fire Millers Falls 11_8_22 (1).mp4: 384x640 (no detections), 9.1ms\n",
            "video 1/1 (frame 1805/11993) /content/Structure Fire Millers Falls 11_8_22 (1).mp4: 384x640 (no detections), 12.8ms\n",
            "video 1/1 (frame 1806/11993) /content/Structure Fire Millers Falls 11_8_22 (1).mp4: 384x640 (no detections), 12.6ms\n",
            "video 1/1 (frame 1807/11993) /content/Structure Fire Millers Falls 11_8_22 (1).mp4: 384x640 (no detections), 11.3ms\n",
            "video 1/1 (frame 1808/11993) /content/Structure Fire Millers Falls 11_8_22 (1).mp4: 384x640 (no detections), 8.8ms\n",
            "video 1/1 (frame 1809/11993) /content/Structure Fire Millers Falls 11_8_22 (1).mp4: 384x640 (no detections), 11.8ms\n",
            "video 1/1 (frame 1810/11993) /content/Structure Fire Millers Falls 11_8_22 (1).mp4: 384x640 (no detections), 11.7ms\n",
            "video 1/1 (frame 1811/11993) /content/Structure Fire Millers Falls 11_8_22 (1).mp4: 384x640 (no detections), 12.4ms\n",
            "video 1/1 (frame 1812/11993) /content/Structure Fire Millers Falls 11_8_22 (1).mp4: 384x640 (no detections), 9.0ms\n",
            "video 1/1 (frame 1813/11993) /content/Structure Fire Millers Falls 11_8_22 (1).mp4: 384x640 (no detections), 10.1ms\n",
            "video 1/1 (frame 1814/11993) /content/Structure Fire Millers Falls 11_8_22 (1).mp4: 384x640 (no detections), 12.2ms\n",
            "video 1/1 (frame 1815/11993) /content/Structure Fire Millers Falls 11_8_22 (1).mp4: 384x640 (no detections), 14.4ms\n",
            "video 1/1 (frame 1816/11993) /content/Structure Fire Millers Falls 11_8_22 (1).mp4: 384x640 (no detections), 11.1ms\n",
            "video 1/1 (frame 1817/11993) /content/Structure Fire Millers Falls 11_8_22 (1).mp4: 384x640 (no detections), 8.8ms\n",
            "video 1/1 (frame 1818/11993) /content/Structure Fire Millers Falls 11_8_22 (1).mp4: 384x640 (no detections), 12.9ms\n",
            "video 1/1 (frame 1819/11993) /content/Structure Fire Millers Falls 11_8_22 (1).mp4: 384x640 (no detections), 13.2ms\n",
            "video 1/1 (frame 1820/11993) /content/Structure Fire Millers Falls 11_8_22 (1).mp4: 384x640 (no detections), 11.0ms\n",
            "video 1/1 (frame 1821/11993) /content/Structure Fire Millers Falls 11_8_22 (1).mp4: 384x640 (no detections), 8.5ms\n",
            "video 1/1 (frame 1822/11993) /content/Structure Fire Millers Falls 11_8_22 (1).mp4: 384x640 (no detections), 13.4ms\n",
            "video 1/1 (frame 1823/11993) /content/Structure Fire Millers Falls 11_8_22 (1).mp4: 384x640 (no detections), 10.0ms\n",
            "video 1/1 (frame 1824/11993) /content/Structure Fire Millers Falls 11_8_22 (1).mp4: 384x640 (no detections), 11.9ms\n",
            "video 1/1 (frame 1825/11993) /content/Structure Fire Millers Falls 11_8_22 (1).mp4: 384x640 (no detections), 14.9ms\n",
            "video 1/1 (frame 1826/11993) /content/Structure Fire Millers Falls 11_8_22 (1).mp4: 384x640 (no detections), 11.5ms\n",
            "video 1/1 (frame 1827/11993) /content/Structure Fire Millers Falls 11_8_22 (1).mp4: 384x640 (no detections), 9.2ms\n",
            "video 1/1 (frame 1828/11993) /content/Structure Fire Millers Falls 11_8_22 (1).mp4: 384x640 (no detections), 9.9ms\n",
            "video 1/1 (frame 1829/11993) /content/Structure Fire Millers Falls 11_8_22 (1).mp4: 384x640 (no detections), 10.6ms\n",
            "video 1/1 (frame 1830/11993) /content/Structure Fire Millers Falls 11_8_22 (1).mp4: 384x640 (no detections), 9.2ms\n",
            "video 1/1 (frame 1831/11993) /content/Structure Fire Millers Falls 11_8_22 (1).mp4: 384x640 (no detections), 11.3ms\n",
            "video 1/1 (frame 1832/11993) /content/Structure Fire Millers Falls 11_8_22 (1).mp4: 384x640 (no detections), 13.0ms\n",
            "video 1/1 (frame 1833/11993) /content/Structure Fire Millers Falls 11_8_22 (1).mp4: 384x640 (no detections), 13.8ms\n",
            "video 1/1 (frame 1834/11993) /content/Structure Fire Millers Falls 11_8_22 (1).mp4: 384x640 (no detections), 9.8ms\n",
            "video 1/1 (frame 1835/11993) /content/Structure Fire Millers Falls 11_8_22 (1).mp4: 384x640 (no detections), 12.3ms\n",
            "video 1/1 (frame 1836/11993) /content/Structure Fire Millers Falls 11_8_22 (1).mp4: 384x640 (no detections), 9.2ms\n",
            "video 1/1 (frame 1837/11993) /content/Structure Fire Millers Falls 11_8_22 (1).mp4: 384x640 (no detections), 8.7ms\n",
            "video 1/1 (frame 1838/11993) /content/Structure Fire Millers Falls 11_8_22 (1).mp4: 384x640 (no detections), 11.7ms\n",
            "video 1/1 (frame 1839/11993) /content/Structure Fire Millers Falls 11_8_22 (1).mp4: 384x640 (no detections), 11.3ms\n",
            "video 1/1 (frame 1840/11993) /content/Structure Fire Millers Falls 11_8_22 (1).mp4: 384x640 (no detections), 10.8ms\n",
            "video 1/1 (frame 1841/11993) /content/Structure Fire Millers Falls 11_8_22 (1).mp4: 384x640 (no detections), 8.7ms\n",
            "video 1/1 (frame 1842/11993) /content/Structure Fire Millers Falls 11_8_22 (1).mp4: 384x640 (no detections), 11.9ms\n",
            "video 1/1 (frame 1843/11993) /content/Structure Fire Millers Falls 11_8_22 (1).mp4: 384x640 (no detections), 9.3ms\n",
            "video 1/1 (frame 1844/11993) /content/Structure Fire Millers Falls 11_8_22 (1).mp4: 384x640 (no detections), 10.1ms\n",
            "video 1/1 (frame 1845/11993) /content/Structure Fire Millers Falls 11_8_22 (1).mp4: 384x640 (no detections), 9.2ms\n",
            "video 1/1 (frame 1846/11993) /content/Structure Fire Millers Falls 11_8_22 (1).mp4: 384x640 (no detections), 13.0ms\n",
            "video 1/1 (frame 1847/11993) /content/Structure Fire Millers Falls 11_8_22 (1).mp4: 384x640 (no detections), 14.7ms\n",
            "video 1/1 (frame 1848/11993) /content/Structure Fire Millers Falls 11_8_22 (1).mp4: 384x640 (no detections), 19.1ms\n",
            "video 1/1 (frame 1849/11993) /content/Structure Fire Millers Falls 11_8_22 (1).mp4: 384x640 (no detections), 15.6ms\n",
            "video 1/1 (frame 1850/11993) /content/Structure Fire Millers Falls 11_8_22 (1).mp4: 384x640 (no detections), 14.4ms\n",
            "video 1/1 (frame 1851/11993) /content/Structure Fire Millers Falls 11_8_22 (1).mp4: 384x640 (no detections), 10.8ms\n",
            "video 1/1 (frame 1852/11993) /content/Structure Fire Millers Falls 11_8_22 (1).mp4: 384x640 (no detections), 16.6ms\n",
            "video 1/1 (frame 1853/11993) /content/Structure Fire Millers Falls 11_8_22 (1).mp4: 384x640 (no detections), 12.9ms\n",
            "video 1/1 (frame 1854/11993) /content/Structure Fire Millers Falls 11_8_22 (1).mp4: 384x640 (no detections), 22.2ms\n",
            "video 1/1 (frame 1855/11993) /content/Structure Fire Millers Falls 11_8_22 (1).mp4: 384x640 (no detections), 12.8ms\n",
            "video 1/1 (frame 1856/11993) /content/Structure Fire Millers Falls 11_8_22 (1).mp4: 384x640 (no detections), 15.1ms\n",
            "video 1/1 (frame 1857/11993) /content/Structure Fire Millers Falls 11_8_22 (1).mp4: 384x640 (no detections), 15.4ms\n",
            "video 1/1 (frame 1858/11993) /content/Structure Fire Millers Falls 11_8_22 (1).mp4: 384x640 (no detections), 16.4ms\n",
            "video 1/1 (frame 1859/11993) /content/Structure Fire Millers Falls 11_8_22 (1).mp4: 384x640 (no detections), 22.0ms\n",
            "video 1/1 (frame 1860/11993) /content/Structure Fire Millers Falls 11_8_22 (1).mp4: 384x640 (no detections), 14.4ms\n",
            "video 1/1 (frame 1861/11993) /content/Structure Fire Millers Falls 11_8_22 (1).mp4: 384x640 (no detections), 11.9ms\n",
            "video 1/1 (frame 1862/11993) /content/Structure Fire Millers Falls 11_8_22 (1).mp4: 384x640 (no detections), 18.0ms\n",
            "video 1/1 (frame 1863/11993) /content/Structure Fire Millers Falls 11_8_22 (1).mp4: 384x640 (no detections), 14.0ms\n",
            "video 1/1 (frame 1864/11993) /content/Structure Fire Millers Falls 11_8_22 (1).mp4: 384x640 (no detections), 11.9ms\n",
            "video 1/1 (frame 1865/11993) /content/Structure Fire Millers Falls 11_8_22 (1).mp4: 384x640 (no detections), 11.3ms\n",
            "video 1/1 (frame 1866/11993) /content/Structure Fire Millers Falls 11_8_22 (1).mp4: 384x640 (no detections), 14.4ms\n",
            "video 1/1 (frame 1867/11993) /content/Structure Fire Millers Falls 11_8_22 (1).mp4: 384x640 (no detections), 11.0ms\n",
            "video 1/1 (frame 1868/11993) /content/Structure Fire Millers Falls 11_8_22 (1).mp4: 384x640 (no detections), 12.9ms\n",
            "video 1/1 (frame 1869/11993) /content/Structure Fire Millers Falls 11_8_22 (1).mp4: 384x640 (no detections), 11.2ms\n",
            "video 1/1 (frame 1870/11993) /content/Structure Fire Millers Falls 11_8_22 (1).mp4: 384x640 (no detections), 11.3ms\n",
            "video 1/1 (frame 1871/11993) /content/Structure Fire Millers Falls 11_8_22 (1).mp4: 384x640 (no detections), 10.7ms\n",
            "video 1/1 (frame 1872/11993) /content/Structure Fire Millers Falls 11_8_22 (1).mp4: 384x640 (no detections), 11.9ms\n",
            "video 1/1 (frame 1873/11993) /content/Structure Fire Millers Falls 11_8_22 (1).mp4: 384x640 (no detections), 10.8ms\n",
            "video 1/1 (frame 1874/11993) /content/Structure Fire Millers Falls 11_8_22 (1).mp4: 384x640 (no detections), 11.1ms\n",
            "video 1/1 (frame 1875/11993) /content/Structure Fire Millers Falls 11_8_22 (1).mp4: 384x640 (no detections), 12.7ms\n",
            "video 1/1 (frame 1876/11993) /content/Structure Fire Millers Falls 11_8_22 (1).mp4: 384x640 (no detections), 10.6ms\n",
            "video 1/1 (frame 1877/11993) /content/Structure Fire Millers Falls 11_8_22 (1).mp4: 384x640 (no detections), 40.8ms\n",
            "video 1/1 (frame 1878/11993) /content/Structure Fire Millers Falls 11_8_22 (1).mp4: 384x640 (no detections), 12.1ms\n",
            "video 1/1 (frame 1879/11993) /content/Structure Fire Millers Falls 11_8_22 (1).mp4: 384x640 (no detections), 16.2ms\n",
            "video 1/1 (frame 1880/11993) /content/Structure Fire Millers Falls 11_8_22 (1).mp4: 384x640 (no detections), 29.4ms\n",
            "video 1/1 (frame 1881/11993) /content/Structure Fire Millers Falls 11_8_22 (1).mp4: 384x640 (no detections), 14.8ms\n",
            "video 1/1 (frame 1882/11993) /content/Structure Fire Millers Falls 11_8_22 (1).mp4: 384x640 (no detections), 14.0ms\n",
            "video 1/1 (frame 1883/11993) /content/Structure Fire Millers Falls 11_8_22 (1).mp4: 384x640 (no detections), 15.0ms\n",
            "video 1/1 (frame 1884/11993) /content/Structure Fire Millers Falls 11_8_22 (1).mp4: 384x640 (no detections), 21.4ms\n",
            "video 1/1 (frame 1885/11993) /content/Structure Fire Millers Falls 11_8_22 (1).mp4: 384x640 (no detections), 12.5ms\n",
            "video 1/1 (frame 1886/11993) /content/Structure Fire Millers Falls 11_8_22 (1).mp4: 384x640 (no detections), 20.0ms\n",
            "video 1/1 (frame 1887/11993) /content/Structure Fire Millers Falls 11_8_22 (1).mp4: 384x640 (no detections), 13.1ms\n",
            "video 1/1 (frame 1888/11993) /content/Structure Fire Millers Falls 11_8_22 (1).mp4: 384x640 (no detections), 13.1ms\n",
            "video 1/1 (frame 1889/11993) /content/Structure Fire Millers Falls 11_8_22 (1).mp4: 384x640 (no detections), 16.8ms\n",
            "video 1/1 (frame 1890/11993) /content/Structure Fire Millers Falls 11_8_22 (1).mp4: 384x640 (no detections), 23.1ms\n",
            "video 1/1 (frame 1891/11993) /content/Structure Fire Millers Falls 11_8_22 (1).mp4: 384x640 (no detections), 19.5ms\n",
            "video 1/1 (frame 1892/11993) /content/Structure Fire Millers Falls 11_8_22 (1).mp4: 384x640 (no detections), 19.0ms\n",
            "video 1/1 (frame 1893/11993) /content/Structure Fire Millers Falls 11_8_22 (1).mp4: 384x640 (no detections), 14.6ms\n",
            "video 1/1 (frame 1894/11993) /content/Structure Fire Millers Falls 11_8_22 (1).mp4: 384x640 (no detections), 16.5ms\n",
            "video 1/1 (frame 1895/11993) /content/Structure Fire Millers Falls 11_8_22 (1).mp4: 384x640 (no detections), 15.4ms\n",
            "video 1/1 (frame 1896/11993) /content/Structure Fire Millers Falls 11_8_22 (1).mp4: 384x640 (no detections), 15.4ms\n",
            "video 1/1 (frame 1897/11993) /content/Structure Fire Millers Falls 11_8_22 (1).mp4: 384x640 (no detections), 16.2ms\n",
            "video 1/1 (frame 1898/11993) /content/Structure Fire Millers Falls 11_8_22 (1).mp4: 384x640 (no detections), 19.3ms\n",
            "video 1/1 (frame 1899/11993) /content/Structure Fire Millers Falls 11_8_22 (1).mp4: 384x640 (no detections), 17.3ms\n",
            "video 1/1 (frame 1900/11993) /content/Structure Fire Millers Falls 11_8_22 (1).mp4: 384x640 (no detections), 15.3ms\n",
            "video 1/1 (frame 1901/11993) /content/Structure Fire Millers Falls 11_8_22 (1).mp4: 384x640 (no detections), 11.1ms\n",
            "video 1/1 (frame 1902/11993) /content/Structure Fire Millers Falls 11_8_22 (1).mp4: 384x640 (no detections), 11.0ms\n",
            "video 1/1 (frame 1903/11993) /content/Structure Fire Millers Falls 11_8_22 (1).mp4: 384x640 (no detections), 9.4ms\n",
            "video 1/1 (frame 1904/11993) /content/Structure Fire Millers Falls 11_8_22 (1).mp4: 384x640 (no detections), 11.2ms\n",
            "video 1/1 (frame 1905/11993) /content/Structure Fire Millers Falls 11_8_22 (1).mp4: 384x640 (no detections), 11.5ms\n",
            "video 1/1 (frame 1906/11993) /content/Structure Fire Millers Falls 11_8_22 (1).mp4: 384x640 (no detections), 11.5ms\n",
            "video 1/1 (frame 1907/11993) /content/Structure Fire Millers Falls 11_8_22 (1).mp4: 384x640 (no detections), 10.8ms\n",
            "video 1/1 (frame 1908/11993) /content/Structure Fire Millers Falls 11_8_22 (1).mp4: 384x640 (no detections), 10.5ms\n",
            "video 1/1 (frame 1909/11993) /content/Structure Fire Millers Falls 11_8_22 (1).mp4: 384x640 (no detections), 9.7ms\n",
            "video 1/1 (frame 1910/11993) /content/Structure Fire Millers Falls 11_8_22 (1).mp4: 384x640 (no detections), 11.9ms\n",
            "video 1/1 (frame 1911/11993) /content/Structure Fire Millers Falls 11_8_22 (1).mp4: 384x640 (no detections), 8.6ms\n",
            "video 1/1 (frame 1912/11993) /content/Structure Fire Millers Falls 11_8_22 (1).mp4: 384x640 (no detections), 12.7ms\n",
            "video 1/1 (frame 1913/11993) /content/Structure Fire Millers Falls 11_8_22 (1).mp4: 384x640 (no detections), 9.9ms\n",
            "video 1/1 (frame 1914/11993) /content/Structure Fire Millers Falls 11_8_22 (1).mp4: 384x640 (no detections), 11.7ms\n",
            "video 1/1 (frame 1915/11993) /content/Structure Fire Millers Falls 11_8_22 (1).mp4: 384x640 (no detections), 11.7ms\n",
            "video 1/1 (frame 1916/11993) /content/Structure Fire Millers Falls 11_8_22 (1).mp4: 384x640 (no detections), 12.1ms\n",
            "video 1/1 (frame 1917/11993) /content/Structure Fire Millers Falls 11_8_22 (1).mp4: 384x640 (no detections), 13.7ms\n",
            "video 1/1 (frame 1918/11993) /content/Structure Fire Millers Falls 11_8_22 (1).mp4: 384x640 (no detections), 13.4ms\n",
            "video 1/1 (frame 1919/11993) /content/Structure Fire Millers Falls 11_8_22 (1).mp4: 384x640 (no detections), 11.1ms\n",
            "video 1/1 (frame 1920/11993) /content/Structure Fire Millers Falls 11_8_22 (1).mp4: 384x640 (no detections), 9.0ms\n",
            "video 1/1 (frame 1921/11993) /content/Structure Fire Millers Falls 11_8_22 (1).mp4: 384x640 (no detections), 9.6ms\n",
            "video 1/1 (frame 1922/11993) /content/Structure Fire Millers Falls 11_8_22 (1).mp4: 384x640 (no detections), 9.2ms\n",
            "video 1/1 (frame 1923/11993) /content/Structure Fire Millers Falls 11_8_22 (1).mp4: 384x640 (no detections), 12.0ms\n",
            "video 1/1 (frame 1924/11993) /content/Structure Fire Millers Falls 11_8_22 (1).mp4: 384x640 (no detections), 15.1ms\n",
            "video 1/1 (frame 1925/11993) /content/Structure Fire Millers Falls 11_8_22 (1).mp4: 384x640 (no detections), 12.8ms\n",
            "video 1/1 (frame 1926/11993) /content/Structure Fire Millers Falls 11_8_22 (1).mp4: 384x640 (no detections), 11.5ms\n",
            "video 1/1 (frame 1927/11993) /content/Structure Fire Millers Falls 11_8_22 (1).mp4: 384x640 (no detections), 11.6ms\n",
            "video 1/1 (frame 1928/11993) /content/Structure Fire Millers Falls 11_8_22 (1).mp4: 384x640 (no detections), 12.0ms\n",
            "video 1/1 (frame 1929/11993) /content/Structure Fire Millers Falls 11_8_22 (1).mp4: 384x640 (no detections), 12.4ms\n",
            "video 1/1 (frame 1930/11993) /content/Structure Fire Millers Falls 11_8_22 (1).mp4: 384x640 (no detections), 16.7ms\n",
            "video 1/1 (frame 1931/11993) /content/Structure Fire Millers Falls 11_8_22 (1).mp4: 384x640 (no detections), 12.7ms\n",
            "video 1/1 (frame 1932/11993) /content/Structure Fire Millers Falls 11_8_22 (1).mp4: 384x640 (no detections), 12.9ms\n",
            "video 1/1 (frame 1933/11993) /content/Structure Fire Millers Falls 11_8_22 (1).mp4: 384x640 (no detections), 11.4ms\n",
            "video 1/1 (frame 1934/11993) /content/Structure Fire Millers Falls 11_8_22 (1).mp4: 384x640 (no detections), 11.2ms\n",
            "video 1/1 (frame 1935/11993) /content/Structure Fire Millers Falls 11_8_22 (1).mp4: 384x640 (no detections), 11.3ms\n",
            "video 1/1 (frame 1936/11993) /content/Structure Fire Millers Falls 11_8_22 (1).mp4: 384x640 (no detections), 12.6ms\n",
            "video 1/1 (frame 1937/11993) /content/Structure Fire Millers Falls 11_8_22 (1).mp4: 384x640 (no detections), 11.3ms\n",
            "video 1/1 (frame 1938/11993) /content/Structure Fire Millers Falls 11_8_22 (1).mp4: 384x640 (no detections), 11.6ms\n",
            "video 1/1 (frame 1939/11993) /content/Structure Fire Millers Falls 11_8_22 (1).mp4: 384x640 (no detections), 11.0ms\n",
            "video 1/1 (frame 1940/11993) /content/Structure Fire Millers Falls 11_8_22 (1).mp4: 384x640 (no detections), 10.5ms\n",
            "video 1/1 (frame 1941/11993) /content/Structure Fire Millers Falls 11_8_22 (1).mp4: 384x640 (no detections), 11.3ms\n",
            "video 1/1 (frame 1942/11993) /content/Structure Fire Millers Falls 11_8_22 (1).mp4: 384x640 (no detections), 9.9ms\n",
            "video 1/1 (frame 1943/11993) /content/Structure Fire Millers Falls 11_8_22 (1).mp4: 384x640 (no detections), 11.4ms\n",
            "video 1/1 (frame 1944/11993) /content/Structure Fire Millers Falls 11_8_22 (1).mp4: 384x640 (no detections), 10.2ms\n",
            "video 1/1 (frame 1945/11993) /content/Structure Fire Millers Falls 11_8_22 (1).mp4: 384x640 (no detections), 10.7ms\n",
            "video 1/1 (frame 1946/11993) /content/Structure Fire Millers Falls 11_8_22 (1).mp4: 384x640 (no detections), 9.0ms\n",
            "video 1/1 (frame 1947/11993) /content/Structure Fire Millers Falls 11_8_22 (1).mp4: 384x640 (no detections), 12.9ms\n",
            "video 1/1 (frame 1948/11993) /content/Structure Fire Millers Falls 11_8_22 (1).mp4: 384x640 (no detections), 8.8ms\n",
            "video 1/1 (frame 1949/11993) /content/Structure Fire Millers Falls 11_8_22 (1).mp4: 384x640 (no detections), 9.3ms\n",
            "video 1/1 (frame 1950/11993) /content/Structure Fire Millers Falls 11_8_22 (1).mp4: 384x640 (no detections), 9.4ms\n",
            "video 1/1 (frame 1951/11993) /content/Structure Fire Millers Falls 11_8_22 (1).mp4: 384x640 (no detections), 10.6ms\n",
            "video 1/1 (frame 1952/11993) /content/Structure Fire Millers Falls 11_8_22 (1).mp4: 384x640 (no detections), 9.2ms\n",
            "video 1/1 (frame 1953/11993) /content/Structure Fire Millers Falls 11_8_22 (1).mp4: 384x640 (no detections), 9.3ms\n",
            "video 1/1 (frame 1954/11993) /content/Structure Fire Millers Falls 11_8_22 (1).mp4: 384x640 (no detections), 9.1ms\n",
            "video 1/1 (frame 1955/11993) /content/Structure Fire Millers Falls 11_8_22 (1).mp4: 384x640 (no detections), 14.6ms\n",
            "video 1/1 (frame 1956/11993) /content/Structure Fire Millers Falls 11_8_22 (1).mp4: 384x640 (no detections), 10.8ms\n",
            "video 1/1 (frame 1957/11993) /content/Structure Fire Millers Falls 11_8_22 (1).mp4: 384x640 (no detections), 9.2ms\n",
            "video 1/1 (frame 1958/11993) /content/Structure Fire Millers Falls 11_8_22 (1).mp4: 384x640 (no detections), 10.0ms\n",
            "video 1/1 (frame 1959/11993) /content/Structure Fire Millers Falls 11_8_22 (1).mp4: 384x640 (no detections), 10.9ms\n",
            "video 1/1 (frame 1960/11993) /content/Structure Fire Millers Falls 11_8_22 (1).mp4: 384x640 (no detections), 8.9ms\n",
            "video 1/1 (frame 1961/11993) /content/Structure Fire Millers Falls 11_8_22 (1).mp4: 384x640 (no detections), 10.9ms\n",
            "video 1/1 (frame 1962/11993) /content/Structure Fire Millers Falls 11_8_22 (1).mp4: 384x640 (no detections), 9.9ms\n",
            "video 1/1 (frame 1963/11993) /content/Structure Fire Millers Falls 11_8_22 (1).mp4: 384x640 (no detections), 10.2ms\n",
            "video 1/1 (frame 1964/11993) /content/Structure Fire Millers Falls 11_8_22 (1).mp4: 384x640 (no detections), 10.9ms\n",
            "video 1/1 (frame 1965/11993) /content/Structure Fire Millers Falls 11_8_22 (1).mp4: 384x640 (no detections), 9.2ms\n",
            "video 1/1 (frame 1966/11993) /content/Structure Fire Millers Falls 11_8_22 (1).mp4: 384x640 (no detections), 9.0ms\n",
            "video 1/1 (frame 1967/11993) /content/Structure Fire Millers Falls 11_8_22 (1).mp4: 384x640 (no detections), 10.9ms\n",
            "video 1/1 (frame 1968/11993) /content/Structure Fire Millers Falls 11_8_22 (1).mp4: 384x640 (no detections), 11.9ms\n",
            "video 1/1 (frame 1969/11993) /content/Structure Fire Millers Falls 11_8_22 (1).mp4: 384x640 (no detections), 8.5ms\n",
            "video 1/1 (frame 1970/11993) /content/Structure Fire Millers Falls 11_8_22 (1).mp4: 384x640 (no detections), 8.8ms\n",
            "video 1/1 (frame 1971/11993) /content/Structure Fire Millers Falls 11_8_22 (1).mp4: 384x640 (no detections), 13.0ms\n",
            "video 1/1 (frame 1972/11993) /content/Structure Fire Millers Falls 11_8_22 (1).mp4: 384x640 (no detections), 8.7ms\n",
            "video 1/1 (frame 1973/11993) /content/Structure Fire Millers Falls 11_8_22 (1).mp4: 384x640 (no detections), 9.8ms\n",
            "video 1/1 (frame 1974/11993) /content/Structure Fire Millers Falls 11_8_22 (1).mp4: 384x640 (no detections), 9.2ms\n",
            "video 1/1 (frame 1975/11993) /content/Structure Fire Millers Falls 11_8_22 (1).mp4: 384x640 (no detections), 11.4ms\n",
            "video 1/1 (frame 1976/11993) /content/Structure Fire Millers Falls 11_8_22 (1).mp4: 384x640 (no detections), 12.3ms\n",
            "video 1/1 (frame 1977/11993) /content/Structure Fire Millers Falls 11_8_22 (1).mp4: 384x640 (no detections), 11.8ms\n",
            "video 1/1 (frame 1978/11993) /content/Structure Fire Millers Falls 11_8_22 (1).mp4: 384x640 (no detections), 8.4ms\n",
            "video 1/1 (frame 1979/11993) /content/Structure Fire Millers Falls 11_8_22 (1).mp4: 384x640 (no detections), 11.3ms\n",
            "video 1/1 (frame 1980/11993) /content/Structure Fire Millers Falls 11_8_22 (1).mp4: 384x640 (no detections), 10.0ms\n",
            "video 1/1 (frame 1981/11993) /content/Structure Fire Millers Falls 11_8_22 (1).mp4: 384x640 (no detections), 12.4ms\n",
            "video 1/1 (frame 1982/11993) /content/Structure Fire Millers Falls 11_8_22 (1).mp4: 384x640 (no detections), 9.5ms\n",
            "video 1/1 (frame 1983/11993) /content/Structure Fire Millers Falls 11_8_22 (1).mp4: 384x640 (no detections), 10.6ms\n",
            "video 1/1 (frame 1984/11993) /content/Structure Fire Millers Falls 11_8_22 (1).mp4: 384x640 (no detections), 12.1ms\n",
            "video 1/1 (frame 1985/11993) /content/Structure Fire Millers Falls 11_8_22 (1).mp4: 384x640 (no detections), 9.8ms\n",
            "video 1/1 (frame 1986/11993) /content/Structure Fire Millers Falls 11_8_22 (1).mp4: 384x640 (no detections), 11.3ms\n",
            "video 1/1 (frame 1987/11993) /content/Structure Fire Millers Falls 11_8_22 (1).mp4: 384x640 (no detections), 11.2ms\n",
            "video 1/1 (frame 1988/11993) /content/Structure Fire Millers Falls 11_8_22 (1).mp4: 384x640 (no detections), 11.0ms\n",
            "video 1/1 (frame 1989/11993) /content/Structure Fire Millers Falls 11_8_22 (1).mp4: 384x640 (no detections), 12.3ms\n",
            "video 1/1 (frame 1990/11993) /content/Structure Fire Millers Falls 11_8_22 (1).mp4: 384x640 (no detections), 9.9ms\n",
            "video 1/1 (frame 1991/11993) /content/Structure Fire Millers Falls 11_8_22 (1).mp4: 384x640 (no detections), 10.6ms\n",
            "video 1/1 (frame 1992/11993) /content/Structure Fire Millers Falls 11_8_22 (1).mp4: 384x640 (no detections), 12.3ms\n",
            "video 1/1 (frame 1993/11993) /content/Structure Fire Millers Falls 11_8_22 (1).mp4: 384x640 (no detections), 11.8ms\n",
            "video 1/1 (frame 1994/11993) /content/Structure Fire Millers Falls 11_8_22 (1).mp4: 384x640 (no detections), 9.6ms\n",
            "video 1/1 (frame 1995/11993) /content/Structure Fire Millers Falls 11_8_22 (1).mp4: 384x640 (no detections), 9.4ms\n",
            "video 1/1 (frame 1996/11993) /content/Structure Fire Millers Falls 11_8_22 (1).mp4: 384x640 (no detections), 8.6ms\n",
            "video 1/1 (frame 1997/11993) /content/Structure Fire Millers Falls 11_8_22 (1).mp4: 384x640 (no detections), 13.0ms\n",
            "video 1/1 (frame 1998/11993) /content/Structure Fire Millers Falls 11_8_22 (1).mp4: 384x640 (no detections), 11.9ms\n",
            "video 1/1 (frame 1999/11993) /content/Structure Fire Millers Falls 11_8_22 (1).mp4: 384x640 (no detections), 8.0ms\n",
            "video 1/1 (frame 2000/11993) /content/Structure Fire Millers Falls 11_8_22 (1).mp4: 384x640 (no detections), 13.2ms\n",
            "video 1/1 (frame 2001/11993) /content/Structure Fire Millers Falls 11_8_22 (1).mp4: 384x640 (no detections), 8.3ms\n",
            "video 1/1 (frame 2002/11993) /content/Structure Fire Millers Falls 11_8_22 (1).mp4: 384x640 (no detections), 8.2ms\n",
            "video 1/1 (frame 2003/11993) /content/Structure Fire Millers Falls 11_8_22 (1).mp4: 384x640 (no detections), 11.6ms\n",
            "video 1/1 (frame 2004/11993) /content/Structure Fire Millers Falls 11_8_22 (1).mp4: 384x640 (no detections), 10.6ms\n",
            "video 1/1 (frame 2005/11993) /content/Structure Fire Millers Falls 11_8_22 (1).mp4: 384x640 (no detections), 13.1ms\n",
            "video 1/1 (frame 2006/11993) /content/Structure Fire Millers Falls 11_8_22 (1).mp4: 384x640 (no detections), 8.4ms\n",
            "video 1/1 (frame 2007/11993) /content/Structure Fire Millers Falls 11_8_22 (1).mp4: 384x640 (no detections), 11.4ms\n",
            "video 1/1 (frame 2008/11993) /content/Structure Fire Millers Falls 11_8_22 (1).mp4: 384x640 (no detections), 11.5ms\n",
            "video 1/1 (frame 2009/11993) /content/Structure Fire Millers Falls 11_8_22 (1).mp4: 384x640 (no detections), 11.0ms\n",
            "video 1/1 (frame 2010/11993) /content/Structure Fire Millers Falls 11_8_22 (1).mp4: 384x640 (no detections), 11.3ms\n",
            "video 1/1 (frame 2011/11993) /content/Structure Fire Millers Falls 11_8_22 (1).mp4: 384x640 (no detections), 12.6ms\n",
            "video 1/1 (frame 2012/11993) /content/Structure Fire Millers Falls 11_8_22 (1).mp4: 384x640 (no detections), 10.1ms\n",
            "video 1/1 (frame 2013/11993) /content/Structure Fire Millers Falls 11_8_22 (1).mp4: 384x640 (no detections), 12.1ms\n",
            "video 1/1 (frame 2014/11993) /content/Structure Fire Millers Falls 11_8_22 (1).mp4: 384x640 (no detections), 8.9ms\n",
            "video 1/1 (frame 2015/11993) /content/Structure Fire Millers Falls 11_8_22 (1).mp4: 384x640 (no detections), 15.0ms\n",
            "video 1/1 (frame 2016/11993) /content/Structure Fire Millers Falls 11_8_22 (1).mp4: 384x640 (no detections), 11.6ms\n",
            "video 1/1 (frame 2017/11993) /content/Structure Fire Millers Falls 11_8_22 (1).mp4: 384x640 (no detections), 10.0ms\n",
            "video 1/1 (frame 2018/11993) /content/Structure Fire Millers Falls 11_8_22 (1).mp4: 384x640 (no detections), 12.2ms\n",
            "video 1/1 (frame 2019/11993) /content/Structure Fire Millers Falls 11_8_22 (1).mp4: 384x640 (no detections), 10.9ms\n",
            "video 1/1 (frame 2020/11993) /content/Structure Fire Millers Falls 11_8_22 (1).mp4: 384x640 (no detections), 12.8ms\n",
            "video 1/1 (frame 2021/11993) /content/Structure Fire Millers Falls 11_8_22 (1).mp4: 384x640 (no detections), 9.6ms\n",
            "video 1/1 (frame 2022/11993) /content/Structure Fire Millers Falls 11_8_22 (1).mp4: 384x640 (no detections), 13.8ms\n",
            "video 1/1 (frame 2023/11993) /content/Structure Fire Millers Falls 11_8_22 (1).mp4: 384x640 (no detections), 10.5ms\n",
            "video 1/1 (frame 2024/11993) /content/Structure Fire Millers Falls 11_8_22 (1).mp4: 384x640 (no detections), 10.0ms\n",
            "video 1/1 (frame 2025/11993) /content/Structure Fire Millers Falls 11_8_22 (1).mp4: 384x640 (no detections), 9.5ms\n",
            "video 1/1 (frame 2026/11993) /content/Structure Fire Millers Falls 11_8_22 (1).mp4: 384x640 (no detections), 13.4ms\n",
            "video 1/1 (frame 2027/11993) /content/Structure Fire Millers Falls 11_8_22 (1).mp4: 384x640 (no detections), 10.9ms\n",
            "video 1/1 (frame 2028/11993) /content/Structure Fire Millers Falls 11_8_22 (1).mp4: 384x640 (no detections), 10.7ms\n",
            "video 1/1 (frame 2029/11993) /content/Structure Fire Millers Falls 11_8_22 (1).mp4: 384x640 (no detections), 12.3ms\n",
            "video 1/1 (frame 2030/11993) /content/Structure Fire Millers Falls 11_8_22 (1).mp4: 384x640 (no detections), 12.5ms\n",
            "video 1/1 (frame 2031/11993) /content/Structure Fire Millers Falls 11_8_22 (1).mp4: 384x640 (no detections), 8.8ms\n",
            "video 1/1 (frame 2032/11993) /content/Structure Fire Millers Falls 11_8_22 (1).mp4: 384x640 (no detections), 11.5ms\n",
            "video 1/1 (frame 2033/11993) /content/Structure Fire Millers Falls 11_8_22 (1).mp4: 384x640 (no detections), 10.1ms\n",
            "video 1/1 (frame 2034/11993) /content/Structure Fire Millers Falls 11_8_22 (1).mp4: 384x640 (no detections), 8.2ms\n",
            "video 1/1 (frame 2035/11993) /content/Structure Fire Millers Falls 11_8_22 (1).mp4: 384x640 (no detections), 11.5ms\n",
            "video 1/1 (frame 2036/11993) /content/Structure Fire Millers Falls 11_8_22 (1).mp4: 384x640 (no detections), 10.0ms\n",
            "video 1/1 (frame 2037/11993) /content/Structure Fire Millers Falls 11_8_22 (1).mp4: 384x640 (no detections), 8.5ms\n",
            "video 1/1 (frame 2038/11993) /content/Structure Fire Millers Falls 11_8_22 (1).mp4: 384x640 (no detections), 9.7ms\n",
            "video 1/1 (frame 2039/11993) /content/Structure Fire Millers Falls 11_8_22 (1).mp4: 384x640 (no detections), 9.3ms\n",
            "video 1/1 (frame 2040/11993) /content/Structure Fire Millers Falls 11_8_22 (1).mp4: 384x640 (no detections), 9.4ms\n",
            "video 1/1 (frame 2041/11993) /content/Structure Fire Millers Falls 11_8_22 (1).mp4: 384x640 (no detections), 11.8ms\n",
            "video 1/1 (frame 2042/11993) /content/Structure Fire Millers Falls 11_8_22 (1).mp4: 384x640 (no detections), 9.2ms\n",
            "video 1/1 (frame 2043/11993) /content/Structure Fire Millers Falls 11_8_22 (1).mp4: 384x640 (no detections), 12.3ms\n",
            "video 1/1 (frame 2044/11993) /content/Structure Fire Millers Falls 11_8_22 (1).mp4: 384x640 (no detections), 8.5ms\n",
            "video 1/1 (frame 2045/11993) /content/Structure Fire Millers Falls 11_8_22 (1).mp4: 384x640 (no detections), 13.2ms\n",
            "video 1/1 (frame 2046/11993) /content/Structure Fire Millers Falls 11_8_22 (1).mp4: 384x640 (no detections), 10.9ms\n",
            "video 1/1 (frame 2047/11993) /content/Structure Fire Millers Falls 11_8_22 (1).mp4: 384x640 (no detections), 8.2ms\n",
            "video 1/1 (frame 2048/11993) /content/Structure Fire Millers Falls 11_8_22 (1).mp4: 384x640 (no detections), 11.2ms\n",
            "video 1/1 (frame 2049/11993) /content/Structure Fire Millers Falls 11_8_22 (1).mp4: 384x640 (no detections), 10.4ms\n",
            "video 1/1 (frame 2050/11993) /content/Structure Fire Millers Falls 11_8_22 (1).mp4: 384x640 (no detections), 9.6ms\n",
            "video 1/1 (frame 2051/11993) /content/Structure Fire Millers Falls 11_8_22 (1).mp4: 384x640 (no detections), 10.7ms\n",
            "video 1/1 (frame 2052/11993) /content/Structure Fire Millers Falls 11_8_22 (1).mp4: 384x640 (no detections), 11.4ms\n",
            "video 1/1 (frame 2053/11993) /content/Structure Fire Millers Falls 11_8_22 (1).mp4: 384x640 (no detections), 13.4ms\n",
            "video 1/1 (frame 2054/11993) /content/Structure Fire Millers Falls 11_8_22 (1).mp4: 384x640 (no detections), 12.1ms\n",
            "video 1/1 (frame 2055/11993) /content/Structure Fire Millers Falls 11_8_22 (1).mp4: 384x640 (no detections), 9.0ms\n",
            "video 1/1 (frame 2056/11993) /content/Structure Fire Millers Falls 11_8_22 (1).mp4: 384x640 (no detections), 10.7ms\n",
            "video 1/1 (frame 2057/11993) /content/Structure Fire Millers Falls 11_8_22 (1).mp4: 384x640 (no detections), 9.5ms\n",
            "video 1/1 (frame 2058/11993) /content/Structure Fire Millers Falls 11_8_22 (1).mp4: 384x640 (no detections), 9.4ms\n",
            "video 1/1 (frame 2059/11993) /content/Structure Fire Millers Falls 11_8_22 (1).mp4: 384x640 (no detections), 11.3ms\n",
            "video 1/1 (frame 2060/11993) /content/Structure Fire Millers Falls 11_8_22 (1).mp4: 384x640 (no detections), 10.1ms\n",
            "video 1/1 (frame 2061/11993) /content/Structure Fire Millers Falls 11_8_22 (1).mp4: 384x640 (no detections), 12.5ms\n",
            "video 1/1 (frame 2062/11993) /content/Structure Fire Millers Falls 11_8_22 (1).mp4: 384x640 (no detections), 9.1ms\n",
            "video 1/1 (frame 2063/11993) /content/Structure Fire Millers Falls 11_8_22 (1).mp4: 384x640 (no detections), 10.2ms\n",
            "video 1/1 (frame 2064/11993) /content/Structure Fire Millers Falls 11_8_22 (1).mp4: 384x640 (no detections), 8.9ms\n",
            "video 1/1 (frame 2065/11993) /content/Structure Fire Millers Falls 11_8_22 (1).mp4: 384x640 (no detections), 10.0ms\n",
            "video 1/1 (frame 2066/11993) /content/Structure Fire Millers Falls 11_8_22 (1).mp4: 384x640 (no detections), 11.8ms\n",
            "video 1/1 (frame 2067/11993) /content/Structure Fire Millers Falls 11_8_22 (1).mp4: 384x640 (no detections), 9.0ms\n",
            "video 1/1 (frame 2068/11993) /content/Structure Fire Millers Falls 11_8_22 (1).mp4: 384x640 (no detections), 12.4ms\n",
            "video 1/1 (frame 2069/11993) /content/Structure Fire Millers Falls 11_8_22 (1).mp4: 384x640 (no detections), 10.8ms\n",
            "video 1/1 (frame 2070/11993) /content/Structure Fire Millers Falls 11_8_22 (1).mp4: 384x640 (no detections), 9.3ms\n",
            "video 1/1 (frame 2071/11993) /content/Structure Fire Millers Falls 11_8_22 (1).mp4: 384x640 (no detections), 10.2ms\n",
            "video 1/1 (frame 2072/11993) /content/Structure Fire Millers Falls 11_8_22 (1).mp4: 384x640 (no detections), 8.8ms\n",
            "video 1/1 (frame 2073/11993) /content/Structure Fire Millers Falls 11_8_22 (1).mp4: 384x640 (no detections), 10.1ms\n",
            "video 1/1 (frame 2074/11993) /content/Structure Fire Millers Falls 11_8_22 (1).mp4: 384x640 (no detections), 8.3ms\n",
            "video 1/1 (frame 2075/11993) /content/Structure Fire Millers Falls 11_8_22 (1).mp4: 384x640 (no detections), 8.8ms\n",
            "video 1/1 (frame 2076/11993) /content/Structure Fire Millers Falls 11_8_22 (1).mp4: 384x640 (no detections), 9.9ms\n",
            "video 1/1 (frame 2077/11993) /content/Structure Fire Millers Falls 11_8_22 (1).mp4: 384x640 (no detections), 8.5ms\n",
            "video 1/1 (frame 2078/11993) /content/Structure Fire Millers Falls 11_8_22 (1).mp4: 384x640 (no detections), 11.8ms\n",
            "video 1/1 (frame 2079/11993) /content/Structure Fire Millers Falls 11_8_22 (1).mp4: 384x640 (no detections), 11.3ms\n",
            "video 1/1 (frame 2080/11993) /content/Structure Fire Millers Falls 11_8_22 (1).mp4: 384x640 (no detections), 11.9ms\n",
            "video 1/1 (frame 2081/11993) /content/Structure Fire Millers Falls 11_8_22 (1).mp4: 384x640 (no detections), 9.5ms\n",
            "video 1/1 (frame 2082/11993) /content/Structure Fire Millers Falls 11_8_22 (1).mp4: 384x640 (no detections), 12.0ms\n",
            "video 1/1 (frame 2083/11993) /content/Structure Fire Millers Falls 11_8_22 (1).mp4: 384x640 (no detections), 16.1ms\n",
            "video 1/1 (frame 2084/11993) /content/Structure Fire Millers Falls 11_8_22 (1).mp4: 384x640 (no detections), 11.3ms\n",
            "video 1/1 (frame 2085/11993) /content/Structure Fire Millers Falls 11_8_22 (1).mp4: 384x640 (no detections), 8.4ms\n",
            "video 1/1 (frame 2086/11993) /content/Structure Fire Millers Falls 11_8_22 (1).mp4: 384x640 (no detections), 12.6ms\n",
            "video 1/1 (frame 2087/11993) /content/Structure Fire Millers Falls 11_8_22 (1).mp4: 384x640 (no detections), 9.1ms\n",
            "video 1/1 (frame 2088/11993) /content/Structure Fire Millers Falls 11_8_22 (1).mp4: 384x640 (no detections), 11.3ms\n",
            "video 1/1 (frame 2089/11993) /content/Structure Fire Millers Falls 11_8_22 (1).mp4: 384x640 (no detections), 10.8ms\n",
            "video 1/1 (frame 2090/11993) /content/Structure Fire Millers Falls 11_8_22 (1).mp4: 384x640 (no detections), 8.2ms\n",
            "video 1/1 (frame 2091/11993) /content/Structure Fire Millers Falls 11_8_22 (1).mp4: 384x640 (no detections), 11.4ms\n",
            "video 1/1 (frame 2092/11993) /content/Structure Fire Millers Falls 11_8_22 (1).mp4: 384x640 (no detections), 11.1ms\n",
            "video 1/1 (frame 2093/11993) /content/Structure Fire Millers Falls 11_8_22 (1).mp4: 384x640 (no detections), 18.6ms\n",
            "video 1/1 (frame 2094/11993) /content/Structure Fire Millers Falls 11_8_22 (1).mp4: 384x640 (no detections), 9.5ms\n",
            "video 1/1 (frame 2095/11993) /content/Structure Fire Millers Falls 11_8_22 (1).mp4: 384x640 (no detections), 8.7ms\n",
            "video 1/1 (frame 2096/11993) /content/Structure Fire Millers Falls 11_8_22 (1).mp4: 384x640 (no detections), 11.5ms\n",
            "video 1/1 (frame 2097/11993) /content/Structure Fire Millers Falls 11_8_22 (1).mp4: 384x640 (no detections), 11.3ms\n",
            "video 1/1 (frame 2098/11993) /content/Structure Fire Millers Falls 11_8_22 (1).mp4: 384x640 (no detections), 10.8ms\n",
            "video 1/1 (frame 2099/11993) /content/Structure Fire Millers Falls 11_8_22 (1).mp4: 384x640 (no detections), 12.8ms\n",
            "video 1/1 (frame 2100/11993) /content/Structure Fire Millers Falls 11_8_22 (1).mp4: 384x640 (no detections), 8.0ms\n",
            "video 1/1 (frame 2101/11993) /content/Structure Fire Millers Falls 11_8_22 (1).mp4: 384x640 (no detections), 17.8ms\n",
            "video 1/1 (frame 2102/11993) /content/Structure Fire Millers Falls 11_8_22 (1).mp4: 384x640 (no detections), 9.9ms\n",
            "video 1/1 (frame 2103/11993) /content/Structure Fire Millers Falls 11_8_22 (1).mp4: 384x640 (no detections), 8.2ms\n",
            "video 1/1 (frame 2104/11993) /content/Structure Fire Millers Falls 11_8_22 (1).mp4: 384x640 (no detections), 11.6ms\n",
            "video 1/1 (frame 2105/11993) /content/Structure Fire Millers Falls 11_8_22 (1).mp4: 384x640 (no detections), 10.3ms\n",
            "video 1/1 (frame 2106/11993) /content/Structure Fire Millers Falls 11_8_22 (1).mp4: 384x640 (no detections), 15.1ms\n",
            "video 1/1 (frame 2107/11993) /content/Structure Fire Millers Falls 11_8_22 (1).mp4: 384x640 (no detections), 9.6ms\n",
            "video 1/1 (frame 2108/11993) /content/Structure Fire Millers Falls 11_8_22 (1).mp4: 384x640 (no detections), 11.8ms\n",
            "video 1/1 (frame 2109/11993) /content/Structure Fire Millers Falls 11_8_22 (1).mp4: 384x640 (no detections), 8.6ms\n",
            "video 1/1 (frame 2110/11993) /content/Structure Fire Millers Falls 11_8_22 (1).mp4: 384x640 (no detections), 11.1ms\n",
            "video 1/1 (frame 2111/11993) /content/Structure Fire Millers Falls 11_8_22 (1).mp4: 384x640 (no detections), 8.6ms\n",
            "video 1/1 (frame 2112/11993) /content/Structure Fire Millers Falls 11_8_22 (1).mp4: 384x640 (no detections), 10.7ms\n",
            "video 1/1 (frame 2113/11993) /content/Structure Fire Millers Falls 11_8_22 (1).mp4: 384x640 (no detections), 10.1ms\n",
            "video 1/1 (frame 2114/11993) /content/Structure Fire Millers Falls 11_8_22 (1).mp4: 384x640 (no detections), 17.2ms\n",
            "video 1/1 (frame 2115/11993) /content/Structure Fire Millers Falls 11_8_22 (1).mp4: 384x640 (no detections), 8.6ms\n",
            "video 1/1 (frame 2116/11993) /content/Structure Fire Millers Falls 11_8_22 (1).mp4: 384x640 (no detections), 9.0ms\n",
            "video 1/1 (frame 2117/11993) /content/Structure Fire Millers Falls 11_8_22 (1).mp4: 384x640 (no detections), 8.9ms\n",
            "video 1/1 (frame 2118/11993) /content/Structure Fire Millers Falls 11_8_22 (1).mp4: 384x640 (no detections), 10.0ms\n",
            "video 1/1 (frame 2119/11993) /content/Structure Fire Millers Falls 11_8_22 (1).mp4: 384x640 (no detections), 10.7ms\n",
            "video 1/1 (frame 2120/11993) /content/Structure Fire Millers Falls 11_8_22 (1).mp4: 384x640 (no detections), 12.1ms\n",
            "video 1/1 (frame 2121/11993) /content/Structure Fire Millers Falls 11_8_22 (1).mp4: 384x640 (no detections), 9.3ms\n",
            "video 1/1 (frame 2122/11993) /content/Structure Fire Millers Falls 11_8_22 (1).mp4: 384x640 (no detections), 10.7ms\n",
            "video 1/1 (frame 2123/11993) /content/Structure Fire Millers Falls 11_8_22 (1).mp4: 384x640 (no detections), 9.0ms\n",
            "video 1/1 (frame 2124/11993) /content/Structure Fire Millers Falls 11_8_22 (1).mp4: 384x640 (no detections), 10.2ms\n",
            "video 1/1 (frame 2125/11993) /content/Structure Fire Millers Falls 11_8_22 (1).mp4: 384x640 (no detections), 9.3ms\n",
            "video 1/1 (frame 2126/11993) /content/Structure Fire Millers Falls 11_8_22 (1).mp4: 384x640 (no detections), 11.7ms\n",
            "video 1/1 (frame 2127/11993) /content/Structure Fire Millers Falls 11_8_22 (1).mp4: 384x640 (no detections), 10.5ms\n",
            "video 1/1 (frame 2128/11993) /content/Structure Fire Millers Falls 11_8_22 (1).mp4: 384x640 (no detections), 11.2ms\n",
            "video 1/1 (frame 2129/11993) /content/Structure Fire Millers Falls 11_8_22 (1).mp4: 384x640 (no detections), 9.2ms\n",
            "video 1/1 (frame 2130/11993) /content/Structure Fire Millers Falls 11_8_22 (1).mp4: 384x640 (no detections), 11.0ms\n",
            "video 1/1 (frame 2131/11993) /content/Structure Fire Millers Falls 11_8_22 (1).mp4: 384x640 (no detections), 10.2ms\n",
            "video 1/1 (frame 2132/11993) /content/Structure Fire Millers Falls 11_8_22 (1).mp4: 384x640 (no detections), 13.9ms\n",
            "video 1/1 (frame 2133/11993) /content/Structure Fire Millers Falls 11_8_22 (1).mp4: 384x640 (no detections), 10.5ms\n",
            "video 1/1 (frame 2134/11993) /content/Structure Fire Millers Falls 11_8_22 (1).mp4: 384x640 (no detections), 11.1ms\n",
            "video 1/1 (frame 2135/11993) /content/Structure Fire Millers Falls 11_8_22 (1).mp4: 384x640 (no detections), 9.0ms\n",
            "video 1/1 (frame 2136/11993) /content/Structure Fire Millers Falls 11_8_22 (1).mp4: 384x640 (no detections), 11.4ms\n",
            "video 1/1 (frame 2137/11993) /content/Structure Fire Millers Falls 11_8_22 (1).mp4: 384x640 (no detections), 9.9ms\n",
            "video 1/1 (frame 2138/11993) /content/Structure Fire Millers Falls 11_8_22 (1).mp4: 384x640 (no detections), 10.4ms\n",
            "video 1/1 (frame 2139/11993) /content/Structure Fire Millers Falls 11_8_22 (1).mp4: 384x640 (no detections), 11.2ms\n",
            "video 1/1 (frame 2140/11993) /content/Structure Fire Millers Falls 11_8_22 (1).mp4: 384x640 (no detections), 9.6ms\n",
            "video 1/1 (frame 2141/11993) /content/Structure Fire Millers Falls 11_8_22 (1).mp4: 384x640 (no detections), 10.3ms\n",
            "video 1/1 (frame 2142/11993) /content/Structure Fire Millers Falls 11_8_22 (1).mp4: 384x640 (no detections), 10.3ms\n",
            "video 1/1 (frame 2143/11993) /content/Structure Fire Millers Falls 11_8_22 (1).mp4: 384x640 (no detections), 10.8ms\n",
            "video 1/1 (frame 2144/11993) /content/Structure Fire Millers Falls 11_8_22 (1).mp4: 384x640 (no detections), 12.1ms\n",
            "video 1/1 (frame 2145/11993) /content/Structure Fire Millers Falls 11_8_22 (1).mp4: 384x640 (no detections), 10.1ms\n",
            "video 1/1 (frame 2146/11993) /content/Structure Fire Millers Falls 11_8_22 (1).mp4: 384x640 (no detections), 9.6ms\n",
            "video 1/1 (frame 2147/11993) /content/Structure Fire Millers Falls 11_8_22 (1).mp4: 384x640 (no detections), 9.3ms\n",
            "video 1/1 (frame 2148/11993) /content/Structure Fire Millers Falls 11_8_22 (1).mp4: 384x640 (no detections), 12.1ms\n",
            "video 1/1 (frame 2149/11993) /content/Structure Fire Millers Falls 11_8_22 (1).mp4: 384x640 (no detections), 11.4ms\n",
            "video 1/1 (frame 2150/11993) /content/Structure Fire Millers Falls 11_8_22 (1).mp4: 384x640 (no detections), 13.1ms\n",
            "video 1/1 (frame 2151/11993) /content/Structure Fire Millers Falls 11_8_22 (1).mp4: 384x640 (no detections), 11.7ms\n",
            "video 1/1 (frame 2152/11993) /content/Structure Fire Millers Falls 11_8_22 (1).mp4: 384x640 (no detections), 10.5ms\n",
            "video 1/1 (frame 2153/11993) /content/Structure Fire Millers Falls 11_8_22 (1).mp4: 384x640 (no detections), 9.6ms\n",
            "video 1/1 (frame 2154/11993) /content/Structure Fire Millers Falls 11_8_22 (1).mp4: 384x640 (no detections), 9.2ms\n",
            "video 1/1 (frame 2155/11993) /content/Structure Fire Millers Falls 11_8_22 (1).mp4: 384x640 (no detections), 10.4ms\n",
            "video 1/1 (frame 2156/11993) /content/Structure Fire Millers Falls 11_8_22 (1).mp4: 384x640 (no detections), 11.7ms\n",
            "video 1/1 (frame 2157/11993) /content/Structure Fire Millers Falls 11_8_22 (1).mp4: 384x640 (no detections), 9.4ms\n",
            "video 1/1 (frame 2158/11993) /content/Structure Fire Millers Falls 11_8_22 (1).mp4: 384x640 (no detections), 16.7ms\n",
            "video 1/1 (frame 2159/11993) /content/Structure Fire Millers Falls 11_8_22 (1).mp4: 384x640 (no detections), 12.1ms\n",
            "video 1/1 (frame 2160/11993) /content/Structure Fire Millers Falls 11_8_22 (1).mp4: 384x640 (no detections), 9.8ms\n",
            "video 1/1 (frame 2161/11993) /content/Structure Fire Millers Falls 11_8_22 (1).mp4: 384x640 (no detections), 10.8ms\n",
            "video 1/1 (frame 2162/11993) /content/Structure Fire Millers Falls 11_8_22 (1).mp4: 384x640 (no detections), 11.3ms\n",
            "video 1/1 (frame 2163/11993) /content/Structure Fire Millers Falls 11_8_22 (1).mp4: 384x640 (no detections), 13.8ms\n",
            "video 1/1 (frame 2164/11993) /content/Structure Fire Millers Falls 11_8_22 (1).mp4: 384x640 (no detections), 9.3ms\n",
            "video 1/1 (frame 2165/11993) /content/Structure Fire Millers Falls 11_8_22 (1).mp4: 384x640 (no detections), 8.8ms\n",
            "video 1/1 (frame 2166/11993) /content/Structure Fire Millers Falls 11_8_22 (1).mp4: 384x640 (no detections), 13.4ms\n",
            "video 1/1 (frame 2167/11993) /content/Structure Fire Millers Falls 11_8_22 (1).mp4: 384x640 (no detections), 10.5ms\n",
            "video 1/1 (frame 2168/11993) /content/Structure Fire Millers Falls 11_8_22 (1).mp4: 384x640 (no detections), 11.3ms\n",
            "video 1/1 (frame 2169/11993) /content/Structure Fire Millers Falls 11_8_22 (1).mp4: 384x640 (no detections), 9.9ms\n",
            "video 1/1 (frame 2170/11993) /content/Structure Fire Millers Falls 11_8_22 (1).mp4: 384x640 (no detections), 10.2ms\n",
            "video 1/1 (frame 2171/11993) /content/Structure Fire Millers Falls 11_8_22 (1).mp4: 384x640 (no detections), 15.0ms\n",
            "video 1/1 (frame 2172/11993) /content/Structure Fire Millers Falls 11_8_22 (1).mp4: 384x640 (no detections), 11.1ms\n",
            "video 1/1 (frame 2173/11993) /content/Structure Fire Millers Falls 11_8_22 (1).mp4: 384x640 (no detections), 10.6ms\n",
            "video 1/1 (frame 2174/11993) /content/Structure Fire Millers Falls 11_8_22 (1).mp4: 384x640 (no detections), 11.6ms\n",
            "video 1/1 (frame 2175/11993) /content/Structure Fire Millers Falls 11_8_22 (1).mp4: 384x640 (no detections), 14.9ms\n",
            "video 1/1 (frame 2176/11993) /content/Structure Fire Millers Falls 11_8_22 (1).mp4: 384x640 (no detections), 12.2ms\n",
            "video 1/1 (frame 2177/11993) /content/Structure Fire Millers Falls 11_8_22 (1).mp4: 384x640 (no detections), 10.9ms\n",
            "video 1/1 (frame 2178/11993) /content/Structure Fire Millers Falls 11_8_22 (1).mp4: 384x640 (no detections), 8.7ms\n",
            "video 1/1 (frame 2179/11993) /content/Structure Fire Millers Falls 11_8_22 (1).mp4: 384x640 (no detections), 11.1ms\n",
            "video 1/1 (frame 2180/11993) /content/Structure Fire Millers Falls 11_8_22 (1).mp4: 384x640 (no detections), 14.3ms\n",
            "video 1/1 (frame 2181/11993) /content/Structure Fire Millers Falls 11_8_22 (1).mp4: 384x640 (no detections), 13.3ms\n",
            "video 1/1 (frame 2182/11993) /content/Structure Fire Millers Falls 11_8_22 (1).mp4: 384x640 (no detections), 9.6ms\n",
            "video 1/1 (frame 2183/11993) /content/Structure Fire Millers Falls 11_8_22 (1).mp4: 384x640 (no detections), 25.0ms\n",
            "video 1/1 (frame 2184/11993) /content/Structure Fire Millers Falls 11_8_22 (1).mp4: 384x640 (no detections), 10.4ms\n",
            "video 1/1 (frame 2185/11993) /content/Structure Fire Millers Falls 11_8_22 (1).mp4: 384x640 (no detections), 13.2ms\n",
            "video 1/1 (frame 2186/11993) /content/Structure Fire Millers Falls 11_8_22 (1).mp4: 384x640 (no detections), 11.5ms\n",
            "video 1/1 (frame 2187/11993) /content/Structure Fire Millers Falls 11_8_22 (1).mp4: 384x640 (no detections), 13.0ms\n",
            "video 1/1 (frame 2188/11993) /content/Structure Fire Millers Falls 11_8_22 (1).mp4: 384x640 (no detections), 12.9ms\n",
            "video 1/1 (frame 2189/11993) /content/Structure Fire Millers Falls 11_8_22 (1).mp4: 384x640 (no detections), 13.1ms\n",
            "video 1/1 (frame 2190/11993) /content/Structure Fire Millers Falls 11_8_22 (1).mp4: 384x640 (no detections), 10.6ms\n",
            "video 1/1 (frame 2191/11993) /content/Structure Fire Millers Falls 11_8_22 (1).mp4: 384x640 (no detections), 8.5ms\n",
            "video 1/1 (frame 2192/11993) /content/Structure Fire Millers Falls 11_8_22 (1).mp4: 384x640 (no detections), 12.4ms\n",
            "video 1/1 (frame 2193/11993) /content/Structure Fire Millers Falls 11_8_22 (1).mp4: 384x640 (no detections), 9.9ms\n",
            "video 1/1 (frame 2194/11993) /content/Structure Fire Millers Falls 11_8_22 (1).mp4: 384x640 (no detections), 11.2ms\n",
            "video 1/1 (frame 2195/11993) /content/Structure Fire Millers Falls 11_8_22 (1).mp4: 384x640 (no detections), 8.6ms\n",
            "video 1/1 (frame 2196/11993) /content/Structure Fire Millers Falls 11_8_22 (1).mp4: 384x640 (no detections), 14.7ms\n",
            "video 1/1 (frame 2197/11993) /content/Structure Fire Millers Falls 11_8_22 (1).mp4: 384x640 (no detections), 13.7ms\n",
            "video 1/1 (frame 2198/11993) /content/Structure Fire Millers Falls 11_8_22 (1).mp4: 384x640 (no detections), 12.2ms\n",
            "video 1/1 (frame 2199/11993) /content/Structure Fire Millers Falls 11_8_22 (1).mp4: 384x640 (no detections), 15.7ms\n",
            "video 1/1 (frame 2200/11993) /content/Structure Fire Millers Falls 11_8_22 (1).mp4: 384x640 (no detections), 14.5ms\n",
            "video 1/1 (frame 2201/11993) /content/Structure Fire Millers Falls 11_8_22 (1).mp4: 384x640 (no detections), 15.1ms\n",
            "video 1/1 (frame 2202/11993) /content/Structure Fire Millers Falls 11_8_22 (1).mp4: 384x640 (no detections), 13.8ms\n",
            "video 1/1 (frame 2203/11993) /content/Structure Fire Millers Falls 11_8_22 (1).mp4: 384x640 (no detections), 18.6ms\n",
            "video 1/1 (frame 2204/11993) /content/Structure Fire Millers Falls 11_8_22 (1).mp4: 384x640 (no detections), 12.9ms\n",
            "video 1/1 (frame 2205/11993) /content/Structure Fire Millers Falls 11_8_22 (1).mp4: 384x640 (no detections), 16.6ms\n",
            "video 1/1 (frame 2206/11993) /content/Structure Fire Millers Falls 11_8_22 (1).mp4: 384x640 (no detections), 13.6ms\n",
            "video 1/1 (frame 2207/11993) /content/Structure Fire Millers Falls 11_8_22 (1).mp4: 384x640 (no detections), 12.5ms\n",
            "video 1/1 (frame 2208/11993) /content/Structure Fire Millers Falls 11_8_22 (1).mp4: 384x640 (no detections), 18.0ms\n",
            "video 1/1 (frame 2209/11993) /content/Structure Fire Millers Falls 11_8_22 (1).mp4: 384x640 (no detections), 16.0ms\n",
            "video 1/1 (frame 2210/11993) /content/Structure Fire Millers Falls 11_8_22 (1).mp4: 384x640 (no detections), 19.9ms\n",
            "video 1/1 (frame 2211/11993) /content/Structure Fire Millers Falls 11_8_22 (1).mp4: 384x640 (no detections), 14.1ms\n",
            "video 1/1 (frame 2212/11993) /content/Structure Fire Millers Falls 11_8_22 (1).mp4: 384x640 (no detections), 12.5ms\n",
            "video 1/1 (frame 2213/11993) /content/Structure Fire Millers Falls 11_8_22 (1).mp4: 384x640 (no detections), 16.3ms\n",
            "video 1/1 (frame 2214/11993) /content/Structure Fire Millers Falls 11_8_22 (1).mp4: 384x640 (no detections), 13.8ms\n",
            "video 1/1 (frame 2215/11993) /content/Structure Fire Millers Falls 11_8_22 (1).mp4: 384x640 (no detections), 12.5ms\n",
            "video 1/1 (frame 2216/11993) /content/Structure Fire Millers Falls 11_8_22 (1).mp4: 384x640 (no detections), 11.6ms\n",
            "video 1/1 (frame 2217/11993) /content/Structure Fire Millers Falls 11_8_22 (1).mp4: 384x640 (no detections), 12.2ms\n",
            "video 1/1 (frame 2218/11993) /content/Structure Fire Millers Falls 11_8_22 (1).mp4: 384x640 (no detections), 12.7ms\n",
            "video 1/1 (frame 2219/11993) /content/Structure Fire Millers Falls 11_8_22 (1).mp4: 384x640 (no detections), 12.1ms\n",
            "video 1/1 (frame 2220/11993) /content/Structure Fire Millers Falls 11_8_22 (1).mp4: 384x640 (no detections), 16.4ms\n",
            "video 1/1 (frame 2221/11993) /content/Structure Fire Millers Falls 11_8_22 (1).mp4: 384x640 (no detections), 14.3ms\n",
            "video 1/1 (frame 2222/11993) /content/Structure Fire Millers Falls 11_8_22 (1).mp4: 384x640 (no detections), 15.2ms\n",
            "video 1/1 (frame 2223/11993) /content/Structure Fire Millers Falls 11_8_22 (1).mp4: 384x640 (no detections), 11.4ms\n",
            "video 1/1 (frame 2224/11993) /content/Structure Fire Millers Falls 11_8_22 (1).mp4: 384x640 (no detections), 13.9ms\n",
            "video 1/1 (frame 2225/11993) /content/Structure Fire Millers Falls 11_8_22 (1).mp4: 384x640 (no detections), 14.0ms\n",
            "video 1/1 (frame 2226/11993) /content/Structure Fire Millers Falls 11_8_22 (1).mp4: 384x640 (no detections), 14.4ms\n",
            "video 1/1 (frame 2227/11993) /content/Structure Fire Millers Falls 11_8_22 (1).mp4: 384x640 (no detections), 13.9ms\n",
            "video 1/1 (frame 2228/11993) /content/Structure Fire Millers Falls 11_8_22 (1).mp4: 384x640 (no detections), 11.0ms\n",
            "video 1/1 (frame 2229/11993) /content/Structure Fire Millers Falls 11_8_22 (1).mp4: 384x640 (no detections), 11.3ms\n",
            "video 1/1 (frame 2230/11993) /content/Structure Fire Millers Falls 11_8_22 (1).mp4: 384x640 (no detections), 13.1ms\n",
            "video 1/1 (frame 2231/11993) /content/Structure Fire Millers Falls 11_8_22 (1).mp4: 384x640 (no detections), 16.9ms\n",
            "video 1/1 (frame 2232/11993) /content/Structure Fire Millers Falls 11_8_22 (1).mp4: 384x640 (no detections), 14.9ms\n",
            "video 1/1 (frame 2233/11993) /content/Structure Fire Millers Falls 11_8_22 (1).mp4: 384x640 (no detections), 19.4ms\n",
            "video 1/1 (frame 2234/11993) /content/Structure Fire Millers Falls 11_8_22 (1).mp4: 384x640 (no detections), 18.4ms\n",
            "video 1/1 (frame 2235/11993) /content/Structure Fire Millers Falls 11_8_22 (1).mp4: 384x640 (no detections), 14.8ms\n",
            "video 1/1 (frame 2236/11993) /content/Structure Fire Millers Falls 11_8_22 (1).mp4: 384x640 (no detections), 14.9ms\n",
            "video 1/1 (frame 2237/11993) /content/Structure Fire Millers Falls 11_8_22 (1).mp4: 384x640 (no detections), 15.6ms\n",
            "video 1/1 (frame 2238/11993) /content/Structure Fire Millers Falls 11_8_22 (1).mp4: 384x640 (no detections), 20.1ms\n",
            "video 1/1 (frame 2239/11993) /content/Structure Fire Millers Falls 11_8_22 (1).mp4: 384x640 (no detections), 13.9ms\n",
            "video 1/1 (frame 2240/11993) /content/Structure Fire Millers Falls 11_8_22 (1).mp4: 384x640 (no detections), 15.1ms\n",
            "video 1/1 (frame 2241/11993) /content/Structure Fire Millers Falls 11_8_22 (1).mp4: 384x640 (no detections), 16.0ms\n",
            "video 1/1 (frame 2242/11993) /content/Structure Fire Millers Falls 11_8_22 (1).mp4: 384x640 (no detections), 11.6ms\n",
            "video 1/1 (frame 2243/11993) /content/Structure Fire Millers Falls 11_8_22 (1).mp4: 384x640 (no detections), 16.2ms\n",
            "video 1/1 (frame 2244/11993) /content/Structure Fire Millers Falls 11_8_22 (1).mp4: 384x640 (no detections), 14.9ms\n",
            "video 1/1 (frame 2245/11993) /content/Structure Fire Millers Falls 11_8_22 (1).mp4: 384x640 (no detections), 15.6ms\n",
            "video 1/1 (frame 2246/11993) /content/Structure Fire Millers Falls 11_8_22 (1).mp4: 384x640 (no detections), 19.3ms\n",
            "video 1/1 (frame 2247/11993) /content/Structure Fire Millers Falls 11_8_22 (1).mp4: 384x640 (no detections), 19.3ms\n",
            "video 1/1 (frame 2248/11993) /content/Structure Fire Millers Falls 11_8_22 (1).mp4: 384x640 (no detections), 16.2ms\n",
            "video 1/1 (frame 2249/11993) /content/Structure Fire Millers Falls 11_8_22 (1).mp4: 384x640 (no detections), 17.4ms\n",
            "video 1/1 (frame 2250/11993) /content/Structure Fire Millers Falls 11_8_22 (1).mp4: 384x640 (no detections), 10.7ms\n",
            "video 1/1 (frame 2251/11993) /content/Structure Fire Millers Falls 11_8_22 (1).mp4: 384x640 (no detections), 10.3ms\n",
            "video 1/1 (frame 2252/11993) /content/Structure Fire Millers Falls 11_8_22 (1).mp4: 384x640 (no detections), 11.8ms\n",
            "video 1/1 (frame 2253/11993) /content/Structure Fire Millers Falls 11_8_22 (1).mp4: 384x640 (no detections), 11.3ms\n",
            "video 1/1 (frame 2254/11993) /content/Structure Fire Millers Falls 11_8_22 (1).mp4: 384x640 (no detections), 12.1ms\n",
            "video 1/1 (frame 2255/11993) /content/Structure Fire Millers Falls 11_8_22 (1).mp4: 384x640 (no detections), 11.4ms\n",
            "video 1/1 (frame 2256/11993) /content/Structure Fire Millers Falls 11_8_22 (1).mp4: 384x640 (no detections), 8.7ms\n",
            "video 1/1 (frame 2257/11993) /content/Structure Fire Millers Falls 11_8_22 (1).mp4: 384x640 (no detections), 10.1ms\n",
            "video 1/1 (frame 2258/11993) /content/Structure Fire Millers Falls 11_8_22 (1).mp4: 384x640 (no detections), 9.9ms\n",
            "video 1/1 (frame 2259/11993) /content/Structure Fire Millers Falls 11_8_22 (1).mp4: 384x640 (no detections), 10.3ms\n",
            "video 1/1 (frame 2260/11993) /content/Structure Fire Millers Falls 11_8_22 (1).mp4: 384x640 (no detections), 14.0ms\n",
            "video 1/1 (frame 2261/11993) /content/Structure Fire Millers Falls 11_8_22 (1).mp4: 384x640 (no detections), 11.0ms\n",
            "video 1/1 (frame 2262/11993) /content/Structure Fire Millers Falls 11_8_22 (1).mp4: 384x640 (no detections), 12.1ms\n",
            "video 1/1 (frame 2263/11993) /content/Structure Fire Millers Falls 11_8_22 (1).mp4: 384x640 (no detections), 9.6ms\n",
            "video 1/1 (frame 2264/11993) /content/Structure Fire Millers Falls 11_8_22 (1).mp4: 384x640 (no detections), 12.5ms\n",
            "video 1/1 (frame 2265/11993) /content/Structure Fire Millers Falls 11_8_22 (1).mp4: 384x640 (no detections), 11.5ms\n",
            "video 1/1 (frame 2266/11993) /content/Structure Fire Millers Falls 11_8_22 (1).mp4: 384x640 (no detections), 12.5ms\n",
            "video 1/1 (frame 2267/11993) /content/Structure Fire Millers Falls 11_8_22 (1).mp4: 384x640 (no detections), 11.6ms\n",
            "video 1/1 (frame 2268/11993) /content/Structure Fire Millers Falls 11_8_22 (1).mp4: 384x640 (no detections), 11.3ms\n",
            "video 1/1 (frame 2269/11993) /content/Structure Fire Millers Falls 11_8_22 (1).mp4: 384x640 (no detections), 11.3ms\n",
            "video 1/1 (frame 2270/11993) /content/Structure Fire Millers Falls 11_8_22 (1).mp4: 384x640 (no detections), 10.1ms\n",
            "video 1/1 (frame 2271/11993) /content/Structure Fire Millers Falls 11_8_22 (1).mp4: 384x640 (no detections), 11.1ms\n",
            "video 1/1 (frame 2272/11993) /content/Structure Fire Millers Falls 11_8_22 (1).mp4: 384x640 (no detections), 9.6ms\n",
            "video 1/1 (frame 2273/11993) /content/Structure Fire Millers Falls 11_8_22 (1).mp4: 384x640 (no detections), 10.6ms\n",
            "video 1/1 (frame 2274/11993) /content/Structure Fire Millers Falls 11_8_22 (1).mp4: 384x640 (no detections), 10.8ms\n",
            "video 1/1 (frame 2275/11993) /content/Structure Fire Millers Falls 11_8_22 (1).mp4: 384x640 (no detections), 13.2ms\n",
            "video 1/1 (frame 2276/11993) /content/Structure Fire Millers Falls 11_8_22 (1).mp4: 384x640 (no detections), 19.9ms\n",
            "video 1/1 (frame 2277/11993) /content/Structure Fire Millers Falls 11_8_22 (1).mp4: 384x640 (no detections), 9.9ms\n",
            "video 1/1 (frame 2278/11993) /content/Structure Fire Millers Falls 11_8_22 (1).mp4: 384x640 (no detections), 11.7ms\n",
            "video 1/1 (frame 2279/11993) /content/Structure Fire Millers Falls 11_8_22 (1).mp4: 384x640 (no detections), 10.2ms\n",
            "video 1/1 (frame 2280/11993) /content/Structure Fire Millers Falls 11_8_22 (1).mp4: 384x640 (no detections), 9.6ms\n",
            "video 1/1 (frame 2281/11993) /content/Structure Fire Millers Falls 11_8_22 (1).mp4: 384x640 (no detections), 10.6ms\n",
            "video 1/1 (frame 2282/11993) /content/Structure Fire Millers Falls 11_8_22 (1).mp4: 384x640 (no detections), 9.0ms\n",
            "video 1/1 (frame 2283/11993) /content/Structure Fire Millers Falls 11_8_22 (1).mp4: 384x640 (no detections), 9.4ms\n",
            "video 1/1 (frame 2284/11993) /content/Structure Fire Millers Falls 11_8_22 (1).mp4: 384x640 (no detections), 8.8ms\n",
            "video 1/1 (frame 2285/11993) /content/Structure Fire Millers Falls 11_8_22 (1).mp4: 384x640 (no detections), 10.1ms\n",
            "video 1/1 (frame 2286/11993) /content/Structure Fire Millers Falls 11_8_22 (1).mp4: 384x640 (no detections), 8.6ms\n",
            "video 1/1 (frame 2287/11993) /content/Structure Fire Millers Falls 11_8_22 (1).mp4: 384x640 (no detections), 13.3ms\n",
            "video 1/1 (frame 2288/11993) /content/Structure Fire Millers Falls 11_8_22 (1).mp4: 384x640 (no detections), 10.5ms\n",
            "video 1/1 (frame 2289/11993) /content/Structure Fire Millers Falls 11_8_22 (1).mp4: 384x640 (no detections), 10.1ms\n",
            "video 1/1 (frame 2290/11993) /content/Structure Fire Millers Falls 11_8_22 (1).mp4: 384x640 (no detections), 10.0ms\n",
            "video 1/1 (frame 2291/11993) /content/Structure Fire Millers Falls 11_8_22 (1).mp4: 384x640 (no detections), 12.1ms\n",
            "video 1/1 (frame 2292/11993) /content/Structure Fire Millers Falls 11_8_22 (1).mp4: 384x640 (no detections), 11.3ms\n",
            "video 1/1 (frame 2293/11993) /content/Structure Fire Millers Falls 11_8_22 (1).mp4: 384x640 (no detections), 11.8ms\n",
            "video 1/1 (frame 2294/11993) /content/Structure Fire Millers Falls 11_8_22 (1).mp4: 384x640 (no detections), 8.6ms\n",
            "video 1/1 (frame 2295/11993) /content/Structure Fire Millers Falls 11_8_22 (1).mp4: 384x640 (no detections), 11.3ms\n",
            "video 1/1 (frame 2296/11993) /content/Structure Fire Millers Falls 11_8_22 (1).mp4: 384x640 (no detections), 10.5ms\n",
            "video 1/1 (frame 2297/11993) /content/Structure Fire Millers Falls 11_8_22 (1).mp4: 384x640 (no detections), 9.2ms\n",
            "video 1/1 (frame 2298/11993) /content/Structure Fire Millers Falls 11_8_22 (1).mp4: 384x640 (no detections), 12.6ms\n",
            "video 1/1 (frame 2299/11993) /content/Structure Fire Millers Falls 11_8_22 (1).mp4: 384x640 (no detections), 9.7ms\n",
            "video 1/1 (frame 2300/11993) /content/Structure Fire Millers Falls 11_8_22 (1).mp4: 384x640 (no detections), 12.2ms\n",
            "video 1/1 (frame 2301/11993) /content/Structure Fire Millers Falls 11_8_22 (1).mp4: 384x640 (no detections), 9.6ms\n",
            "video 1/1 (frame 2302/11993) /content/Structure Fire Millers Falls 11_8_22 (1).mp4: 384x640 (no detections), 10.7ms\n",
            "video 1/1 (frame 2303/11993) /content/Structure Fire Millers Falls 11_8_22 (1).mp4: 384x640 (no detections), 9.2ms\n",
            "video 1/1 (frame 2304/11993) /content/Structure Fire Millers Falls 11_8_22 (1).mp4: 384x640 (no detections), 10.6ms\n",
            "video 1/1 (frame 2305/11993) /content/Structure Fire Millers Falls 11_8_22 (1).mp4: 384x640 (no detections), 12.8ms\n",
            "video 1/1 (frame 2306/11993) /content/Structure Fire Millers Falls 11_8_22 (1).mp4: 384x640 (no detections), 17.7ms\n",
            "video 1/1 (frame 2307/11993) /content/Structure Fire Millers Falls 11_8_22 (1).mp4: 384x640 (no detections), 11.7ms\n",
            "video 1/1 (frame 2308/11993) /content/Structure Fire Millers Falls 11_8_22 (1).mp4: 384x640 (no detections), 13.9ms\n",
            "video 1/1 (frame 2309/11993) /content/Structure Fire Millers Falls 11_8_22 (1).mp4: 384x640 (no detections), 12.9ms\n",
            "video 1/1 (frame 2310/11993) /content/Structure Fire Millers Falls 11_8_22 (1).mp4: 384x640 (no detections), 9.5ms\n",
            "video 1/1 (frame 2311/11993) /content/Structure Fire Millers Falls 11_8_22 (1).mp4: 384x640 (no detections), 12.3ms\n",
            "video 1/1 (frame 2312/11993) /content/Structure Fire Millers Falls 11_8_22 (1).mp4: 384x640 (no detections), 11.8ms\n",
            "video 1/1 (frame 2313/11993) /content/Structure Fire Millers Falls 11_8_22 (1).mp4: 384x640 (no detections), 10.0ms\n",
            "video 1/1 (frame 2314/11993) /content/Structure Fire Millers Falls 11_8_22 (1).mp4: 384x640 (no detections), 9.6ms\n",
            "video 1/1 (frame 2315/11993) /content/Structure Fire Millers Falls 11_8_22 (1).mp4: 384x640 (no detections), 12.4ms\n",
            "video 1/1 (frame 2316/11993) /content/Structure Fire Millers Falls 11_8_22 (1).mp4: 384x640 (no detections), 11.5ms\n",
            "video 1/1 (frame 2317/11993) /content/Structure Fire Millers Falls 11_8_22 (1).mp4: 384x640 (no detections), 12.7ms\n",
            "video 1/1 (frame 2318/11993) /content/Structure Fire Millers Falls 11_8_22 (1).mp4: 384x640 (no detections), 9.4ms\n",
            "video 1/1 (frame 2319/11993) /content/Structure Fire Millers Falls 11_8_22 (1).mp4: 384x640 (no detections), 11.5ms\n",
            "video 1/1 (frame 2320/11993) /content/Structure Fire Millers Falls 11_8_22 (1).mp4: 384x640 (no detections), 11.4ms\n",
            "video 1/1 (frame 2321/11993) /content/Structure Fire Millers Falls 11_8_22 (1).mp4: 384x640 (no detections), 10.7ms\n",
            "video 1/1 (frame 2322/11993) /content/Structure Fire Millers Falls 11_8_22 (1).mp4: 384x640 (no detections), 10.2ms\n",
            "video 1/1 (frame 2323/11993) /content/Structure Fire Millers Falls 11_8_22 (1).mp4: 384x640 (no detections), 16.1ms\n",
            "video 1/1 (frame 2324/11993) /content/Structure Fire Millers Falls 11_8_22 (1).mp4: 384x640 (no detections), 20.2ms\n",
            "video 1/1 (frame 2325/11993) /content/Structure Fire Millers Falls 11_8_22 (1).mp4: 384x640 (no detections), 12.8ms\n",
            "video 1/1 (frame 2326/11993) /content/Structure Fire Millers Falls 11_8_22 (1).mp4: 384x640 (no detections), 10.9ms\n",
            "video 1/1 (frame 2327/11993) /content/Structure Fire Millers Falls 11_8_22 (1).mp4: 384x640 (no detections), 10.3ms\n",
            "video 1/1 (frame 2328/11993) /content/Structure Fire Millers Falls 11_8_22 (1).mp4: 384x640 (no detections), 13.3ms\n",
            "video 1/1 (frame 2329/11993) /content/Structure Fire Millers Falls 11_8_22 (1).mp4: 384x640 (no detections), 9.5ms\n",
            "video 1/1 (frame 2330/11993) /content/Structure Fire Millers Falls 11_8_22 (1).mp4: 384x640 (no detections), 10.3ms\n",
            "video 1/1 (frame 2331/11993) /content/Structure Fire Millers Falls 11_8_22 (1).mp4: 384x640 (no detections), 9.9ms\n",
            "video 1/1 (frame 2332/11993) /content/Structure Fire Millers Falls 11_8_22 (1).mp4: 384x640 (no detections), 9.1ms\n",
            "video 1/1 (frame 2333/11993) /content/Structure Fire Millers Falls 11_8_22 (1).mp4: 384x640 (no detections), 10.8ms\n",
            "video 1/1 (frame 2334/11993) /content/Structure Fire Millers Falls 11_8_22 (1).mp4: 384x640 (no detections), 12.6ms\n",
            "video 1/1 (frame 2335/11993) /content/Structure Fire Millers Falls 11_8_22 (1).mp4: 384x640 (no detections), 12.7ms\n",
            "video 1/1 (frame 2336/11993) /content/Structure Fire Millers Falls 11_8_22 (1).mp4: 384x640 (no detections), 10.7ms\n",
            "video 1/1 (frame 2337/11993) /content/Structure Fire Millers Falls 11_8_22 (1).mp4: 384x640 (no detections), 9.7ms\n",
            "video 1/1 (frame 2338/11993) /content/Structure Fire Millers Falls 11_8_22 (1).mp4: 384x640 (no detections), 13.0ms\n",
            "video 1/1 (frame 2339/11993) /content/Structure Fire Millers Falls 11_8_22 (1).mp4: 384x640 (no detections), 11.4ms\n",
            "video 1/1 (frame 2340/11993) /content/Structure Fire Millers Falls 11_8_22 (1).mp4: 384x640 (no detections), 9.2ms\n",
            "video 1/1 (frame 2341/11993) /content/Structure Fire Millers Falls 11_8_22 (1).mp4: 384x640 (no detections), 11.4ms\n",
            "video 1/1 (frame 2342/11993) /content/Structure Fire Millers Falls 11_8_22 (1).mp4: 384x640 (no detections), 9.5ms\n",
            "video 1/1 (frame 2343/11993) /content/Structure Fire Millers Falls 11_8_22 (1).mp4: 384x640 (no detections), 10.4ms\n",
            "video 1/1 (frame 2344/11993) /content/Structure Fire Millers Falls 11_8_22 (1).mp4: 384x640 (no detections), 11.6ms\n",
            "video 1/1 (frame 2345/11993) /content/Structure Fire Millers Falls 11_8_22 (1).mp4: 384x640 (no detections), 9.4ms\n",
            "video 1/1 (frame 2346/11993) /content/Structure Fire Millers Falls 11_8_22 (1).mp4: 384x640 (no detections), 11.2ms\n",
            "video 1/1 (frame 2347/11993) /content/Structure Fire Millers Falls 11_8_22 (1).mp4: 384x640 (no detections), 10.1ms\n",
            "video 1/1 (frame 2348/11993) /content/Structure Fire Millers Falls 11_8_22 (1).mp4: 384x640 (no detections), 11.3ms\n",
            "video 1/1 (frame 2349/11993) /content/Structure Fire Millers Falls 11_8_22 (1).mp4: 384x640 (no detections), 12.1ms\n",
            "video 1/1 (frame 2350/11993) /content/Structure Fire Millers Falls 11_8_22 (1).mp4: 384x640 (no detections), 10.1ms\n",
            "video 1/1 (frame 2351/11993) /content/Structure Fire Millers Falls 11_8_22 (1).mp4: 384x640 (no detections), 12.3ms\n",
            "video 1/1 (frame 2352/11993) /content/Structure Fire Millers Falls 11_8_22 (1).mp4: 384x640 (no detections), 11.3ms\n",
            "video 1/1 (frame 2353/11993) /content/Structure Fire Millers Falls 11_8_22 (1).mp4: 384x640 (no detections), 8.6ms\n",
            "video 1/1 (frame 2354/11993) /content/Structure Fire Millers Falls 11_8_22 (1).mp4: 384x640 (no detections), 10.3ms\n",
            "video 1/1 (frame 2355/11993) /content/Structure Fire Millers Falls 11_8_22 (1).mp4: 384x640 (no detections), 9.3ms\n",
            "video 1/1 (frame 2356/11993) /content/Structure Fire Millers Falls 11_8_22 (1).mp4: 384x640 (no detections), 10.7ms\n",
            "video 1/1 (frame 2357/11993) /content/Structure Fire Millers Falls 11_8_22 (1).mp4: 384x640 (no detections), 8.6ms\n",
            "video 1/1 (frame 2358/11993) /content/Structure Fire Millers Falls 11_8_22 (1).mp4: 384x640 (no detections), 10.4ms\n",
            "video 1/1 (frame 2359/11993) /content/Structure Fire Millers Falls 11_8_22 (1).mp4: 384x640 (no detections), 10.1ms\n",
            "video 1/1 (frame 2360/11993) /content/Structure Fire Millers Falls 11_8_22 (1).mp4: 384x640 (no detections), 9.4ms\n",
            "video 1/1 (frame 2361/11993) /content/Structure Fire Millers Falls 11_8_22 (1).mp4: 384x640 (no detections), 9.7ms\n",
            "video 1/1 (frame 2362/11993) /content/Structure Fire Millers Falls 11_8_22 (1).mp4: 384x640 (no detections), 11.6ms\n",
            "video 1/1 (frame 2363/11993) /content/Structure Fire Millers Falls 11_8_22 (1).mp4: 384x640 (no detections), 11.5ms\n",
            "video 1/1 (frame 2364/11993) /content/Structure Fire Millers Falls 11_8_22 (1).mp4: 384x640 (no detections), 10.9ms\n",
            "video 1/1 (frame 2365/11993) /content/Structure Fire Millers Falls 11_8_22 (1).mp4: 384x640 (no detections), 9.1ms\n",
            "video 1/1 (frame 2366/11993) /content/Structure Fire Millers Falls 11_8_22 (1).mp4: 384x640 (no detections), 17.2ms\n",
            "video 1/1 (frame 2367/11993) /content/Structure Fire Millers Falls 11_8_22 (1).mp4: 384x640 (no detections), 14.2ms\n",
            "video 1/1 (frame 2368/11993) /content/Structure Fire Millers Falls 11_8_22 (1).mp4: 384x640 (no detections), 10.7ms\n",
            "video 1/1 (frame 2369/11993) /content/Structure Fire Millers Falls 11_8_22 (1).mp4: 384x640 (no detections), 12.4ms\n",
            "video 1/1 (frame 2370/11993) /content/Structure Fire Millers Falls 11_8_22 (1).mp4: 384x640 (no detections), 9.7ms\n",
            "video 1/1 (frame 2371/11993) /content/Structure Fire Millers Falls 11_8_22 (1).mp4: 384x640 (no detections), 10.3ms\n",
            "video 1/1 (frame 2372/11993) /content/Structure Fire Millers Falls 11_8_22 (1).mp4: 384x640 (no detections), 9.7ms\n",
            "video 1/1 (frame 2373/11993) /content/Structure Fire Millers Falls 11_8_22 (1).mp4: 384x640 (no detections), 10.4ms\n",
            "video 1/1 (frame 2374/11993) /content/Structure Fire Millers Falls 11_8_22 (1).mp4: 384x640 (no detections), 9.9ms\n",
            "video 1/1 (frame 2375/11993) /content/Structure Fire Millers Falls 11_8_22 (1).mp4: 384x640 (no detections), 10.6ms\n",
            "video 1/1 (frame 2376/11993) /content/Structure Fire Millers Falls 11_8_22 (1).mp4: 384x640 (no detections), 9.8ms\n",
            "video 1/1 (frame 2377/11993) /content/Structure Fire Millers Falls 11_8_22 (1).mp4: 384x640 (no detections), 14.4ms\n",
            "video 1/1 (frame 2378/11993) /content/Structure Fire Millers Falls 11_8_22 (1).mp4: 384x640 (no detections), 9.1ms\n",
            "video 1/1 (frame 2379/11993) /content/Structure Fire Millers Falls 11_8_22 (1).mp4: 384x640 (no detections), 10.7ms\n",
            "video 1/1 (frame 2380/11993) /content/Structure Fire Millers Falls 11_8_22 (1).mp4: 384x640 (no detections), 8.4ms\n",
            "video 1/1 (frame 2381/11993) /content/Structure Fire Millers Falls 11_8_22 (1).mp4: 384x640 (no detections), 9.5ms\n",
            "video 1/1 (frame 2382/11993) /content/Structure Fire Millers Falls 11_8_22 (1).mp4: 384x640 (no detections), 11.4ms\n",
            "video 1/1 (frame 2383/11993) /content/Structure Fire Millers Falls 11_8_22 (1).mp4: 384x640 (no detections), 10.2ms\n",
            "video 1/1 (frame 2384/11993) /content/Structure Fire Millers Falls 11_8_22 (1).mp4: 384x640 (no detections), 9.6ms\n",
            "video 1/1 (frame 2385/11993) /content/Structure Fire Millers Falls 11_8_22 (1).mp4: 384x640 (no detections), 8.9ms\n",
            "video 1/1 (frame 2386/11993) /content/Structure Fire Millers Falls 11_8_22 (1).mp4: 384x640 (no detections), 9.6ms\n",
            "video 1/1 (frame 2387/11993) /content/Structure Fire Millers Falls 11_8_22 (1).mp4: 384x640 (no detections), 11.9ms\n",
            "video 1/1 (frame 2388/11993) /content/Structure Fire Millers Falls 11_8_22 (1).mp4: 384x640 (no detections), 9.0ms\n",
            "video 1/1 (frame 2389/11993) /content/Structure Fire Millers Falls 11_8_22 (1).mp4: 384x640 (no detections), 8.4ms\n",
            "video 1/1 (frame 2390/11993) /content/Structure Fire Millers Falls 11_8_22 (1).mp4: 384x640 (no detections), 10.0ms\n",
            "video 1/1 (frame 2391/11993) /content/Structure Fire Millers Falls 11_8_22 (1).mp4: 384x640 (no detections), 10.2ms\n",
            "video 1/1 (frame 2392/11993) /content/Structure Fire Millers Falls 11_8_22 (1).mp4: 384x640 (no detections), 11.0ms\n",
            "video 1/1 (frame 2393/11993) /content/Structure Fire Millers Falls 11_8_22 (1).mp4: 384x640 (no detections), 12.0ms\n",
            "video 1/1 (frame 2394/11993) /content/Structure Fire Millers Falls 11_8_22 (1).mp4: 384x640 (no detections), 9.2ms\n",
            "video 1/1 (frame 2395/11993) /content/Structure Fire Millers Falls 11_8_22 (1).mp4: 384x640 (no detections), 9.8ms\n",
            "video 1/1 (frame 2396/11993) /content/Structure Fire Millers Falls 11_8_22 (1).mp4: 384x640 (no detections), 13.6ms\n",
            "video 1/1 (frame 2397/11993) /content/Structure Fire Millers Falls 11_8_22 (1).mp4: 384x640 (no detections), 11.7ms\n",
            "video 1/1 (frame 2398/11993) /content/Structure Fire Millers Falls 11_8_22 (1).mp4: 384x640 (no detections), 10.8ms\n",
            "video 1/1 (frame 2399/11993) /content/Structure Fire Millers Falls 11_8_22 (1).mp4: 384x640 (no detections), 12.4ms\n",
            "video 1/1 (frame 2400/11993) /content/Structure Fire Millers Falls 11_8_22 (1).mp4: 384x640 (no detections), 9.3ms\n",
            "video 1/1 (frame 2401/11993) /content/Structure Fire Millers Falls 11_8_22 (1).mp4: 384x640 (no detections), 10.1ms\n",
            "video 1/1 (frame 2402/11993) /content/Structure Fire Millers Falls 11_8_22 (1).mp4: 384x640 (no detections), 9.7ms\n",
            "video 1/1 (frame 2403/11993) /content/Structure Fire Millers Falls 11_8_22 (1).mp4: 384x640 (no detections), 11.1ms\n",
            "video 1/1 (frame 2404/11993) /content/Structure Fire Millers Falls 11_8_22 (1).mp4: 384x640 (no detections), 9.7ms\n",
            "video 1/1 (frame 2405/11993) /content/Structure Fire Millers Falls 11_8_22 (1).mp4: 384x640 (no detections), 9.5ms\n",
            "video 1/1 (frame 2406/11993) /content/Structure Fire Millers Falls 11_8_22 (1).mp4: 384x640 (no detections), 8.9ms\n",
            "video 1/1 (frame 2407/11993) /content/Structure Fire Millers Falls 11_8_22 (1).mp4: 384x640 (no detections), 18.2ms\n",
            "video 1/1 (frame 2408/11993) /content/Structure Fire Millers Falls 11_8_22 (1).mp4: 384x640 (no detections), 10.2ms\n",
            "video 1/1 (frame 2409/11993) /content/Structure Fire Millers Falls 11_8_22 (1).mp4: 384x640 (no detections), 8.5ms\n",
            "video 1/1 (frame 2410/11993) /content/Structure Fire Millers Falls 11_8_22 (1).mp4: 384x640 (no detections), 13.5ms\n",
            "video 1/1 (frame 2411/11993) /content/Structure Fire Millers Falls 11_8_22 (1).mp4: 384x640 (no detections), 12.4ms\n",
            "video 1/1 (frame 2412/11993) /content/Structure Fire Millers Falls 11_8_22 (1).mp4: 384x640 (no detections), 11.0ms\n",
            "video 1/1 (frame 2413/11993) /content/Structure Fire Millers Falls 11_8_22 (1).mp4: 384x640 (no detections), 12.9ms\n",
            "video 1/1 (frame 2414/11993) /content/Structure Fire Millers Falls 11_8_22 (1).mp4: 384x640 (no detections), 12.8ms\n",
            "video 1/1 (frame 2415/11993) /content/Structure Fire Millers Falls 11_8_22 (1).mp4: 384x640 (no detections), 11.4ms\n",
            "video 1/1 (frame 2416/11993) /content/Structure Fire Millers Falls 11_8_22 (1).mp4: 384x640 (no detections), 19.8ms\n",
            "video 1/1 (frame 2417/11993) /content/Structure Fire Millers Falls 11_8_22 (1).mp4: 384x640 (no detections), 12.2ms\n",
            "video 1/1 (frame 2418/11993) /content/Structure Fire Millers Falls 11_8_22 (1).mp4: 384x640 (no detections), 9.8ms\n",
            "video 1/1 (frame 2419/11993) /content/Structure Fire Millers Falls 11_8_22 (1).mp4: 384x640 (no detections), 12.9ms\n",
            "video 1/1 (frame 2420/11993) /content/Structure Fire Millers Falls 11_8_22 (1).mp4: 384x640 (no detections), 8.4ms\n",
            "video 1/1 (frame 2421/11993) /content/Structure Fire Millers Falls 11_8_22 (1).mp4: 384x640 (no detections), 13.4ms\n",
            "video 1/1 (frame 2422/11993) /content/Structure Fire Millers Falls 11_8_22 (1).mp4: 384x640 (no detections), 8.6ms\n",
            "video 1/1 (frame 2423/11993) /content/Structure Fire Millers Falls 11_8_22 (1).mp4: 384x640 (no detections), 15.5ms\n",
            "video 1/1 (frame 2424/11993) /content/Structure Fire Millers Falls 11_8_22 (1).mp4: 384x640 (no detections), 8.5ms\n",
            "video 1/1 (frame 2425/11993) /content/Structure Fire Millers Falls 11_8_22 (1).mp4: 384x640 (no detections), 9.9ms\n",
            "video 1/1 (frame 2426/11993) /content/Structure Fire Millers Falls 11_8_22 (1).mp4: 384x640 (no detections), 10.2ms\n",
            "video 1/1 (frame 2427/11993) /content/Structure Fire Millers Falls 11_8_22 (1).mp4: 384x640 (no detections), 19.3ms\n",
            "video 1/1 (frame 2428/11993) /content/Structure Fire Millers Falls 11_8_22 (1).mp4: 384x640 (no detections), 8.9ms\n",
            "video 1/1 (frame 2429/11993) /content/Structure Fire Millers Falls 11_8_22 (1).mp4: 384x640 (no detections), 9.5ms\n",
            "video 1/1 (frame 2430/11993) /content/Structure Fire Millers Falls 11_8_22 (1).mp4: 384x640 (no detections), 9.7ms\n",
            "video 1/1 (frame 2431/11993) /content/Structure Fire Millers Falls 11_8_22 (1).mp4: 384x640 (no detections), 10.4ms\n",
            "video 1/1 (frame 2432/11993) /content/Structure Fire Millers Falls 11_8_22 (1).mp4: 384x640 (no detections), 9.3ms\n",
            "video 1/1 (frame 2433/11993) /content/Structure Fire Millers Falls 11_8_22 (1).mp4: 384x640 (no detections), 14.1ms\n",
            "video 1/1 (frame 2434/11993) /content/Structure Fire Millers Falls 11_8_22 (1).mp4: 384x640 (no detections), 11.7ms\n",
            "video 1/1 (frame 2435/11993) /content/Structure Fire Millers Falls 11_8_22 (1).mp4: 384x640 (no detections), 10.3ms\n",
            "video 1/1 (frame 2436/11993) /content/Structure Fire Millers Falls 11_8_22 (1).mp4: 384x640 (no detections), 10.0ms\n",
            "video 1/1 (frame 2437/11993) /content/Structure Fire Millers Falls 11_8_22 (1).mp4: 384x640 (no detections), 10.1ms\n",
            "video 1/1 (frame 2438/11993) /content/Structure Fire Millers Falls 11_8_22 (1).mp4: 384x640 (no detections), 17.3ms\n",
            "video 1/1 (frame 2439/11993) /content/Structure Fire Millers Falls 11_8_22 (1).mp4: 384x640 (no detections), 9.1ms\n",
            "video 1/1 (frame 2440/11993) /content/Structure Fire Millers Falls 11_8_22 (1).mp4: 384x640 (no detections), 10.2ms\n",
            "video 1/1 (frame 2441/11993) /content/Structure Fire Millers Falls 11_8_22 (1).mp4: 384x640 (no detections), 11.9ms\n",
            "video 1/1 (frame 2442/11993) /content/Structure Fire Millers Falls 11_8_22 (1).mp4: 384x640 (no detections), 9.6ms\n",
            "video 1/1 (frame 2443/11993) /content/Structure Fire Millers Falls 11_8_22 (1).mp4: 384x640 (no detections), 10.5ms\n",
            "video 1/1 (frame 2444/11993) /content/Structure Fire Millers Falls 11_8_22 (1).mp4: 384x640 (no detections), 9.6ms\n",
            "video 1/1 (frame 2445/11993) /content/Structure Fire Millers Falls 11_8_22 (1).mp4: 384x640 (no detections), 9.0ms\n",
            "video 1/1 (frame 2446/11993) /content/Structure Fire Millers Falls 11_8_22 (1).mp4: 384x640 (no detections), 14.5ms\n",
            "video 1/1 (frame 2447/11993) /content/Structure Fire Millers Falls 11_8_22 (1).mp4: 384x640 (no detections), 13.7ms\n",
            "video 1/1 (frame 2448/11993) /content/Structure Fire Millers Falls 11_8_22 (1).mp4: 384x640 (no detections), 11.3ms\n",
            "video 1/1 (frame 2449/11993) /content/Structure Fire Millers Falls 11_8_22 (1).mp4: 384x640 (no detections), 9.2ms\n",
            "video 1/1 (frame 2450/11993) /content/Structure Fire Millers Falls 11_8_22 (1).mp4: 384x640 (no detections), 10.0ms\n",
            "video 1/1 (frame 2451/11993) /content/Structure Fire Millers Falls 11_8_22 (1).mp4: 384x640 (no detections), 9.6ms\n",
            "video 1/1 (frame 2452/11993) /content/Structure Fire Millers Falls 11_8_22 (1).mp4: 384x640 (no detections), 9.9ms\n",
            "video 1/1 (frame 2453/11993) /content/Structure Fire Millers Falls 11_8_22 (1).mp4: 384x640 (no detections), 10.7ms\n",
            "video 1/1 (frame 2454/11993) /content/Structure Fire Millers Falls 11_8_22 (1).mp4: 384x640 (no detections), 10.7ms\n",
            "video 1/1 (frame 2455/11993) /content/Structure Fire Millers Falls 11_8_22 (1).mp4: 384x640 (no detections), 10.8ms\n",
            "video 1/1 (frame 2456/11993) /content/Structure Fire Millers Falls 11_8_22 (1).mp4: 384x640 (no detections), 13.3ms\n",
            "video 1/1 (frame 2457/11993) /content/Structure Fire Millers Falls 11_8_22 (1).mp4: 384x640 (no detections), 10.0ms\n",
            "video 1/1 (frame 2458/11993) /content/Structure Fire Millers Falls 11_8_22 (1).mp4: 384x640 (no detections), 14.3ms\n",
            "video 1/1 (frame 2459/11993) /content/Structure Fire Millers Falls 11_8_22 (1).mp4: 384x640 (no detections), 9.2ms\n",
            "video 1/1 (frame 2460/11993) /content/Structure Fire Millers Falls 11_8_22 (1).mp4: 384x640 (no detections), 11.0ms\n",
            "video 1/1 (frame 2461/11993) /content/Structure Fire Millers Falls 11_8_22 (1).mp4: 384x640 (no detections), 12.0ms\n",
            "video 1/1 (frame 2462/11993) /content/Structure Fire Millers Falls 11_8_22 (1).mp4: 384x640 (no detections), 9.1ms\n",
            "video 1/1 (frame 2463/11993) /content/Structure Fire Millers Falls 11_8_22 (1).mp4: 384x640 (no detections), 12.6ms\n",
            "video 1/1 (frame 2464/11993) /content/Structure Fire Millers Falls 11_8_22 (1).mp4: 384x640 (no detections), 11.2ms\n",
            "video 1/1 (frame 2465/11993) /content/Structure Fire Millers Falls 11_8_22 (1).mp4: 384x640 (no detections), 9.3ms\n",
            "video 1/1 (frame 2466/11993) /content/Structure Fire Millers Falls 11_8_22 (1).mp4: 384x640 (no detections), 12.6ms\n",
            "video 1/1 (frame 2467/11993) /content/Structure Fire Millers Falls 11_8_22 (1).mp4: 384x640 (no detections), 14.5ms\n",
            "video 1/1 (frame 2468/11993) /content/Structure Fire Millers Falls 11_8_22 (1).mp4: 384x640 (no detections), 8.8ms\n",
            "video 1/1 (frame 2469/11993) /content/Structure Fire Millers Falls 11_8_22 (1).mp4: 384x640 (no detections), 11.4ms\n",
            "video 1/1 (frame 2470/11993) /content/Structure Fire Millers Falls 11_8_22 (1).mp4: 384x640 (no detections), 11.8ms\n",
            "video 1/1 (frame 2471/11993) /content/Structure Fire Millers Falls 11_8_22 (1).mp4: 384x640 (no detections), 13.7ms\n",
            "video 1/1 (frame 2472/11993) /content/Structure Fire Millers Falls 11_8_22 (1).mp4: 384x640 (no detections), 12.2ms\n",
            "video 1/1 (frame 2473/11993) /content/Structure Fire Millers Falls 11_8_22 (1).mp4: 384x640 (no detections), 13.4ms\n",
            "video 1/1 (frame 2474/11993) /content/Structure Fire Millers Falls 11_8_22 (1).mp4: 384x640 (no detections), 11.8ms\n",
            "video 1/1 (frame 2475/11993) /content/Structure Fire Millers Falls 11_8_22 (1).mp4: 384x640 (no detections), 10.3ms\n",
            "video 1/1 (frame 2476/11993) /content/Structure Fire Millers Falls 11_8_22 (1).mp4: 384x640 (no detections), 9.0ms\n",
            "video 1/1 (frame 2477/11993) /content/Structure Fire Millers Falls 11_8_22 (1).mp4: 384x640 (no detections), 11.1ms\n",
            "video 1/1 (frame 2478/11993) /content/Structure Fire Millers Falls 11_8_22 (1).mp4: 384x640 (no detections), 13.0ms\n",
            "video 1/1 (frame 2479/11993) /content/Structure Fire Millers Falls 11_8_22 (1).mp4: 384x640 (no detections), 9.6ms\n",
            "video 1/1 (frame 2480/11993) /content/Structure Fire Millers Falls 11_8_22 (1).mp4: 384x640 (no detections), 10.7ms\n",
            "video 1/1 (frame 2481/11993) /content/Structure Fire Millers Falls 11_8_22 (1).mp4: 384x640 (no detections), 12.2ms\n",
            "video 1/1 (frame 2482/11993) /content/Structure Fire Millers Falls 11_8_22 (1).mp4: 384x640 (no detections), 11.0ms\n",
            "video 1/1 (frame 2483/11993) /content/Structure Fire Millers Falls 11_8_22 (1).mp4: 384x640 (no detections), 9.1ms\n",
            "video 1/1 (frame 2484/11993) /content/Structure Fire Millers Falls 11_8_22 (1).mp4: 384x640 (no detections), 12.4ms\n",
            "video 1/1 (frame 2485/11993) /content/Structure Fire Millers Falls 11_8_22 (1).mp4: 384x640 (no detections), 12.3ms\n",
            "video 1/1 (frame 2486/11993) /content/Structure Fire Millers Falls 11_8_22 (1).mp4: 384x640 (no detections), 12.3ms\n",
            "video 1/1 (frame 2487/11993) /content/Structure Fire Millers Falls 11_8_22 (1).mp4: 384x640 (no detections), 14.5ms\n",
            "video 1/1 (frame 2488/11993) /content/Structure Fire Millers Falls 11_8_22 (1).mp4: 384x640 (no detections), 12.9ms\n",
            "video 1/1 (frame 2489/11993) /content/Structure Fire Millers Falls 11_8_22 (1).mp4: 384x640 (no detections), 14.4ms\n",
            "video 1/1 (frame 2490/11993) /content/Structure Fire Millers Falls 11_8_22 (1).mp4: 384x640 (no detections), 13.3ms\n",
            "video 1/1 (frame 2491/11993) /content/Structure Fire Millers Falls 11_8_22 (1).mp4: 384x640 (no detections), 9.1ms\n",
            "video 1/1 (frame 2492/11993) /content/Structure Fire Millers Falls 11_8_22 (1).mp4: 384x640 (no detections), 13.0ms\n",
            "video 1/1 (frame 2493/11993) /content/Structure Fire Millers Falls 11_8_22 (1).mp4: 384x640 (no detections), 12.1ms\n",
            "video 1/1 (frame 2494/11993) /content/Structure Fire Millers Falls 11_8_22 (1).mp4: 384x640 (no detections), 13.3ms\n",
            "video 1/1 (frame 2495/11993) /content/Structure Fire Millers Falls 11_8_22 (1).mp4: 384x640 (no detections), 9.5ms\n",
            "video 1/1 (frame 2496/11993) /content/Structure Fire Millers Falls 11_8_22 (1).mp4: 384x640 (no detections), 11.4ms\n",
            "video 1/1 (frame 2497/11993) /content/Structure Fire Millers Falls 11_8_22 (1).mp4: 384x640 (no detections), 11.0ms\n",
            "video 1/1 (frame 2498/11993) /content/Structure Fire Millers Falls 11_8_22 (1).mp4: 384x640 (no detections), 10.7ms\n",
            "video 1/1 (frame 2499/11993) /content/Structure Fire Millers Falls 11_8_22 (1).mp4: 384x640 (no detections), 9.0ms\n",
            "video 1/1 (frame 2500/11993) /content/Structure Fire Millers Falls 11_8_22 (1).mp4: 384x640 (no detections), 11.3ms\n",
            "video 1/1 (frame 2501/11993) /content/Structure Fire Millers Falls 11_8_22 (1).mp4: 384x640 (no detections), 8.6ms\n",
            "video 1/1 (frame 2502/11993) /content/Structure Fire Millers Falls 11_8_22 (1).mp4: 384x640 (no detections), 10.6ms\n",
            "video 1/1 (frame 2503/11993) /content/Structure Fire Millers Falls 11_8_22 (1).mp4: 384x640 (no detections), 13.2ms\n",
            "video 1/1 (frame 2504/11993) /content/Structure Fire Millers Falls 11_8_22 (1).mp4: 384x640 (no detections), 13.2ms\n",
            "video 1/1 (frame 2505/11993) /content/Structure Fire Millers Falls 11_8_22 (1).mp4: 384x640 (no detections), 8.6ms\n",
            "video 1/1 (frame 2506/11993) /content/Structure Fire Millers Falls 11_8_22 (1).mp4: 384x640 (no detections), 11.0ms\n",
            "video 1/1 (frame 2507/11993) /content/Structure Fire Millers Falls 11_8_22 (1).mp4: 384x640 (no detections), 10.0ms\n",
            "video 1/1 (frame 2508/11993) /content/Structure Fire Millers Falls 11_8_22 (1).mp4: 384x640 (no detections), 12.4ms\n",
            "video 1/1 (frame 2509/11993) /content/Structure Fire Millers Falls 11_8_22 (1).mp4: 384x640 (no detections), 8.9ms\n",
            "video 1/1 (frame 2510/11993) /content/Structure Fire Millers Falls 11_8_22 (1).mp4: 384x640 (no detections), 9.7ms\n",
            "video 1/1 (frame 2511/11993) /content/Structure Fire Millers Falls 11_8_22 (1).mp4: 384x640 (no detections), 9.8ms\n",
            "video 1/1 (frame 2512/11993) /content/Structure Fire Millers Falls 11_8_22 (1).mp4: 384x640 (no detections), 12.0ms\n",
            "video 1/1 (frame 2513/11993) /content/Structure Fire Millers Falls 11_8_22 (1).mp4: 384x640 (no detections), 10.6ms\n",
            "video 1/1 (frame 2514/11993) /content/Structure Fire Millers Falls 11_8_22 (1).mp4: 384x640 (no detections), 13.7ms\n",
            "video 1/1 (frame 2515/11993) /content/Structure Fire Millers Falls 11_8_22 (1).mp4: 384x640 (no detections), 8.9ms\n",
            "video 1/1 (frame 2516/11993) /content/Structure Fire Millers Falls 11_8_22 (1).mp4: 384x640 (no detections), 10.1ms\n",
            "video 1/1 (frame 2517/11993) /content/Structure Fire Millers Falls 11_8_22 (1).mp4: 384x640 (no detections), 9.0ms\n",
            "video 1/1 (frame 2518/11993) /content/Structure Fire Millers Falls 11_8_22 (1).mp4: 384x640 (no detections), 10.0ms\n",
            "video 1/1 (frame 2519/11993) /content/Structure Fire Millers Falls 11_8_22 (1).mp4: 384x640 (no detections), 9.2ms\n",
            "video 1/1 (frame 2520/11993) /content/Structure Fire Millers Falls 11_8_22 (1).mp4: 384x640 (no detections), 16.8ms\n",
            "video 1/1 (frame 2521/11993) /content/Structure Fire Millers Falls 11_8_22 (1).mp4: 384x640 (no detections), 10.0ms\n",
            "video 1/1 (frame 2522/11993) /content/Structure Fire Millers Falls 11_8_22 (1).mp4: 384x640 (no detections), 10.7ms\n",
            "video 1/1 (frame 2523/11993) /content/Structure Fire Millers Falls 11_8_22 (1).mp4: 384x640 (no detections), 10.0ms\n",
            "video 1/1 (frame 2524/11993) /content/Structure Fire Millers Falls 11_8_22 (1).mp4: 384x640 (no detections), 10.6ms\n",
            "video 1/1 (frame 2525/11993) /content/Structure Fire Millers Falls 11_8_22 (1).mp4: 384x640 (no detections), 12.5ms\n",
            "video 1/1 (frame 2526/11993) /content/Structure Fire Millers Falls 11_8_22 (1).mp4: 384x640 (no detections), 9.5ms\n",
            "video 1/1 (frame 2527/11993) /content/Structure Fire Millers Falls 11_8_22 (1).mp4: 384x640 (no detections), 11.7ms\n",
            "video 1/1 (frame 2528/11993) /content/Structure Fire Millers Falls 11_8_22 (1).mp4: 384x640 (no detections), 10.9ms\n",
            "video 1/1 (frame 2529/11993) /content/Structure Fire Millers Falls 11_8_22 (1).mp4: 384x640 (no detections), 8.7ms\n",
            "video 1/1 (frame 2530/11993) /content/Structure Fire Millers Falls 11_8_22 (1).mp4: 384x640 (no detections), 12.3ms\n",
            "video 1/1 (frame 2531/11993) /content/Structure Fire Millers Falls 11_8_22 (1).mp4: 384x640 (no detections), 13.1ms\n",
            "video 1/1 (frame 2532/11993) /content/Structure Fire Millers Falls 11_8_22 (1).mp4: 384x640 (no detections), 11.2ms\n",
            "video 1/1 (frame 2533/11993) /content/Structure Fire Millers Falls 11_8_22 (1).mp4: 384x640 (no detections), 11.7ms\n",
            "video 1/1 (frame 2534/11993) /content/Structure Fire Millers Falls 11_8_22 (1).mp4: 384x640 (no detections), 13.3ms\n",
            "video 1/1 (frame 2535/11993) /content/Structure Fire Millers Falls 11_8_22 (1).mp4: 384x640 (no detections), 11.3ms\n",
            "video 1/1 (frame 2536/11993) /content/Structure Fire Millers Falls 11_8_22 (1).mp4: 384x640 (no detections), 11.9ms\n",
            "video 1/1 (frame 2537/11993) /content/Structure Fire Millers Falls 11_8_22 (1).mp4: 384x640 (no detections), 11.7ms\n",
            "video 1/1 (frame 2538/11993) /content/Structure Fire Millers Falls 11_8_22 (1).mp4: 384x640 (no detections), 11.9ms\n",
            "video 1/1 (frame 2539/11993) /content/Structure Fire Millers Falls 11_8_22 (1).mp4: 384x640 (no detections), 12.2ms\n",
            "video 1/1 (frame 2540/11993) /content/Structure Fire Millers Falls 11_8_22 (1).mp4: 384x640 (no detections), 16.6ms\n",
            "video 1/1 (frame 2541/11993) /content/Structure Fire Millers Falls 11_8_22 (1).mp4: 384x640 (no detections), 9.3ms\n",
            "video 1/1 (frame 2542/11993) /content/Structure Fire Millers Falls 11_8_22 (1).mp4: 384x640 (no detections), 12.4ms\n",
            "video 1/1 (frame 2543/11993) /content/Structure Fire Millers Falls 11_8_22 (1).mp4: 384x640 (no detections), 9.0ms\n",
            "video 1/1 (frame 2544/11993) /content/Structure Fire Millers Falls 11_8_22 (1).mp4: 384x640 (no detections), 12.4ms\n",
            "video 1/1 (frame 2545/11993) /content/Structure Fire Millers Falls 11_8_22 (1).mp4: 384x640 (no detections), 11.6ms\n",
            "video 1/1 (frame 2546/11993) /content/Structure Fire Millers Falls 11_8_22 (1).mp4: 384x640 (no detections), 18.8ms\n",
            "video 1/1 (frame 2547/11993) /content/Structure Fire Millers Falls 11_8_22 (1).mp4: 384x640 (no detections), 17.2ms\n",
            "video 1/1 (frame 2548/11993) /content/Structure Fire Millers Falls 11_8_22 (1).mp4: 384x640 (no detections), 12.8ms\n",
            "video 1/1 (frame 2549/11993) /content/Structure Fire Millers Falls 11_8_22 (1).mp4: 384x640 (no detections), 21.5ms\n",
            "video 1/1 (frame 2550/11993) /content/Structure Fire Millers Falls 11_8_22 (1).mp4: 384x640 (no detections), 16.1ms\n",
            "video 1/1 (frame 2551/11993) /content/Structure Fire Millers Falls 11_8_22 (1).mp4: 384x640 (no detections), 12.4ms\n",
            "video 1/1 (frame 2552/11993) /content/Structure Fire Millers Falls 11_8_22 (1).mp4: 384x640 (no detections), 14.9ms\n",
            "video 1/1 (frame 2553/11993) /content/Structure Fire Millers Falls 11_8_22 (1).mp4: 384x640 (no detections), 16.1ms\n",
            "video 1/1 (frame 2554/11993) /content/Structure Fire Millers Falls 11_8_22 (1).mp4: 384x640 (no detections), 13.0ms\n",
            "video 1/1 (frame 2555/11993) /content/Structure Fire Millers Falls 11_8_22 (1).mp4: 384x640 (no detections), 14.8ms\n",
            "video 1/1 (frame 2556/11993) /content/Structure Fire Millers Falls 11_8_22 (1).mp4: 384x640 (no detections), 12.6ms\n",
            "video 1/1 (frame 2557/11993) /content/Structure Fire Millers Falls 11_8_22 (1).mp4: 384x640 (no detections), 13.2ms\n",
            "video 1/1 (frame 2558/11993) /content/Structure Fire Millers Falls 11_8_22 (1).mp4: 384x640 (no detections), 14.3ms\n",
            "video 1/1 (frame 2559/11993) /content/Structure Fire Millers Falls 11_8_22 (1).mp4: 384x640 (no detections), 12.8ms\n",
            "video 1/1 (frame 2560/11993) /content/Structure Fire Millers Falls 11_8_22 (1).mp4: 384x640 (no detections), 12.3ms\n",
            "video 1/1 (frame 2561/11993) /content/Structure Fire Millers Falls 11_8_22 (1).mp4: 384x640 (no detections), 11.8ms\n",
            "video 1/1 (frame 2562/11993) /content/Structure Fire Millers Falls 11_8_22 (1).mp4: 384x640 (no detections), 14.2ms\n",
            "video 1/1 (frame 2563/11993) /content/Structure Fire Millers Falls 11_8_22 (1).mp4: 384x640 (no detections), 12.0ms\n",
            "video 1/1 (frame 2564/11993) /content/Structure Fire Millers Falls 11_8_22 (1).mp4: 384x640 (no detections), 12.3ms\n",
            "video 1/1 (frame 2565/11993) /content/Structure Fire Millers Falls 11_8_22 (1).mp4: 384x640 (no detections), 21.3ms\n",
            "video 1/1 (frame 2566/11993) /content/Structure Fire Millers Falls 11_8_22 (1).mp4: 384x640 (no detections), 13.2ms\n",
            "video 1/1 (frame 2567/11993) /content/Structure Fire Millers Falls 11_8_22 (1).mp4: 384x640 (no detections), 12.8ms\n",
            "video 1/1 (frame 2568/11993) /content/Structure Fire Millers Falls 11_8_22 (1).mp4: 384x640 (no detections), 11.0ms\n",
            "video 1/1 (frame 2569/11993) /content/Structure Fire Millers Falls 11_8_22 (1).mp4: 384x640 (no detections), 19.0ms\n",
            "video 1/1 (frame 2570/11993) /content/Structure Fire Millers Falls 11_8_22 (1).mp4: 384x640 (no detections), 16.4ms\n",
            "video 1/1 (frame 2571/11993) /content/Structure Fire Millers Falls 11_8_22 (1).mp4: 384x640 (no detections), 13.6ms\n",
            "video 1/1 (frame 2572/11993) /content/Structure Fire Millers Falls 11_8_22 (1).mp4: 384x640 (no detections), 12.7ms\n",
            "video 1/1 (frame 2573/11993) /content/Structure Fire Millers Falls 11_8_22 (1).mp4: 384x640 (no detections), 11.1ms\n",
            "video 1/1 (frame 2574/11993) /content/Structure Fire Millers Falls 11_8_22 (1).mp4: 384x640 (no detections), 16.1ms\n",
            "video 1/1 (frame 2575/11993) /content/Structure Fire Millers Falls 11_8_22 (1).mp4: 384x640 (no detections), 13.6ms\n",
            "video 1/1 (frame 2576/11993) /content/Structure Fire Millers Falls 11_8_22 (1).mp4: 384x640 (no detections), 13.1ms\n",
            "video 1/1 (frame 2577/11993) /content/Structure Fire Millers Falls 11_8_22 (1).mp4: 384x640 (no detections), 14.2ms\n",
            "video 1/1 (frame 2578/11993) /content/Structure Fire Millers Falls 11_8_22 (1).mp4: 384x640 (no detections), 13.5ms\n",
            "video 1/1 (frame 2579/11993) /content/Structure Fire Millers Falls 11_8_22 (1).mp4: 384x640 (no detections), 11.2ms\n",
            "video 1/1 (frame 2580/11993) /content/Structure Fire Millers Falls 11_8_22 (1).mp4: 384x640 (no detections), 12.8ms\n",
            "video 1/1 (frame 2581/11993) /content/Structure Fire Millers Falls 11_8_22 (1).mp4: 384x640 (no detections), 11.5ms\n",
            "video 1/1 (frame 2582/11993) /content/Structure Fire Millers Falls 11_8_22 (1).mp4: 384x640 (no detections), 12.1ms\n",
            "video 1/1 (frame 2583/11993) /content/Structure Fire Millers Falls 11_8_22 (1).mp4: 384x640 (no detections), 15.3ms\n",
            "video 1/1 (frame 2584/11993) /content/Structure Fire Millers Falls 11_8_22 (1).mp4: 384x640 (no detections), 18.3ms\n",
            "video 1/1 (frame 2585/11993) /content/Structure Fire Millers Falls 11_8_22 (1).mp4: 384x640 (no detections), 18.3ms\n",
            "video 1/1 (frame 2586/11993) /content/Structure Fire Millers Falls 11_8_22 (1).mp4: 384x640 (no detections), 12.8ms\n",
            "video 1/1 (frame 2587/11993) /content/Structure Fire Millers Falls 11_8_22 (1).mp4: 384x640 (no detections), 17.6ms\n",
            "video 1/1 (frame 2588/11993) /content/Structure Fire Millers Falls 11_8_22 (1).mp4: 384x640 (no detections), 13.3ms\n",
            "video 1/1 (frame 2589/11993) /content/Structure Fire Millers Falls 11_8_22 (1).mp4: 384x640 (no detections), 16.1ms\n",
            "video 1/1 (frame 2590/11993) /content/Structure Fire Millers Falls 11_8_22 (1).mp4: 384x640 (no detections), 13.1ms\n",
            "video 1/1 (frame 2591/11993) /content/Structure Fire Millers Falls 11_8_22 (1).mp4: 384x640 (no detections), 14.2ms\n",
            "video 1/1 (frame 2592/11993) /content/Structure Fire Millers Falls 11_8_22 (1).mp4: 384x640 (no detections), 16.5ms\n",
            "video 1/1 (frame 2593/11993) /content/Structure Fire Millers Falls 11_8_22 (1).mp4: 384x640 (no detections), 18.8ms\n",
            "video 1/1 (frame 2594/11993) /content/Structure Fire Millers Falls 11_8_22 (1).mp4: 384x640 (no detections), 20.3ms\n",
            "video 1/1 (frame 2595/11993) /content/Structure Fire Millers Falls 11_8_22 (1).mp4: 384x640 (no detections), 19.2ms\n",
            "video 1/1 (frame 2596/11993) /content/Structure Fire Millers Falls 11_8_22 (1).mp4: 384x640 (no detections), 18.4ms\n",
            "video 1/1 (frame 2597/11993) /content/Structure Fire Millers Falls 11_8_22 (1).mp4: 384x640 (no detections), 13.0ms\n",
            "video 1/1 (frame 2598/11993) /content/Structure Fire Millers Falls 11_8_22 (1).mp4: 384x640 (no detections), 14.5ms\n",
            "video 1/1 (frame 2599/11993) /content/Structure Fire Millers Falls 11_8_22 (1).mp4: 384x640 (no detections), 14.0ms\n",
            "video 1/1 (frame 2600/11993) /content/Structure Fire Millers Falls 11_8_22 (1).mp4: 384x640 (no detections), 15.3ms\n",
            "video 1/1 (frame 2601/11993) /content/Structure Fire Millers Falls 11_8_22 (1).mp4: 384x640 (no detections), 14.7ms\n",
            "video 1/1 (frame 2602/11993) /content/Structure Fire Millers Falls 11_8_22 (1).mp4: 384x640 (no detections), 16.1ms\n",
            "video 1/1 (frame 2603/11993) /content/Structure Fire Millers Falls 11_8_22 (1).mp4: 384x640 (no detections), 21.6ms\n",
            "video 1/1 (frame 2604/11993) /content/Structure Fire Millers Falls 11_8_22 (1).mp4: 384x640 (no detections), 16.2ms\n",
            "video 1/1 (frame 2605/11993) /content/Structure Fire Millers Falls 11_8_22 (1).mp4: 384x640 (no detections), 13.7ms\n",
            "video 1/1 (frame 2606/11993) /content/Structure Fire Millers Falls 11_8_22 (1).mp4: 384x640 (no detections), 9.0ms\n",
            "video 1/1 (frame 2607/11993) /content/Structure Fire Millers Falls 11_8_22 (1).mp4: 384x640 (no detections), 11.0ms\n",
            "video 1/1 (frame 2608/11993) /content/Structure Fire Millers Falls 11_8_22 (1).mp4: 384x640 (no detections), 12.2ms\n",
            "video 1/1 (frame 2609/11993) /content/Structure Fire Millers Falls 11_8_22 (1).mp4: 384x640 (no detections), 9.6ms\n",
            "video 1/1 (frame 2610/11993) /content/Structure Fire Millers Falls 11_8_22 (1).mp4: 384x640 (no detections), 10.1ms\n",
            "video 1/1 (frame 2611/11993) /content/Structure Fire Millers Falls 11_8_22 (1).mp4: 384x640 (no detections), 9.5ms\n",
            "video 1/1 (frame 2612/11993) /content/Structure Fire Millers Falls 11_8_22 (1).mp4: 384x640 (no detections), 12.5ms\n",
            "video 1/1 (frame 2613/11993) /content/Structure Fire Millers Falls 11_8_22 (1).mp4: 384x640 (no detections), 9.9ms\n",
            "video 1/1 (frame 2614/11993) /content/Structure Fire Millers Falls 11_8_22 (1).mp4: 384x640 (no detections), 9.9ms\n",
            "video 1/1 (frame 2615/11993) /content/Structure Fire Millers Falls 11_8_22 (1).mp4: 384x640 (no detections), 9.8ms\n",
            "video 1/1 (frame 2616/11993) /content/Structure Fire Millers Falls 11_8_22 (1).mp4: 384x640 (no detections), 11.6ms\n",
            "video 1/1 (frame 2617/11993) /content/Structure Fire Millers Falls 11_8_22 (1).mp4: 384x640 (no detections), 11.3ms\n",
            "video 1/1 (frame 2618/11993) /content/Structure Fire Millers Falls 11_8_22 (1).mp4: 384x640 (no detections), 9.3ms\n",
            "video 1/1 (frame 2619/11993) /content/Structure Fire Millers Falls 11_8_22 (1).mp4: 384x640 (no detections), 10.7ms\n",
            "video 1/1 (frame 2620/11993) /content/Structure Fire Millers Falls 11_8_22 (1).mp4: 384x640 (no detections), 9.0ms\n",
            "video 1/1 (frame 2621/11993) /content/Structure Fire Millers Falls 11_8_22 (1).mp4: 384x640 (no detections), 10.9ms\n",
            "video 1/1 (frame 2622/11993) /content/Structure Fire Millers Falls 11_8_22 (1).mp4: 384x640 (no detections), 11.7ms\n",
            "video 1/1 (frame 2623/11993) /content/Structure Fire Millers Falls 11_8_22 (1).mp4: 384x640 (no detections), 13.4ms\n",
            "video 1/1 (frame 2624/11993) /content/Structure Fire Millers Falls 11_8_22 (1).mp4: 384x640 (no detections), 10.1ms\n",
            "video 1/1 (frame 2625/11993) /content/Structure Fire Millers Falls 11_8_22 (1).mp4: 384x640 (no detections), 9.5ms\n",
            "video 1/1 (frame 2626/11993) /content/Structure Fire Millers Falls 11_8_22 (1).mp4: 384x640 (no detections), 10.3ms\n",
            "video 1/1 (frame 2627/11993) /content/Structure Fire Millers Falls 11_8_22 (1).mp4: 384x640 (no detections), 11.0ms\n",
            "video 1/1 (frame 2628/11993) /content/Structure Fire Millers Falls 11_8_22 (1).mp4: 384x640 (no detections), 10.1ms\n",
            "video 1/1 (frame 2629/11993) /content/Structure Fire Millers Falls 11_8_22 (1).mp4: 384x640 (no detections), 9.8ms\n",
            "video 1/1 (frame 2630/11993) /content/Structure Fire Millers Falls 11_8_22 (1).mp4: 384x640 (no detections), 14.0ms\n",
            "video 1/1 (frame 2631/11993) /content/Structure Fire Millers Falls 11_8_22 (1).mp4: 384x640 (no detections), 10.5ms\n",
            "video 1/1 (frame 2632/11993) /content/Structure Fire Millers Falls 11_8_22 (1).mp4: 384x640 (no detections), 10.7ms\n",
            "video 1/1 (frame 2633/11993) /content/Structure Fire Millers Falls 11_8_22 (1).mp4: 384x640 (no detections), 11.0ms\n",
            "video 1/1 (frame 2634/11993) /content/Structure Fire Millers Falls 11_8_22 (1).mp4: 384x640 (no detections), 10.1ms\n",
            "video 1/1 (frame 2635/11993) /content/Structure Fire Millers Falls 11_8_22 (1).mp4: 384x640 (no detections), 9.4ms\n",
            "video 1/1 (frame 2636/11993) /content/Structure Fire Millers Falls 11_8_22 (1).mp4: 384x640 (no detections), 9.9ms\n",
            "video 1/1 (frame 2637/11993) /content/Structure Fire Millers Falls 11_8_22 (1).mp4: 384x640 (no detections), 9.5ms\n",
            "video 1/1 (frame 2638/11993) /content/Structure Fire Millers Falls 11_8_22 (1).mp4: 384x640 (no detections), 10.4ms\n",
            "video 1/1 (frame 2639/11993) /content/Structure Fire Millers Falls 11_8_22 (1).mp4: 384x640 (no detections), 10.3ms\n",
            "video 1/1 (frame 2640/11993) /content/Structure Fire Millers Falls 11_8_22 (1).mp4: 384x640 (no detections), 9.2ms\n",
            "video 1/1 (frame 2641/11993) /content/Structure Fire Millers Falls 11_8_22 (1).mp4: 384x640 (no detections), 12.5ms\n",
            "video 1/1 (frame 2642/11993) /content/Structure Fire Millers Falls 11_8_22 (1).mp4: 384x640 (no detections), 9.0ms\n",
            "video 1/1 (frame 2643/11993) /content/Structure Fire Millers Falls 11_8_22 (1).mp4: 384x640 (no detections), 10.8ms\n",
            "video 1/1 (frame 2644/11993) /content/Structure Fire Millers Falls 11_8_22 (1).mp4: 384x640 (no detections), 10.2ms\n",
            "video 1/1 (frame 2645/11993) /content/Structure Fire Millers Falls 11_8_22 (1).mp4: 384x640 (no detections), 9.8ms\n",
            "video 1/1 (frame 2646/11993) /content/Structure Fire Millers Falls 11_8_22 (1).mp4: 384x640 (no detections), 10.7ms\n",
            "video 1/1 (frame 2647/11993) /content/Structure Fire Millers Falls 11_8_22 (1).mp4: 384x640 (no detections), 10.1ms\n",
            "video 1/1 (frame 2648/11993) /content/Structure Fire Millers Falls 11_8_22 (1).mp4: 384x640 (no detections), 10.9ms\n",
            "video 1/1 (frame 2649/11993) /content/Structure Fire Millers Falls 11_8_22 (1).mp4: 384x640 (no detections), 8.6ms\n",
            "video 1/1 (frame 2650/11993) /content/Structure Fire Millers Falls 11_8_22 (1).mp4: 384x640 (no detections), 11.2ms\n",
            "video 1/1 (frame 2651/11993) /content/Structure Fire Millers Falls 11_8_22 (1).mp4: 384x640 (no detections), 10.2ms\n",
            "video 1/1 (frame 2652/11993) /content/Structure Fire Millers Falls 11_8_22 (1).mp4: 384x640 (no detections), 10.7ms\n",
            "video 1/1 (frame 2653/11993) /content/Structure Fire Millers Falls 11_8_22 (1).mp4: 384x640 (no detections), 10.3ms\n",
            "video 1/1 (frame 2654/11993) /content/Structure Fire Millers Falls 11_8_22 (1).mp4: 384x640 (no detections), 14.3ms\n",
            "video 1/1 (frame 2655/11993) /content/Structure Fire Millers Falls 11_8_22 (1).mp4: 384x640 (no detections), 9.8ms\n",
            "video 1/1 (frame 2656/11993) /content/Structure Fire Millers Falls 11_8_22 (1).mp4: 384x640 (no detections), 11.0ms\n",
            "video 1/1 (frame 2657/11993) /content/Structure Fire Millers Falls 11_8_22 (1).mp4: 384x640 (no detections), 9.6ms\n",
            "video 1/1 (frame 2658/11993) /content/Structure Fire Millers Falls 11_8_22 (1).mp4: 384x640 (no detections), 10.2ms\n",
            "video 1/1 (frame 2659/11993) /content/Structure Fire Millers Falls 11_8_22 (1).mp4: 384x640 (no detections), 10.5ms\n",
            "video 1/1 (frame 2660/11993) /content/Structure Fire Millers Falls 11_8_22 (1).mp4: 384x640 (no detections), 16.1ms\n",
            "video 1/1 (frame 2661/11993) /content/Structure Fire Millers Falls 11_8_22 (1).mp4: 384x640 (no detections), 9.6ms\n",
            "video 1/1 (frame 2662/11993) /content/Structure Fire Millers Falls 11_8_22 (1).mp4: 384x640 (no detections), 10.2ms\n",
            "video 1/1 (frame 2663/11993) /content/Structure Fire Millers Falls 11_8_22 (1).mp4: 384x640 (no detections), 11.8ms\n",
            "video 1/1 (frame 2664/11993) /content/Structure Fire Millers Falls 11_8_22 (1).mp4: 384x640 (no detections), 9.8ms\n",
            "video 1/1 (frame 2665/11993) /content/Structure Fire Millers Falls 11_8_22 (1).mp4: 384x640 (no detections), 12.1ms\n",
            "video 1/1 (frame 2666/11993) /content/Structure Fire Millers Falls 11_8_22 (1).mp4: 384x640 (no detections), 12.5ms\n",
            "video 1/1 (frame 2667/11993) /content/Structure Fire Millers Falls 11_8_22 (1).mp4: 384x640 (no detections), 11.0ms\n",
            "video 1/1 (frame 2668/11993) /content/Structure Fire Millers Falls 11_8_22 (1).mp4: 384x640 (no detections), 16.0ms\n",
            "video 1/1 (frame 2669/11993) /content/Structure Fire Millers Falls 11_8_22 (1).mp4: 384x640 (no detections), 10.9ms\n",
            "video 1/1 (frame 2670/11993) /content/Structure Fire Millers Falls 11_8_22 (1).mp4: 384x640 (no detections), 10.7ms\n",
            "video 1/1 (frame 2671/11993) /content/Structure Fire Millers Falls 11_8_22 (1).mp4: 384x640 (no detections), 12.6ms\n",
            "video 1/1 (frame 2672/11993) /content/Structure Fire Millers Falls 11_8_22 (1).mp4: 384x640 (no detections), 10.6ms\n",
            "video 1/1 (frame 2673/11993) /content/Structure Fire Millers Falls 11_8_22 (1).mp4: 384x640 (no detections), 9.3ms\n",
            "video 1/1 (frame 2674/11993) /content/Structure Fire Millers Falls 11_8_22 (1).mp4: 384x640 (no detections), 12.8ms\n",
            "video 1/1 (frame 2675/11993) /content/Structure Fire Millers Falls 11_8_22 (1).mp4: 384x640 (no detections), 9.4ms\n",
            "video 1/1 (frame 2676/11993) /content/Structure Fire Millers Falls 11_8_22 (1).mp4: 384x640 (no detections), 12.4ms\n",
            "video 1/1 (frame 2677/11993) /content/Structure Fire Millers Falls 11_8_22 (1).mp4: 384x640 (no detections), 10.5ms\n",
            "video 1/1 (frame 2678/11993) /content/Structure Fire Millers Falls 11_8_22 (1).mp4: 384x640 (no detections), 11.5ms\n",
            "video 1/1 (frame 2679/11993) /content/Structure Fire Millers Falls 11_8_22 (1).mp4: 384x640 (no detections), 10.8ms\n",
            "video 1/1 (frame 2680/11993) /content/Structure Fire Millers Falls 11_8_22 (1).mp4: 384x640 (no detections), 12.8ms\n",
            "video 1/1 (frame 2681/11993) /content/Structure Fire Millers Falls 11_8_22 (1).mp4: 384x640 (no detections), 10.5ms\n",
            "video 1/1 (frame 2682/11993) /content/Structure Fire Millers Falls 11_8_22 (1).mp4: 384x640 (no detections), 13.2ms\n",
            "video 1/1 (frame 2683/11993) /content/Structure Fire Millers Falls 11_8_22 (1).mp4: 384x640 (no detections), 9.9ms\n",
            "video 1/1 (frame 2684/11993) /content/Structure Fire Millers Falls 11_8_22 (1).mp4: 384x640 (no detections), 15.9ms\n",
            "video 1/1 (frame 2685/11993) /content/Structure Fire Millers Falls 11_8_22 (1).mp4: 384x640 (no detections), 10.4ms\n",
            "video 1/1 (frame 2686/11993) /content/Structure Fire Millers Falls 11_8_22 (1).mp4: 384x640 (no detections), 10.0ms\n",
            "video 1/1 (frame 2687/11993) /content/Structure Fire Millers Falls 11_8_22 (1).mp4: 384x640 (no detections), 10.1ms\n",
            "video 1/1 (frame 2688/11993) /content/Structure Fire Millers Falls 11_8_22 (1).mp4: 384x640 (no detections), 14.0ms\n",
            "video 1/1 (frame 2689/11993) /content/Structure Fire Millers Falls 11_8_22 (1).mp4: 384x640 (no detections), 10.1ms\n",
            "video 1/1 (frame 2690/11993) /content/Structure Fire Millers Falls 11_8_22 (1).mp4: 384x640 (no detections), 10.4ms\n",
            "video 1/1 (frame 2691/11993) /content/Structure Fire Millers Falls 11_8_22 (1).mp4: 384x640 (no detections), 11.0ms\n",
            "video 1/1 (frame 2692/11993) /content/Structure Fire Millers Falls 11_8_22 (1).mp4: 384x640 (no detections), 10.4ms\n",
            "video 1/1 (frame 2693/11993) /content/Structure Fire Millers Falls 11_8_22 (1).mp4: 384x640 (no detections), 9.6ms\n",
            "video 1/1 (frame 2694/11993) /content/Structure Fire Millers Falls 11_8_22 (1).mp4: 384x640 (no detections), 10.9ms\n",
            "video 1/1 (frame 2695/11993) /content/Structure Fire Millers Falls 11_8_22 (1).mp4: 384x640 (no detections), 10.3ms\n",
            "video 1/1 (frame 2696/11993) /content/Structure Fire Millers Falls 11_8_22 (1).mp4: 384x640 (no detections), 10.0ms\n",
            "video 1/1 (frame 2697/11993) /content/Structure Fire Millers Falls 11_8_22 (1).mp4: 384x640 (no detections), 12.2ms\n",
            "video 1/1 (frame 2698/11993) /content/Structure Fire Millers Falls 11_8_22 (1).mp4: 384x640 (no detections), 12.4ms\n",
            "video 1/1 (frame 2699/11993) /content/Structure Fire Millers Falls 11_8_22 (1).mp4: 384x640 (no detections), 11.3ms\n",
            "video 1/1 (frame 2700/11993) /content/Structure Fire Millers Falls 11_8_22 (1).mp4: 384x640 (no detections), 9.3ms\n",
            "video 1/1 (frame 2701/11993) /content/Structure Fire Millers Falls 11_8_22 (1).mp4: 384x640 (no detections), 9.9ms\n",
            "video 1/1 (frame 2702/11993) /content/Structure Fire Millers Falls 11_8_22 (1).mp4: 384x640 (no detections), 10.0ms\n",
            "video 1/1 (frame 2703/11993) /content/Structure Fire Millers Falls 11_8_22 (1).mp4: 384x640 (no detections), 12.0ms\n",
            "video 1/1 (frame 2704/11993) /content/Structure Fire Millers Falls 11_8_22 (1).mp4: 384x640 (no detections), 9.6ms\n",
            "video 1/1 (frame 2705/11993) /content/Structure Fire Millers Falls 11_8_22 (1).mp4: 384x640 (no detections), 11.7ms\n",
            "video 1/1 (frame 2706/11993) /content/Structure Fire Millers Falls 11_8_22 (1).mp4: 384x640 (no detections), 11.1ms\n",
            "video 1/1 (frame 2707/11993) /content/Structure Fire Millers Falls 11_8_22 (1).mp4: 384x640 (no detections), 11.9ms\n",
            "video 1/1 (frame 2708/11993) /content/Structure Fire Millers Falls 11_8_22 (1).mp4: 384x640 (no detections), 12.0ms\n",
            "video 1/1 (frame 2709/11993) /content/Structure Fire Millers Falls 11_8_22 (1).mp4: 384x640 (no detections), 10.0ms\n",
            "video 1/1 (frame 2710/11993) /content/Structure Fire Millers Falls 11_8_22 (1).mp4: 384x640 (no detections), 10.8ms\n",
            "video 1/1 (frame 2711/11993) /content/Structure Fire Millers Falls 11_8_22 (1).mp4: 384x640 (no detections), 11.0ms\n",
            "video 1/1 (frame 2712/11993) /content/Structure Fire Millers Falls 11_8_22 (1).mp4: 384x640 (no detections), 10.5ms\n",
            "video 1/1 (frame 2713/11993) /content/Structure Fire Millers Falls 11_8_22 (1).mp4: 384x640 (no detections), 11.5ms\n",
            "video 1/1 (frame 2714/11993) /content/Structure Fire Millers Falls 11_8_22 (1).mp4: 384x640 (no detections), 16.7ms\n",
            "video 1/1 (frame 2715/11993) /content/Structure Fire Millers Falls 11_8_22 (1).mp4: 384x640 (no detections), 9.7ms\n",
            "video 1/1 (frame 2716/11993) /content/Structure Fire Millers Falls 11_8_22 (1).mp4: 384x640 (no detections), 11.6ms\n",
            "video 1/1 (frame 2717/11993) /content/Structure Fire Millers Falls 11_8_22 (1).mp4: 384x640 (no detections), 11.3ms\n",
            "video 1/1 (frame 2718/11993) /content/Structure Fire Millers Falls 11_8_22 (1).mp4: 384x640 (no detections), 8.6ms\n",
            "video 1/1 (frame 2719/11993) /content/Structure Fire Millers Falls 11_8_22 (1).mp4: 384x640 (no detections), 8.8ms\n",
            "video 1/1 (frame 2720/11993) /content/Structure Fire Millers Falls 11_8_22 (1).mp4: 384x640 (no detections), 9.8ms\n",
            "video 1/1 (frame 2721/11993) /content/Structure Fire Millers Falls 11_8_22 (1).mp4: 384x640 (no detections), 11.6ms\n",
            "video 1/1 (frame 2722/11993) /content/Structure Fire Millers Falls 11_8_22 (1).mp4: 384x640 (no detections), 8.9ms\n",
            "video 1/1 (frame 2723/11993) /content/Structure Fire Millers Falls 11_8_22 (1).mp4: 384x640 (no detections), 11.6ms\n",
            "video 1/1 (frame 2724/11993) /content/Structure Fire Millers Falls 11_8_22 (1).mp4: 384x640 (no detections), 10.4ms\n",
            "video 1/1 (frame 2725/11993) /content/Structure Fire Millers Falls 11_8_22 (1).mp4: 384x640 (no detections), 10.4ms\n",
            "video 1/1 (frame 2726/11993) /content/Structure Fire Millers Falls 11_8_22 (1).mp4: 384x640 (no detections), 14.1ms\n",
            "video 1/1 (frame 2727/11993) /content/Structure Fire Millers Falls 11_8_22 (1).mp4: 384x640 (no detections), 11.3ms\n",
            "video 1/1 (frame 2728/11993) /content/Structure Fire Millers Falls 11_8_22 (1).mp4: 384x640 (no detections), 9.9ms\n",
            "video 1/1 (frame 2729/11993) /content/Structure Fire Millers Falls 11_8_22 (1).mp4: 384x640 (no detections), 16.7ms\n",
            "video 1/1 (frame 2730/11993) /content/Structure Fire Millers Falls 11_8_22 (1).mp4: 384x640 (no detections), 10.6ms\n",
            "video 1/1 (frame 2731/11993) /content/Structure Fire Millers Falls 11_8_22 (1).mp4: 384x640 (no detections), 12.5ms\n",
            "video 1/1 (frame 2732/11993) /content/Structure Fire Millers Falls 11_8_22 (1).mp4: 384x640 (no detections), 13.5ms\n",
            "video 1/1 (frame 2733/11993) /content/Structure Fire Millers Falls 11_8_22 (1).mp4: 384x640 (no detections), 10.5ms\n",
            "video 1/1 (frame 2734/11993) /content/Structure Fire Millers Falls 11_8_22 (1).mp4: 384x640 (no detections), 12.5ms\n",
            "video 1/1 (frame 2735/11993) /content/Structure Fire Millers Falls 11_8_22 (1).mp4: 384x640 (no detections), 10.6ms\n",
            "video 1/1 (frame 2736/11993) /content/Structure Fire Millers Falls 11_8_22 (1).mp4: 384x640 (no detections), 9.8ms\n",
            "video 1/1 (frame 2737/11993) /content/Structure Fire Millers Falls 11_8_22 (1).mp4: 384x640 (no detections), 11.8ms\n",
            "video 1/1 (frame 2738/11993) /content/Structure Fire Millers Falls 11_8_22 (1).mp4: 384x640 (no detections), 11.0ms\n",
            "video 1/1 (frame 2739/11993) /content/Structure Fire Millers Falls 11_8_22 (1).mp4: 384x640 (no detections), 9.4ms\n",
            "video 1/1 (frame 2740/11993) /content/Structure Fire Millers Falls 11_8_22 (1).mp4: 384x640 (no detections), 10.1ms\n",
            "video 1/1 (frame 2741/11993) /content/Structure Fire Millers Falls 11_8_22 (1).mp4: 384x640 (no detections), 9.8ms\n",
            "video 1/1 (frame 2742/11993) /content/Structure Fire Millers Falls 11_8_22 (1).mp4: 384x640 (no detections), 10.0ms\n",
            "video 1/1 (frame 2743/11993) /content/Structure Fire Millers Falls 11_8_22 (1).mp4: 384x640 (no detections), 15.4ms\n",
            "video 1/1 (frame 2744/11993) /content/Structure Fire Millers Falls 11_8_22 (1).mp4: 384x640 (no detections), 10.3ms\n",
            "video 1/1 (frame 2745/11993) /content/Structure Fire Millers Falls 11_8_22 (1).mp4: 384x640 (no detections), 10.4ms\n",
            "video 1/1 (frame 2746/11993) /content/Structure Fire Millers Falls 11_8_22 (1).mp4: 384x640 (no detections), 10.5ms\n",
            "video 1/1 (frame 2747/11993) /content/Structure Fire Millers Falls 11_8_22 (1).mp4: 384x640 (no detections), 15.2ms\n",
            "video 1/1 (frame 2748/11993) /content/Structure Fire Millers Falls 11_8_22 (1).mp4: 384x640 (no detections), 9.0ms\n",
            "video 1/1 (frame 2749/11993) /content/Structure Fire Millers Falls 11_8_22 (1).mp4: 384x640 (no detections), 12.7ms\n",
            "video 1/1 (frame 2750/11993) /content/Structure Fire Millers Falls 11_8_22 (1).mp4: 384x640 (no detections), 12.1ms\n",
            "video 1/1 (frame 2751/11993) /content/Structure Fire Millers Falls 11_8_22 (1).mp4: 384x640 (no detections), 11.1ms\n",
            "video 1/1 (frame 2752/11993) /content/Structure Fire Millers Falls 11_8_22 (1).mp4: 384x640 (no detections), 14.2ms\n",
            "video 1/1 (frame 2753/11993) /content/Structure Fire Millers Falls 11_8_22 (1).mp4: 384x640 (no detections), 13.2ms\n",
            "video 1/1 (frame 2754/11993) /content/Structure Fire Millers Falls 11_8_22 (1).mp4: 384x640 (no detections), 10.8ms\n",
            "video 1/1 (frame 2755/11993) /content/Structure Fire Millers Falls 11_8_22 (1).mp4: 384x640 (no detections), 12.4ms\n",
            "video 1/1 (frame 2756/11993) /content/Structure Fire Millers Falls 11_8_22 (1).mp4: 384x640 (no detections), 13.1ms\n",
            "video 1/1 (frame 2757/11993) /content/Structure Fire Millers Falls 11_8_22 (1).mp4: 384x640 (no detections), 9.9ms\n",
            "video 1/1 (frame 2758/11993) /content/Structure Fire Millers Falls 11_8_22 (1).mp4: 384x640 (no detections), 10.1ms\n",
            "video 1/1 (frame 2759/11993) /content/Structure Fire Millers Falls 11_8_22 (1).mp4: 384x640 (no detections), 8.7ms\n",
            "video 1/1 (frame 2760/11993) /content/Structure Fire Millers Falls 11_8_22 (1).mp4: 384x640 (no detections), 9.5ms\n",
            "video 1/1 (frame 2761/11993) /content/Structure Fire Millers Falls 11_8_22 (1).mp4: 384x640 (no detections), 11.0ms\n",
            "video 1/1 (frame 2762/11993) /content/Structure Fire Millers Falls 11_8_22 (1).mp4: 384x640 (no detections), 16.0ms\n",
            "video 1/1 (frame 2763/11993) /content/Structure Fire Millers Falls 11_8_22 (1).mp4: 384x640 (no detections), 11.4ms\n",
            "video 1/1 (frame 2764/11993) /content/Structure Fire Millers Falls 11_8_22 (1).mp4: 384x640 (no detections), 10.8ms\n",
            "video 1/1 (frame 2765/11993) /content/Structure Fire Millers Falls 11_8_22 (1).mp4: 384x640 (no detections), 12.9ms\n",
            "video 1/1 (frame 2766/11993) /content/Structure Fire Millers Falls 11_8_22 (1).mp4: 384x640 (no detections), 10.3ms\n",
            "video 1/1 (frame 2767/11993) /content/Structure Fire Millers Falls 11_8_22 (1).mp4: 384x640 (no detections), 11.7ms\n",
            "video 1/1 (frame 2768/11993) /content/Structure Fire Millers Falls 11_8_22 (1).mp4: 384x640 (no detections), 11.5ms\n",
            "video 1/1 (frame 2769/11993) /content/Structure Fire Millers Falls 11_8_22 (1).mp4: 384x640 (no detections), 10.1ms\n",
            "video 1/1 (frame 2770/11993) /content/Structure Fire Millers Falls 11_8_22 (1).mp4: 384x640 (no detections), 13.1ms\n",
            "video 1/1 (frame 2771/11993) /content/Structure Fire Millers Falls 11_8_22 (1).mp4: 384x640 (no detections), 13.0ms\n",
            "video 1/1 (frame 2772/11993) /content/Structure Fire Millers Falls 11_8_22 (1).mp4: 384x640 (no detections), 12.6ms\n",
            "video 1/1 (frame 2773/11993) /content/Structure Fire Millers Falls 11_8_22 (1).mp4: 384x640 (no detections), 12.2ms\n",
            "video 1/1 (frame 2774/11993) /content/Structure Fire Millers Falls 11_8_22 (1).mp4: 384x640 (no detections), 11.8ms\n",
            "video 1/1 (frame 2775/11993) /content/Structure Fire Millers Falls 11_8_22 (1).mp4: 384x640 (no detections), 14.5ms\n",
            "video 1/1 (frame 2776/11993) /content/Structure Fire Millers Falls 11_8_22 (1).mp4: 384x640 (no detections), 10.0ms\n",
            "video 1/1 (frame 2777/11993) /content/Structure Fire Millers Falls 11_8_22 (1).mp4: 384x640 (no detections), 12.1ms\n",
            "video 1/1 (frame 2778/11993) /content/Structure Fire Millers Falls 11_8_22 (1).mp4: 384x640 (no detections), 14.8ms\n",
            "video 1/1 (frame 2779/11993) /content/Structure Fire Millers Falls 11_8_22 (1).mp4: 384x640 (no detections), 12.8ms\n",
            "video 1/1 (frame 2780/11993) /content/Structure Fire Millers Falls 11_8_22 (1).mp4: 384x640 (no detections), 12.3ms\n",
            "video 1/1 (frame 2781/11993) /content/Structure Fire Millers Falls 11_8_22 (1).mp4: 384x640 (no detections), 16.4ms\n",
            "video 1/1 (frame 2782/11993) /content/Structure Fire Millers Falls 11_8_22 (1).mp4: 384x640 (no detections), 10.4ms\n",
            "video 1/1 (frame 2783/11993) /content/Structure Fire Millers Falls 11_8_22 (1).mp4: 384x640 (no detections), 12.8ms\n",
            "video 1/1 (frame 2784/11993) /content/Structure Fire Millers Falls 11_8_22 (1).mp4: 384x640 (no detections), 12.1ms\n",
            "video 1/1 (frame 2785/11993) /content/Structure Fire Millers Falls 11_8_22 (1).mp4: 384x640 (no detections), 11.5ms\n",
            "video 1/1 (frame 2786/11993) /content/Structure Fire Millers Falls 11_8_22 (1).mp4: 384x640 (no detections), 9.2ms\n",
            "video 1/1 (frame 2787/11993) /content/Structure Fire Millers Falls 11_8_22 (1).mp4: 384x640 (no detections), 9.2ms\n",
            "video 1/1 (frame 2788/11993) /content/Structure Fire Millers Falls 11_8_22 (1).mp4: 384x640 (no detections), 11.6ms\n",
            "video 1/1 (frame 2789/11993) /content/Structure Fire Millers Falls 11_8_22 (1).mp4: 384x640 (no detections), 11.4ms\n",
            "video 1/1 (frame 2790/11993) /content/Structure Fire Millers Falls 11_8_22 (1).mp4: 384x640 (no detections), 9.8ms\n",
            "video 1/1 (frame 2791/11993) /content/Structure Fire Millers Falls 11_8_22 (1).mp4: 384x640 (no detections), 10.0ms\n",
            "video 1/1 (frame 2792/11993) /content/Structure Fire Millers Falls 11_8_22 (1).mp4: 384x640 (no detections), 11.2ms\n",
            "video 1/1 (frame 2793/11993) /content/Structure Fire Millers Falls 11_8_22 (1).mp4: 384x640 (no detections), 10.8ms\n",
            "video 1/1 (frame 2794/11993) /content/Structure Fire Millers Falls 11_8_22 (1).mp4: 384x640 (no detections), 10.9ms\n",
            "video 1/1 (frame 2795/11993) /content/Structure Fire Millers Falls 11_8_22 (1).mp4: 384x640 (no detections), 12.0ms\n",
            "video 1/1 (frame 2796/11993) /content/Structure Fire Millers Falls 11_8_22 (1).mp4: 384x640 (no detections), 12.3ms\n",
            "video 1/1 (frame 2797/11993) /content/Structure Fire Millers Falls 11_8_22 (1).mp4: 384x640 (no detections), 9.5ms\n",
            "video 1/1 (frame 2798/11993) /content/Structure Fire Millers Falls 11_8_22 (1).mp4: 384x640 (no detections), 9.9ms\n",
            "video 1/1 (frame 2799/11993) /content/Structure Fire Millers Falls 11_8_22 (1).mp4: 384x640 (no detections), 9.9ms\n",
            "video 1/1 (frame 2800/11993) /content/Structure Fire Millers Falls 11_8_22 (1).mp4: 384x640 (no detections), 11.6ms\n",
            "video 1/1 (frame 2801/11993) /content/Structure Fire Millers Falls 11_8_22 (1).mp4: 384x640 (no detections), 15.9ms\n",
            "video 1/1 (frame 2802/11993) /content/Structure Fire Millers Falls 11_8_22 (1).mp4: 384x640 (no detections), 10.7ms\n",
            "video 1/1 (frame 2803/11993) /content/Structure Fire Millers Falls 11_8_22 (1).mp4: 384x640 (no detections), 10.6ms\n",
            "video 1/1 (frame 2804/11993) /content/Structure Fire Millers Falls 11_8_22 (1).mp4: 384x640 (no detections), 9.8ms\n",
            "video 1/1 (frame 2805/11993) /content/Structure Fire Millers Falls 11_8_22 (1).mp4: 384x640 (no detections), 10.5ms\n",
            "video 1/1 (frame 2806/11993) /content/Structure Fire Millers Falls 11_8_22 (1).mp4: 384x640 (no detections), 12.0ms\n",
            "video 1/1 (frame 2807/11993) /content/Structure Fire Millers Falls 11_8_22 (1).mp4: 384x640 (no detections), 9.9ms\n",
            "video 1/1 (frame 2808/11993) /content/Structure Fire Millers Falls 11_8_22 (1).mp4: 384x640 (no detections), 9.8ms\n",
            "video 1/1 (frame 2809/11993) /content/Structure Fire Millers Falls 11_8_22 (1).mp4: 384x640 (no detections), 10.6ms\n",
            "video 1/1 (frame 2810/11993) /content/Structure Fire Millers Falls 11_8_22 (1).mp4: 384x640 (no detections), 10.4ms\n",
            "video 1/1 (frame 2811/11993) /content/Structure Fire Millers Falls 11_8_22 (1).mp4: 384x640 (no detections), 13.2ms\n",
            "video 1/1 (frame 2812/11993) /content/Structure Fire Millers Falls 11_8_22 (1).mp4: 384x640 (no detections), 9.7ms\n",
            "video 1/1 (frame 2813/11993) /content/Structure Fire Millers Falls 11_8_22 (1).mp4: 384x640 (no detections), 13.2ms\n",
            "video 1/1 (frame 2814/11993) /content/Structure Fire Millers Falls 11_8_22 (1).mp4: 384x640 (no detections), 11.0ms\n",
            "video 1/1 (frame 2815/11993) /content/Structure Fire Millers Falls 11_8_22 (1).mp4: 384x640 (no detections), 12.6ms\n",
            "video 1/1 (frame 2816/11993) /content/Structure Fire Millers Falls 11_8_22 (1).mp4: 384x640 (no detections), 13.2ms\n",
            "video 1/1 (frame 2817/11993) /content/Structure Fire Millers Falls 11_8_22 (1).mp4: 384x640 (no detections), 15.3ms\n",
            "video 1/1 (frame 2818/11993) /content/Structure Fire Millers Falls 11_8_22 (1).mp4: 384x640 (no detections), 22.6ms\n",
            "video 1/1 (frame 2819/11993) /content/Structure Fire Millers Falls 11_8_22 (1).mp4: 384x640 (no detections), 11.9ms\n",
            "video 1/1 (frame 2820/11993) /content/Structure Fire Millers Falls 11_8_22 (1).mp4: 384x640 (no detections), 11.2ms\n",
            "video 1/1 (frame 2821/11993) /content/Structure Fire Millers Falls 11_8_22 (1).mp4: 384x640 (no detections), 11.3ms\n",
            "video 1/1 (frame 2822/11993) /content/Structure Fire Millers Falls 11_8_22 (1).mp4: 384x640 (no detections), 11.2ms\n",
            "video 1/1 (frame 2823/11993) /content/Structure Fire Millers Falls 11_8_22 (1).mp4: 384x640 (no detections), 11.5ms\n",
            "video 1/1 (frame 2824/11993) /content/Structure Fire Millers Falls 11_8_22 (1).mp4: 384x640 (no detections), 10.5ms\n",
            "video 1/1 (frame 2825/11993) /content/Structure Fire Millers Falls 11_8_22 (1).mp4: 384x640 (no detections), 11.3ms\n",
            "video 1/1 (frame 2826/11993) /content/Structure Fire Millers Falls 11_8_22 (1).mp4: 384x640 (no detections), 13.8ms\n",
            "video 1/1 (frame 2827/11993) /content/Structure Fire Millers Falls 11_8_22 (1).mp4: 384x640 (no detections), 9.8ms\n",
            "video 1/1 (frame 2828/11993) /content/Structure Fire Millers Falls 11_8_22 (1).mp4: 384x640 (no detections), 13.0ms\n",
            "video 1/1 (frame 2829/11993) /content/Structure Fire Millers Falls 11_8_22 (1).mp4: 384x640 (no detections), 9.9ms\n",
            "video 1/1 (frame 2830/11993) /content/Structure Fire Millers Falls 11_8_22 (1).mp4: 384x640 (no detections), 12.2ms\n",
            "video 1/1 (frame 2831/11993) /content/Structure Fire Millers Falls 11_8_22 (1).mp4: 384x640 (no detections), 12.1ms\n",
            "video 1/1 (frame 2832/11993) /content/Structure Fire Millers Falls 11_8_22 (1).mp4: 384x640 (no detections), 13.9ms\n",
            "video 1/1 (frame 2833/11993) /content/Structure Fire Millers Falls 11_8_22 (1).mp4: 384x640 (no detections), 12.1ms\n",
            "video 1/1 (frame 2834/11993) /content/Structure Fire Millers Falls 11_8_22 (1).mp4: 384x640 (no detections), 12.3ms\n",
            "video 1/1 (frame 2835/11993) /content/Structure Fire Millers Falls 11_8_22 (1).mp4: 384x640 (no detections), 14.1ms\n",
            "video 1/1 (frame 2836/11993) /content/Structure Fire Millers Falls 11_8_22 (1).mp4: 384x640 (no detections), 10.2ms\n",
            "video 1/1 (frame 2837/11993) /content/Structure Fire Millers Falls 11_8_22 (1).mp4: 384x640 (no detections), 14.6ms\n",
            "video 1/1 (frame 2838/11993) /content/Structure Fire Millers Falls 11_8_22 (1).mp4: 384x640 (no detections), 11.4ms\n",
            "video 1/1 (frame 2839/11993) /content/Structure Fire Millers Falls 11_8_22 (1).mp4: 384x640 (no detections), 10.8ms\n",
            "video 1/1 (frame 2840/11993) /content/Structure Fire Millers Falls 11_8_22 (1).mp4: 384x640 (no detections), 15.1ms\n",
            "video 1/1 (frame 2841/11993) /content/Structure Fire Millers Falls 11_8_22 (1).mp4: 384x640 (no detections), 10.4ms\n",
            "video 1/1 (frame 2842/11993) /content/Structure Fire Millers Falls 11_8_22 (1).mp4: 384x640 (no detections), 10.8ms\n",
            "video 1/1 (frame 2843/11993) /content/Structure Fire Millers Falls 11_8_22 (1).mp4: 384x640 (no detections), 13.1ms\n",
            "video 1/1 (frame 2844/11993) /content/Structure Fire Millers Falls 11_8_22 (1).mp4: 384x640 (no detections), 8.9ms\n",
            "video 1/1 (frame 2845/11993) /content/Structure Fire Millers Falls 11_8_22 (1).mp4: 384x640 (no detections), 11.0ms\n",
            "video 1/1 (frame 2846/11993) /content/Structure Fire Millers Falls 11_8_22 (1).mp4: 384x640 (no detections), 10.5ms\n",
            "video 1/1 (frame 2847/11993) /content/Structure Fire Millers Falls 11_8_22 (1).mp4: 384x640 (no detections), 10.0ms\n",
            "video 1/1 (frame 2848/11993) /content/Structure Fire Millers Falls 11_8_22 (1).mp4: 384x640 (no detections), 10.3ms\n",
            "video 1/1 (frame 2849/11993) /content/Structure Fire Millers Falls 11_8_22 (1).mp4: 384x640 (no detections), 9.5ms\n",
            "video 1/1 (frame 2850/11993) /content/Structure Fire Millers Falls 11_8_22 (1).mp4: 384x640 (no detections), 10.4ms\n",
            "video 1/1 (frame 2851/11993) /content/Structure Fire Millers Falls 11_8_22 (1).mp4: 384x640 (no detections), 11.5ms\n",
            "video 1/1 (frame 2852/11993) /content/Structure Fire Millers Falls 11_8_22 (1).mp4: 384x640 (no detections), 11.9ms\n",
            "video 1/1 (frame 2853/11993) /content/Structure Fire Millers Falls 11_8_22 (1).mp4: 384x640 (no detections), 10.1ms\n",
            "video 1/1 (frame 2854/11993) /content/Structure Fire Millers Falls 11_8_22 (1).mp4: 384x640 (no detections), 10.0ms\n",
            "video 1/1 (frame 2855/11993) /content/Structure Fire Millers Falls 11_8_22 (1).mp4: 384x640 (no detections), 11.0ms\n",
            "video 1/1 (frame 2856/11993) /content/Structure Fire Millers Falls 11_8_22 (1).mp4: 384x640 (no detections), 9.2ms\n",
            "video 1/1 (frame 2857/11993) /content/Structure Fire Millers Falls 11_8_22 (1).mp4: 384x640 (no detections), 10.5ms\n",
            "video 1/1 (frame 2858/11993) /content/Structure Fire Millers Falls 11_8_22 (1).mp4: 384x640 (no detections), 14.0ms\n",
            "video 1/1 (frame 2859/11993) /content/Structure Fire Millers Falls 11_8_22 (1).mp4: 384x640 (no detections), 10.2ms\n",
            "video 1/1 (frame 2860/11993) /content/Structure Fire Millers Falls 11_8_22 (1).mp4: 384x640 (no detections), 10.2ms\n",
            "video 1/1 (frame 2861/11993) /content/Structure Fire Millers Falls 11_8_22 (1).mp4: 384x640 (no detections), 18.5ms\n",
            "video 1/1 (frame 2862/11993) /content/Structure Fire Millers Falls 11_8_22 (1).mp4: 384x640 (no detections), 12.0ms\n",
            "video 1/1 (frame 2863/11993) /content/Structure Fire Millers Falls 11_8_22 (1).mp4: 384x640 (no detections), 10.3ms\n",
            "video 1/1 (frame 2864/11993) /content/Structure Fire Millers Falls 11_8_22 (1).mp4: 384x640 (no detections), 11.9ms\n",
            "video 1/1 (frame 2865/11993) /content/Structure Fire Millers Falls 11_8_22 (1).mp4: 384x640 (no detections), 11.4ms\n",
            "video 1/1 (frame 2866/11993) /content/Structure Fire Millers Falls 11_8_22 (1).mp4: 384x640 (no detections), 12.3ms\n",
            "video 1/1 (frame 2867/11993) /content/Structure Fire Millers Falls 11_8_22 (1).mp4: 384x640 (no detections), 11.3ms\n",
            "video 1/1 (frame 2868/11993) /content/Structure Fire Millers Falls 11_8_22 (1).mp4: 384x640 (no detections), 12.1ms\n",
            "video 1/1 (frame 2869/11993) /content/Structure Fire Millers Falls 11_8_22 (1).mp4: 384x640 (no detections), 11.9ms\n",
            "video 1/1 (frame 2870/11993) /content/Structure Fire Millers Falls 11_8_22 (1).mp4: 384x640 (no detections), 11.9ms\n",
            "video 1/1 (frame 2871/11993) /content/Structure Fire Millers Falls 11_8_22 (1).mp4: 384x640 (no detections), 12.5ms\n",
            "video 1/1 (frame 2872/11993) /content/Structure Fire Millers Falls 11_8_22 (1).mp4: 384x640 (no detections), 10.1ms\n",
            "video 1/1 (frame 2873/11993) /content/Structure Fire Millers Falls 11_8_22 (1).mp4: 384x640 (no detections), 11.9ms\n",
            "video 1/1 (frame 2874/11993) /content/Structure Fire Millers Falls 11_8_22 (1).mp4: 384x640 (no detections), 12.3ms\n",
            "video 1/1 (frame 2875/11993) /content/Structure Fire Millers Falls 11_8_22 (1).mp4: 384x640 (no detections), 11.8ms\n",
            "video 1/1 (frame 2876/11993) /content/Structure Fire Millers Falls 11_8_22 (1).mp4: 384x640 (no detections), 11.4ms\n",
            "video 1/1 (frame 2877/11993) /content/Structure Fire Millers Falls 11_8_22 (1).mp4: 384x640 (no detections), 9.5ms\n",
            "video 1/1 (frame 2878/11993) /content/Structure Fire Millers Falls 11_8_22 (1).mp4: 384x640 (no detections), 10.2ms\n",
            "video 1/1 (frame 2879/11993) /content/Structure Fire Millers Falls 11_8_22 (1).mp4: 384x640 (no detections), 10.3ms\n",
            "video 1/1 (frame 2880/11993) /content/Structure Fire Millers Falls 11_8_22 (1).mp4: 384x640 (no detections), 11.7ms\n",
            "video 1/1 (frame 2881/11993) /content/Structure Fire Millers Falls 11_8_22 (1).mp4: 384x640 (no detections), 10.7ms\n",
            "video 1/1 (frame 2882/11993) /content/Structure Fire Millers Falls 11_8_22 (1).mp4: 384x640 (no detections), 13.6ms\n",
            "video 1/1 (frame 2883/11993) /content/Structure Fire Millers Falls 11_8_22 (1).mp4: 384x640 (no detections), 9.4ms\n",
            "video 1/1 (frame 2884/11993) /content/Structure Fire Millers Falls 11_8_22 (1).mp4: 384x640 (no detections), 11.9ms\n",
            "video 1/1 (frame 2885/11993) /content/Structure Fire Millers Falls 11_8_22 (1).mp4: 384x640 (no detections), 9.9ms\n",
            "video 1/1 (frame 2886/11993) /content/Structure Fire Millers Falls 11_8_22 (1).mp4: 384x640 (no detections), 13.8ms\n",
            "video 1/1 (frame 2887/11993) /content/Structure Fire Millers Falls 11_8_22 (1).mp4: 384x640 (no detections), 10.1ms\n",
            "video 1/1 (frame 2888/11993) /content/Structure Fire Millers Falls 11_8_22 (1).mp4: 384x640 (no detections), 11.5ms\n",
            "video 1/1 (frame 2889/11993) /content/Structure Fire Millers Falls 11_8_22 (1).mp4: 384x640 (no detections), 10.6ms\n",
            "video 1/1 (frame 2890/11993) /content/Structure Fire Millers Falls 11_8_22 (1).mp4: 384x640 (no detections), 9.3ms\n",
            "video 1/1 (frame 2891/11993) /content/Structure Fire Millers Falls 11_8_22 (1).mp4: 384x640 (no detections), 12.5ms\n",
            "video 1/1 (frame 2892/11993) /content/Structure Fire Millers Falls 11_8_22 (1).mp4: 384x640 (no detections), 10.7ms\n",
            "video 1/1 (frame 2893/11993) /content/Structure Fire Millers Falls 11_8_22 (1).mp4: 384x640 (no detections), 14.7ms\n",
            "video 1/1 (frame 2894/11993) /content/Structure Fire Millers Falls 11_8_22 (1).mp4: 384x640 (no detections), 11.5ms\n",
            "video 1/1 (frame 2895/11993) /content/Structure Fire Millers Falls 11_8_22 (1).mp4: 384x640 (no detections), 9.5ms\n",
            "video 1/1 (frame 2896/11993) /content/Structure Fire Millers Falls 11_8_22 (1).mp4: 384x640 (no detections), 15.0ms\n",
            "video 1/1 (frame 2897/11993) /content/Structure Fire Millers Falls 11_8_22 (1).mp4: 384x640 (no detections), 15.8ms\n",
            "video 1/1 (frame 2898/11993) /content/Structure Fire Millers Falls 11_8_22 (1).mp4: 384x640 (no detections), 15.7ms\n",
            "video 1/1 (frame 2899/11993) /content/Structure Fire Millers Falls 11_8_22 (1).mp4: 384x640 (no detections), 14.5ms\n",
            "video 1/1 (frame 2900/11993) /content/Structure Fire Millers Falls 11_8_22 (1).mp4: 384x640 (no detections), 15.1ms\n",
            "video 1/1 (frame 2901/11993) /content/Structure Fire Millers Falls 11_8_22 (1).mp4: 384x640 (no detections), 14.0ms\n",
            "video 1/1 (frame 2902/11993) /content/Structure Fire Millers Falls 11_8_22 (1).mp4: 384x640 (no detections), 14.7ms\n",
            "video 1/1 (frame 2903/11993) /content/Structure Fire Millers Falls 11_8_22 (1).mp4: 384x640 (no detections), 15.9ms\n",
            "video 1/1 (frame 2904/11993) /content/Structure Fire Millers Falls 11_8_22 (1).mp4: 384x640 (no detections), 12.8ms\n",
            "video 1/1 (frame 2905/11993) /content/Structure Fire Millers Falls 11_8_22 (1).mp4: 384x640 (no detections), 15.5ms\n",
            "video 1/1 (frame 2906/11993) /content/Structure Fire Millers Falls 11_8_22 (1).mp4: 384x640 (no detections), 17.6ms\n",
            "video 1/1 (frame 2907/11993) /content/Structure Fire Millers Falls 11_8_22 (1).mp4: 384x640 (no detections), 13.0ms\n",
            "video 1/1 (frame 2908/11993) /content/Structure Fire Millers Falls 11_8_22 (1).mp4: 384x640 (no detections), 11.9ms\n",
            "video 1/1 (frame 2909/11993) /content/Structure Fire Millers Falls 11_8_22 (1).mp4: 384x640 (no detections), 14.1ms\n",
            "video 1/1 (frame 2910/11993) /content/Structure Fire Millers Falls 11_8_22 (1).mp4: 384x640 (no detections), 11.5ms\n",
            "video 1/1 (frame 2911/11993) /content/Structure Fire Millers Falls 11_8_22 (1).mp4: 384x640 (no detections), 14.9ms\n",
            "video 1/1 (frame 2912/11993) /content/Structure Fire Millers Falls 11_8_22 (1).mp4: 384x640 (no detections), 14.6ms\n",
            "video 1/1 (frame 2913/11993) /content/Structure Fire Millers Falls 11_8_22 (1).mp4: 384x640 (no detections), 18.4ms\n",
            "video 1/1 (frame 2914/11993) /content/Structure Fire Millers Falls 11_8_22 (1).mp4: 384x640 (no detections), 13.0ms\n",
            "video 1/1 (frame 2915/11993) /content/Structure Fire Millers Falls 11_8_22 (1).mp4: 384x640 (no detections), 18.5ms\n",
            "video 1/1 (frame 2916/11993) /content/Structure Fire Millers Falls 11_8_22 (1).mp4: 384x640 (no detections), 12.0ms\n",
            "video 1/1 (frame 2917/11993) /content/Structure Fire Millers Falls 11_8_22 (1).mp4: 384x640 (no detections), 11.7ms\n",
            "video 1/1 (frame 2918/11993) /content/Structure Fire Millers Falls 11_8_22 (1).mp4: 384x640 (no detections), 11.8ms\n",
            "video 1/1 (frame 2919/11993) /content/Structure Fire Millers Falls 11_8_22 (1).mp4: 384x640 (no detections), 19.7ms\n",
            "video 1/1 (frame 2920/11993) /content/Structure Fire Millers Falls 11_8_22 (1).mp4: 384x640 (no detections), 15.8ms\n",
            "video 1/1 (frame 2921/11993) /content/Structure Fire Millers Falls 11_8_22 (1).mp4: 384x640 (no detections), 20.9ms\n",
            "video 1/1 (frame 2922/11993) /content/Structure Fire Millers Falls 11_8_22 (1).mp4: 384x640 (no detections), 15.6ms\n",
            "video 1/1 (frame 2923/11993) /content/Structure Fire Millers Falls 11_8_22 (1).mp4: 384x640 (no detections), 18.6ms\n",
            "video 1/1 (frame 2924/11993) /content/Structure Fire Millers Falls 11_8_22 (1).mp4: 384x640 (no detections), 11.4ms\n",
            "video 1/1 (frame 2925/11993) /content/Structure Fire Millers Falls 11_8_22 (1).mp4: 384x640 (no detections), 15.3ms\n",
            "video 1/1 (frame 2926/11993) /content/Structure Fire Millers Falls 11_8_22 (1).mp4: 384x640 (no detections), 10.9ms\n",
            "video 1/1 (frame 2927/11993) /content/Structure Fire Millers Falls 11_8_22 (1).mp4: 384x640 (no detections), 11.3ms\n",
            "video 1/1 (frame 2928/11993) /content/Structure Fire Millers Falls 11_8_22 (1).mp4: 384x640 (no detections), 10.6ms\n",
            "video 1/1 (frame 2929/11993) /content/Structure Fire Millers Falls 11_8_22 (1).mp4: 384x640 (no detections), 12.6ms\n",
            "video 1/1 (frame 2930/11993) /content/Structure Fire Millers Falls 11_8_22 (1).mp4: 384x640 (no detections), 13.7ms\n",
            "video 1/1 (frame 2931/11993) /content/Structure Fire Millers Falls 11_8_22 (1).mp4: 384x640 (no detections), 19.2ms\n",
            "video 1/1 (frame 2932/11993) /content/Structure Fire Millers Falls 11_8_22 (1).mp4: 384x640 (no detections), 15.9ms\n",
            "video 1/1 (frame 2933/11993) /content/Structure Fire Millers Falls 11_8_22 (1).mp4: 384x640 (no detections), 15.0ms\n",
            "video 1/1 (frame 2934/11993) /content/Structure Fire Millers Falls 11_8_22 (1).mp4: 384x640 (no detections), 13.3ms\n",
            "video 1/1 (frame 2935/11993) /content/Structure Fire Millers Falls 11_8_22 (1).mp4: 384x640 (no detections), 14.5ms\n",
            "video 1/1 (frame 2936/11993) /content/Structure Fire Millers Falls 11_8_22 (1).mp4: 384x640 (no detections), 14.7ms\n",
            "video 1/1 (frame 2937/11993) /content/Structure Fire Millers Falls 11_8_22 (1).mp4: 384x640 (no detections), 15.1ms\n",
            "video 1/1 (frame 2938/11993) /content/Structure Fire Millers Falls 11_8_22 (1).mp4: 384x640 (no detections), 17.8ms\n",
            "video 1/1 (frame 2939/11993) /content/Structure Fire Millers Falls 11_8_22 (1).mp4: 384x640 (no detections), 12.6ms\n",
            "video 1/1 (frame 2940/11993) /content/Structure Fire Millers Falls 11_8_22 (1).mp4: 384x640 (no detections), 15.7ms\n",
            "video 1/1 (frame 2941/11993) /content/Structure Fire Millers Falls 11_8_22 (1).mp4: 384x640 (no detections), 11.7ms\n",
            "video 1/1 (frame 2942/11993) /content/Structure Fire Millers Falls 11_8_22 (1).mp4: 384x640 (no detections), 18.4ms\n",
            "video 1/1 (frame 2943/11993) /content/Structure Fire Millers Falls 11_8_22 (1).mp4: 384x640 (no detections), 17.8ms\n",
            "video 1/1 (frame 2944/11993) /content/Structure Fire Millers Falls 11_8_22 (1).mp4: 384x640 (no detections), 23.1ms\n",
            "video 1/1 (frame 2945/11993) /content/Structure Fire Millers Falls 11_8_22 (1).mp4: 384x640 (no detections), 18.9ms\n",
            "video 1/1 (frame 2946/11993) /content/Structure Fire Millers Falls 11_8_22 (1).mp4: 384x640 (no detections), 12.3ms\n",
            "video 1/1 (frame 2947/11993) /content/Structure Fire Millers Falls 11_8_22 (1).mp4: 384x640 (no detections), 17.2ms\n",
            "video 1/1 (frame 2948/11993) /content/Structure Fire Millers Falls 11_8_22 (1).mp4: 384x640 (no detections), 248.0ms\n",
            "video 1/1 (frame 2949/11993) /content/Structure Fire Millers Falls 11_8_22 (1).mp4: 384x640 (no detections), 43648.0ms\n",
            "video 1/1 (frame 2950/11993) /content/Structure Fire Millers Falls 11_8_22 (1).mp4: 384x640 (no detections), 45762.0ms\n",
            "video 1/1 (frame 2951/11993) /content/Structure Fire Millers Falls 11_8_22 (1).mp4: 384x640 (no detections), 51077.8ms\n",
            "video 1/1 (frame 2952/11993) /content/Structure Fire Millers Falls 11_8_22 (1).mp4: 384x640 (no detections), 57805.1ms\n",
            "video 1/1 (frame 2953/11993) /content/Structure Fire Millers Falls 11_8_22 (1).mp4: 384x640 (no detections), 85615.7ms\n",
            "video 1/1 (frame 2954/11993) /content/Structure Fire Millers Falls 11_8_22 (1).mp4: 384x640 (no detections), 9.8ms\n",
            "video 1/1 (frame 2955/11993) /content/Structure Fire Millers Falls 11_8_22 (1).mp4: 384x640 (no detections), 10.6ms\n",
            "video 1/1 (frame 2956/11993) /content/Structure Fire Millers Falls 11_8_22 (1).mp4: 384x640 (no detections), 13.7ms\n",
            "video 1/1 (frame 2957/11993) /content/Structure Fire Millers Falls 11_8_22 (1).mp4: 384x640 (no detections), 12.5ms\n",
            "video 1/1 (frame 2958/11993) /content/Structure Fire Millers Falls 11_8_22 (1).mp4: 384x640 (no detections), 11.4ms\n",
            "video 1/1 (frame 2959/11993) /content/Structure Fire Millers Falls 11_8_22 (1).mp4: 384x640 (no detections), 12.5ms\n",
            "video 1/1 (frame 2960/11993) /content/Structure Fire Millers Falls 11_8_22 (1).mp4: 384x640 (no detections), 12.4ms\n",
            "video 1/1 (frame 2961/11993) /content/Structure Fire Millers Falls 11_8_22 (1).mp4: 384x640 (no detections), 11.2ms\n",
            "video 1/1 (frame 2962/11993) /content/Structure Fire Millers Falls 11_8_22 (1).mp4: 384x640 (no detections), 13.2ms\n",
            "video 1/1 (frame 2963/11993) /content/Structure Fire Millers Falls 11_8_22 (1).mp4: 384x640 (no detections), 12.8ms\n",
            "video 1/1 (frame 2964/11993) /content/Structure Fire Millers Falls 11_8_22 (1).mp4: 384x640 (no detections), 14.9ms\n",
            "video 1/1 (frame 2965/11993) /content/Structure Fire Millers Falls 11_8_22 (1).mp4: 384x640 1 Smoke, 13.6ms\n",
            "video 1/1 (frame 2966/11993) /content/Structure Fire Millers Falls 11_8_22 (1).mp4: 384x640 1 Smoke, 13.3ms\n",
            "video 1/1 (frame 2967/11993) /content/Structure Fire Millers Falls 11_8_22 (1).mp4: 384x640 (no detections), 11.8ms\n",
            "video 1/1 (frame 2968/11993) /content/Structure Fire Millers Falls 11_8_22 (1).mp4: 384x640 (no detections), 12.5ms\n",
            "video 1/1 (frame 2969/11993) /content/Structure Fire Millers Falls 11_8_22 (1).mp4: 384x640 (no detections), 13.1ms\n",
            "video 1/1 (frame 2970/11993) /content/Structure Fire Millers Falls 11_8_22 (1).mp4: 384x640 1 Smoke, 12.6ms\n",
            "video 1/1 (frame 2971/11993) /content/Structure Fire Millers Falls 11_8_22 (1).mp4: 384x640 (no detections), 10.7ms\n",
            "video 1/1 (frame 2972/11993) /content/Structure Fire Millers Falls 11_8_22 (1).mp4: 384x640 1 Smoke, 10.1ms\n",
            "video 1/1 (frame 2973/11993) /content/Structure Fire Millers Falls 11_8_22 (1).mp4: 384x640 1 Smoke, 10.4ms\n",
            "video 1/1 (frame 2974/11993) /content/Structure Fire Millers Falls 11_8_22 (1).mp4: 384x640 1 Smoke, 10.5ms\n",
            "video 1/1 (frame 2975/11993) /content/Structure Fire Millers Falls 11_8_22 (1).mp4: 384x640 1 Smoke, 14.5ms\n",
            "video 1/1 (frame 2976/11993) /content/Structure Fire Millers Falls 11_8_22 (1).mp4: 384x640 1 Smoke, 15.1ms\n",
            "video 1/1 (frame 2977/11993) /content/Structure Fire Millers Falls 11_8_22 (1).mp4: 384x640 (no detections), 13.2ms\n",
            "video 1/1 (frame 2978/11993) /content/Structure Fire Millers Falls 11_8_22 (1).mp4: 384x640 (no detections), 10.8ms\n",
            "video 1/1 (frame 2979/11993) /content/Structure Fire Millers Falls 11_8_22 (1).mp4: 384x640 (no detections), 13.5ms\n",
            "video 1/1 (frame 2980/11993) /content/Structure Fire Millers Falls 11_8_22 (1).mp4: 384x640 (no detections), 8.9ms\n",
            "video 1/1 (frame 2981/11993) /content/Structure Fire Millers Falls 11_8_22 (1).mp4: 384x640 (no detections), 12.2ms\n",
            "video 1/1 (frame 2982/11993) /content/Structure Fire Millers Falls 11_8_22 (1).mp4: 384x640 (no detections), 12.5ms\n",
            "video 1/1 (frame 2983/11993) /content/Structure Fire Millers Falls 11_8_22 (1).mp4: 384x640 (no detections), 11.0ms\n",
            "video 1/1 (frame 2984/11993) /content/Structure Fire Millers Falls 11_8_22 (1).mp4: 384x640 (no detections), 13.8ms\n",
            "video 1/1 (frame 2985/11993) /content/Structure Fire Millers Falls 11_8_22 (1).mp4: 384x640 (no detections), 10.2ms\n",
            "video 1/1 (frame 2986/11993) /content/Structure Fire Millers Falls 11_8_22 (1).mp4: 384x640 (no detections), 13.1ms\n",
            "video 1/1 (frame 2987/11993) /content/Structure Fire Millers Falls 11_8_22 (1).mp4: 384x640 (no detections), 10.5ms\n",
            "video 1/1 (frame 2988/11993) /content/Structure Fire Millers Falls 11_8_22 (1).mp4: 384x640 (no detections), 13.6ms\n",
            "video 1/1 (frame 2989/11993) /content/Structure Fire Millers Falls 11_8_22 (1).mp4: 384x640 (no detections), 11.9ms\n",
            "video 1/1 (frame 2990/11993) /content/Structure Fire Millers Falls 11_8_22 (1).mp4: 384x640 (no detections), 17.2ms\n",
            "video 1/1 (frame 2991/11993) /content/Structure Fire Millers Falls 11_8_22 (1).mp4: 384x640 (no detections), 11.8ms\n",
            "video 1/1 (frame 2992/11993) /content/Structure Fire Millers Falls 11_8_22 (1).mp4: 384x640 (no detections), 10.8ms\n",
            "video 1/1 (frame 2993/11993) /content/Structure Fire Millers Falls 11_8_22 (1).mp4: 384x640 (no detections), 12.1ms\n",
            "video 1/1 (frame 2994/11993) /content/Structure Fire Millers Falls 11_8_22 (1).mp4: 384x640 (no detections), 12.1ms\n",
            "video 1/1 (frame 2995/11993) /content/Structure Fire Millers Falls 11_8_22 (1).mp4: 384x640 (no detections), 12.3ms\n",
            "video 1/1 (frame 2996/11993) /content/Structure Fire Millers Falls 11_8_22 (1).mp4: 384x640 (no detections), 13.8ms\n",
            "video 1/1 (frame 2997/11993) /content/Structure Fire Millers Falls 11_8_22 (1).mp4: 384x640 (no detections), 13.9ms\n",
            "video 1/1 (frame 2998/11993) /content/Structure Fire Millers Falls 11_8_22 (1).mp4: 384x640 (no detections), 16.5ms\n",
            "video 1/1 (frame 2999/11993) /content/Structure Fire Millers Falls 11_8_22 (1).mp4: 384x640 (no detections), 12.2ms\n",
            "video 1/1 (frame 3000/11993) /content/Structure Fire Millers Falls 11_8_22 (1).mp4: 384x640 (no detections), 12.8ms\n",
            "video 1/1 (frame 3001/11993) /content/Structure Fire Millers Falls 11_8_22 (1).mp4: 384x640 1 Smoke, 11.5ms\n",
            "video 1/1 (frame 3002/11993) /content/Structure Fire Millers Falls 11_8_22 (1).mp4: 384x640 1 Smoke, 13.3ms\n",
            "video 1/1 (frame 3003/11993) /content/Structure Fire Millers Falls 11_8_22 (1).mp4: 384x640 1 Smoke, 11.7ms\n",
            "video 1/1 (frame 3004/11993) /content/Structure Fire Millers Falls 11_8_22 (1).mp4: 384x640 1 Smoke, 12.5ms\n",
            "video 1/1 (frame 3005/11993) /content/Structure Fire Millers Falls 11_8_22 (1).mp4: 384x640 1 Smoke, 12.1ms\n",
            "video 1/1 (frame 3006/11993) /content/Structure Fire Millers Falls 11_8_22 (1).mp4: 384x640 1 Smoke, 12.9ms\n",
            "video 1/1 (frame 3007/11993) /content/Structure Fire Millers Falls 11_8_22 (1).mp4: 384x640 1 Smoke, 11.9ms\n",
            "video 1/1 (frame 3008/11993) /content/Structure Fire Millers Falls 11_8_22 (1).mp4: 384x640 1 Smoke, 11.1ms\n",
            "video 1/1 (frame 3009/11993) /content/Structure Fire Millers Falls 11_8_22 (1).mp4: 384x640 1 Smoke, 12.9ms\n",
            "video 1/1 (frame 3010/11993) /content/Structure Fire Millers Falls 11_8_22 (1).mp4: 384x640 1 Smoke, 11.9ms\n",
            "video 1/1 (frame 3011/11993) /content/Structure Fire Millers Falls 11_8_22 (1).mp4: 384x640 1 Smoke, 11.0ms\n",
            "video 1/1 (frame 3012/11993) /content/Structure Fire Millers Falls 11_8_22 (1).mp4: 384x640 1 Smoke, 10.5ms\n",
            "video 1/1 (frame 3013/11993) /content/Structure Fire Millers Falls 11_8_22 (1).mp4: 384x640 1 Smoke, 12.5ms\n",
            "video 1/1 (frame 3014/11993) /content/Structure Fire Millers Falls 11_8_22 (1).mp4: 384x640 1 Smoke, 13.4ms\n",
            "video 1/1 (frame 3015/11993) /content/Structure Fire Millers Falls 11_8_22 (1).mp4: 384x640 1 Smoke, 12.3ms\n",
            "video 1/1 (frame 3016/11993) /content/Structure Fire Millers Falls 11_8_22 (1).mp4: 384x640 1 Smoke, 12.0ms\n",
            "video 1/1 (frame 3017/11993) /content/Structure Fire Millers Falls 11_8_22 (1).mp4: 384x640 1 Smoke, 17.7ms\n",
            "video 1/1 (frame 3018/11993) /content/Structure Fire Millers Falls 11_8_22 (1).mp4: 384x640 1 Smoke, 22.4ms\n",
            "video 1/1 (frame 3019/11993) /content/Structure Fire Millers Falls 11_8_22 (1).mp4: 384x640 1 Smoke, 11.7ms\n",
            "video 1/1 (frame 3020/11993) /content/Structure Fire Millers Falls 11_8_22 (1).mp4: 384x640 1 Smoke, 10.7ms\n",
            "video 1/1 (frame 3021/11993) /content/Structure Fire Millers Falls 11_8_22 (1).mp4: 384x640 1 Smoke, 12.7ms\n",
            "video 1/1 (frame 3022/11993) /content/Structure Fire Millers Falls 11_8_22 (1).mp4: 384x640 1 Smoke, 12.2ms\n",
            "video 1/1 (frame 3023/11993) /content/Structure Fire Millers Falls 11_8_22 (1).mp4: 384x640 (no detections), 12.6ms\n",
            "video 1/1 (frame 3024/11993) /content/Structure Fire Millers Falls 11_8_22 (1).mp4: 384x640 1 Smoke, 12.4ms\n",
            "video 1/1 (frame 3025/11993) /content/Structure Fire Millers Falls 11_8_22 (1).mp4: 384x640 1 Smoke, 11.9ms\n",
            "video 1/1 (frame 3026/11993) /content/Structure Fire Millers Falls 11_8_22 (1).mp4: 384x640 1 Smoke, 11.7ms\n",
            "video 1/1 (frame 3027/11993) /content/Structure Fire Millers Falls 11_8_22 (1).mp4: 384x640 1 Smoke, 12.0ms\n",
            "video 1/1 (frame 3028/11993) /content/Structure Fire Millers Falls 11_8_22 (1).mp4: 384x640 1 Smoke, 10.8ms\n",
            "video 1/1 (frame 3029/11993) /content/Structure Fire Millers Falls 11_8_22 (1).mp4: 384x640 1 Smoke, 13.8ms\n",
            "video 1/1 (frame 3030/11993) /content/Structure Fire Millers Falls 11_8_22 (1).mp4: 384x640 1 Smoke, 11.3ms\n",
            "video 1/1 (frame 3031/11993) /content/Structure Fire Millers Falls 11_8_22 (1).mp4: 384x640 1 Smoke, 12.3ms\n",
            "video 1/1 (frame 3032/11993) /content/Structure Fire Millers Falls 11_8_22 (1).mp4: 384x640 1 Smoke, 13.5ms\n",
            "video 1/1 (frame 3033/11993) /content/Structure Fire Millers Falls 11_8_22 (1).mp4: 384x640 1 Smoke, 12.8ms\n",
            "video 1/1 (frame 3034/11993) /content/Structure Fire Millers Falls 11_8_22 (1).mp4: 384x640 1 Smoke, 10.6ms\n",
            "video 1/1 (frame 3035/11993) /content/Structure Fire Millers Falls 11_8_22 (1).mp4: 384x640 1 Smoke, 11.6ms\n",
            "video 1/1 (frame 3036/11993) /content/Structure Fire Millers Falls 11_8_22 (1).mp4: 384x640 1 Smoke, 13.3ms\n",
            "video 1/1 (frame 3037/11993) /content/Structure Fire Millers Falls 11_8_22 (1).mp4: 384x640 1 Smoke, 15.2ms\n",
            "video 1/1 (frame 3038/11993) /content/Structure Fire Millers Falls 11_8_22 (1).mp4: 384x640 1 Smoke, 11.2ms\n",
            "video 1/1 (frame 3039/11993) /content/Structure Fire Millers Falls 11_8_22 (1).mp4: 384x640 1 Smoke, 13.7ms\n",
            "video 1/1 (frame 3040/11993) /content/Structure Fire Millers Falls 11_8_22 (1).mp4: 384x640 1 Smoke, 9.9ms\n",
            "video 1/1 (frame 3041/11993) /content/Structure Fire Millers Falls 11_8_22 (1).mp4: 384x640 1 Smoke, 13.1ms\n",
            "video 1/1 (frame 3042/11993) /content/Structure Fire Millers Falls 11_8_22 (1).mp4: 384x640 1 Smoke, 9.6ms\n",
            "video 1/1 (frame 3043/11993) /content/Structure Fire Millers Falls 11_8_22 (1).mp4: 384x640 1 Smoke, 12.8ms\n",
            "WARNING ⚠️ NMS time limit 2.050s exceeded\n",
            "video 1/1 (frame 3044/11993) /content/Structure Fire Millers Falls 11_8_22 (1).mp4: 384x640 1 Smoke, 28856.5ms\n"
          ]
        }
      ]
    },
    {
      "cell_type": "code",
      "source": [],
      "metadata": {
        "id": "pvJED8FtI7Iu"
      },
      "execution_count": null,
      "outputs": []
    },
    {
      "cell_type": "code",
      "source": [],
      "metadata": {
        "id": "BxWcN9yoINth"
      },
      "execution_count": null,
      "outputs": []
    },
    {
      "cell_type": "code",
      "source": [
        "pip install ultralytics"
      ],
      "metadata": {
        "colab": {
          "base_uri": "https://localhost:8080/"
        },
        "id": "q6lAf3SKF6EC",
        "outputId": "5adc596f-fdad-47c2-cd9e-061985948f92"
      },
      "execution_count": null,
      "outputs": [
        {
          "output_type": "stream",
          "name": "stdout",
          "text": [
            "Collecting ultralytics\n",
            "  Downloading ultralytics-8.1.24-py3-none-any.whl (719 kB)\n",
            "\u001b[?25l     \u001b[90m━━━━━━━━━━━━━━━━━━━━━━━━━━━━━━━━━━━━━━━━\u001b[0m \u001b[32m0.0/719.5 kB\u001b[0m \u001b[31m?\u001b[0m eta \u001b[36m-:--:--\u001b[0m\r\u001b[2K     \u001b[91m━━━━━━━━━━━━━━━━━━\u001b[0m\u001b[91m╸\u001b[0m\u001b[90m━━━━━━━━━━━━━━━━━━━━━\u001b[0m \u001b[32m337.9/719.5 kB\u001b[0m \u001b[31m10.4 MB/s\u001b[0m eta \u001b[36m0:00:01\u001b[0m\r\u001b[2K     \u001b[90m━━━━━━━━━━━━━━━━━━━━━━━━━━━━━━━━━━━━━━━━\u001b[0m \u001b[32m719.5/719.5 kB\u001b[0m \u001b[31m11.7 MB/s\u001b[0m eta \u001b[36m0:00:00\u001b[0m\n",
            "\u001b[?25hRequirement already satisfied: matplotlib>=3.3.0 in /usr/local/lib/python3.10/dist-packages (from ultralytics) (3.7.1)\n",
            "Requirement already satisfied: opencv-python>=4.6.0 in /usr/local/lib/python3.10/dist-packages (from ultralytics) (4.8.0.76)\n",
            "Requirement already satisfied: pillow>=7.1.2 in /usr/local/lib/python3.10/dist-packages (from ultralytics) (9.4.0)\n",
            "Requirement already satisfied: pyyaml>=5.3.1 in /usr/local/lib/python3.10/dist-packages (from ultralytics) (6.0.1)\n",
            "Requirement already satisfied: requests>=2.23.0 in /usr/local/lib/python3.10/dist-packages (from ultralytics) (2.31.0)\n",
            "Requirement already satisfied: scipy>=1.4.1 in /usr/local/lib/python3.10/dist-packages (from ultralytics) (1.11.4)\n",
            "Requirement already satisfied: torch>=1.8.0 in /usr/local/lib/python3.10/dist-packages (from ultralytics) (2.1.0+cu121)\n",
            "Requirement already satisfied: torchvision>=0.9.0 in /usr/local/lib/python3.10/dist-packages (from ultralytics) (0.16.0+cu121)\n",
            "Requirement already satisfied: tqdm>=4.64.0 in /usr/local/lib/python3.10/dist-packages (from ultralytics) (4.66.2)\n",
            "Requirement already satisfied: psutil in /usr/local/lib/python3.10/dist-packages (from ultralytics) (5.9.5)\n",
            "Requirement already satisfied: py-cpuinfo in /usr/local/lib/python3.10/dist-packages (from ultralytics) (9.0.0)\n",
            "Collecting thop>=0.1.1 (from ultralytics)\n",
            "  Downloading thop-0.1.1.post2209072238-py3-none-any.whl (15 kB)\n",
            "Requirement already satisfied: pandas>=1.1.4 in /usr/local/lib/python3.10/dist-packages (from ultralytics) (1.5.3)\n",
            "Requirement already satisfied: seaborn>=0.11.0 in /usr/local/lib/python3.10/dist-packages (from ultralytics) (0.13.1)\n",
            "Requirement already satisfied: contourpy>=1.0.1 in /usr/local/lib/python3.10/dist-packages (from matplotlib>=3.3.0->ultralytics) (1.2.0)\n",
            "Requirement already satisfied: cycler>=0.10 in /usr/local/lib/python3.10/dist-packages (from matplotlib>=3.3.0->ultralytics) (0.12.1)\n",
            "Requirement already satisfied: fonttools>=4.22.0 in /usr/local/lib/python3.10/dist-packages (from matplotlib>=3.3.0->ultralytics) (4.49.0)\n",
            "Requirement already satisfied: kiwisolver>=1.0.1 in /usr/local/lib/python3.10/dist-packages (from matplotlib>=3.3.0->ultralytics) (1.4.5)\n",
            "Requirement already satisfied: numpy>=1.20 in /usr/local/lib/python3.10/dist-packages (from matplotlib>=3.3.0->ultralytics) (1.25.2)\n",
            "Requirement already satisfied: packaging>=20.0 in /usr/local/lib/python3.10/dist-packages (from matplotlib>=3.3.0->ultralytics) (23.2)\n",
            "Requirement already satisfied: pyparsing>=2.3.1 in /usr/local/lib/python3.10/dist-packages (from matplotlib>=3.3.0->ultralytics) (3.1.1)\n",
            "Requirement already satisfied: python-dateutil>=2.7 in /usr/local/lib/python3.10/dist-packages (from matplotlib>=3.3.0->ultralytics) (2.8.2)\n",
            "Requirement already satisfied: pytz>=2020.1 in /usr/local/lib/python3.10/dist-packages (from pandas>=1.1.4->ultralytics) (2023.4)\n",
            "Requirement already satisfied: charset-normalizer<4,>=2 in /usr/local/lib/python3.10/dist-packages (from requests>=2.23.0->ultralytics) (3.3.2)\n",
            "Requirement already satisfied: idna<4,>=2.5 in /usr/local/lib/python3.10/dist-packages (from requests>=2.23.0->ultralytics) (3.6)\n",
            "Requirement already satisfied: urllib3<3,>=1.21.1 in /usr/local/lib/python3.10/dist-packages (from requests>=2.23.0->ultralytics) (2.0.7)\n",
            "Requirement already satisfied: certifi>=2017.4.17 in /usr/local/lib/python3.10/dist-packages (from requests>=2.23.0->ultralytics) (2024.2.2)\n",
            "Requirement already satisfied: filelock in /usr/local/lib/python3.10/dist-packages (from torch>=1.8.0->ultralytics) (3.13.1)\n",
            "Requirement already satisfied: typing-extensions in /usr/local/lib/python3.10/dist-packages (from torch>=1.8.0->ultralytics) (4.10.0)\n",
            "Requirement already satisfied: sympy in /usr/local/lib/python3.10/dist-packages (from torch>=1.8.0->ultralytics) (1.12)\n",
            "Requirement already satisfied: networkx in /usr/local/lib/python3.10/dist-packages (from torch>=1.8.0->ultralytics) (3.2.1)\n",
            "Requirement already satisfied: jinja2 in /usr/local/lib/python3.10/dist-packages (from torch>=1.8.0->ultralytics) (3.1.3)\n",
            "Requirement already satisfied: fsspec in /usr/local/lib/python3.10/dist-packages (from torch>=1.8.0->ultralytics) (2023.6.0)\n",
            "Requirement already satisfied: triton==2.1.0 in /usr/local/lib/python3.10/dist-packages (from torch>=1.8.0->ultralytics) (2.1.0)\n",
            "Requirement already satisfied: six>=1.5 in /usr/local/lib/python3.10/dist-packages (from python-dateutil>=2.7->matplotlib>=3.3.0->ultralytics) (1.16.0)\n",
            "Requirement already satisfied: MarkupSafe>=2.0 in /usr/local/lib/python3.10/dist-packages (from jinja2->torch>=1.8.0->ultralytics) (2.1.5)\n",
            "Requirement already satisfied: mpmath>=0.19 in /usr/local/lib/python3.10/dist-packages (from sympy->torch>=1.8.0->ultralytics) (1.3.0)\n",
            "Installing collected packages: thop, ultralytics\n",
            "Successfully installed thop-0.1.1.post2209072238 ultralytics-8.1.24\n"
          ]
        }
      ]
    }
  ]
}